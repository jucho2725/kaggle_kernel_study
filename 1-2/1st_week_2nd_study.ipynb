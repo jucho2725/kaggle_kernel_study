{
  "nbformat": 4,
  "nbformat_minor": 0,
  "metadata": {
    "colab": {
      "name": "1st_week_2nd_study.ipynb",
      "version": "0.3.2",
      "provenance": []
    },
    "kernelspec": {
      "name": "python3",
      "display_name": "Python 3"
    }
  },
  "cells": [
    {
      "cell_type": "markdown",
      "metadata": {
        "id": "bRNF1ZR7qKEF",
        "colab_type": "text"
      },
      "source": [
        "# Introduction to Ensembling/Stacking in Python\n",
        "\n",
        "https://www.kaggle.com/arthurtok/introduction-to-ensembling-stacking-in-python"
      ]
    },
    {
      "cell_type": "code",
      "metadata": {
        "id": "M2xPp6VipYTB",
        "colab_type": "code",
        "colab": {}
      },
      "source": [
        "# install kaggle\n",
        "!pip install kaggle\n",
        "\n",
        "# make kaggle directory and copy json file\n",
        "!mkdir -p ~/.kaggle\n",
        "!cp /content/drive/My\\ Drive/kaggle.json ~/.kaggle/\n",
        "\n",
        "# make directory only readable\n",
        "!chmod 600 ~/.kaggle/kaggle.json"
      ],
      "execution_count": 0,
      "outputs": []
    },
    {
      "cell_type": "code",
      "metadata": {
        "id": "RhFNxzf8pYQZ",
        "colab_type": "code",
        "colab": {}
      },
      "source": [
        "# download titatnic dataset\n",
        "!kaggle comptetitions download -c titanic"
      ],
      "execution_count": 0,
      "outputs": []
    },
    {
      "cell_type": "code",
      "metadata": {
        "id": "YHDyBYBPpYNX",
        "colab_type": "code",
        "colab": {
          "base_uri": "https://localhost:8080/",
          "height": 17
        },
        "outputId": "36aa12cc-fa5f-4a1c-d7f5-9fa3d96ead1a"
      },
      "source": [
        "# import\n",
        "import pandas as pd\n",
        "import numpy as np\n",
        "import re # 정규표현식사용\n",
        "\n",
        "import xgboost as xgb\n",
        "import seaborn as sns\n",
        "import matplotlib.pyplot as plt\n",
        "\n",
        "# make interactive graph\n",
        "import plotly.offline as py\n",
        "py.init_notebook_mode(connected=True)\n",
        "import plotly.graph_objs as go\n",
        "import plotly.tools as tls\n",
        "\n",
        "import warnings\n",
        "warnings.filterwarnings('ignore')\n",
        "\n",
        "\n",
        "import sklearn\n",
        "# Going to use these 5 base models for the stacking\n",
        "from sklearn.ensemble import (RandomForestClassifier, AdaBoostClassifier,\n",
        "                             GradientBoostingClassifier, ExtraTreesClassifier)\n",
        "\n",
        "from sklearn.svm import SVC\n",
        "from sklearn.model_selection import KFold\n"
      ],
      "execution_count": 1,
      "outputs": [
        {
          "output_type": "display_data",
          "data": {
            "text/vnd.plotly.v1+html": "<script type=\"text/javascript\">window.PlotlyConfig = {MathJaxConfig: 'local'};</script><script type=\"text/javascript\">if (window.MathJax) {MathJax.Hub.Config({SVG: {font: \"STIX-Web\"}});}</script><script>requirejs.config({paths: { 'plotly': ['https://cdn.plot.ly/plotly-latest.min']},});if(!window._Plotly) {require(['plotly'],function(plotly) {window._Plotly=plotly;});}</script>",
            "text/html": [
              "<script type=\"text/javascript\">window.PlotlyConfig = {MathJaxConfig: 'local'};</script><script type=\"text/javascript\">if (window.MathJax) {MathJax.Hub.Config({SVG: {font: \"STIX-Web\"}});}</script><script>requirejs.config({paths: { 'plotly': ['https://cdn.plot.ly/plotly-latest.min']},});if(!window._Plotly) {require(['plotly'],function(plotly) {window._Plotly=plotly;});}</script>"
            ]
          },
          "metadata": {
            "tags": []
          }
        }
      ]
    },
    {
      "cell_type": "markdown",
      "metadata": {
        "id": "FyWDNBIGfomV",
        "colab_type": "text"
      },
      "source": [
        "# Using plotly in google colab notebook\n",
        "\n",
        "\n",
        "https://www.youtube.com/watch?v=F2pAu9PzgEE"
      ]
    },
    {
      "cell_type": "code",
      "metadata": {
        "id": "k7BbZ7Cte6V-",
        "colab_type": "code",
        "colab": {}
      },
      "source": [
        "# importing and using plotly \n",
        "\n",
        "from IPython.display import Image\n",
        "from plotly.offline import iplot # 필요없어보임"
      ],
      "execution_count": 0,
      "outputs": []
    },
    {
      "cell_type": "markdown",
      "metadata": {
        "id": "YuUGUvhqfnwk",
        "colab_type": "text"
      },
      "source": [
        "plotly 사용하는 셀 마다 이 함수 호출 시켜야함 "
      ]
    },
    {
      "cell_type": "code",
      "metadata": {
        "id": "FHEvCnkwfywG",
        "colab_type": "code",
        "colab": {}
      },
      "source": [
        "def configure_plotly_browser_state():\n",
        "    import IPython\n",
        "    display(IPython.core.display.HTML('''<script src=\"/static/components/requirejs/require.js\"</script>\n",
        "    <script>\n",
        "    requirejs.config({\n",
        "    paths: {\n",
        "    base: '/static/base',\n",
        "    plotly: 'https:..cdn.plot.ly/plotly-1.5.1.min.js?noext',\n",
        "    }\n",
        "    });\n",
        "    </script>\n",
        "    '''))"
      ],
      "execution_count": 0,
      "outputs": []
    },
    {
      "cell_type": "markdown",
      "metadata": {
        "id": "Kgz9Fr0cqsTV",
        "colab_type": "text"
      },
      "source": [
        "# 시작"
      ]
    },
    {
      "cell_type": "markdown",
      "metadata": {
        "id": "QXGKEex2rUX2",
        "colab_type": "text"
      },
      "source": [
        "## Feature Exploration, Engineering and Cleaning\n",
        "\n",
        "\n",
        "- explore data on hand\n",
        "- identify possible feature engineering\n",
        "- numerically encode any caterigorical features"
      ]
    },
    {
      "cell_type": "markdown",
      "metadata": {
        "id": "TcmP5s4LrG-d",
        "colab_type": "text"
      },
      "source": [
        "### apply 함수 + len 함수"
      ]
    },
    {
      "cell_type": "code",
      "metadata": {
        "id": "vd7P2uh3pYKg",
        "colab_type": "code",
        "colab": {}
      },
      "source": [
        "train['Name_length'] = train['Name'].apply(len)"
      ],
      "execution_count": 0,
      "outputs": []
    },
    {
      "cell_type": "markdown",
      "metadata": {
        "id": "rvwJgZQ4rP2q",
        "colab_type": "text"
      },
      "source": [
        "### apply 함수 + lambda if 함수"
      ]
    },
    {
      "cell_type": "code",
      "metadata": {
        "id": "VgZoPerzrcJS",
        "colab_type": "code",
        "colab": {}
      },
      "source": [
        "train['has_cabin'] = train['Cabin'].apply(lambda x: 0 if type(x) == float else 1)"
      ],
      "execution_count": 0,
      "outputs": []
    },
    {
      "cell_type": "markdown",
      "metadata": {
        "id": "5cseANUsrmnJ",
        "colab_type": "text"
      },
      "source": [
        "### pandas qcut 과 cut 의 차이\n",
        "\n",
        "https://stackoverflow.com/questions/30211923/what-is-the-difference-between-pandas-qcut-and-pandas-cut\n",
        "\n",
        "qcut 은 quantile 컷이여서 모든 bin 에 (전체 데이터수 / bin 의 개수) 만큼 데이터가 들어가도록 bin 의 범위를 조정함. 각 bin 의 영역이 다름\n",
        "\n",
        "cut 은 value 의 min max 를 기준으로 bin 을 동일한 영역으로 나누고 그러므로 bin 마다 가지고 있는 데이터 수가 다름"
      ]
    },
    {
      "cell_type": "code",
      "metadata": {
        "id": "k7In3-UnsjXa",
        "colab_type": "code",
        "colab": {
          "base_uri": "https://localhost:8080/",
          "height": 122
        },
        "outputId": "3ddf1af2-1778-4182-a6fd-7fb07e93a8f0"
      },
      "source": [
        "# 예시 코드\n",
        "factors = np.random.randn(30)\n",
        "pd.qcut(factors, 5).value_counts()\n",
        "# pd.cut(factors, 5).value_counts()"
      ],
      "execution_count": 3,
      "outputs": [
        {
          "output_type": "execute_result",
          "data": {
            "text/plain": [
              "(-1.553, -0.678]    6\n",
              "(-0.678, -0.274]    6\n",
              "(-0.274, 0.127]     6\n",
              "(0.127, 0.633]      6\n",
              "(0.633, 2.051]      6\n",
              "dtype: int64"
            ]
          },
          "metadata": {
            "tags": []
          },
          "execution_count": 3
        }
      ]
    },
    {
      "cell_type": "code",
      "metadata": {
        "id": "zIM3se41soFC",
        "colab_type": "code",
        "colab": {}
      },
      "source": [
        "train['CategoricalFare'] = pd.qcut(train['Fare'], 4)\n",
        "train['CategoricalAge'] = pd.cut(train['Age'], 5)"
      ],
      "execution_count": 0,
      "outputs": []
    },
    {
      "cell_type": "markdown",
      "metadata": {
        "id": "jqAHogwssyRN",
        "colab_type": "text"
      },
      "source": [
        "### 승객 이름에서 Title 만 빼내기(정규표현식)"
      ]
    },
    {
      "cell_type": "code",
      "metadata": {
        "id": "TkKfpScFs3X9",
        "colab_type": "code",
        "colab": {}
      },
      "source": [
        "# Define fucntion to extract titles from passenge names\n",
        "def get_title(name):\n",
        "    title_search = re.search(' ([A-Za-z]+)\\.', name)\n",
        "    # If the title exist, extract and return it\n",
        "    if title_search:\n",
        "        return title_search.group(1)\n",
        "    return \"\"\n",
        "\n",
        "# Create a new feature title, containing the title of passenger names\n",
        "for dataset in full_data:\n",
        "    dataset['Title'] = dataset['Name'].apply(get_title)    "
      ],
      "execution_count": 0,
      "outputs": []
    },
    {
      "cell_type": "markdown",
      "metadata": {
        "id": "ajtZbTcqtCvQ",
        "colab_type": "text"
      },
      "source": [
        "### 데이터 안에 원하는 대상 replace"
      ]
    },
    {
      "cell_type": "code",
      "metadata": {
        "id": "PIMNDXpHs4a3",
        "colab_type": "code",
        "colab": {}
      },
      "source": [
        "# Group all non-common titles into one single grouping 'Rare'\n",
        "for dataset in full_data:\n",
        "    dataset['Title'] = dataset['Title'].replace(['Lady', 'Countess','Capt', 'Col','Don', 'Dr', 'Major', 'Rev', 'Sir', 'Jonkheer', 'Dona'], 'Rare')\n",
        "    dataset['Title'] = dataset['Title'].replace('Mlle', 'Miss')\n",
        "    dataset['Title'] = dataset['Title'].replace('Ms', 'Miss')\n",
        "    dataset['Title'] = dataset['Title'].replace('Mme', 'Mrs')\n"
      ],
      "execution_count": 0,
      "outputs": []
    },
    {
      "cell_type": "markdown",
      "metadata": {
        "id": "Ak5tWgRrtLh3",
        "colab_type": "text"
      },
      "source": [
        "### mapping을 통해 categorical 숫자로 바꾸기"
      ]
    },
    {
      "cell_type": "code",
      "metadata": {
        "id": "0prvKsxUs4Xf",
        "colab_type": "code",
        "colab": {}
      },
      "source": [
        "dataset['Sex'] = dataset['Sex'].map({'female': 0, 'male': 1}).astype(int)\n",
        "\n",
        "title_mapping = {\"Mr\": 1, \"Miss\": 2, \"Mrs\": 3, \"Master\": 4, \"Rare\": 5}\n",
        "dataset['Title'] = dataset['Title'].map(title_mapping)\n",
        "dataset['Title'] = dataset['Title'].fillna(0)"
      ],
      "execution_count": 0,
      "outputs": []
    },
    {
      "cell_type": "markdown",
      "metadata": {
        "id": "6Jymj-gYtWlY",
        "colab_type": "text"
      },
      "source": [
        "### 범위를 지정해서 숫자 주기"
      ]
    },
    {
      "cell_type": "code",
      "metadata": {
        "id": "otJ_gHERs4UP",
        "colab_type": "code",
        "colab": {}
      },
      "source": [
        "dataset.loc[dataset['Fare'] <= 7.91, 'Fare'] = 0\n",
        "dataset.loc[(dataset['Fare'] > 7.91) & (dataset['Fare'] <= 14.454), 'Fare'] = 1\n",
        "dataset.loc[(dataset['Fare'] > 14.454) & (dataset['Fare'] <= 31), 'Fare'] = 2\n",
        "dataset.loc[dataset['Fare'] > 31, 'Fare'] = 3\n",
        "dataset['Fare'] = dataset['Fare'].astype(int)"
      ],
      "execution_count": 0,
      "outputs": []
    },
    {
      "cell_type": "markdown",
      "metadata": {
        "id": "BAHSy-FWrNkF",
        "colab_type": "text"
      },
      "source": [
        "### drop - axis 1 => 열"
      ]
    },
    {
      "cell_type": "code",
      "metadata": {
        "id": "-6wHn5HUs4Q_",
        "colab_type": "code",
        "colab": {}
      },
      "source": [
        "train = train.drop(['CategoricalAge', 'CategoricalFare'], axis=1)"
      ],
      "execution_count": 0,
      "outputs": []
    },
    {
      "cell_type": "markdown",
      "metadata": {
        "id": "62dGebd1rS6i",
        "colab_type": "text"
      },
      "source": [
        "### Pair plot 사용하기"
      ]
    },
    {
      "cell_type": "code",
      "metadata": {
        "id": "EI1nWRgis3df",
        "colab_type": "code",
        "colab": {}
      },
      "source": [
        "g = sns.pairplot(train[[u'Survived', u'Pclass', u'Sex', u'Age', u'Parch',\n",
        "                        u'Fare', u'Embarked', u'FamilySize', u'Title']],\n",
        "                 hue='Survived', palette = 'seismic', size = 1.2, \n",
        "                 diag_kind = 'kde', diag_kws=dict(shade=True), plot_kws=dict(s=10))\n",
        "g.set(xticklabels=[])"
      ],
      "execution_count": 0,
      "outputs": []
    },
    {
      "cell_type": "markdown",
      "metadata": {
        "id": "KXxHg4Ztrayd",
        "colab_type": "text"
      },
      "source": [
        "## Sklearn Classifier"
      ]
    },
    {
      "cell_type": "markdown",
      "metadata": {
        "id": "FL3qT0Cbrkam",
        "colab_type": "text"
      },
      "source": [
        "### KFold 바뀐 부분"
      ]
    },
    {
      "cell_type": "code",
      "metadata": {
        "id": "PIY66A1QrkQE",
        "colab_type": "code",
        "colab": {}
      },
      "source": [
        "# kf = KFOLD(ntrain, n_folds= NFOLDS, random_state =SEED)\n",
        "kf = KFold(n_splits= NFOLDS, random_state =SEED)\n",
        "kf = kf.split(np.arange(ntrain)) # change - version problem\n"
      ],
      "execution_count": 0,
      "outputs": []
    },
    {
      "cell_type": "markdown",
      "metadata": {
        "id": "F852z3PPrnl3",
        "colab_type": "text"
      },
      "source": [
        "### SKlearnHelper"
      ]
    },
    {
      "cell_type": "code",
      "metadata": {
        "id": "ScQDJXIBrpwQ",
        "colab_type": "code",
        "colab": {}
      },
      "source": [
        "# Class to extend the Sklearn classifier\n",
        "class SklearnHelper(object):\n",
        "    def __init__(self, clf, seed=0, params=None):\n",
        "        params['random_state'] = seed\n",
        "        self.clf = clf(**params)\n",
        "\n",
        "    def train(self, x_train, y_train):\n",
        "        self.clf.fit(x_train, y_train)\n",
        "    \n",
        "    def predict(self, x):\n",
        "        return self.clf.predict(x)\n",
        "    \n",
        "    def fit(self, x, y):\n",
        "        return self.clf.fit(x, y)\n",
        "        \n",
        "    def feature_importances(self, x, y):\n",
        "        return self.clf.fit(x, y).feature_importances_"
      ],
      "execution_count": 0,
      "outputs": []
    },
    {
      "cell_type": "markdown",
      "metadata": {
        "id": "BfJIy8fDrvfc",
        "colab_type": "text"
      },
      "source": [
        "### Out of Fold Prediction - 아직도 잘 모르겠음"
      ]
    },
    {
      "cell_type": "code",
      "metadata": {
        "id": "Yfoq19IQrqH4",
        "colab_type": "code",
        "colab": {}
      },
      "source": [
        "def get_oof(clf, x_train, y_train, x_test):\n",
        "    oof_train = np.zeros((ntrain,))\n",
        "    oof_test = np.zeros((ntest,))\n",
        "    oof_test_skf = np.empty((NFOLDS, ntest))\n",
        "    \n",
        "    for i, (train_index, test_index) in enumerate(kf):\n",
        "        x_tr = x_train[train_index]\n",
        "        y_tr = y_train[train_index]\n",
        "        x_te = x_train[test_index]\n",
        "        \n",
        "        clf.train(x_tr, y_tr)\n",
        "        \n",
        "        oof_train[test_index] = clf.predict(x_te)\n",
        "        oof_test_skf[i, :] = clf.predict(x_test)\n",
        "\n",
        "    oof_test[:] = oof_test_skf.mean(axis=0)\n",
        "    return oof_train.reshape(-1, 1), oof_test.reshape(-1, 1)\n",
        "    "
      ],
      "execution_count": 0,
      "outputs": []
    },
    {
      "cell_type": "markdown",
      "metadata": {
        "id": "LC4rDY2Kr1tO",
        "colab_type": "text"
      },
      "source": [
        "## 모델 만들기"
      ]
    },
    {
      "cell_type": "markdown",
      "metadata": {
        "id": "uO7BqaGbr33l",
        "colab_type": "text"
      },
      "source": [
        "### Params 저장해두기 dict 형태"
      ]
    },
    {
      "cell_type": "code",
      "metadata": {
        "id": "4Tj09RFvrqFP",
        "colab_type": "code",
        "colab": {}
      },
      "source": [
        "rf_params = {\n",
        "    'n_jobs': -1,\n",
        "    'n_estimators': 500,\n",
        "    'warm_start': True,\n",
        "#     'max_features': 0.2,\n",
        "    'max_depth': 6,\n",
        "    'min_samples_leaf': 2,\n",
        "    'max_features': 'sqrt',\n",
        "    'verbose': 0\n",
        "}\n"
      ],
      "execution_count": 0,
      "outputs": []
    },
    {
      "cell_type": "markdown",
      "metadata": {
        "id": "2B8O4iIer9fn",
        "colab_type": "text"
      },
      "source": [
        "### SklearnHelper 클래스 이용해서 빠르게 모델 만들기 "
      ]
    },
    {
      "cell_type": "code",
      "metadata": {
        "id": "ZNGM3Zi9rqCu",
        "colab_type": "code",
        "colab": {}
      },
      "source": [
        "rf = SklearnHelper(clf=RandomForestClassifier, seed=SEED, params=rf_params)"
      ],
      "execution_count": 0,
      "outputs": []
    },
    {
      "cell_type": "markdown",
      "metadata": {
        "id": "ij_idH-7Huau",
        "colab_type": "text"
      },
      "source": [
        "각 모델에서 나온 결과값에 대한 df 만들기"
      ]
    },
    {
      "cell_type": "code",
      "metadata": {
        "id": "qc3GELXZrqAC",
        "colab_type": "code",
        "colab": {}
      },
      "source": [
        "rf_feature = rf.feature_importances(x_train, y_train)\n",
        "cols = train.columns.values # train col 의 이름들이 리스트로 저장\n",
        "\n",
        "# Create a dataframe with features\n",
        "\n",
        "feature_df = pd.DataFrame({'features': cols,\n",
        "                          'Random Forest feature importances': rf_feature,\n",
        "                          'Extra Trees feature importances': et_feature,\n",
        "                          'AdaBoost feature importances': ada_feature,\n",
        "                          'Gradient Boosting feature importances': gb_feature})"
      ],
      "execution_count": 0,
      "outputs": []
    },
    {
      "cell_type": "markdown",
      "metadata": {
        "id": "7oy3Y7PRIFJ1",
        "colab_type": "text"
      },
      "source": [
        "### plotly 그래프 그리기"
      ]
    },
    {
      "cell_type": "code",
      "metadata": {
        "id": "zzLFg9HMrp2G",
        "colab_type": "code",
        "colab": {}
      },
      "source": [
        "# Scater plot\n",
        "configure_plotly_browser_state()\n",
        "py.init_notebook_mode(connected=True)\n",
        "trace = go.Scatter(y= feature_df['Random Forest feature importances'].values,\n",
        "                  x= feature_df['features'].values,\n",
        "                  mode = 'markers',\n",
        "                  marker = dict(sizemode = 'diameter',\n",
        "                               sizeref = 1,\n",
        "                               size = 25,\n",
        "#                                size = feature_df['AdaBoost feature importances'].values,\n",
        "#                                color = np,random.randn(500), # Set color equal to a variable\n",
        "                               color = feature_df['Random Forest feature importances'].values,\n",
        "                               colorscale='Portland',\n",
        "                               showscale=True),\n",
        "                  text = feature_df['features'].values)\n",
        "data = [trace]\n",
        "\n",
        "layout = go.Layout(autosize= True,\n",
        "                  title = 'Random Forest Feature Importance',\n",
        "                  hovermode = 'closest',\n",
        "#                   xaxis = dict(title = 'Pop',\n",
        "#                               ticklen = 5,\n",
        "#                               zeroline = False,\n",
        "#                               gridwith =2,)\n",
        "                  yaxis = dict(title = 'Feature Importance',\n",
        "                               ticklen = 5,\n",
        "                               gridwidth = 2),\n",
        "                  showlegend=False)\n",
        "\n",
        "fig = go.Figure(data = data, layout = layout)\n",
        "py.iplot(fig, filename = 'scatter2010')\n"
      ],
      "execution_count": 0,
      "outputs": []
    },
    {
      "cell_type": "markdown",
      "metadata": {
        "id": "WNQ4yaccIX3S",
        "colab_type": "text"
      },
      "source": [
        "### row wise mean 구하기"
      ]
    },
    {
      "cell_type": "code",
      "metadata": {
        "id": "YGD5kzoRIW1a",
        "colab_type": "code",
        "colab": {}
      },
      "source": [
        "feature_df['mean'] = feature_df.mean(axis = 1) # axis 1 computes the mean row wise"
      ],
      "execution_count": 0,
      "outputs": []
    },
    {
      "cell_type": "markdown",
      "metadata": {
        "id": "b9zhiseZIo5U",
        "colab_type": "text"
      },
      "source": [
        "## Second Level Prediction from First Level Output"
      ]
    },
    {
      "cell_type": "markdown",
      "metadata": {
        "id": "MCfKwn4GL4I_",
        "colab_type": "text"
      },
      "source": [
        "### XGBoost 사용하기"
      ]
    },
    {
      "cell_type": "code",
      "metadata": {
        "id": "zb1sjv8oLyoZ",
        "colab_type": "code",
        "colab": {}
      },
      "source": [
        "gbm = xgb.XGBClassifier(n_estimators = 2000,\n",
        "#                        learning_rate = 0.02,\n",
        "                        max_depth=4,\n",
        "                        min_child_weight = 2,\n",
        "#                         gamma =1,\n",
        "                        subsample = 0.8,\n",
        "                        colsample_bytree = 0.8,\n",
        "                        objective = 'binary:logistic',\n",
        "                        nthread = -1,\n",
        "                        scale_pos_weight=1).fit(x_train, y_train)\n",
        "predictions = gbm.predict(x_test)  "
      ],
      "execution_count": 0,
      "outputs": []
    }
  ]
}