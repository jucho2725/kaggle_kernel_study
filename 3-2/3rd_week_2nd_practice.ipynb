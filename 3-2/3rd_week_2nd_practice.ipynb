{
  "nbformat": 4,
  "nbformat_minor": 0,
  "metadata": {
    "colab": {
      "name": "조진욱_190801_1",
      "version": "0.3.2",
      "provenance": [],
      "collapsed_sections": [
        "C0VJSao-wfKc",
        "3tveKH61wzAP"
      ]
    },
    "kernelspec": {
      "name": "python3",
      "display_name": "Python 3"
    },
    "accelerator": "GPU"
  },
  "cells": [
    {
      "cell_type": "markdown",
      "metadata": {
        "id": "sFHebzOOh5VT",
        "colab_type": "text"
      },
      "source": [
        "190801 조진욱\n",
        "\n",
        "3250feats->532 feats using shap[LB: 0.436]\n",
        "\n",
        "https://www.kaggle.com/youhanlee/3250feats-532-feats-using-shap-lb-0-436"
      ]
    },
    {
      "cell_type": "code",
      "metadata": {
        "id": "KGpRSVFBh99T",
        "colab_type": "code",
        "outputId": "77a13be6-2c34-4eaa-e12b-ce5409b4aa10",
        "colab": {
          "base_uri": "https://localhost:8080/",
          "height": 127
        }
      },
      "source": [
        "from google.colab import drive\n",
        "drive.mount('/content/drive')"
      ],
      "execution_count": 0,
      "outputs": [
        {
          "output_type": "stream",
          "text": [
            "Go to this URL in a browser: https://accounts.google.com/o/oauth2/auth?client_id=947318989803-6bn6qk8qdgf4n4g3pfee6491hc0brc4i.apps.googleusercontent.com&redirect_uri=urn%3Aietf%3Awg%3Aoauth%3A2.0%3Aoob&scope=email%20https%3A%2F%2Fwww.googleapis.com%2Fauth%2Fdocs.test%20https%3A%2F%2Fwww.googleapis.com%2Fauth%2Fdrive%20https%3A%2F%2Fwww.googleapis.com%2Fauth%2Fdrive.photos.readonly%20https%3A%2F%2Fwww.googleapis.com%2Fauth%2Fpeopleapi.readonly&response_type=code\n",
            "\n",
            "Enter your authorization code:\n",
            "··········\n",
            "Mounted at /content/drive\n"
          ],
          "name": "stdout"
        }
      ]
    },
    {
      "cell_type": "code",
      "metadata": {
        "id": "UiRpWpQ5EOBS",
        "colab_type": "code",
        "colab": {}
      },
      "source": [
        "!mkdir -p ~/.kaggle\n",
        "!cp /content/drive/My\\ Drive/kaggle.json ~/.kaggle/\n",
        "!chmod 600 ~/.kaggle/kaggle.json\n"
      ],
      "execution_count": 0,
      "outputs": []
    },
    {
      "cell_type": "code",
      "metadata": {
        "id": "xTg8dzA9gu_5",
        "colab_type": "code",
        "outputId": "a8371b13-43f7-4f85-ba09-37d36a9866b6",
        "colab": {
          "base_uri": "https://localhost:8080/",
          "height": 235
        }
      },
      "source": [
        "!pip install kaggle"
      ],
      "execution_count": 0,
      "outputs": [
        {
          "output_type": "stream",
          "text": [
            "Requirement already satisfied: kaggle in /usr/local/lib/python3.6/dist-packages (1.5.4)\n",
            "Requirement already satisfied: tqdm in /usr/local/lib/python3.6/dist-packages (from kaggle) (4.28.1)\n",
            "Requirement already satisfied: urllib3<1.25,>=1.21.1 in /usr/local/lib/python3.6/dist-packages (from kaggle) (1.24.3)\n",
            "Requirement already satisfied: python-dateutil in /usr/local/lib/python3.6/dist-packages (from kaggle) (2.5.3)\n",
            "Requirement already satisfied: python-slugify in /usr/local/lib/python3.6/dist-packages (from kaggle) (3.0.2)\n",
            "Requirement already satisfied: requests in /usr/local/lib/python3.6/dist-packages (from kaggle) (2.21.0)\n",
            "Requirement already satisfied: six>=1.10 in /usr/local/lib/python3.6/dist-packages (from kaggle) (1.12.0)\n",
            "Requirement already satisfied: certifi in /usr/local/lib/python3.6/dist-packages (from kaggle) (2019.6.16)\n",
            "Requirement already satisfied: text-unidecode==1.2 in /usr/local/lib/python3.6/dist-packages (from python-slugify->kaggle) (1.2)\n",
            "Requirement already satisfied: idna<2.9,>=2.5 in /usr/local/lib/python3.6/dist-packages (from requests->kaggle) (2.8)\n",
            "Requirement already satisfied: chardet<3.1.0,>=3.0.2 in /usr/local/lib/python3.6/dist-packages (from requests->kaggle) (3.0.4)\n"
          ],
          "name": "stdout"
        }
      ]
    },
    {
      "cell_type": "code",
      "metadata": {
        "id": "ig7ifVqFiOdr",
        "colab_type": "code",
        "outputId": "b50de1ad-f27a-4ee7-94c7-cf3f3edad42b",
        "colab": {
          "base_uri": "https://localhost:8080/",
          "height": 179
        }
      },
      "source": [
        "!kaggle competitions download -c costa-rican-household-poverty-prediction"
      ],
      "execution_count": 0,
      "outputs": [
        {
          "output_type": "stream",
          "text": [
            "Downloading sample_submission.csv to /content\n",
            "\r  0% 0.00/349k [00:00<?, ?B/s]\n",
            "100% 349k/349k [00:00<00:00, 47.8MB/s]\n",
            "Downloading test.csv.zip to /content\n",
            "  0% 0.00/969k [00:00<?, ?B/s]\n",
            "100% 969k/969k [00:00<00:00, 63.4MB/s]\n",
            "Downloading train.csv.zip to /content\n",
            "  0% 0.00/395k [00:00<?, ?B/s]\n",
            "100% 395k/395k [00:00<00:00, 115MB/s]\n"
          ],
          "name": "stdout"
        }
      ]
    },
    {
      "cell_type": "code",
      "metadata": {
        "id": "JDSHVudQiObS",
        "colab_type": "code",
        "outputId": "781b6543-15b2-4379-9183-024035ff6d5a",
        "colab": {
          "base_uri": "https://localhost:8080/",
          "height": 89
        }
      },
      "source": [
        "!unzip /content/test.csv.zip\n",
        "!unzip /content/train.csv.zip"
      ],
      "execution_count": 0,
      "outputs": [
        {
          "output_type": "stream",
          "text": [
            "Archive:  /content/test.csv.zip\n",
            "  inflating: test.csv                \n",
            "Archive:  /content/train.csv.zip\n",
            "  inflating: train.csv               \n"
          ],
          "name": "stdout"
        }
      ]
    },
    {
      "cell_type": "markdown",
      "metadata": {
        "id": "cNli6vJeiuTf",
        "colab_type": "text"
      },
      "source": [
        "# 필사시작\n"
      ]
    },
    {
      "cell_type": "markdown",
      "metadata": {
        "id": "CQsH5PSIu2st",
        "colab_type": "text"
      },
      "source": [
        "\n",
        "Import\n",
        "---\n",
        "\n"
      ]
    },
    {
      "cell_type": "code",
      "metadata": {
        "id": "N1VfYtXZv1Er",
        "colab_type": "code",
        "outputId": "471a4a59-8a70-4cfd-9080-50c6243922c1",
        "colab": {
          "base_uri": "https://localhost:8080/",
          "height": 757
        }
      },
      "source": [
        "!pip install shap"
      ],
      "execution_count": 0,
      "outputs": [
        {
          "output_type": "stream",
          "text": [
            "Collecting shap\n",
            "\u001b[?25l  Downloading https://files.pythonhosted.org/packages/80/82/bab67238ac27d53214b12f6ed095493dc7b43be07c615b8b0dbb7da33157/shap-0.29.3.tar.gz (230kB)\n",
            "\u001b[K     |████████████████████████████████| 235kB 42.5MB/s \n",
            "\u001b[?25hRequirement already satisfied: numpy in /usr/local/lib/python3.6/dist-packages (from shap) (1.16.4)\n",
            "Requirement already satisfied: scipy in /usr/local/lib/python3.6/dist-packages (from shap) (1.3.0)\n",
            "Requirement already satisfied: scikit-learn in /usr/local/lib/python3.6/dist-packages (from shap) (0.21.2)\n",
            "Requirement already satisfied: matplotlib in /usr/local/lib/python3.6/dist-packages (from shap) (3.0.3)\n",
            "Requirement already satisfied: pandas in /usr/local/lib/python3.6/dist-packages (from shap) (0.24.2)\n",
            "Requirement already satisfied: tqdm>4.25.0 in /usr/local/lib/python3.6/dist-packages (from shap) (4.28.1)\n",
            "Requirement already satisfied: ipython in /usr/local/lib/python3.6/dist-packages (from shap) (5.5.0)\n",
            "Requirement already satisfied: scikit-image in /usr/local/lib/python3.6/dist-packages (from shap) (0.15.0)\n",
            "Requirement already satisfied: joblib>=0.11 in /usr/local/lib/python3.6/dist-packages (from scikit-learn->shap) (0.13.2)\n",
            "Requirement already satisfied: python-dateutil>=2.1 in /usr/local/lib/python3.6/dist-packages (from matplotlib->shap) (2.5.3)\n",
            "Requirement already satisfied: cycler>=0.10 in /usr/local/lib/python3.6/dist-packages (from matplotlib->shap) (0.10.0)\n",
            "Requirement already satisfied: pyparsing!=2.0.4,!=2.1.2,!=2.1.6,>=2.0.1 in /usr/local/lib/python3.6/dist-packages (from matplotlib->shap) (2.4.0)\n",
            "Requirement already satisfied: kiwisolver>=1.0.1 in /usr/local/lib/python3.6/dist-packages (from matplotlib->shap) (1.1.0)\n",
            "Requirement already satisfied: pytz>=2011k in /usr/local/lib/python3.6/dist-packages (from pandas->shap) (2018.9)\n",
            "Requirement already satisfied: decorator in /usr/local/lib/python3.6/dist-packages (from ipython->shap) (4.4.0)\n",
            "Requirement already satisfied: setuptools>=18.5 in /usr/local/lib/python3.6/dist-packages (from ipython->shap) (41.0.1)\n",
            "Requirement already satisfied: simplegeneric>0.8 in /usr/local/lib/python3.6/dist-packages (from ipython->shap) (0.8.1)\n",
            "Requirement already satisfied: pexpect; sys_platform != \"win32\" in /usr/local/lib/python3.6/dist-packages (from ipython->shap) (4.7.0)\n",
            "Requirement already satisfied: pygments in /usr/local/lib/python3.6/dist-packages (from ipython->shap) (2.1.3)\n",
            "Requirement already satisfied: traitlets>=4.2 in /usr/local/lib/python3.6/dist-packages (from ipython->shap) (4.3.2)\n",
            "Requirement already satisfied: pickleshare in /usr/local/lib/python3.6/dist-packages (from ipython->shap) (0.7.5)\n",
            "Requirement already satisfied: prompt-toolkit<2.0.0,>=1.0.4 in /usr/local/lib/python3.6/dist-packages (from ipython->shap) (1.0.16)\n",
            "Requirement already satisfied: imageio>=2.0.1 in /usr/local/lib/python3.6/dist-packages (from scikit-image->shap) (2.4.1)\n",
            "Requirement already satisfied: networkx>=2.0 in /usr/local/lib/python3.6/dist-packages (from scikit-image->shap) (2.3)\n",
            "Requirement already satisfied: PyWavelets>=0.4.0 in /usr/local/lib/python3.6/dist-packages (from scikit-image->shap) (1.0.3)\n",
            "Requirement already satisfied: pillow>=4.3.0 in /usr/local/lib/python3.6/dist-packages (from scikit-image->shap) (4.3.0)\n",
            "Requirement already satisfied: six>=1.5 in /usr/local/lib/python3.6/dist-packages (from python-dateutil>=2.1->matplotlib->shap) (1.12.0)\n",
            "Requirement already satisfied: ptyprocess>=0.5 in /usr/local/lib/python3.6/dist-packages (from pexpect; sys_platform != \"win32\"->ipython->shap) (0.6.0)\n",
            "Requirement already satisfied: ipython-genutils in /usr/local/lib/python3.6/dist-packages (from traitlets>=4.2->ipython->shap) (0.2.0)\n",
            "Requirement already satisfied: wcwidth in /usr/local/lib/python3.6/dist-packages (from prompt-toolkit<2.0.0,>=1.0.4->ipython->shap) (0.1.7)\n",
            "Requirement already satisfied: olefile in /usr/local/lib/python3.6/dist-packages (from pillow>=4.3.0->scikit-image->shap) (0.46)\n",
            "Building wheels for collected packages: shap\n",
            "  Building wheel for shap (setup.py) ... \u001b[?25l\u001b[?25hdone\n",
            "  Stored in directory: /root/.cache/pip/wheels/00/20/87/d199e4d7397997f5494e4098104f91313ac8120753bee7b032\n",
            "Successfully built shap\n",
            "Installing collected packages: shap\n",
            "Successfully installed shap-0.29.3\n"
          ],
          "name": "stdout"
        }
      ]
    },
    {
      "cell_type": "code",
      "metadata": {
        "id": "Yuxu4MOxiOXa",
        "colab_type": "code",
        "colab": {}
      },
      "source": [
        "import pandas as pd\n",
        "import numpy as np\n",
        "import seaborn as sns\n",
        "import matplotlib.pyplot  as plt\n",
        "\n",
        "sns.set(font_scale = 2.2)\n",
        "plt.style.use('seaborn')\n",
        "\n",
        "from sklearn.preprocessing import LabelEncoder, MinMaxScaler, StandardScaler, OneHotEncoder\n",
        "from sklearn.model_selection import StratifiedKFold, train_test_split, ShuffleSplit\n",
        "from sklearn.metrics import f1_score\n",
        "\n",
        "import itertools\n",
        "import lightgbm as lgb\n",
        "import xgboost as xgb\n",
        "from xgboost import XGBClassifier\n",
        "\n",
        "import shap\n",
        "from tqdm import tqdm\n",
        "import featuretools as ft\n",
        "\n",
        "import warnings\n",
        "warnings.filterwarnings('ignore')\n",
        "\n",
        "import time"
      ],
      "execution_count": 0,
      "outputs": []
    },
    {
      "cell_type": "markdown",
      "metadata": {
        "id": "1J82uEGMvv21",
        "colab_type": "text"
      },
      "source": [
        "\n",
        "# Check Datasets\n"
      ]
    },
    {
      "cell_type": "markdown",
      "metadata": {
        "id": "uUhlJva_v6U6",
        "colab_type": "text"
      },
      "source": [
        "\n",
        "1.1 Read Dataset\n",
        "---\n",
        "\n"
      ]
    },
    {
      "cell_type": "code",
      "metadata": {
        "id": "M9fWWjmEiOUC",
        "colab_type": "code",
        "colab": {}
      },
      "source": [
        "df_train = pd.read_csv('/content/train.csv')\n",
        "df_test = pd.read_csv('/content/test.csv')\n"
      ],
      "execution_count": 0,
      "outputs": []
    },
    {
      "cell_type": "code",
      "metadata": {
        "id": "nMAsg4c8iOQ1",
        "colab_type": "code",
        "outputId": "06867c41-dd8d-47a5-e168-4458408b8318",
        "colab": {
          "base_uri": "https://localhost:8080/",
          "height": 35
        }
      },
      "source": [
        "print('train shape:', df_train.shape, ' ', 'test shape:', df_test.shape)"
      ],
      "execution_count": 0,
      "outputs": [
        {
          "output_type": "stream",
          "text": [
            "train shape: (9557, 143)   test shape: (23856, 142)\n"
          ],
          "name": "stdout"
        }
      ]
    },
    {
      "cell_type": "code",
      "metadata": {
        "id": "JOC9CV_FiONm",
        "colab_type": "code",
        "outputId": "43b59e07-82b4-4f09-b0d4-abca9e93c093",
        "colab": {
          "base_uri": "https://localhost:8080/",
          "height": 253
        }
      },
      "source": [
        "df_train.head()"
      ],
      "execution_count": 0,
      "outputs": [
        {
          "output_type": "execute_result",
          "data": {
            "text/html": [
              "<div>\n",
              "<style scoped>\n",
              "    .dataframe tbody tr th:only-of-type {\n",
              "        vertical-align: middle;\n",
              "    }\n",
              "\n",
              "    .dataframe tbody tr th {\n",
              "        vertical-align: top;\n",
              "    }\n",
              "\n",
              "    .dataframe thead th {\n",
              "        text-align: right;\n",
              "    }\n",
              "</style>\n",
              "<table border=\"1\" class=\"dataframe\">\n",
              "  <thead>\n",
              "    <tr style=\"text-align: right;\">\n",
              "      <th></th>\n",
              "      <th>Id</th>\n",
              "      <th>v2a1</th>\n",
              "      <th>hacdor</th>\n",
              "      <th>rooms</th>\n",
              "      <th>hacapo</th>\n",
              "      <th>v14a</th>\n",
              "      <th>refrig</th>\n",
              "      <th>v18q</th>\n",
              "      <th>v18q1</th>\n",
              "      <th>r4h1</th>\n",
              "      <th>r4h2</th>\n",
              "      <th>r4h3</th>\n",
              "      <th>r4m1</th>\n",
              "      <th>r4m2</th>\n",
              "      <th>r4m3</th>\n",
              "      <th>r4t1</th>\n",
              "      <th>r4t2</th>\n",
              "      <th>r4t3</th>\n",
              "      <th>tamhog</th>\n",
              "      <th>tamviv</th>\n",
              "      <th>escolari</th>\n",
              "      <th>rez_esc</th>\n",
              "      <th>hhsize</th>\n",
              "      <th>paredblolad</th>\n",
              "      <th>paredzocalo</th>\n",
              "      <th>paredpreb</th>\n",
              "      <th>pareddes</th>\n",
              "      <th>paredmad</th>\n",
              "      <th>paredzinc</th>\n",
              "      <th>paredfibras</th>\n",
              "      <th>paredother</th>\n",
              "      <th>pisomoscer</th>\n",
              "      <th>pisocemento</th>\n",
              "      <th>pisoother</th>\n",
              "      <th>pisonatur</th>\n",
              "      <th>pisonotiene</th>\n",
              "      <th>pisomadera</th>\n",
              "      <th>techozinc</th>\n",
              "      <th>techoentrepiso</th>\n",
              "      <th>techocane</th>\n",
              "      <th>...</th>\n",
              "      <th>meaneduc</th>\n",
              "      <th>instlevel1</th>\n",
              "      <th>instlevel2</th>\n",
              "      <th>instlevel3</th>\n",
              "      <th>instlevel4</th>\n",
              "      <th>instlevel5</th>\n",
              "      <th>instlevel6</th>\n",
              "      <th>instlevel7</th>\n",
              "      <th>instlevel8</th>\n",
              "      <th>instlevel9</th>\n",
              "      <th>bedrooms</th>\n",
              "      <th>overcrowding</th>\n",
              "      <th>tipovivi1</th>\n",
              "      <th>tipovivi2</th>\n",
              "      <th>tipovivi3</th>\n",
              "      <th>tipovivi4</th>\n",
              "      <th>tipovivi5</th>\n",
              "      <th>computer</th>\n",
              "      <th>television</th>\n",
              "      <th>mobilephone</th>\n",
              "      <th>qmobilephone</th>\n",
              "      <th>lugar1</th>\n",
              "      <th>lugar2</th>\n",
              "      <th>lugar3</th>\n",
              "      <th>lugar4</th>\n",
              "      <th>lugar5</th>\n",
              "      <th>lugar6</th>\n",
              "      <th>area1</th>\n",
              "      <th>area2</th>\n",
              "      <th>age</th>\n",
              "      <th>SQBescolari</th>\n",
              "      <th>SQBage</th>\n",
              "      <th>SQBhogar_total</th>\n",
              "      <th>SQBedjefe</th>\n",
              "      <th>SQBhogar_nin</th>\n",
              "      <th>SQBovercrowding</th>\n",
              "      <th>SQBdependency</th>\n",
              "      <th>SQBmeaned</th>\n",
              "      <th>agesq</th>\n",
              "      <th>Target</th>\n",
              "    </tr>\n",
              "  </thead>\n",
              "  <tbody>\n",
              "    <tr>\n",
              "      <th>0</th>\n",
              "      <td>ID_279628684</td>\n",
              "      <td>190000.0</td>\n",
              "      <td>0</td>\n",
              "      <td>3</td>\n",
              "      <td>0</td>\n",
              "      <td>1</td>\n",
              "      <td>1</td>\n",
              "      <td>0</td>\n",
              "      <td>NaN</td>\n",
              "      <td>0</td>\n",
              "      <td>1</td>\n",
              "      <td>1</td>\n",
              "      <td>0</td>\n",
              "      <td>0</td>\n",
              "      <td>0</td>\n",
              "      <td>0</td>\n",
              "      <td>1</td>\n",
              "      <td>1</td>\n",
              "      <td>1</td>\n",
              "      <td>1</td>\n",
              "      <td>10</td>\n",
              "      <td>NaN</td>\n",
              "      <td>1</td>\n",
              "      <td>1</td>\n",
              "      <td>0</td>\n",
              "      <td>0</td>\n",
              "      <td>0</td>\n",
              "      <td>0</td>\n",
              "      <td>0</td>\n",
              "      <td>0</td>\n",
              "      <td>0</td>\n",
              "      <td>1</td>\n",
              "      <td>0</td>\n",
              "      <td>0</td>\n",
              "      <td>0</td>\n",
              "      <td>0</td>\n",
              "      <td>0</td>\n",
              "      <td>0</td>\n",
              "      <td>1</td>\n",
              "      <td>0</td>\n",
              "      <td>...</td>\n",
              "      <td>10.0</td>\n",
              "      <td>0</td>\n",
              "      <td>0</td>\n",
              "      <td>0</td>\n",
              "      <td>1</td>\n",
              "      <td>0</td>\n",
              "      <td>0</td>\n",
              "      <td>0</td>\n",
              "      <td>0</td>\n",
              "      <td>0</td>\n",
              "      <td>1</td>\n",
              "      <td>1.000000</td>\n",
              "      <td>0</td>\n",
              "      <td>0</td>\n",
              "      <td>1</td>\n",
              "      <td>0</td>\n",
              "      <td>0</td>\n",
              "      <td>0</td>\n",
              "      <td>0</td>\n",
              "      <td>1</td>\n",
              "      <td>1</td>\n",
              "      <td>1</td>\n",
              "      <td>0</td>\n",
              "      <td>0</td>\n",
              "      <td>0</td>\n",
              "      <td>0</td>\n",
              "      <td>0</td>\n",
              "      <td>1</td>\n",
              "      <td>0</td>\n",
              "      <td>43</td>\n",
              "      <td>100</td>\n",
              "      <td>1849</td>\n",
              "      <td>1</td>\n",
              "      <td>100</td>\n",
              "      <td>0</td>\n",
              "      <td>1.000000</td>\n",
              "      <td>0.0</td>\n",
              "      <td>100.0</td>\n",
              "      <td>1849</td>\n",
              "      <td>4</td>\n",
              "    </tr>\n",
              "    <tr>\n",
              "      <th>1</th>\n",
              "      <td>ID_f29eb3ddd</td>\n",
              "      <td>135000.0</td>\n",
              "      <td>0</td>\n",
              "      <td>4</td>\n",
              "      <td>0</td>\n",
              "      <td>1</td>\n",
              "      <td>1</td>\n",
              "      <td>1</td>\n",
              "      <td>1.0</td>\n",
              "      <td>0</td>\n",
              "      <td>1</td>\n",
              "      <td>1</td>\n",
              "      <td>0</td>\n",
              "      <td>0</td>\n",
              "      <td>0</td>\n",
              "      <td>0</td>\n",
              "      <td>1</td>\n",
              "      <td>1</td>\n",
              "      <td>1</td>\n",
              "      <td>1</td>\n",
              "      <td>12</td>\n",
              "      <td>NaN</td>\n",
              "      <td>1</td>\n",
              "      <td>0</td>\n",
              "      <td>0</td>\n",
              "      <td>0</td>\n",
              "      <td>0</td>\n",
              "      <td>1</td>\n",
              "      <td>0</td>\n",
              "      <td>0</td>\n",
              "      <td>0</td>\n",
              "      <td>0</td>\n",
              "      <td>0</td>\n",
              "      <td>0</td>\n",
              "      <td>0</td>\n",
              "      <td>0</td>\n",
              "      <td>1</td>\n",
              "      <td>1</td>\n",
              "      <td>0</td>\n",
              "      <td>0</td>\n",
              "      <td>...</td>\n",
              "      <td>12.0</td>\n",
              "      <td>0</td>\n",
              "      <td>0</td>\n",
              "      <td>0</td>\n",
              "      <td>0</td>\n",
              "      <td>0</td>\n",
              "      <td>0</td>\n",
              "      <td>0</td>\n",
              "      <td>1</td>\n",
              "      <td>0</td>\n",
              "      <td>1</td>\n",
              "      <td>1.000000</td>\n",
              "      <td>0</td>\n",
              "      <td>0</td>\n",
              "      <td>1</td>\n",
              "      <td>0</td>\n",
              "      <td>0</td>\n",
              "      <td>0</td>\n",
              "      <td>0</td>\n",
              "      <td>1</td>\n",
              "      <td>1</td>\n",
              "      <td>1</td>\n",
              "      <td>0</td>\n",
              "      <td>0</td>\n",
              "      <td>0</td>\n",
              "      <td>0</td>\n",
              "      <td>0</td>\n",
              "      <td>1</td>\n",
              "      <td>0</td>\n",
              "      <td>67</td>\n",
              "      <td>144</td>\n",
              "      <td>4489</td>\n",
              "      <td>1</td>\n",
              "      <td>144</td>\n",
              "      <td>0</td>\n",
              "      <td>1.000000</td>\n",
              "      <td>64.0</td>\n",
              "      <td>144.0</td>\n",
              "      <td>4489</td>\n",
              "      <td>4</td>\n",
              "    </tr>\n",
              "    <tr>\n",
              "      <th>2</th>\n",
              "      <td>ID_68de51c94</td>\n",
              "      <td>NaN</td>\n",
              "      <td>0</td>\n",
              "      <td>8</td>\n",
              "      <td>0</td>\n",
              "      <td>1</td>\n",
              "      <td>1</td>\n",
              "      <td>0</td>\n",
              "      <td>NaN</td>\n",
              "      <td>0</td>\n",
              "      <td>0</td>\n",
              "      <td>0</td>\n",
              "      <td>0</td>\n",
              "      <td>1</td>\n",
              "      <td>1</td>\n",
              "      <td>0</td>\n",
              "      <td>1</td>\n",
              "      <td>1</td>\n",
              "      <td>1</td>\n",
              "      <td>1</td>\n",
              "      <td>11</td>\n",
              "      <td>NaN</td>\n",
              "      <td>1</td>\n",
              "      <td>0</td>\n",
              "      <td>0</td>\n",
              "      <td>0</td>\n",
              "      <td>0</td>\n",
              "      <td>1</td>\n",
              "      <td>0</td>\n",
              "      <td>0</td>\n",
              "      <td>0</td>\n",
              "      <td>1</td>\n",
              "      <td>0</td>\n",
              "      <td>0</td>\n",
              "      <td>0</td>\n",
              "      <td>0</td>\n",
              "      <td>0</td>\n",
              "      <td>1</td>\n",
              "      <td>0</td>\n",
              "      <td>0</td>\n",
              "      <td>...</td>\n",
              "      <td>11.0</td>\n",
              "      <td>0</td>\n",
              "      <td>0</td>\n",
              "      <td>0</td>\n",
              "      <td>0</td>\n",
              "      <td>1</td>\n",
              "      <td>0</td>\n",
              "      <td>0</td>\n",
              "      <td>0</td>\n",
              "      <td>0</td>\n",
              "      <td>2</td>\n",
              "      <td>0.500000</td>\n",
              "      <td>1</td>\n",
              "      <td>0</td>\n",
              "      <td>0</td>\n",
              "      <td>0</td>\n",
              "      <td>0</td>\n",
              "      <td>0</td>\n",
              "      <td>0</td>\n",
              "      <td>0</td>\n",
              "      <td>0</td>\n",
              "      <td>1</td>\n",
              "      <td>0</td>\n",
              "      <td>0</td>\n",
              "      <td>0</td>\n",
              "      <td>0</td>\n",
              "      <td>0</td>\n",
              "      <td>1</td>\n",
              "      <td>0</td>\n",
              "      <td>92</td>\n",
              "      <td>121</td>\n",
              "      <td>8464</td>\n",
              "      <td>1</td>\n",
              "      <td>0</td>\n",
              "      <td>0</td>\n",
              "      <td>0.250000</td>\n",
              "      <td>64.0</td>\n",
              "      <td>121.0</td>\n",
              "      <td>8464</td>\n",
              "      <td>4</td>\n",
              "    </tr>\n",
              "    <tr>\n",
              "      <th>3</th>\n",
              "      <td>ID_d671db89c</td>\n",
              "      <td>180000.0</td>\n",
              "      <td>0</td>\n",
              "      <td>5</td>\n",
              "      <td>0</td>\n",
              "      <td>1</td>\n",
              "      <td>1</td>\n",
              "      <td>1</td>\n",
              "      <td>1.0</td>\n",
              "      <td>0</td>\n",
              "      <td>2</td>\n",
              "      <td>2</td>\n",
              "      <td>1</td>\n",
              "      <td>1</td>\n",
              "      <td>2</td>\n",
              "      <td>1</td>\n",
              "      <td>3</td>\n",
              "      <td>4</td>\n",
              "      <td>4</td>\n",
              "      <td>4</td>\n",
              "      <td>9</td>\n",
              "      <td>1.0</td>\n",
              "      <td>4</td>\n",
              "      <td>1</td>\n",
              "      <td>0</td>\n",
              "      <td>0</td>\n",
              "      <td>0</td>\n",
              "      <td>0</td>\n",
              "      <td>0</td>\n",
              "      <td>0</td>\n",
              "      <td>0</td>\n",
              "      <td>1</td>\n",
              "      <td>0</td>\n",
              "      <td>0</td>\n",
              "      <td>0</td>\n",
              "      <td>0</td>\n",
              "      <td>0</td>\n",
              "      <td>1</td>\n",
              "      <td>0</td>\n",
              "      <td>0</td>\n",
              "      <td>...</td>\n",
              "      <td>11.0</td>\n",
              "      <td>0</td>\n",
              "      <td>0</td>\n",
              "      <td>0</td>\n",
              "      <td>1</td>\n",
              "      <td>0</td>\n",
              "      <td>0</td>\n",
              "      <td>0</td>\n",
              "      <td>0</td>\n",
              "      <td>0</td>\n",
              "      <td>3</td>\n",
              "      <td>1.333333</td>\n",
              "      <td>0</td>\n",
              "      <td>0</td>\n",
              "      <td>1</td>\n",
              "      <td>0</td>\n",
              "      <td>0</td>\n",
              "      <td>0</td>\n",
              "      <td>0</td>\n",
              "      <td>1</td>\n",
              "      <td>3</td>\n",
              "      <td>1</td>\n",
              "      <td>0</td>\n",
              "      <td>0</td>\n",
              "      <td>0</td>\n",
              "      <td>0</td>\n",
              "      <td>0</td>\n",
              "      <td>1</td>\n",
              "      <td>0</td>\n",
              "      <td>17</td>\n",
              "      <td>81</td>\n",
              "      <td>289</td>\n",
              "      <td>16</td>\n",
              "      <td>121</td>\n",
              "      <td>4</td>\n",
              "      <td>1.777778</td>\n",
              "      <td>1.0</td>\n",
              "      <td>121.0</td>\n",
              "      <td>289</td>\n",
              "      <td>4</td>\n",
              "    </tr>\n",
              "    <tr>\n",
              "      <th>4</th>\n",
              "      <td>ID_d56d6f5f5</td>\n",
              "      <td>180000.0</td>\n",
              "      <td>0</td>\n",
              "      <td>5</td>\n",
              "      <td>0</td>\n",
              "      <td>1</td>\n",
              "      <td>1</td>\n",
              "      <td>1</td>\n",
              "      <td>1.0</td>\n",
              "      <td>0</td>\n",
              "      <td>2</td>\n",
              "      <td>2</td>\n",
              "      <td>1</td>\n",
              "      <td>1</td>\n",
              "      <td>2</td>\n",
              "      <td>1</td>\n",
              "      <td>3</td>\n",
              "      <td>4</td>\n",
              "      <td>4</td>\n",
              "      <td>4</td>\n",
              "      <td>11</td>\n",
              "      <td>NaN</td>\n",
              "      <td>4</td>\n",
              "      <td>1</td>\n",
              "      <td>0</td>\n",
              "      <td>0</td>\n",
              "      <td>0</td>\n",
              "      <td>0</td>\n",
              "      <td>0</td>\n",
              "      <td>0</td>\n",
              "      <td>0</td>\n",
              "      <td>1</td>\n",
              "      <td>0</td>\n",
              "      <td>0</td>\n",
              "      <td>0</td>\n",
              "      <td>0</td>\n",
              "      <td>0</td>\n",
              "      <td>1</td>\n",
              "      <td>0</td>\n",
              "      <td>0</td>\n",
              "      <td>...</td>\n",
              "      <td>11.0</td>\n",
              "      <td>0</td>\n",
              "      <td>0</td>\n",
              "      <td>0</td>\n",
              "      <td>0</td>\n",
              "      <td>1</td>\n",
              "      <td>0</td>\n",
              "      <td>0</td>\n",
              "      <td>0</td>\n",
              "      <td>0</td>\n",
              "      <td>3</td>\n",
              "      <td>1.333333</td>\n",
              "      <td>0</td>\n",
              "      <td>0</td>\n",
              "      <td>1</td>\n",
              "      <td>0</td>\n",
              "      <td>0</td>\n",
              "      <td>0</td>\n",
              "      <td>0</td>\n",
              "      <td>1</td>\n",
              "      <td>3</td>\n",
              "      <td>1</td>\n",
              "      <td>0</td>\n",
              "      <td>0</td>\n",
              "      <td>0</td>\n",
              "      <td>0</td>\n",
              "      <td>0</td>\n",
              "      <td>1</td>\n",
              "      <td>0</td>\n",
              "      <td>37</td>\n",
              "      <td>121</td>\n",
              "      <td>1369</td>\n",
              "      <td>16</td>\n",
              "      <td>121</td>\n",
              "      <td>4</td>\n",
              "      <td>1.777778</td>\n",
              "      <td>1.0</td>\n",
              "      <td>121.0</td>\n",
              "      <td>1369</td>\n",
              "      <td>4</td>\n",
              "    </tr>\n",
              "  </tbody>\n",
              "</table>\n",
              "<p>5 rows × 143 columns</p>\n",
              "</div>"
            ],
            "text/plain": [
              "             Id      v2a1  hacdor  ...  SQBmeaned  agesq  Target\n",
              "0  ID_279628684  190000.0       0  ...      100.0   1849       4\n",
              "1  ID_f29eb3ddd  135000.0       0  ...      144.0   4489       4\n",
              "2  ID_68de51c94       NaN       0  ...      121.0   8464       4\n",
              "3  ID_d671db89c  180000.0       0  ...      121.0    289       4\n",
              "4  ID_d56d6f5f5  180000.0       0  ...      121.0   1369       4\n",
              "\n",
              "[5 rows x 143 columns]"
            ]
          },
          "metadata": {
            "tags": []
          },
          "execution_count": 10
        }
      ]
    },
    {
      "cell_type": "code",
      "metadata": {
        "id": "ki8WDVfKiOKK",
        "colab_type": "code",
        "outputId": "0bd8e981-d408-42b6-bb02-6f36ff35e7fa",
        "colab": {
          "base_uri": "https://localhost:8080/",
          "height": 253
        }
      },
      "source": [
        "df_test.head()"
      ],
      "execution_count": 0,
      "outputs": [
        {
          "output_type": "execute_result",
          "data": {
            "text/html": [
              "<div>\n",
              "<style scoped>\n",
              "    .dataframe tbody tr th:only-of-type {\n",
              "        vertical-align: middle;\n",
              "    }\n",
              "\n",
              "    .dataframe tbody tr th {\n",
              "        vertical-align: top;\n",
              "    }\n",
              "\n",
              "    .dataframe thead th {\n",
              "        text-align: right;\n",
              "    }\n",
              "</style>\n",
              "<table border=\"1\" class=\"dataframe\">\n",
              "  <thead>\n",
              "    <tr style=\"text-align: right;\">\n",
              "      <th></th>\n",
              "      <th>Id</th>\n",
              "      <th>v2a1</th>\n",
              "      <th>hacdor</th>\n",
              "      <th>rooms</th>\n",
              "      <th>hacapo</th>\n",
              "      <th>v14a</th>\n",
              "      <th>refrig</th>\n",
              "      <th>v18q</th>\n",
              "      <th>v18q1</th>\n",
              "      <th>r4h1</th>\n",
              "      <th>r4h2</th>\n",
              "      <th>r4h3</th>\n",
              "      <th>r4m1</th>\n",
              "      <th>r4m2</th>\n",
              "      <th>r4m3</th>\n",
              "      <th>r4t1</th>\n",
              "      <th>r4t2</th>\n",
              "      <th>r4t3</th>\n",
              "      <th>tamhog</th>\n",
              "      <th>tamviv</th>\n",
              "      <th>escolari</th>\n",
              "      <th>rez_esc</th>\n",
              "      <th>hhsize</th>\n",
              "      <th>paredblolad</th>\n",
              "      <th>paredzocalo</th>\n",
              "      <th>paredpreb</th>\n",
              "      <th>pareddes</th>\n",
              "      <th>paredmad</th>\n",
              "      <th>paredzinc</th>\n",
              "      <th>paredfibras</th>\n",
              "      <th>paredother</th>\n",
              "      <th>pisomoscer</th>\n",
              "      <th>pisocemento</th>\n",
              "      <th>pisoother</th>\n",
              "      <th>pisonatur</th>\n",
              "      <th>pisonotiene</th>\n",
              "      <th>pisomadera</th>\n",
              "      <th>techozinc</th>\n",
              "      <th>techoentrepiso</th>\n",
              "      <th>techocane</th>\n",
              "      <th>...</th>\n",
              "      <th>edjefa</th>\n",
              "      <th>meaneduc</th>\n",
              "      <th>instlevel1</th>\n",
              "      <th>instlevel2</th>\n",
              "      <th>instlevel3</th>\n",
              "      <th>instlevel4</th>\n",
              "      <th>instlevel5</th>\n",
              "      <th>instlevel6</th>\n",
              "      <th>instlevel7</th>\n",
              "      <th>instlevel8</th>\n",
              "      <th>instlevel9</th>\n",
              "      <th>bedrooms</th>\n",
              "      <th>overcrowding</th>\n",
              "      <th>tipovivi1</th>\n",
              "      <th>tipovivi2</th>\n",
              "      <th>tipovivi3</th>\n",
              "      <th>tipovivi4</th>\n",
              "      <th>tipovivi5</th>\n",
              "      <th>computer</th>\n",
              "      <th>television</th>\n",
              "      <th>mobilephone</th>\n",
              "      <th>qmobilephone</th>\n",
              "      <th>lugar1</th>\n",
              "      <th>lugar2</th>\n",
              "      <th>lugar3</th>\n",
              "      <th>lugar4</th>\n",
              "      <th>lugar5</th>\n",
              "      <th>lugar6</th>\n",
              "      <th>area1</th>\n",
              "      <th>area2</th>\n",
              "      <th>age</th>\n",
              "      <th>SQBescolari</th>\n",
              "      <th>SQBage</th>\n",
              "      <th>SQBhogar_total</th>\n",
              "      <th>SQBedjefe</th>\n",
              "      <th>SQBhogar_nin</th>\n",
              "      <th>SQBovercrowding</th>\n",
              "      <th>SQBdependency</th>\n",
              "      <th>SQBmeaned</th>\n",
              "      <th>agesq</th>\n",
              "    </tr>\n",
              "  </thead>\n",
              "  <tbody>\n",
              "    <tr>\n",
              "      <th>0</th>\n",
              "      <td>ID_2f6873615</td>\n",
              "      <td>NaN</td>\n",
              "      <td>0</td>\n",
              "      <td>5</td>\n",
              "      <td>0</td>\n",
              "      <td>1</td>\n",
              "      <td>1</td>\n",
              "      <td>0</td>\n",
              "      <td>NaN</td>\n",
              "      <td>1</td>\n",
              "      <td>1</td>\n",
              "      <td>2</td>\n",
              "      <td>0</td>\n",
              "      <td>1</td>\n",
              "      <td>1</td>\n",
              "      <td>1</td>\n",
              "      <td>2</td>\n",
              "      <td>3</td>\n",
              "      <td>3</td>\n",
              "      <td>3</td>\n",
              "      <td>0</td>\n",
              "      <td>NaN</td>\n",
              "      <td>3</td>\n",
              "      <td>1</td>\n",
              "      <td>0</td>\n",
              "      <td>0</td>\n",
              "      <td>0</td>\n",
              "      <td>0</td>\n",
              "      <td>0</td>\n",
              "      <td>0</td>\n",
              "      <td>0</td>\n",
              "      <td>1</td>\n",
              "      <td>0</td>\n",
              "      <td>0</td>\n",
              "      <td>0</td>\n",
              "      <td>0</td>\n",
              "      <td>0</td>\n",
              "      <td>1</td>\n",
              "      <td>0</td>\n",
              "      <td>0</td>\n",
              "      <td>...</td>\n",
              "      <td>17</td>\n",
              "      <td>16.5</td>\n",
              "      <td>1</td>\n",
              "      <td>0</td>\n",
              "      <td>0</td>\n",
              "      <td>0</td>\n",
              "      <td>0</td>\n",
              "      <td>0</td>\n",
              "      <td>0</td>\n",
              "      <td>0</td>\n",
              "      <td>0</td>\n",
              "      <td>2</td>\n",
              "      <td>1.5</td>\n",
              "      <td>1</td>\n",
              "      <td>0</td>\n",
              "      <td>0</td>\n",
              "      <td>0</td>\n",
              "      <td>0</td>\n",
              "      <td>1</td>\n",
              "      <td>0</td>\n",
              "      <td>1</td>\n",
              "      <td>2</td>\n",
              "      <td>1</td>\n",
              "      <td>0</td>\n",
              "      <td>0</td>\n",
              "      <td>0</td>\n",
              "      <td>0</td>\n",
              "      <td>0</td>\n",
              "      <td>1</td>\n",
              "      <td>0</td>\n",
              "      <td>4</td>\n",
              "      <td>0</td>\n",
              "      <td>16</td>\n",
              "      <td>9</td>\n",
              "      <td>0</td>\n",
              "      <td>1</td>\n",
              "      <td>2.25</td>\n",
              "      <td>0.25</td>\n",
              "      <td>272.25</td>\n",
              "      <td>16</td>\n",
              "    </tr>\n",
              "    <tr>\n",
              "      <th>1</th>\n",
              "      <td>ID_1c78846d2</td>\n",
              "      <td>NaN</td>\n",
              "      <td>0</td>\n",
              "      <td>5</td>\n",
              "      <td>0</td>\n",
              "      <td>1</td>\n",
              "      <td>1</td>\n",
              "      <td>0</td>\n",
              "      <td>NaN</td>\n",
              "      <td>1</td>\n",
              "      <td>1</td>\n",
              "      <td>2</td>\n",
              "      <td>0</td>\n",
              "      <td>1</td>\n",
              "      <td>1</td>\n",
              "      <td>1</td>\n",
              "      <td>2</td>\n",
              "      <td>3</td>\n",
              "      <td>3</td>\n",
              "      <td>3</td>\n",
              "      <td>16</td>\n",
              "      <td>NaN</td>\n",
              "      <td>3</td>\n",
              "      <td>1</td>\n",
              "      <td>0</td>\n",
              "      <td>0</td>\n",
              "      <td>0</td>\n",
              "      <td>0</td>\n",
              "      <td>0</td>\n",
              "      <td>0</td>\n",
              "      <td>0</td>\n",
              "      <td>1</td>\n",
              "      <td>0</td>\n",
              "      <td>0</td>\n",
              "      <td>0</td>\n",
              "      <td>0</td>\n",
              "      <td>0</td>\n",
              "      <td>1</td>\n",
              "      <td>0</td>\n",
              "      <td>0</td>\n",
              "      <td>...</td>\n",
              "      <td>17</td>\n",
              "      <td>16.5</td>\n",
              "      <td>0</td>\n",
              "      <td>0</td>\n",
              "      <td>0</td>\n",
              "      <td>0</td>\n",
              "      <td>0</td>\n",
              "      <td>0</td>\n",
              "      <td>0</td>\n",
              "      <td>1</td>\n",
              "      <td>0</td>\n",
              "      <td>2</td>\n",
              "      <td>1.5</td>\n",
              "      <td>1</td>\n",
              "      <td>0</td>\n",
              "      <td>0</td>\n",
              "      <td>0</td>\n",
              "      <td>0</td>\n",
              "      <td>1</td>\n",
              "      <td>0</td>\n",
              "      <td>1</td>\n",
              "      <td>2</td>\n",
              "      <td>1</td>\n",
              "      <td>0</td>\n",
              "      <td>0</td>\n",
              "      <td>0</td>\n",
              "      <td>0</td>\n",
              "      <td>0</td>\n",
              "      <td>1</td>\n",
              "      <td>0</td>\n",
              "      <td>41</td>\n",
              "      <td>256</td>\n",
              "      <td>1681</td>\n",
              "      <td>9</td>\n",
              "      <td>0</td>\n",
              "      <td>1</td>\n",
              "      <td>2.25</td>\n",
              "      <td>0.25</td>\n",
              "      <td>272.25</td>\n",
              "      <td>1681</td>\n",
              "    </tr>\n",
              "    <tr>\n",
              "      <th>2</th>\n",
              "      <td>ID_e5442cf6a</td>\n",
              "      <td>NaN</td>\n",
              "      <td>0</td>\n",
              "      <td>5</td>\n",
              "      <td>0</td>\n",
              "      <td>1</td>\n",
              "      <td>1</td>\n",
              "      <td>0</td>\n",
              "      <td>NaN</td>\n",
              "      <td>1</td>\n",
              "      <td>1</td>\n",
              "      <td>2</td>\n",
              "      <td>0</td>\n",
              "      <td>1</td>\n",
              "      <td>1</td>\n",
              "      <td>1</td>\n",
              "      <td>2</td>\n",
              "      <td>3</td>\n",
              "      <td>3</td>\n",
              "      <td>3</td>\n",
              "      <td>17</td>\n",
              "      <td>NaN</td>\n",
              "      <td>3</td>\n",
              "      <td>1</td>\n",
              "      <td>0</td>\n",
              "      <td>0</td>\n",
              "      <td>0</td>\n",
              "      <td>0</td>\n",
              "      <td>0</td>\n",
              "      <td>0</td>\n",
              "      <td>0</td>\n",
              "      <td>1</td>\n",
              "      <td>0</td>\n",
              "      <td>0</td>\n",
              "      <td>0</td>\n",
              "      <td>0</td>\n",
              "      <td>0</td>\n",
              "      <td>1</td>\n",
              "      <td>0</td>\n",
              "      <td>0</td>\n",
              "      <td>...</td>\n",
              "      <td>17</td>\n",
              "      <td>16.5</td>\n",
              "      <td>0</td>\n",
              "      <td>0</td>\n",
              "      <td>0</td>\n",
              "      <td>0</td>\n",
              "      <td>0</td>\n",
              "      <td>0</td>\n",
              "      <td>0</td>\n",
              "      <td>0</td>\n",
              "      <td>1</td>\n",
              "      <td>2</td>\n",
              "      <td>1.5</td>\n",
              "      <td>1</td>\n",
              "      <td>0</td>\n",
              "      <td>0</td>\n",
              "      <td>0</td>\n",
              "      <td>0</td>\n",
              "      <td>1</td>\n",
              "      <td>0</td>\n",
              "      <td>1</td>\n",
              "      <td>2</td>\n",
              "      <td>1</td>\n",
              "      <td>0</td>\n",
              "      <td>0</td>\n",
              "      <td>0</td>\n",
              "      <td>0</td>\n",
              "      <td>0</td>\n",
              "      <td>1</td>\n",
              "      <td>0</td>\n",
              "      <td>41</td>\n",
              "      <td>289</td>\n",
              "      <td>1681</td>\n",
              "      <td>9</td>\n",
              "      <td>0</td>\n",
              "      <td>1</td>\n",
              "      <td>2.25</td>\n",
              "      <td>0.25</td>\n",
              "      <td>272.25</td>\n",
              "      <td>1681</td>\n",
              "    </tr>\n",
              "    <tr>\n",
              "      <th>3</th>\n",
              "      <td>ID_a8db26a79</td>\n",
              "      <td>NaN</td>\n",
              "      <td>0</td>\n",
              "      <td>14</td>\n",
              "      <td>0</td>\n",
              "      <td>1</td>\n",
              "      <td>1</td>\n",
              "      <td>1</td>\n",
              "      <td>1.0</td>\n",
              "      <td>0</td>\n",
              "      <td>1</td>\n",
              "      <td>1</td>\n",
              "      <td>0</td>\n",
              "      <td>0</td>\n",
              "      <td>0</td>\n",
              "      <td>0</td>\n",
              "      <td>1</td>\n",
              "      <td>1</td>\n",
              "      <td>1</td>\n",
              "      <td>1</td>\n",
              "      <td>16</td>\n",
              "      <td>NaN</td>\n",
              "      <td>1</td>\n",
              "      <td>1</td>\n",
              "      <td>0</td>\n",
              "      <td>0</td>\n",
              "      <td>0</td>\n",
              "      <td>0</td>\n",
              "      <td>0</td>\n",
              "      <td>0</td>\n",
              "      <td>0</td>\n",
              "      <td>1</td>\n",
              "      <td>0</td>\n",
              "      <td>0</td>\n",
              "      <td>0</td>\n",
              "      <td>0</td>\n",
              "      <td>0</td>\n",
              "      <td>1</td>\n",
              "      <td>0</td>\n",
              "      <td>0</td>\n",
              "      <td>...</td>\n",
              "      <td>no</td>\n",
              "      <td>16.0</td>\n",
              "      <td>0</td>\n",
              "      <td>0</td>\n",
              "      <td>0</td>\n",
              "      <td>0</td>\n",
              "      <td>0</td>\n",
              "      <td>0</td>\n",
              "      <td>0</td>\n",
              "      <td>1</td>\n",
              "      <td>0</td>\n",
              "      <td>1</td>\n",
              "      <td>1.0</td>\n",
              "      <td>1</td>\n",
              "      <td>0</td>\n",
              "      <td>0</td>\n",
              "      <td>0</td>\n",
              "      <td>0</td>\n",
              "      <td>1</td>\n",
              "      <td>0</td>\n",
              "      <td>1</td>\n",
              "      <td>2</td>\n",
              "      <td>1</td>\n",
              "      <td>0</td>\n",
              "      <td>0</td>\n",
              "      <td>0</td>\n",
              "      <td>0</td>\n",
              "      <td>0</td>\n",
              "      <td>1</td>\n",
              "      <td>0</td>\n",
              "      <td>59</td>\n",
              "      <td>256</td>\n",
              "      <td>3481</td>\n",
              "      <td>1</td>\n",
              "      <td>256</td>\n",
              "      <td>0</td>\n",
              "      <td>1.00</td>\n",
              "      <td>0.00</td>\n",
              "      <td>256.00</td>\n",
              "      <td>3481</td>\n",
              "    </tr>\n",
              "    <tr>\n",
              "      <th>4</th>\n",
              "      <td>ID_a62966799</td>\n",
              "      <td>175000.0</td>\n",
              "      <td>0</td>\n",
              "      <td>4</td>\n",
              "      <td>0</td>\n",
              "      <td>1</td>\n",
              "      <td>1</td>\n",
              "      <td>1</td>\n",
              "      <td>1.0</td>\n",
              "      <td>0</td>\n",
              "      <td>0</td>\n",
              "      <td>0</td>\n",
              "      <td>0</td>\n",
              "      <td>1</td>\n",
              "      <td>1</td>\n",
              "      <td>0</td>\n",
              "      <td>1</td>\n",
              "      <td>1</td>\n",
              "      <td>1</td>\n",
              "      <td>1</td>\n",
              "      <td>11</td>\n",
              "      <td>NaN</td>\n",
              "      <td>1</td>\n",
              "      <td>1</td>\n",
              "      <td>0</td>\n",
              "      <td>0</td>\n",
              "      <td>0</td>\n",
              "      <td>0</td>\n",
              "      <td>0</td>\n",
              "      <td>0</td>\n",
              "      <td>0</td>\n",
              "      <td>1</td>\n",
              "      <td>0</td>\n",
              "      <td>0</td>\n",
              "      <td>0</td>\n",
              "      <td>0</td>\n",
              "      <td>0</td>\n",
              "      <td>1</td>\n",
              "      <td>0</td>\n",
              "      <td>0</td>\n",
              "      <td>...</td>\n",
              "      <td>11</td>\n",
              "      <td>NaN</td>\n",
              "      <td>0</td>\n",
              "      <td>0</td>\n",
              "      <td>0</td>\n",
              "      <td>0</td>\n",
              "      <td>1</td>\n",
              "      <td>0</td>\n",
              "      <td>0</td>\n",
              "      <td>0</td>\n",
              "      <td>0</td>\n",
              "      <td>2</td>\n",
              "      <td>0.5</td>\n",
              "      <td>0</td>\n",
              "      <td>0</td>\n",
              "      <td>1</td>\n",
              "      <td>0</td>\n",
              "      <td>0</td>\n",
              "      <td>0</td>\n",
              "      <td>0</td>\n",
              "      <td>1</td>\n",
              "      <td>1</td>\n",
              "      <td>1</td>\n",
              "      <td>0</td>\n",
              "      <td>0</td>\n",
              "      <td>0</td>\n",
              "      <td>0</td>\n",
              "      <td>0</td>\n",
              "      <td>1</td>\n",
              "      <td>0</td>\n",
              "      <td>18</td>\n",
              "      <td>121</td>\n",
              "      <td>324</td>\n",
              "      <td>1</td>\n",
              "      <td>0</td>\n",
              "      <td>1</td>\n",
              "      <td>0.25</td>\n",
              "      <td>64.00</td>\n",
              "      <td>NaN</td>\n",
              "      <td>324</td>\n",
              "    </tr>\n",
              "  </tbody>\n",
              "</table>\n",
              "<p>5 rows × 142 columns</p>\n",
              "</div>"
            ],
            "text/plain": [
              "             Id      v2a1  hacdor  ...  SQBdependency  SQBmeaned  agesq\n",
              "0  ID_2f6873615       NaN       0  ...           0.25     272.25     16\n",
              "1  ID_1c78846d2       NaN       0  ...           0.25     272.25   1681\n",
              "2  ID_e5442cf6a       NaN       0  ...           0.25     272.25   1681\n",
              "3  ID_a8db26a79       NaN       0  ...           0.00     256.00   3481\n",
              "4  ID_a62966799  175000.0       0  ...          64.00        NaN    324\n",
              "\n",
              "[5 rows x 142 columns]"
            ]
          },
          "metadata": {
            "tags": []
          },
          "execution_count": 11
        }
      ]
    },
    {
      "cell_type": "markdown",
      "metadata": {
        "id": "C0VJSao-wfKc",
        "colab_type": "text"
      },
      "source": [
        "\n",
        "1.2 Make description df\n",
        "---\n",
        "\n"
      ]
    },
    {
      "cell_type": "code",
      "metadata": {
        "id": "kN5jDqxmiOHE",
        "colab_type": "code",
        "colab": {}
      },
      "source": [
        "description = [\n",
        "(\"v2a1\",\" Monthly rent payment\"),\n",
        "(\"hacdor\",\" =1 Overcrowding by bedrooms\"),\n",
        "(\"rooms\",\"  number of all rooms in the house\"),\n",
        "(\"hacapo\",\" =1 Overcrowding by rooms\"),\n",
        "(\"v14a\",\" =1 has toilet in the household\"),\n",
        "(\"refrig\",\" =1 if the household has refrigerator\"),\n",
        "(\"v18q\",\" owns a tablet\"),\n",
        "(\"v18q1\",\" number of tablets household owns\"),\n",
        "(\"r4h1\",\" Males younger than 12 years of age\"),\n",
        "(\"r4h2\",\" Males 12 years of age and older\"),\n",
        "(\"r4h3\",\" Total males in the household\"),\n",
        "(\"r4m1\",\" Females younger than 12 years of age\"),\n",
        "(\"r4m2\",\" Females 12 years of age and older\"),\n",
        "(\"r4m3\",\" Total females in the household\"),\n",
        "(\"r4t1\",\" persons younger than 12 years of age\"),\n",
        "(\"r4t2\",\" persons 12 years of age and older\"),\n",
        "(\"r4t3\",\" Total persons in the household\"),\n",
        "(\"tamhog\",\" size of the household\"),\n",
        "(\"tamviv\",\" number of persons living in the household\"),\n",
        "(\"escolari\",\" years of schooling\"),\n",
        "(\"rez_esc\",\" Years behind in school\"),\n",
        "(\"hhsize\",\" household size\"),\n",
        "(\"paredblolad\",\" =1 if predominant material on the outside wall is block or brick\"),\n",
        "(\"paredzocalo\",\" =1 if predominant material on the outside wall is socket (wood, zinc or absbesto\"),\n",
        "(\"paredpreb\",\" =1 if predominant material on the outside wall is prefabricated or cement\"),\n",
        "(\"pareddes\",\" =1 if predominant material on the outside wall is waste material\"),\n",
        "(\"paredmad\",\" =1 if predominant material on the outside wall is wood\"),\n",
        "(\"paredzinc\",\" =1 if predominant material on the outside wall is zink\"),\n",
        "(\"paredfibras\",\" =1 if predominant material on the outside wall is natural fibers\"),\n",
        "(\"paredother\",\" =1 if predominant material on the outside wall is other\"),\n",
        "(\"pisomoscer\",\" =1 if predominant material on the floor is mosaic ceramic   terrazo\"),\n",
        "(\"pisocemento\",\" =1 if predominant material on the floor is cement\"),\n",
        "(\"pisoother\",\" =1 if predominant material on the floor is other\"),\n",
        "(\"pisonatur\",\" =1 if predominant material on the floor is  natural material\"),\n",
        "(\"pisonotiene\",\" =1 if no floor at the household\"),\n",
        "(\"pisomadera\",\" =1 if predominant material on the floor is wood\"),\n",
        "(\"techozinc\",\" =1 if predominant material on the roof is metal foil or zink\"),\n",
        "(\"techoentrepiso\",\" =1 if predominant material on the roof is fiber cement,   mezzanine \"),\n",
        "(\"techocane\",\" =1 if predominant material on the roof is natural fibers\"),\n",
        "(\"techootro\",\" =1 if predominant material on the roof is other\"),\n",
        "(\"cielorazo\",\" =1 if the house has ceiling\"),\n",
        "(\"abastaguadentro\",\" =1 if water provision inside the dwelling\"),\n",
        "(\"abastaguafuera\",\" =1 if water provision outside the dwelling\"),\n",
        "(\"abastaguano\",\" =1 if no water provision\"),\n",
        "(\"public\",\" =1 electricity from CNFL,  ICE, ESPH/JASEC\"),\n",
        "(\"planpri\",\" =1 electricity from private plant\"),\n",
        "(\"noelec\",\" =1 no electricity in the dwelling\"),\n",
        "(\"coopele\",\" =1 electricity from cooperative\"),\n",
        "(\"sanitario1\",\" =1 no toilet in the dwelling\"),\n",
        "(\"sanitario2\",\" =1 toilet connected to sewer or cesspool\"),\n",
        "(\"sanitario3\",\" =1 toilet connected to  septic tank\"),\n",
        "(\"sanitario5\",\" =1 toilet connected to black hole or letrine\"),\n",
        "(\"sanitario6\",\" =1 toilet connected to other system\"),\n",
        "(\"energcocinar1\",\" =1 no main source of energy used for cooking (no kitchen)\"),\n",
        "(\"energcocinar2\",\" =1 main source of energy used for cooking electricity\"),\n",
        "(\"energcocinar3\",\" =1 main source of energy used for cooking gas\"),\n",
        "(\"energcocinar4\",\" =1 main source of energy used for cooking wood charcoal\"),\n",
        "(\"elimbasu1\",\" =1 if rubbish disposal mainly by tanker truck\"),\n",
        "(\"elimbasu2\",\" =1 if rubbish disposal mainly by botan hollow or buried\"),\n",
        "(\"elimbasu3\",\" =1 if rubbish disposal mainly by burning\"),\n",
        "(\"elimbasu4\",\" =1 if rubbish disposal mainly by throwing in an unoccupied space\"),\n",
        "(\"elimbasu5\",\" =1 if rubbish disposal mainly by throwing in river,   creek or sea\"),\n",
        "(\"elimbasu6\",\" =1 if rubbish disposal mainly other\"),\n",
        "(\"epared1\",\" =1 if walls are bad\"),\n",
        "(\"epared2\",\" =1 if walls are regular\"),\n",
        "(\"epared3\",\" =1 if walls are good\"),\n",
        "(\"etecho1\",\" =1 if roof are bad\"),\n",
        "(\"etecho2\",\" =1 if roof are regular\"),\n",
        "(\"etecho3\",\" =1 if roof are good\"),\n",
        "(\"eviv1\",\" =1 if floor are bad\"),\n",
        "(\"eviv2\",\" =1 if floor are regular\"),\n",
        "(\"eviv3\",\" =1 if floor are good\"),\n",
        "(\"dis\",\" =1 if disable person\"),\n",
        "(\"male\",\" =1 if male\"),\n",
        "(\"female\",\" =1 if female\"),\n",
        "(\"estadocivil1\",\" =1 if less than 10 years old\"),\n",
        "(\"estadocivil2\",\" =1 if free or coupled uunion\"),\n",
        "(\"estadocivil3\",\" =1 if married\"),\n",
        "(\"estadocivil4\",\" =1 if divorced\"),\n",
        "(\"estadocivil5\",\" =1 if separated\"),\n",
        "(\"estadocivil6\",\" =1 if widow/er\"),\n",
        "(\"estadocivil7\",\" =1 if single\"),\n",
        "(\"parentesco1\",\" =1 if household head\"),\n",
        "(\"parentesco2\",\" =1 if spouse/partner\"),\n",
        "(\"parentesco3\",\" =1 if son/doughter\"),\n",
        "(\"parentesco4\",\" =1 if stepson/doughter\"),\n",
        "(\"parentesco5\",\" =1 if son/doughter in law\"),\n",
        "(\"parentesco6\",\" =1 if grandson/doughter\"),\n",
        "(\"parentesco7\",\" =1 if mother/father\"),\n",
        "(\"parentesco8\",\" =1 if father/mother in law\"),\n",
        "(\"parentesco9\",\" =1 if brother/sister\"),\n",
        "(\"parentesco10\",\" =1 if brother/sister in law\"),\n",
        "(\"parentesco11\",\" =1 if other family member\"),\n",
        "(\"parentesco12\",\" =1 if other non family member\"),\n",
        "(\"idhogar\",\" Household level identifier\"),\n",
        "(\"hogar_nin\",\" Number of children 0 to 19 in household\"),\n",
        "(\"hogar_adul\",\" Number of adults in household\"),\n",
        "(\"hogar_mayor\",\" # of individuals 65+ in the household\"),\n",
        "(\"hogar_total\",\" # of total individuals in the household\"),\n",
        "(\"dependency\",\" Dependency rate\"),\n",
        "(\"edjefe\",\" years of education of male head of household\"),\n",
        "(\"edjefa\",\" years of education of female head of household\"),\n",
        "(\"meaneduc\",\"average years of education for adults (18+)\"),\n",
        "(\"instlevel1\",\" =1 no level of education\"),\n",
        "(\"instlevel2\",\" =1 incomplete primary\"),\n",
        "(\"instlevel3\",\" =1 complete primary\"),\n",
        "(\"instlevel4\",\" =1 incomplete academic secondary level\"),\n",
        "(\"instlevel5\",\" =1 complete academic secondary level\"),\n",
        "(\"instlevel6\",\" =1 incomplete technical secondary level\"),\n",
        "(\"instlevel7\",\" =1 complete technical secondary level\"),\n",
        "(\"instlevel8\",\" =1 undergraduate and higher education\"),\n",
        "(\"instlevel9\",\" =1 postgraduate higher education\"),\n",
        "(\"bedrooms\",\" number of bedrooms\"),\n",
        "(\"overcrowding\",\" # persons per room\"),\n",
        "(\"tipovivi1\",\" =1 own and fully paid house\"),\n",
        "(\"tipovivi2\",\" =1 own,   paying in installments\"),\n",
        "(\"tipovivi3\",\" =1 rented\"),\n",
        "(\"tipovivi4\",\" =1 precarious\"),\n",
        "(\"tipovivi5\",\" =1 other(assigned\"),\n",
        "(\"computer\",\" =1 if the household has notebook or desktop computer,   borrowed)\"),\n",
        "(\"television\",\" =1 if the household has TV\"),\n",
        "(\"mobilephone\",\" =1 if mobile phone\"),\n",
        "(\"qmobilephone\",\" # of mobile phones\"),\n",
        "(\"lugar1\",\" =1 region Central\"),\n",
        "(\"lugar2\",\" =1 region Chorotega\"),\n",
        "(\"lugar3\",\" =1 region PacÃƒÂ­fico central\"),\n",
        "(\"lugar4\",\" =1 region Brunca\"),\n",
        "(\"lugar5\",\" =1 region Huetar AtlÃƒÂ¡ntica\"),\n",
        "(\"lugar6\",\" =1 region Huetar Norte\"),\n",
        "(\"area1\",\" =1 zona urbana\"),\n",
        "(\"area2\",\" =2 zona rural\"),\n",
        "(\"age\",\" Age in years\"),\n",
        "(\"SQBescolari\",\" escolari squared\"),\n",
        "(\"SQBage\",\" age squared\"),\n",
        "(\"SQBhogar_total\",\" hogar_total squared\"),\n",
        "(\"SQBedjefe\",\" edjefe squared\"),\n",
        "(\"SQBhogar_nin\",\" hogar_nin squared\"),\n",
        "(\"SQBovercrowding\",\" overcrowding squared\"),\n",
        "(\"SQBdependency\",\" dependency squared\"),\n",
        "(\"SQBmeaned\",\" meaned squared\"),\n",
        "(\"agesq\",\" Age squared\"),]\n",
        "\n",
        "description = pd.DataFrame(description, columns=['varname', 'description'])"
      ],
      "execution_count": 0,
      "outputs": []
    },
    {
      "cell_type": "code",
      "metadata": {
        "id": "7WpyxwrkiOEC",
        "colab_type": "code",
        "outputId": "054f3a09-a9dd-490f-bbc0-3a32a16e1ce2",
        "colab": {
          "base_uri": "https://localhost:8080/"
        }
      },
      "source": [
        "description"
      ],
      "execution_count": 0,
      "outputs": [
        {
          "output_type": "execute_result",
          "data": {
            "text/html": [
              "<div>\n",
              "<style scoped>\n",
              "    .dataframe tbody tr th:only-of-type {\n",
              "        vertical-align: middle;\n",
              "    }\n",
              "\n",
              "    .dataframe tbody tr th {\n",
              "        vertical-align: top;\n",
              "    }\n",
              "\n",
              "    .dataframe thead th {\n",
              "        text-align: right;\n",
              "    }\n",
              "</style>\n",
              "<table border=\"1\" class=\"dataframe\">\n",
              "  <thead>\n",
              "    <tr style=\"text-align: right;\">\n",
              "      <th></th>\n",
              "      <th>varname</th>\n",
              "      <th>description</th>\n",
              "    </tr>\n",
              "  </thead>\n",
              "  <tbody>\n",
              "    <tr>\n",
              "      <th>0</th>\n",
              "      <td>v2a1</td>\n",
              "      <td>Monthly rent payment</td>\n",
              "    </tr>\n",
              "    <tr>\n",
              "      <th>1</th>\n",
              "      <td>hacdor</td>\n",
              "      <td>=1 Overcrowding by bedrooms</td>\n",
              "    </tr>\n",
              "    <tr>\n",
              "      <th>2</th>\n",
              "      <td>rooms</td>\n",
              "      <td>number of all rooms in the house</td>\n",
              "    </tr>\n",
              "    <tr>\n",
              "      <th>3</th>\n",
              "      <td>hacapo</td>\n",
              "      <td>=1 Overcrowding by rooms</td>\n",
              "    </tr>\n",
              "    <tr>\n",
              "      <th>4</th>\n",
              "      <td>v14a</td>\n",
              "      <td>=1 has toilet in the household</td>\n",
              "    </tr>\n",
              "    <tr>\n",
              "      <th>5</th>\n",
              "      <td>refrig</td>\n",
              "      <td>=1 if the household has refrigerator</td>\n",
              "    </tr>\n",
              "    <tr>\n",
              "      <th>6</th>\n",
              "      <td>v18q</td>\n",
              "      <td>owns a tablet</td>\n",
              "    </tr>\n",
              "    <tr>\n",
              "      <th>7</th>\n",
              "      <td>v18q1</td>\n",
              "      <td>number of tablets household owns</td>\n",
              "    </tr>\n",
              "    <tr>\n",
              "      <th>8</th>\n",
              "      <td>r4h1</td>\n",
              "      <td>Males younger than 12 years of age</td>\n",
              "    </tr>\n",
              "    <tr>\n",
              "      <th>9</th>\n",
              "      <td>r4h2</td>\n",
              "      <td>Males 12 years of age and older</td>\n",
              "    </tr>\n",
              "    <tr>\n",
              "      <th>10</th>\n",
              "      <td>r4h3</td>\n",
              "      <td>Total males in the household</td>\n",
              "    </tr>\n",
              "    <tr>\n",
              "      <th>11</th>\n",
              "      <td>r4m1</td>\n",
              "      <td>Females younger than 12 years of age</td>\n",
              "    </tr>\n",
              "    <tr>\n",
              "      <th>12</th>\n",
              "      <td>r4m2</td>\n",
              "      <td>Females 12 years of age and older</td>\n",
              "    </tr>\n",
              "    <tr>\n",
              "      <th>13</th>\n",
              "      <td>r4m3</td>\n",
              "      <td>Total females in the household</td>\n",
              "    </tr>\n",
              "    <tr>\n",
              "      <th>14</th>\n",
              "      <td>r4t1</td>\n",
              "      <td>persons younger than 12 years of age</td>\n",
              "    </tr>\n",
              "    <tr>\n",
              "      <th>15</th>\n",
              "      <td>r4t2</td>\n",
              "      <td>persons 12 years of age and older</td>\n",
              "    </tr>\n",
              "    <tr>\n",
              "      <th>16</th>\n",
              "      <td>r4t3</td>\n",
              "      <td>Total persons in the household</td>\n",
              "    </tr>\n",
              "    <tr>\n",
              "      <th>17</th>\n",
              "      <td>tamhog</td>\n",
              "      <td>size of the household</td>\n",
              "    </tr>\n",
              "    <tr>\n",
              "      <th>18</th>\n",
              "      <td>tamviv</td>\n",
              "      <td>number of persons living in the household</td>\n",
              "    </tr>\n",
              "    <tr>\n",
              "      <th>19</th>\n",
              "      <td>escolari</td>\n",
              "      <td>years of schooling</td>\n",
              "    </tr>\n",
              "    <tr>\n",
              "      <th>20</th>\n",
              "      <td>rez_esc</td>\n",
              "      <td>Years behind in school</td>\n",
              "    </tr>\n",
              "    <tr>\n",
              "      <th>21</th>\n",
              "      <td>hhsize</td>\n",
              "      <td>household size</td>\n",
              "    </tr>\n",
              "    <tr>\n",
              "      <th>22</th>\n",
              "      <td>paredblolad</td>\n",
              "      <td>=1 if predominant material on the outside wal...</td>\n",
              "    </tr>\n",
              "    <tr>\n",
              "      <th>23</th>\n",
              "      <td>paredzocalo</td>\n",
              "      <td>=1 if predominant material on the outside wal...</td>\n",
              "    </tr>\n",
              "    <tr>\n",
              "      <th>24</th>\n",
              "      <td>paredpreb</td>\n",
              "      <td>=1 if predominant material on the outside wal...</td>\n",
              "    </tr>\n",
              "    <tr>\n",
              "      <th>25</th>\n",
              "      <td>pareddes</td>\n",
              "      <td>=1 if predominant material on the outside wal...</td>\n",
              "    </tr>\n",
              "    <tr>\n",
              "      <th>26</th>\n",
              "      <td>paredmad</td>\n",
              "      <td>=1 if predominant material on the outside wal...</td>\n",
              "    </tr>\n",
              "    <tr>\n",
              "      <th>27</th>\n",
              "      <td>paredzinc</td>\n",
              "      <td>=1 if predominant material on the outside wal...</td>\n",
              "    </tr>\n",
              "    <tr>\n",
              "      <th>28</th>\n",
              "      <td>paredfibras</td>\n",
              "      <td>=1 if predominant material on the outside wal...</td>\n",
              "    </tr>\n",
              "    <tr>\n",
              "      <th>29</th>\n",
              "      <td>paredother</td>\n",
              "      <td>=1 if predominant material on the outside wal...</td>\n",
              "    </tr>\n",
              "    <tr>\n",
              "      <th>...</th>\n",
              "      <td>...</td>\n",
              "      <td>...</td>\n",
              "    </tr>\n",
              "    <tr>\n",
              "      <th>111</th>\n",
              "      <td>instlevel9</td>\n",
              "      <td>=1 postgraduate higher education</td>\n",
              "    </tr>\n",
              "    <tr>\n",
              "      <th>112</th>\n",
              "      <td>bedrooms</td>\n",
              "      <td>number of bedrooms</td>\n",
              "    </tr>\n",
              "    <tr>\n",
              "      <th>113</th>\n",
              "      <td>overcrowding</td>\n",
              "      <td># persons per room</td>\n",
              "    </tr>\n",
              "    <tr>\n",
              "      <th>114</th>\n",
              "      <td>tipovivi1</td>\n",
              "      <td>=1 own and fully paid house</td>\n",
              "    </tr>\n",
              "    <tr>\n",
              "      <th>115</th>\n",
              "      <td>tipovivi2</td>\n",
              "      <td>=1 own,   paying in installments</td>\n",
              "    </tr>\n",
              "    <tr>\n",
              "      <th>116</th>\n",
              "      <td>tipovivi3</td>\n",
              "      <td>=1 rented</td>\n",
              "    </tr>\n",
              "    <tr>\n",
              "      <th>117</th>\n",
              "      <td>tipovivi4</td>\n",
              "      <td>=1 precarious</td>\n",
              "    </tr>\n",
              "    <tr>\n",
              "      <th>118</th>\n",
              "      <td>tipovivi5</td>\n",
              "      <td>=1 other(assigned</td>\n",
              "    </tr>\n",
              "    <tr>\n",
              "      <th>119</th>\n",
              "      <td>computer</td>\n",
              "      <td>=1 if the household has notebook or desktop c...</td>\n",
              "    </tr>\n",
              "    <tr>\n",
              "      <th>120</th>\n",
              "      <td>television</td>\n",
              "      <td>=1 if the household has TV</td>\n",
              "    </tr>\n",
              "    <tr>\n",
              "      <th>121</th>\n",
              "      <td>mobilephone</td>\n",
              "      <td>=1 if mobile phone</td>\n",
              "    </tr>\n",
              "    <tr>\n",
              "      <th>122</th>\n",
              "      <td>qmobilephone</td>\n",
              "      <td># of mobile phones</td>\n",
              "    </tr>\n",
              "    <tr>\n",
              "      <th>123</th>\n",
              "      <td>lugar1</td>\n",
              "      <td>=1 region Central</td>\n",
              "    </tr>\n",
              "    <tr>\n",
              "      <th>124</th>\n",
              "      <td>lugar2</td>\n",
              "      <td>=1 region Chorotega</td>\n",
              "    </tr>\n",
              "    <tr>\n",
              "      <th>125</th>\n",
              "      <td>lugar3</td>\n",
              "      <td>=1 region PacÃƒÂ­fico central</td>\n",
              "    </tr>\n",
              "    <tr>\n",
              "      <th>126</th>\n",
              "      <td>lugar4</td>\n",
              "      <td>=1 region Brunca</td>\n",
              "    </tr>\n",
              "    <tr>\n",
              "      <th>127</th>\n",
              "      <td>lugar5</td>\n",
              "      <td>=1 region Huetar AtlÃƒÂ¡ntica</td>\n",
              "    </tr>\n",
              "    <tr>\n",
              "      <th>128</th>\n",
              "      <td>lugar6</td>\n",
              "      <td>=1 region Huetar Norte</td>\n",
              "    </tr>\n",
              "    <tr>\n",
              "      <th>129</th>\n",
              "      <td>area1</td>\n",
              "      <td>=1 zona urbana</td>\n",
              "    </tr>\n",
              "    <tr>\n",
              "      <th>130</th>\n",
              "      <td>area2</td>\n",
              "      <td>=2 zona rural</td>\n",
              "    </tr>\n",
              "    <tr>\n",
              "      <th>131</th>\n",
              "      <td>age</td>\n",
              "      <td>Age in years</td>\n",
              "    </tr>\n",
              "    <tr>\n",
              "      <th>132</th>\n",
              "      <td>SQBescolari</td>\n",
              "      <td>escolari squared</td>\n",
              "    </tr>\n",
              "    <tr>\n",
              "      <th>133</th>\n",
              "      <td>SQBage</td>\n",
              "      <td>age squared</td>\n",
              "    </tr>\n",
              "    <tr>\n",
              "      <th>134</th>\n",
              "      <td>SQBhogar_total</td>\n",
              "      <td>hogar_total squared</td>\n",
              "    </tr>\n",
              "    <tr>\n",
              "      <th>135</th>\n",
              "      <td>SQBedjefe</td>\n",
              "      <td>edjefe squared</td>\n",
              "    </tr>\n",
              "    <tr>\n",
              "      <th>136</th>\n",
              "      <td>SQBhogar_nin</td>\n",
              "      <td>hogar_nin squared</td>\n",
              "    </tr>\n",
              "    <tr>\n",
              "      <th>137</th>\n",
              "      <td>SQBovercrowding</td>\n",
              "      <td>overcrowding squared</td>\n",
              "    </tr>\n",
              "    <tr>\n",
              "      <th>138</th>\n",
              "      <td>SQBdependency</td>\n",
              "      <td>dependency squared</td>\n",
              "    </tr>\n",
              "    <tr>\n",
              "      <th>139</th>\n",
              "      <td>SQBmeaned</td>\n",
              "      <td>meaned squared</td>\n",
              "    </tr>\n",
              "    <tr>\n",
              "      <th>140</th>\n",
              "      <td>agesq</td>\n",
              "      <td>Age squared</td>\n",
              "    </tr>\n",
              "  </tbody>\n",
              "</table>\n",
              "<p>141 rows × 2 columns</p>\n",
              "</div>"
            ],
            "text/plain": [
              "             varname                                        description\n",
              "0               v2a1                               Monthly rent payment\n",
              "1             hacdor                        =1 Overcrowding by bedrooms\n",
              "2              rooms                   number of all rooms in the house\n",
              "3             hacapo                           =1 Overcrowding by rooms\n",
              "4               v14a                     =1 has toilet in the household\n",
              "5             refrig               =1 if the household has refrigerator\n",
              "6               v18q                                      owns a tablet\n",
              "7              v18q1                   number of tablets household owns\n",
              "8               r4h1                 Males younger than 12 years of age\n",
              "9               r4h2                    Males 12 years of age and older\n",
              "10              r4h3                       Total males in the household\n",
              "11              r4m1               Females younger than 12 years of age\n",
              "12              r4m2                  Females 12 years of age and older\n",
              "13              r4m3                     Total females in the household\n",
              "14              r4t1               persons younger than 12 years of age\n",
              "15              r4t2                  persons 12 years of age and older\n",
              "16              r4t3                     Total persons in the household\n",
              "17            tamhog                              size of the household\n",
              "18            tamviv          number of persons living in the household\n",
              "19          escolari                                 years of schooling\n",
              "20           rez_esc                             Years behind in school\n",
              "21            hhsize                                     household size\n",
              "22       paredblolad   =1 if predominant material on the outside wal...\n",
              "23       paredzocalo   =1 if predominant material on the outside wal...\n",
              "24         paredpreb   =1 if predominant material on the outside wal...\n",
              "25          pareddes   =1 if predominant material on the outside wal...\n",
              "26          paredmad   =1 if predominant material on the outside wal...\n",
              "27         paredzinc   =1 if predominant material on the outside wal...\n",
              "28       paredfibras   =1 if predominant material on the outside wal...\n",
              "29        paredother   =1 if predominant material on the outside wal...\n",
              "..               ...                                                ...\n",
              "111       instlevel9                   =1 postgraduate higher education\n",
              "112         bedrooms                                 number of bedrooms\n",
              "113     overcrowding                                 # persons per room\n",
              "114        tipovivi1                        =1 own and fully paid house\n",
              "115        tipovivi2                   =1 own,   paying in installments\n",
              "116        tipovivi3                                          =1 rented\n",
              "117        tipovivi4                                      =1 precarious\n",
              "118        tipovivi5                                  =1 other(assigned\n",
              "119         computer   =1 if the household has notebook or desktop c...\n",
              "120       television                         =1 if the household has TV\n",
              "121      mobilephone                                 =1 if mobile phone\n",
              "122     qmobilephone                                 # of mobile phones\n",
              "123           lugar1                                  =1 region Central\n",
              "124           lugar2                                =1 region Chorotega\n",
              "125           lugar3                      =1 region PacÃƒÂ­fico central\n",
              "126           lugar4                                   =1 region Brunca\n",
              "127           lugar5                      =1 region Huetar AtlÃƒÂ¡ntica\n",
              "128           lugar6                             =1 region Huetar Norte\n",
              "129            area1                                     =1 zona urbana\n",
              "130            area2                                      =2 zona rural\n",
              "131              age                                       Age in years\n",
              "132      SQBescolari                                   escolari squared\n",
              "133           SQBage                                        age squared\n",
              "134   SQBhogar_total                                hogar_total squared\n",
              "135        SQBedjefe                                     edjefe squared\n",
              "136     SQBhogar_nin                                  hogar_nin squared\n",
              "137  SQBovercrowding                               overcrowding squared\n",
              "138    SQBdependency                                 dependency squared\n",
              "139        SQBmeaned                                     meaned squared\n",
              "140            agesq                                        Age squared\n",
              "\n",
              "[141 rows x 2 columns]"
            ]
          },
          "metadata": {
            "tags": []
          },
          "execution_count": 13
        }
      ]
    },
    {
      "cell_type": "markdown",
      "metadata": {
        "id": "3tveKH61wzAP",
        "colab_type": "text"
      },
      "source": [
        "\n",
        "1.3 Check Null data\n",
        "---\n",
        "\n"
      ]
    },
    {
      "cell_type": "code",
      "metadata": {
        "id": "Aagb2hCGiN-z",
        "colab_type": "code",
        "outputId": "669b625d-8738-4dd9-cedb-c35f2360a6d6",
        "colab": {
          "base_uri": "https://localhost:8080/"
        }
      },
      "source": [
        "total = df_train.isnull().sum().sort_values(ascending = False)\n",
        "percent = 100* (df_train.isnull().sum() / df_train.isnull().count()).sort_values(ascending=False)\n",
        "missing_df = pd.concat([total, percent], axis=1, keys=['Total', 'Percent'])\n",
        "\n",
        "missing_df.head(20)\n"
      ],
      "execution_count": 0,
      "outputs": [
        {
          "output_type": "execute_result",
          "data": {
            "text/html": [
              "<div>\n",
              "<style scoped>\n",
              "    .dataframe tbody tr th:only-of-type {\n",
              "        vertical-align: middle;\n",
              "    }\n",
              "\n",
              "    .dataframe tbody tr th {\n",
              "        vertical-align: top;\n",
              "    }\n",
              "\n",
              "    .dataframe thead th {\n",
              "        text-align: right;\n",
              "    }\n",
              "</style>\n",
              "<table border=\"1\" class=\"dataframe\">\n",
              "  <thead>\n",
              "    <tr style=\"text-align: right;\">\n",
              "      <th></th>\n",
              "      <th>Total</th>\n",
              "      <th>Percent</th>\n",
              "    </tr>\n",
              "  </thead>\n",
              "  <tbody>\n",
              "    <tr>\n",
              "      <th>rez_esc</th>\n",
              "      <td>7928</td>\n",
              "      <td>82.954902</td>\n",
              "    </tr>\n",
              "    <tr>\n",
              "      <th>v18q1</th>\n",
              "      <td>7342</td>\n",
              "      <td>76.823271</td>\n",
              "    </tr>\n",
              "    <tr>\n",
              "      <th>v2a1</th>\n",
              "      <td>6860</td>\n",
              "      <td>71.779847</td>\n",
              "    </tr>\n",
              "    <tr>\n",
              "      <th>meaneduc</th>\n",
              "      <td>5</td>\n",
              "      <td>0.052318</td>\n",
              "    </tr>\n",
              "    <tr>\n",
              "      <th>SQBmeaned</th>\n",
              "      <td>5</td>\n",
              "      <td>0.052318</td>\n",
              "    </tr>\n",
              "    <tr>\n",
              "      <th>techozinc</th>\n",
              "      <td>0</td>\n",
              "      <td>0.000000</td>\n",
              "    </tr>\n",
              "    <tr>\n",
              "      <th>techoentrepiso</th>\n",
              "      <td>0</td>\n",
              "      <td>0.000000</td>\n",
              "    </tr>\n",
              "    <tr>\n",
              "      <th>techocane</th>\n",
              "      <td>0</td>\n",
              "      <td>0.000000</td>\n",
              "    </tr>\n",
              "    <tr>\n",
              "      <th>techootro</th>\n",
              "      <td>0</td>\n",
              "      <td>0.000000</td>\n",
              "    </tr>\n",
              "    <tr>\n",
              "      <th>cielorazo</th>\n",
              "      <td>0</td>\n",
              "      <td>0.000000</td>\n",
              "    </tr>\n",
              "    <tr>\n",
              "      <th>abastaguadentro</th>\n",
              "      <td>0</td>\n",
              "      <td>0.000000</td>\n",
              "    </tr>\n",
              "    <tr>\n",
              "      <th>sanitario3</th>\n",
              "      <td>0</td>\n",
              "      <td>0.000000</td>\n",
              "    </tr>\n",
              "    <tr>\n",
              "      <th>abastaguafuera</th>\n",
              "      <td>0</td>\n",
              "      <td>0.000000</td>\n",
              "    </tr>\n",
              "    <tr>\n",
              "      <th>abastaguano</th>\n",
              "      <td>0</td>\n",
              "      <td>0.000000</td>\n",
              "    </tr>\n",
              "    <tr>\n",
              "      <th>public</th>\n",
              "      <td>0</td>\n",
              "      <td>0.000000</td>\n",
              "    </tr>\n",
              "    <tr>\n",
              "      <th>planpri</th>\n",
              "      <td>0</td>\n",
              "      <td>0.000000</td>\n",
              "    </tr>\n",
              "    <tr>\n",
              "      <th>noelec</th>\n",
              "      <td>0</td>\n",
              "      <td>0.000000</td>\n",
              "    </tr>\n",
              "    <tr>\n",
              "      <th>coopele</th>\n",
              "      <td>0</td>\n",
              "      <td>0.000000</td>\n",
              "    </tr>\n",
              "    <tr>\n",
              "      <th>sanitario1</th>\n",
              "      <td>0</td>\n",
              "      <td>0.000000</td>\n",
              "    </tr>\n",
              "    <tr>\n",
              "      <th>sanitario2</th>\n",
              "      <td>0</td>\n",
              "      <td>0.000000</td>\n",
              "    </tr>\n",
              "  </tbody>\n",
              "</table>\n",
              "</div>"
            ],
            "text/plain": [
              "                 Total    Percent\n",
              "rez_esc           7928  82.954902\n",
              "v18q1             7342  76.823271\n",
              "v2a1              6860  71.779847\n",
              "meaneduc             5   0.052318\n",
              "SQBmeaned            5   0.052318\n",
              "techozinc            0   0.000000\n",
              "techoentrepiso       0   0.000000\n",
              "techocane            0   0.000000\n",
              "techootro            0   0.000000\n",
              "cielorazo            0   0.000000\n",
              "abastaguadentro      0   0.000000\n",
              "sanitario3           0   0.000000\n",
              "abastaguafuera       0   0.000000\n",
              "abastaguano          0   0.000000\n",
              "public               0   0.000000\n",
              "planpri              0   0.000000\n",
              "noelec               0   0.000000\n",
              "coopele              0   0.000000\n",
              "sanitario1           0   0.000000\n",
              "sanitario2           0   0.000000"
            ]
          },
          "metadata": {
            "tags": []
          },
          "execution_count": 14
        }
      ]
    },
    {
      "cell_type": "markdown",
      "metadata": {
        "id": "okDkpXJfzN2q",
        "colab_type": "text"
      },
      "source": [
        "\n",
        "(+) Pandas Indexing practice\n",
        "---\n",
        "\n"
      ]
    },
    {
      "cell_type": "code",
      "metadata": {
        "id": "HnyoNOZWwcU_",
        "colab_type": "code",
        "outputId": "467d1053-c6bb-4058-abf4-9d6ed8dc9b4c",
        "colab": {
          "base_uri": "https://localhost:8080/",
          "height": 53
        }
      },
      "source": [
        "description.loc[description['varname'] == 'escolari', 'description']"
      ],
      "execution_count": 0,
      "outputs": [
        {
          "output_type": "execute_result",
          "data": {
            "text/plain": [
              "19     years of schooling\n",
              "Name: description, dtype: object"
            ]
          },
          "metadata": {
            "tags": []
          },
          "execution_count": 15
        }
      ]
    },
    {
      "cell_type": "code",
      "metadata": {
        "id": "goa3NXm3wcSP",
        "colab_type": "code",
        "outputId": "4d78b4fa-6ace-4917-ad83-8737a8917809",
        "colab": {
          "base_uri": "https://localhost:8080/",
          "height": 53
        }
      },
      "source": [
        "description[description['varname'] == 'edjefa']['description']"
      ],
      "execution_count": 0,
      "outputs": [
        {
          "output_type": "execute_result",
          "data": {
            "text/plain": [
              "101     years of education of female head of household\n",
              "Name: description, dtype: object"
            ]
          },
          "metadata": {
            "tags": []
          },
          "execution_count": 16
        }
      ]
    },
    {
      "cell_type": "code",
      "metadata": {
        "id": "zLN6IXuDzxej",
        "colab_type": "code",
        "outputId": "60b97ec9-7299-45c4-ce6b-a6687e7d5fd5",
        "colab": {
          "base_uri": "https://localhost:8080/",
          "height": 53
        }
      },
      "source": [
        "description[description['varname'] == 'edjefe']['description']"
      ],
      "execution_count": 0,
      "outputs": [
        {
          "output_type": "execute_result",
          "data": {
            "text/plain": [
              "100     years of education of male head of household\n",
              "Name: description, dtype: object"
            ]
          },
          "metadata": {
            "tags": []
          },
          "execution_count": 17
        }
      ]
    },
    {
      "cell_type": "markdown",
      "metadata": {
        "id": "CfvBLDeXyLEu",
        "colab_type": "text"
      },
      "source": [
        "\n",
        "1.4 Fill missing values\n",
        "---\n",
        "\n"
      ]
    },
    {
      "cell_type": "code",
      "metadata": {
        "id": "-5cR0d0X0YqK",
        "colab_type": "code",
        "outputId": "b961ce25-a233-44fa-f901-22d92175cc3a",
        "colab": {
          "base_uri": "https://localhost:8080/",
          "height": 35
        }
      },
      "source": [
        "df_train['edjefa'].nunique()"
      ],
      "execution_count": 0,
      "outputs": [
        {
          "output_type": "execute_result",
          "data": {
            "text/plain": [
              "22"
            ]
          },
          "metadata": {
            "tags": []
          },
          "execution_count": 18
        }
      ]
    },
    {
      "cell_type": "code",
      "metadata": {
        "id": "VgZYGLON0g7X",
        "colab_type": "code",
        "outputId": "a578ee3c-5912-4332-cef9-7430e10a9e33",
        "colab": {
          "base_uri": "https://localhost:8080/",
          "height": 35
        }
      },
      "source": [
        "df_train[df_train['edjefa'] == 'yes']['edjefa'].count()"
      ],
      "execution_count": 0,
      "outputs": [
        {
          "output_type": "execute_result",
          "data": {
            "text/plain": [
              "69"
            ]
          },
          "metadata": {
            "tags": []
          },
          "execution_count": 19
        }
      ]
    },
    {
      "cell_type": "code",
      "metadata": {
        "id": "cxaWNpWP20t6",
        "colab_type": "code",
        "outputId": "bfd8635e-8afd-4bf2-afce-167c029fc572",
        "colab": {
          "base_uri": "https://localhost:8080/",
          "height": 35
        }
      },
      "source": [
        "df_train[df_train['edjefa'] == 'no']['edjefa'].count()"
      ],
      "execution_count": 0,
      "outputs": [
        {
          "output_type": "execute_result",
          "data": {
            "text/plain": [
              "6230"
            ]
          },
          "metadata": {
            "tags": []
          },
          "execution_count": 20
        }
      ]
    },
    {
      "cell_type": "code",
      "metadata": {
        "id": "nTe-vQma2dex",
        "colab_type": "code",
        "outputId": "5047dba8-de44-4a86-bcf7-d90c815b961a",
        "colab": {
          "base_uri": "https://localhost:8080/",
          "height": 35
        }
      },
      "source": [
        "df_train.loc[(df_train['edjefa'] != \"yes\") & (df_train['edjefa'] != \"no\"), \"edjefa\"].nunique()"
      ],
      "execution_count": 0,
      "outputs": [
        {
          "output_type": "execute_result",
          "data": {
            "text/plain": [
              "20"
            ]
          },
          "metadata": {
            "tags": []
          },
          "execution_count": 21
        }
      ]
    },
    {
      "cell_type": "code",
      "metadata": {
        "id": "ZjNNaDfawcPY",
        "colab_type": "code",
        "colab": {}
      },
      "source": [
        "# edjefa 는 여자 edjefa 는 남자가 그 집안의 가장일 때 그 사람의 교육 수준. years 인데 왠진 몰라도 'yes' 'no' 가 있음\n",
        "df_train.loc[(df_train['edjefa'] == \"yes\") & (df_train['parentesco1'] == 1), \"edjefa\"] = df_train.loc[(df_train['edjefa'] == \"yes\") & (df_train['parentesco1'] == 1), \"escolari\"]\n",
        "df_train.loc[(df_train['edjefe'] == \"yes\") & (df_train['parentesco1'] == 1), \"edjefe\"] = df_train.loc[(df_train['edjefe'] == \"yes\") & (df_train['parentesco1'] == 1), \"escolari\"]\n",
        "\n",
        "df_test.loc[(df_test['edjefa'] == \"yes\") & (df_test['parentesco1'] == 1), \"edjefa\"] = df_test.loc[(df_test['edjefa'] == \"yes\") & (df_test['parentesco1'] == 1), \"escolari\"]\n",
        "df_test.loc[(df_test['edjefe'] == \"yes\") & (df_test['parentesco1'] == 1), \"edjefe\"] = df_test.loc[(df_test['edjefe'] == \"yes\") & (df_test['parentesco1'] == 1), \"escolari\"]"
      ],
      "execution_count": 0,
      "outputs": []
    },
    {
      "cell_type": "code",
      "metadata": {
        "id": "RK-36y2R2ZgS",
        "colab_type": "code",
        "colab": {}
      },
      "source": [
        "# 어떤기준인지 도저히 모르겠는데 yes 인 사람들을 그냥 4 로 바꿈\n",
        "df_train.loc[df_train['edjefa'] == \"yes\", \"edjefa\"] = 4\n",
        "df_train.loc[df_train['edjefe'] == \"yes\", \"edjefe\"] = 4\n",
        "\n",
        "df_test.loc[df_test['edjefa'] == \"yes\", \"edjefa\"] = 4\n",
        "df_test.loc[df_test['edjefe'] == \"yes\", \"edjefe\"] = 4"
      ],
      "execution_count": 0,
      "outputs": []
    },
    {
      "cell_type": "code",
      "metadata": {
        "id": "X4U0mUXz4mYh",
        "colab_type": "code",
        "colab": {}
      },
      "source": [
        "df_train['edjef'] = np.max(df_train[['edjefa','edjefe']], axis=1)\n",
        "df_test['edjef'] = np.max(df_test[['edjefa','edjefe']], axis=1)"
      ],
      "execution_count": 0,
      "outputs": []
    },
    {
      "cell_type": "markdown",
      "metadata": {
        "id": "HXHrvFcU46X3",
        "colab_type": "text"
      },
      "source": [
        "no water = no toilet"
      ]
    },
    {
      "cell_type": "code",
      "metadata": {
        "id": "f2YL61Rj5CZd",
        "colab_type": "code",
        "outputId": "8f347fe9-dcc0-49c8-fe73-054ee614fcf6",
        "colab": {
          "base_uri": "https://localhost:8080/",
          "height": 53
        }
      },
      "source": [
        "description.loc[description['varname'] == 'abastaguano', 'description']"
      ],
      "execution_count": 0,
      "outputs": [
        {
          "output_type": "execute_result",
          "data": {
            "text/plain": [
              "43     =1 if no water provision\n",
              "Name: description, dtype: object"
            ]
          },
          "metadata": {
            "tags": []
          },
          "execution_count": 25
        }
      ]
    },
    {
      "cell_type": "code",
      "metadata": {
        "id": "1gEEVlD645DT",
        "colab_type": "code",
        "colab": {}
      },
      "source": [
        "df_train.loc[(df_train.v14a ==  1) & (df_train.sanitario1 ==  1) & (df_train.abastaguano == 0), \"v14a\"] = 0\n",
        "df_train.loc[(df_train.v14a ==  1) & (df_train.sanitario1 ==  1) & (df_train.abastaguano == 0), \"sanitario1\"] = 0\n",
        "\n",
        "df_test.loc[(df_test.v14a ==  1) & (df_test.sanitario1 ==  1) & (df_test.abastaguano == 0), \"v14a\"] = 0\n",
        "df_test.loc[(df_test.v14a ==  1) & (df_test.sanitario1 ==  1) & (df_test.abastaguano == 0), \"sanitario1\"] = 0"
      ],
      "execution_count": 0,
      "outputs": []
    },
    {
      "cell_type": "markdown",
      "metadata": {
        "id": "bnnRwOcOzmRt",
        "colab_type": "text"
      },
      "source": [
        "rez_esz, SQBmeaned, meaneduc\n",
        "\n",
        "\n",
        "rez_esc : Years behind in school -> filled with 0\n",
        "\n",
        "\n",
        "SQBmeaned : square of the mean years of education of adults (>=18) in the household agesq, Age squared -> same with rez_esc -> filled with 0\n",
        "\n",
        "\n",
        "meaneduc: average years of education for adults (18+) -> filled with 0"
      ]
    },
    {
      "cell_type": "code",
      "metadata": {
        "id": "0fi_Edcr_ENU",
        "colab_type": "code",
        "outputId": "fddd9acb-e8b8-45e4-b3d8-fe705df13c77",
        "colab": {
          "base_uri": "https://localhost:8080/",
          "height": 53
        }
      },
      "source": [
        "description.loc[description['varname'] == 'meaneduc', 'description']"
      ],
      "execution_count": 0,
      "outputs": [
        {
          "output_type": "execute_result",
          "data": {
            "text/plain": [
              "102    average years of education for adults (18+)\n",
              "Name: description, dtype: object"
            ]
          },
          "metadata": {
            "tags": []
          },
          "execution_count": 27
        }
      ]
    },
    {
      "cell_type": "code",
      "metadata": {
        "id": "L4AfWigP5gYm",
        "colab_type": "code",
        "colab": {}
      },
      "source": [
        "df_train['rez_esc'].fillna(0, inplace=True)\n",
        "df_test['rez_esc'].fillna(0, inplace=True)"
      ],
      "execution_count": 0,
      "outputs": []
    },
    {
      "cell_type": "code",
      "metadata": {
        "id": "oN0vshfq5iCs",
        "colab_type": "code",
        "colab": {}
      },
      "source": [
        "df_train['SQBmeaned'].fillna(0, inplace=True)\n",
        "df_test['SQBmeaned'].fillna(0, inplace=True)"
      ],
      "execution_count": 0,
      "outputs": []
    },
    {
      "cell_type": "code",
      "metadata": {
        "id": "g1Pxcqeb5h9z",
        "colab_type": "code",
        "colab": {}
      },
      "source": [
        "df_train['meaneduc'].fillna(0, inplace=True)\n",
        "df_test['meaneduc'].fillna(0, inplace=True)"
      ],
      "execution_count": 0,
      "outputs": []
    },
    {
      "cell_type": "markdown",
      "metadata": {
        "id": "XNQZoKOp-YuL",
        "colab_type": "text"
      },
      "source": [
        "v18q1"
      ]
    },
    {
      "cell_type": "code",
      "metadata": {
        "id": "Il4XuG0U_BDO",
        "colab_type": "code",
        "outputId": "0f0f1dea-92ad-48eb-920c-286cc8d88824",
        "colab": {
          "base_uri": "https://localhost:8080/",
          "height": 53
        }
      },
      "source": [
        "description.loc[description['varname'] == 'v18q1', 'description']"
      ],
      "execution_count": 0,
      "outputs": [
        {
          "output_type": "execute_result",
          "data": {
            "text/plain": [
              "7     number of tablets household owns\n",
              "Name: description, dtype: object"
            ]
          },
          "metadata": {
            "tags": []
          },
          "execution_count": 31
        }
      ]
    },
    {
      "cell_type": "code",
      "metadata": {
        "id": "9TT-bsJ15h6W",
        "colab_type": "code",
        "outputId": "592f746b-3bb0-478b-a895-1489a5b8c839",
        "colab": {
          "base_uri": "https://localhost:8080/",
          "height": 71
        }
      },
      "source": [
        "df_train['v18q'].value_counts()"
      ],
      "execution_count": 0,
      "outputs": [
        {
          "output_type": "execute_result",
          "data": {
            "text/plain": [
              "0    7342\n",
              "1    2215\n",
              "Name: v18q, dtype: int64"
            ]
          },
          "metadata": {
            "tags": []
          },
          "execution_count": 32
        }
      ]
    },
    {
      "cell_type": "code",
      "metadata": {
        "id": "k6ZL2rEw5h1n",
        "colab_type": "code",
        "outputId": "5ebb882b-6769-4420-9576-22f3b3c87825",
        "colab": {
          "base_uri": "https://localhost:8080/",
          "height": 143
        }
      },
      "source": [
        "df_train.loc[df_train['v18q'] == 1, 'v18q1'].value_counts()"
      ],
      "execution_count": 0,
      "outputs": [
        {
          "output_type": "execute_result",
          "data": {
            "text/plain": [
              "1.0    1586\n",
              "2.0     444\n",
              "3.0     129\n",
              "4.0      37\n",
              "5.0      13\n",
              "6.0       6\n",
              "Name: v18q1, dtype: int64"
            ]
          },
          "metadata": {
            "tags": []
          },
          "execution_count": 33
        }
      ]
    },
    {
      "cell_type": "code",
      "metadata": {
        "id": "Q9cI-c7h5hyw",
        "colab_type": "code",
        "outputId": "88ee5a30-2fa6-4e53-b2ad-c7cd7b50a36c",
        "colab": {
          "base_uri": "https://localhost:8080/",
          "height": 35
        }
      },
      "source": [
        "df_train.loc[df_train['v18q'] == 0, 'v18q1'].value_counts() "
      ],
      "execution_count": 0,
      "outputs": [
        {
          "output_type": "execute_result",
          "data": {
            "text/plain": [
              "Series([], Name: v18q1, dtype: int64)"
            ]
          },
          "metadata": {
            "tags": []
          },
          "execution_count": 34
        }
      ]
    },
    {
      "cell_type": "code",
      "metadata": {
        "id": "jGAB2n_d5hwV",
        "colab_type": "code",
        "colab": {}
      },
      "source": [
        "df_train['v18q1'].fillna(0, inplace=True)\n",
        "df_test['v18q1'].fillna(0, inplace=True)"
      ],
      "execution_count": 0,
      "outputs": []
    },
    {
      "cell_type": "markdown",
      "metadata": {
        "id": "oqBGcqXd-6Wz",
        "colab_type": "text"
      },
      "source": [
        "v2a1"
      ]
    },
    {
      "cell_type": "code",
      "metadata": {
        "id": "gQjhRYD7_IJ9",
        "colab_type": "code",
        "outputId": "7670999a-af8f-4a44-9b3d-eccd0adc9f93",
        "colab": {
          "base_uri": "https://localhost:8080/",
          "height": 53
        }
      },
      "source": [
        "description.loc[description['varname'] == 'v2a1', 'description']"
      ],
      "execution_count": 0,
      "outputs": [
        {
          "output_type": "execute_result",
          "data": {
            "text/plain": [
              "0     Monthly rent payment\n",
              "Name: description, dtype: object"
            ]
          },
          "metadata": {
            "tags": []
          },
          "execution_count": 36
        }
      ]
    },
    {
      "cell_type": "code",
      "metadata": {
        "id": "mp_ZdN27_MOn",
        "colab_type": "code",
        "outputId": "702ad7b3-9794-463d-e789-ca35f71e3c3e",
        "colab": {
          "base_uri": "https://localhost:8080/",
          "height": 53
        }
      },
      "source": [
        "description.loc[description['varname'] == 'tipovivi1', 'description']"
      ],
      "execution_count": 0,
      "outputs": [
        {
          "output_type": "execute_result",
          "data": {
            "text/plain": [
              "114     =1 own and fully paid house\n",
              "Name: description, dtype: object"
            ]
          },
          "metadata": {
            "tags": []
          },
          "execution_count": 37
        }
      ]
    },
    {
      "cell_type": "code",
      "metadata": {
        "id": "XjVT9EQo5hr-",
        "colab_type": "code",
        "outputId": "e2803555-35b3-4487-f25e-0a7dd4d0b2ba",
        "colab": {
          "base_uri": "https://localhost:8080/",
          "height": 71
        }
      },
      "source": [
        "df_train['tipovivi3'].value_counts()"
      ],
      "execution_count": 0,
      "outputs": [
        {
          "output_type": "execute_result",
          "data": {
            "text/plain": [
              "0    7821\n",
              "1    1736\n",
              "Name: tipovivi3, dtype: int64"
            ]
          },
          "metadata": {
            "tags": []
          },
          "execution_count": 38
        }
      ]
    },
    {
      "cell_type": "code",
      "metadata": {
        "id": "T0Z_HpSs5hpT",
        "colab_type": "code",
        "outputId": "68a82600-0068-4f5b-ff2d-ae6eb3276ac5",
        "colab": {
          "base_uri": "https://localhost:8080/",
          "height": 351
        }
      },
      "source": [
        "sns.kdeplot(df_train.loc[df_train['tipovivi3'] == 1, 'v2a1'], label = 'Monthly rent payment of household(rented=1)')\n",
        "sns.kdeplot(df_train.loc[df_train['tipovivi3'] == 0, 'v2a1'], label = 'Monthly rent payment of household(rented=1)')\n",
        "plt.xscale('log')\n",
        "plt.show()"
      ],
      "execution_count": 0,
      "outputs": [
        {
          "output_type": "display_data",
          "data": {
            "image/png": "[encoded data removed]",
            "text/plain": [
              "<Figure size 576x396 with 1 Axes>"
            ]
          },
          "metadata": {
            "tags": []
          }
        }
      ]
    },
    {
      "cell_type": "code",
      "metadata": {
        "id": "jEuJQt4j5hlW",
        "colab_type": "code",
        "colab": {}
      },
      "source": [
        "df_train['v2a1'].fillna(0, inplace=True)\n",
        "df_test['v2a1'].fillna(0, inplace=True)"
      ],
      "execution_count": 0,
      "outputs": []
    },
    {
      "cell_type": "code",
      "metadata": {
        "id": "qPOdUGK95hit",
        "colab_type": "code",
        "outputId": "146b225d-7cfd-40b8-fcae-293504da389c",
        "colab": {
          "base_uri": "https://localhost:8080/",
          "height": 204
        }
      },
      "source": [
        "total = df_train.isnull().sum().sort_values(ascending=False)\n",
        "\n",
        "percent = 100 * (df_train.isnull().sum() / df_train.isnull().count()).sort_values(ascending=False)\n",
        "missing_df = pd.concat([total, percent], axis =1, keys = ['Total', 'Percent'])\n",
        "missing_df.head()"
      ],
      "execution_count": 0,
      "outputs": [
        {
          "output_type": "execute_result",
          "data": {
            "text/html": [
              "<div>\n",
              "<style scoped>\n",
              "    .dataframe tbody tr th:only-of-type {\n",
              "        vertical-align: middle;\n",
              "    }\n",
              "\n",
              "    .dataframe tbody tr th {\n",
              "        vertical-align: top;\n",
              "    }\n",
              "\n",
              "    .dataframe thead th {\n",
              "        text-align: right;\n",
              "    }\n",
              "</style>\n",
              "<table border=\"1\" class=\"dataframe\">\n",
              "  <thead>\n",
              "    <tr style=\"text-align: right;\">\n",
              "      <th></th>\n",
              "      <th>Total</th>\n",
              "      <th>Percent</th>\n",
              "    </tr>\n",
              "  </thead>\n",
              "  <tbody>\n",
              "    <tr>\n",
              "      <th>edjef</th>\n",
              "      <td>9557</td>\n",
              "      <td>100.0</td>\n",
              "    </tr>\n",
              "    <tr>\n",
              "      <th>Target</th>\n",
              "      <td>0</td>\n",
              "      <td>0.0</td>\n",
              "    </tr>\n",
              "    <tr>\n",
              "      <th>sanitario3</th>\n",
              "      <td>0</td>\n",
              "      <td>0.0</td>\n",
              "    </tr>\n",
              "    <tr>\n",
              "      <th>sanitario2</th>\n",
              "      <td>0</td>\n",
              "      <td>0.0</td>\n",
              "    </tr>\n",
              "    <tr>\n",
              "      <th>sanitario1</th>\n",
              "      <td>0</td>\n",
              "      <td>0.0</td>\n",
              "    </tr>\n",
              "  </tbody>\n",
              "</table>\n",
              "</div>"
            ],
            "text/plain": [
              "            Total  Percent\n",
              "edjef        9557    100.0\n",
              "Target          0      0.0\n",
              "sanitario3      0      0.0\n",
              "sanitario2      0      0.0\n",
              "sanitario1      0      0.0"
            ]
          },
          "metadata": {
            "tags": []
          },
          "execution_count": 41
        }
      ]
    },
    {
      "cell_type": "code",
      "metadata": {
        "id": "sl57RIY35hf9",
        "colab_type": "code",
        "outputId": "0fced0ef-5cb6-4cf2-8235-8c186bd5b1f7",
        "colab": {
          "base_uri": "https://localhost:8080/",
          "height": 204
        }
      },
      "source": [
        "total = df_test.isnull().sum().sort_values(ascending=False)\n",
        "\n",
        "percent = 100 * (df_test.isnull().sum() / df_test.isnull().count()).sort_values(ascending=False)\n",
        "missing_df = pd.concat([total, percent], axis =1, keys = ['Total', 'Percent'])\n",
        "missing_df.head()"
      ],
      "execution_count": 0,
      "outputs": [
        {
          "output_type": "execute_result",
          "data": {
            "text/html": [
              "<div>\n",
              "<style scoped>\n",
              "    .dataframe tbody tr th:only-of-type {\n",
              "        vertical-align: middle;\n",
              "    }\n",
              "\n",
              "    .dataframe tbody tr th {\n",
              "        vertical-align: top;\n",
              "    }\n",
              "\n",
              "    .dataframe thead th {\n",
              "        text-align: right;\n",
              "    }\n",
              "</style>\n",
              "<table border=\"1\" class=\"dataframe\">\n",
              "  <thead>\n",
              "    <tr style=\"text-align: right;\">\n",
              "      <th></th>\n",
              "      <th>Total</th>\n",
              "      <th>Percent</th>\n",
              "    </tr>\n",
              "  </thead>\n",
              "  <tbody>\n",
              "    <tr>\n",
              "      <th>edjef</th>\n",
              "      <td>23856</td>\n",
              "      <td>100.0</td>\n",
              "    </tr>\n",
              "    <tr>\n",
              "      <th>abastaguano</th>\n",
              "      <td>0</td>\n",
              "      <td>0.0</td>\n",
              "    </tr>\n",
              "    <tr>\n",
              "      <th>sanitario2</th>\n",
              "      <td>0</td>\n",
              "      <td>0.0</td>\n",
              "    </tr>\n",
              "    <tr>\n",
              "      <th>sanitario1</th>\n",
              "      <td>0</td>\n",
              "      <td>0.0</td>\n",
              "    </tr>\n",
              "    <tr>\n",
              "      <th>coopele</th>\n",
              "      <td>0</td>\n",
              "      <td>0.0</td>\n",
              "    </tr>\n",
              "  </tbody>\n",
              "</table>\n",
              "</div>"
            ],
            "text/plain": [
              "             Total  Percent\n",
              "edjef        23856    100.0\n",
              "abastaguano      0      0.0\n",
              "sanitario2       0      0.0\n",
              "sanitario1       0      0.0\n",
              "coopele          0      0.0"
            ]
          },
          "metadata": {
            "tags": []
          },
          "execution_count": 42
        }
      ]
    },
    {
      "cell_type": "markdown",
      "metadata": {
        "id": "9nAp0KrzC_BE",
        "colab_type": "text"
      },
      "source": [
        "# 2. Feature Engineering"
      ]
    },
    {
      "cell_type": "markdown",
      "metadata": {
        "id": "8Oaz9TpBEKK0",
        "colab_type": "text"
      },
      "source": [
        "\n",
        "2.1 Object Features replacement\n",
        "---\n",
        "\n"
      ]
    },
    {
      "cell_type": "markdown",
      "metadata": {
        "id": "uVOOiPbPFtzC",
        "colab_type": "text"
      },
      "source": [
        "object features 탐지"
      ]
    },
    {
      "cell_type": "code",
      "metadata": {
        "id": "CwcgyhM25hdd",
        "colab_type": "code",
        "colab": {}
      },
      "source": [
        "features_object = [col for col in df_train.columns if df_train[col].dtype == 'object']"
      ],
      "execution_count": 0,
      "outputs": []
    },
    {
      "cell_type": "code",
      "metadata": {
        "id": "o0SQ2MBz5haB",
        "colab_type": "code",
        "outputId": "937fa38e-df3d-4fb8-830e-e848bc6aad98",
        "colab": {
          "base_uri": "https://localhost:8080/",
          "height": 34
        }
      },
      "source": [
        "features_object"
      ],
      "execution_count": 0,
      "outputs": [
        {
          "output_type": "execute_result",
          "data": {
            "text/html": [
              "['Id', 'idhogar', 'dependency', 'edjefe', 'edjefa']"
            ],
            "text/plain": [
              "['Id', 'idhogar', 'dependency', 'edjefe', 'edjefa']"
            ]
          },
          "metadata": {
            "tags": []
          },
          "execution_count": 44
        }
      ]
    },
    {
      "cell_type": "markdown",
      "metadata": {
        "id": "wJX__CtaEZop",
        "colab_type": "text"
      },
      "source": [
        "dependency"
      ]
    },
    {
      "cell_type": "code",
      "metadata": {
        "id": "Cd7hhltU5hXB",
        "colab_type": "code",
        "colab": {}
      },
      "source": [
        "df_train['dependency'] = np.sqrt(df_train['SQBdependency'])\n",
        "df_test['dependency'] = np.sqrt(df_test['SQBdependency'])"
      ],
      "execution_count": 0,
      "outputs": []
    },
    {
      "cell_type": "markdown",
      "metadata": {
        "id": "TKVD76F2EpYk",
        "colab_type": "text"
      },
      "source": [
        "추가:  yes 이거나 no 일때 10 과 0, inf value 는 0으로 "
      ]
    },
    {
      "cell_type": "code",
      "metadata": {
        "id": "C0dkpY255hTq",
        "colab_type": "code",
        "colab": {}
      },
      "source": [
        "df_train['dependency'] = df_train['dependency'].replace({np.inf: 0})\n",
        "df_test['dependency'] = df_test['dependency'].replace({np.inf: 0})\n",
        "\n",
        "def replace_dependency(x):\n",
        "    if x == 'yes':\n",
        "        return 10\n",
        "    elif x == 'no':\n",
        "        return 0\n",
        "    else:\n",
        "        return x\n",
        "\n",
        "df_train['dependency'] = df_train['dependency'].apply(replace_dependency).astype(float)\n",
        "df_test['dependency'] = df_test['dependency'].apply(replace_dependency).astype(float)"
      ],
      "execution_count": 0,
      "outputs": []
    },
    {
      "cell_type": "markdown",
      "metadata": {
        "id": "xHmbANCKFEHL",
        "colab_type": "text"
      },
      "source": [
        "edjefe"
      ]
    },
    {
      "cell_type": "code",
      "metadata": {
        "id": "lfBNjfhm5hQ5",
        "colab_type": "code",
        "colab": {}
      },
      "source": [
        "def replace_edjefe(x):\n",
        "    if x == 'yes':\n",
        "        return 1\n",
        "    elif x == 'no':\n",
        "        return 0\n",
        "    else:\n",
        "        return x\n",
        "    \n",
        "df_train['edjefe'] = df_train['edjefe'].apply(replace_edjefe).astype(float)   \n",
        "df_test['edjefe'] = df_train['edjefe'].apply(replace_edjefe).astype(float)\n"
      ],
      "execution_count": 0,
      "outputs": []
    },
    {
      "cell_type": "markdown",
      "metadata": {
        "id": "5ZuWn1OuFjN4",
        "colab_type": "text"
      },
      "source": [
        "edjefa"
      ]
    },
    {
      "cell_type": "code",
      "metadata": {
        "id": "YOqtNx0W5hNh",
        "colab_type": "code",
        "colab": {}
      },
      "source": [
        "def replace_edjefa(x):\n",
        "    if x == 'yes':\n",
        "        return 1\n",
        "    elif x == 'no':\n",
        "        return 0\n",
        "    else:\n",
        "        return x\n",
        "    \n",
        "df_train['edjefa'] = df_train['edjefa'].apply(replace_edjefa).astype(float)   \n",
        "df_test['edjefa'] = df_train['edjefa'].apply(replace_edjefa).astype(float)\n"
      ],
      "execution_count": 0,
      "outputs": []
    },
    {
      "cell_type": "code",
      "metadata": {
        "id": "rACS8zVB5hH1",
        "colab_type": "code",
        "colab": {}
      },
      "source": [
        "df_train['edjef'] = np.max(df_train[['edjefa','edjefe']], axis=1)\n",
        "df_test['edjef'] = np.max(df_test[['edjefa','edjefe']], axis=1)"
      ],
      "execution_count": 0,
      "outputs": []
    },
    {
      "cell_type": "markdown",
      "metadata": {
        "id": "snW0PLzTF8K5",
        "colab_type": "text"
      },
      "source": [
        "roof and electricity\n"
      ]
    },
    {
      "cell_type": "code",
      "metadata": {
        "id": "PBSiYq4L5hE5",
        "colab_type": "code",
        "colab": {}
      },
      "source": [
        "df_train['roof_waste_material'] = np.nan\n",
        "df_test['roof_waste_material'] = np.nan\n",
        "df_train['electricity_other'] = np.nan\n",
        "df_test['electricity_other'] = np.nan\n",
        "\n",
        "def fill_roof_exception(x):\n",
        "    if (x['techozinc'] == 0) and (x['techoentrepiso'] == 0) and (x['techocane'] == 0) and (x['techootro'] == 0):\n",
        "        return 1\n",
        "    else:\n",
        "        return 0\n",
        "\n",
        "def fill_no_electricity(x):\n",
        "    if (x['public'] == 0) and (x['planpri'] == 0) and (x['noelec'] == 0) and (x['coopele'] == 0):\n",
        "        return 1\n",
        "    else:\n",
        "        return 0    "
      ],
      "execution_count": 0,
      "outputs": []
    },
    {
      "cell_type": "code",
      "metadata": {
        "id": "i3ieZGat5hCI",
        "colab_type": "code",
        "colab": {}
      },
      "source": [
        "df_train['roof_waste_material'] = df_train.apply(lambda x: fill_roof_exception(x), axis = 1)\n",
        "df_test['roof_waste_material'] = df_test.apply(lambda x: fill_roof_exception(x), axis = 1)\n",
        "\n",
        "df_train['electricity_other'] = df_train.apply(lambda x: fill_no_electricity(x), axis = 1)\n",
        "df_test['electricity_other'] = df_test.apply(lambda x: fill_no_electricity(x), axis = 1)"
      ],
      "execution_count": 0,
      "outputs": []
    },
    {
      "cell_type": "markdown",
      "metadata": {
        "id": "Aa86UUcYG3Jx",
        "colab_type": "text"
      },
      "source": [
        "\n",
        "2.2 Extract cat features\n",
        "---\n",
        "\n"
      ]
    },
    {
      "cell_type": "code",
      "metadata": {
        "id": "bK1J33HZ5g-t",
        "colab_type": "code",
        "colab": {}
      },
      "source": [
        "binary_cat_features = [col for col in df_train.columns if df_train[col].value_counts().shape[0] == 2]"
      ],
      "execution_count": 0,
      "outputs": []
    },
    {
      "cell_type": "code",
      "metadata": {
        "id": "4S_js6v4HV4R",
        "colab_type": "code",
        "outputId": "7e064758-1da4-4796-bfbe-f8ea375654f1",
        "colab": {
          "base_uri": "https://localhost:8080/",
          "height": 204
        }
      },
      "source": [
        "binary_cat_features"
      ],
      "execution_count": 0,
      "outputs": [
        {
          "output_type": "execute_result",
          "data": {
            "text/html": [
              "['hacdor', 'hacapo', 'v14a', 'refrig', 'v18q', 'paredblolad', 'paredzocalo', 'paredpreb', 'pareddes', 'paredmad', 'paredzinc', 'paredfibras', 'paredother', 'pisomoscer', 'pisocemento', 'pisoother', 'pisonatur', 'pisonotiene', 'pisomadera', 'techozinc', 'techoentrepiso', 'techocane', 'techootro', 'cielorazo', 'abastaguadentro', 'abastaguafuera', 'abastaguano', 'public', 'planpri', 'noelec', 'coopele', 'sanitario1', 'sanitario2', 'sanitario3', 'sanitario5', 'sanitario6', 'energcocinar1', 'energcocinar2', 'energcocinar3', 'energcocinar4', 'elimbasu1', 'elimbasu2', 'elimbasu3', 'elimbasu4', 'elimbasu6', 'epared1', 'epared2', 'epared3', 'etecho1', 'etecho2', 'etecho3', 'eviv1', 'eviv2', 'eviv3', 'dis', 'male', 'female', 'estadocivil1', 'estadocivil2', 'estadocivil3', 'estadocivil4', 'estadocivil5', 'estadocivil6', 'estadocivil7', 'parentesco1', 'parentesco2', 'parentesco3', 'parentesco4', 'parentesco5', 'parentesco6', 'parentesco7', 'parentesco8', 'parentesco9', 'parentesco10', 'parentesco11', 'parentesco12', 'instlevel1', 'instlevel2', 'instlevel3', 'instlevel4', 'instlevel5', 'instlevel6', 'instlevel7', 'instlevel8', 'instlevel9', 'tipovivi1', 'tipovivi2', 'tipovivi3', 'tipovivi4', 'tipovivi5', 'computer', 'television', 'mobilephone', 'lugar1', 'lugar2', 'lugar3', 'lugar4', 'lugar5', 'lugar6', 'area1', 'area2', 'roof_waste_material', 'electricity_other']"
            ],
            "text/plain": [
              "['hacdor',\n",
              " 'hacapo',\n",
              " 'v14a',\n",
              " 'refrig',\n",
              " 'v18q',\n",
              " 'paredblolad',\n",
              " 'paredzocalo',\n",
              " 'paredpreb',\n",
              " 'pareddes',\n",
              " 'paredmad',\n",
              " 'paredzinc',\n",
              " 'paredfibras',\n",
              " 'paredother',\n",
              " 'pisomoscer',\n",
              " 'pisocemento',\n",
              " 'pisoother',\n",
              " 'pisonatur',\n",
              " 'pisonotiene',\n",
              " 'pisomadera',\n",
              " 'techozinc',\n",
              " 'techoentrepiso',\n",
              " 'techocane',\n",
              " 'techootro',\n",
              " 'cielorazo',\n",
              " 'abastaguadentro',\n",
              " 'abastaguafuera',\n",
              " 'abastaguano',\n",
              " 'public',\n",
              " 'planpri',\n",
              " 'noelec',\n",
              " 'coopele',\n",
              " 'sanitario1',\n",
              " 'sanitario2',\n",
              " 'sanitario3',\n",
              " 'sanitario5',\n",
              " 'sanitario6',\n",
              " 'energcocinar1',\n",
              " 'energcocinar2',\n",
              " 'energcocinar3',\n",
              " 'energcocinar4',\n",
              " 'elimbasu1',\n",
              " 'elimbasu2',\n",
              " 'elimbasu3',\n",
              " 'elimbasu4',\n",
              " 'elimbasu6',\n",
              " 'epared1',\n",
              " 'epared2',\n",
              " 'epared3',\n",
              " 'etecho1',\n",
              " 'etecho2',\n",
              " 'etecho3',\n",
              " 'eviv1',\n",
              " 'eviv2',\n",
              " 'eviv3',\n",
              " 'dis',\n",
              " 'male',\n",
              " 'female',\n",
              " 'estadocivil1',\n",
              " 'estadocivil2',\n",
              " 'estadocivil3',\n",
              " 'estadocivil4',\n",
              " 'estadocivil5',\n",
              " 'estadocivil6',\n",
              " 'estadocivil7',\n",
              " 'parentesco1',\n",
              " 'parentesco2',\n",
              " 'parentesco3',\n",
              " 'parentesco4',\n",
              " 'parentesco5',\n",
              " 'parentesco6',\n",
              " 'parentesco7',\n",
              " 'parentesco8',\n",
              " 'parentesco9',\n",
              " 'parentesco10',\n",
              " 'parentesco11',\n",
              " 'parentesco12',\n",
              " 'instlevel1',\n",
              " 'instlevel2',\n",
              " 'instlevel3',\n",
              " 'instlevel4',\n",
              " 'instlevel5',\n",
              " 'instlevel6',\n",
              " 'instlevel7',\n",
              " 'instlevel8',\n",
              " 'instlevel9',\n",
              " 'tipovivi1',\n",
              " 'tipovivi2',\n",
              " 'tipovivi3',\n",
              " 'tipovivi4',\n",
              " 'tipovivi5',\n",
              " 'computer',\n",
              " 'television',\n",
              " 'mobilephone',\n",
              " 'lugar1',\n",
              " 'lugar2',\n",
              " 'lugar3',\n",
              " 'lugar4',\n",
              " 'lugar5',\n",
              " 'lugar6',\n",
              " 'area1',\n",
              " 'area2',\n",
              " 'roof_waste_material',\n",
              " 'electricity_other']"
            ]
          },
          "metadata": {
            "tags": []
          },
          "execution_count": 53
        }
      ]
    },
    {
      "cell_type": "markdown",
      "metadata": {
        "id": "nFAu3aaWHIdC",
        "colab_type": "text"
      },
      "source": [
        "\n",
        "2.3 Make new features using continuous feature\n",
        "---\n",
        "\n"
      ]
    },
    {
      "cell_type": "code",
      "metadata": {
        "id": "z46iVr38G6k3",
        "colab_type": "code",
        "colab": {}
      },
      "source": [
        "# Cont features 를 찾기 위해 binary 제거 / object 제거 / Target 제거\n",
        "continuous_features = [col for col in df_train.columns if col not in binary_cat_features]\n",
        "continuous_features = [col for col in continuous_features if col not in features_object]\n",
        "continuous_features = [col for col in continuous_features if col not in ['Id', 'Target', 'idhogar']] \n",
        "# 왜 여기서 Id, idhogar 을 추가하지? "
      ],
      "execution_count": 0,
      "outputs": []
    },
    {
      "cell_type": "code",
      "metadata": {
        "id": "fbn5ZVOlG6hX",
        "colab_type": "code",
        "outputId": "8f087fa6-39f0-440c-98e8-617f5fe4de47",
        "colab": {
          "base_uri": "https://localhost:8080/",
          "height": 701
        }
      },
      "source": [
        "print('There are {} continuous features'.format(len(continuous_features)))\n",
        "for col in continuous_features:\n",
        "    print('{}: {}'.format(col, description.loc[description['varname'] == col, 'description'].values))"
      ],
      "execution_count": 0,
      "outputs": [
        {
          "output_type": "stream",
          "text": [
            "There are 37 continuous features\n",
            "v2a1: [' Monthly rent payment']\n",
            "rooms: ['  number of all rooms in the house']\n",
            "v18q1: [' number of tablets household owns']\n",
            "r4h1: [' Males younger than 12 years of age']\n",
            "r4h2: [' Males 12 years of age and older']\n",
            "r4h3: [' Total males in the household']\n",
            "r4m1: [' Females younger than 12 years of age']\n",
            "r4m2: [' Females 12 years of age and older']\n",
            "r4m3: [' Total females in the household']\n",
            "r4t1: [' persons younger than 12 years of age']\n",
            "r4t2: [' persons 12 years of age and older']\n",
            "r4t3: [' Total persons in the household']\n",
            "tamhog: [' size of the household']\n",
            "tamviv: [' number of persons living in the household']\n",
            "escolari: [' years of schooling']\n",
            "rez_esc: [' Years behind in school']\n",
            "hhsize: [' household size']\n",
            "elimbasu5: [' =1 if rubbish disposal mainly by throwing in river,   creek or sea']\n",
            "hogar_nin: [' Number of children 0 to 19 in household']\n",
            "hogar_adul: [' Number of adults in household']\n",
            "hogar_mayor: [' # of individuals 65+ in the household']\n",
            "hogar_total: [' # of total individuals in the household']\n",
            "meaneduc: ['average years of education for adults (18+)']\n",
            "bedrooms: [' number of bedrooms']\n",
            "overcrowding: [' # persons per room']\n",
            "qmobilephone: [' # of mobile phones']\n",
            "age: [' Age in years']\n",
            "SQBescolari: [' escolari squared']\n",
            "SQBage: [' age squared']\n",
            "SQBhogar_total: [' hogar_total squared']\n",
            "SQBedjefe: [' edjefe squared']\n",
            "SQBhogar_nin: [' hogar_nin squared']\n",
            "SQBovercrowding: [' overcrowding squared']\n",
            "SQBdependency: [' dependency squared']\n",
            "SQBmeaned: [' meaned squared']\n",
            "agesq: [' Age squared']\n",
            "edjef: []\n"
          ],
          "name": "stdout"
        }
      ]
    },
    {
      "cell_type": "markdown",
      "metadata": {
        "id": "_D1dMQ6iIfJA",
        "colab_type": "text"
      },
      "source": [
        "hhsize 랑 tamhog 가 같은 피쳐이므로 하나를 drop 하기로 함"
      ]
    },
    {
      "cell_type": "code",
      "metadata": {
        "id": "CbPs1cJsG6Gc",
        "colab_type": "code",
        "outputId": "664dad1b-86fd-4a95-fb8b-474b120f1b04",
        "colab": {
          "base_uri": "https://localhost:8080/",
          "height": 431
        }
      },
      "source": [
        "df_train['edjef'].value_counts()"
      ],
      "execution_count": 0,
      "outputs": [
        {
          "output_type": "execute_result",
          "data": {
            "text/plain": [
              "6.0     2792\n",
              "11.0    1150\n",
              "9.0      723\n",
              "8.0      474\n",
              "15.0     473\n",
              "3.0      459\n",
              "0.0      435\n",
              "7.0      413\n",
              "4.0      400\n",
              "5.0      398\n",
              "14.0     328\n",
              "17.0     278\n",
              "2.0      278\n",
              "16.0     247\n",
              "10.0     207\n",
              "12.0     185\n",
              "13.0     155\n",
              "1.0       65\n",
              "21.0      48\n",
              "18.0      22\n",
              "19.0      18\n",
              "20.0       9\n",
              "Name: edjef, dtype: int64"
            ]
          },
          "metadata": {
            "tags": []
          },
          "execution_count": 56
        }
      ]
    },
    {
      "cell_type": "code",
      "metadata": {
        "id": "l2ukuzv4G6DR",
        "colab_type": "code",
        "colab": {}
      },
      "source": [
        "df_train.drop('tamhog', axis=1, inplace=True)\n",
        "df_test.drop('tamhog', axis=1, inplace=True)"
      ],
      "execution_count": 0,
      "outputs": []
    },
    {
      "cell_type": "markdown",
      "metadata": {
        "id": "lYX6SaExJXDn",
        "colab_type": "text"
      },
      "source": [
        "Squared features\n",
        "\n",
        "트리 모델(lgbm) 같은 건 squared features 필요 없음. 그러나 이 커널에서는 lgbm 을 feature filter model 이자 entity-embedding 으로 classifier 로 지정하고자 함. 그래서 남김.\n",
        "\n",
        "\n",
        "\n",
        "Family features\n",
        "\n",
        "hogar_nin, hogar_adul, hogar_mayor, hogar_total, r4h1, r4h2, r4h3, r4m1, r4m2, r4m3, r4t1, r4t2, r4t3, tmbhog, tamvid, rez_esc, escolari\n",
        "Family size features (substract, ratio)\n"
      ]
    },
    {
      "cell_type": "code",
      "metadata": {
        "id": "GKp6MzOPG5_w",
        "colab_type": "code",
        "colab": {}
      },
      "source": [
        "df_train['adult'] = df_train['hogar_adul'] - df_train['hogar_mayor']\n",
        "df_train['dependency_count'] = df_train['hogar_nin'] + df_train['hogar_mayor']\n",
        "df_train['dependency'] = df_train['dependency_count'] / df_train['adult']\n",
        "df_train['child_percent'] = df_train['hogar_nin'] / df_train['hogar_total']\n",
        "df_train['elder_percent'] = df_train['hogar_mayor'] / df_train['hogar_total']\n",
        "df_train['adult_percent'] = df_train['hogar_adul'] / df_train['hogar_total']\n",
        "df_train['males_younger_12_years_percent'] = df_train['r4h1'] / df_train['hogar_total']\n",
        "df_train['males_older_12_years_percent'] = df_train['r4h2'] / df_train['hogar_total']\n",
        "df_train['males_percent'] = df_train['r4h3'] / df_train['hogar_total']\n",
        "df_train['females_younger_12_years_percent'] = df_train['r4m1'] / df_train['hogar_total']\n",
        "df_train['females_older_12_years_percent'] = df_train['r4m2'] / df_train['hogar_total']\n",
        "df_train['females_percent'] = df_train['r4m3'] / df_train['hogar_total']\n",
        "df_train['persons_younger_12_years_percent'] = df_train['r4t1'] / df_train['hogar_total']\n",
        "df_train['persons_older_12_years_percent'] = df_train['r4t2'] / df_train['hogar_total']\n",
        "df_train['persons_percent'] = df_train['r4t3'] / df_train['hogar_total']"
      ],
      "execution_count": 0,
      "outputs": []
    },
    {
      "cell_type": "markdown",
      "metadata": {
        "id": "tcBAtf_G9vct",
        "colab_type": "text"
      },
      "source": [
        "똑같이 test에도"
      ]
    },
    {
      "cell_type": "code",
      "metadata": {
        "id": "YnyVFwAAG58q",
        "colab_type": "code",
        "colab": {}
      },
      "source": [
        "df_test['adult'] = df_test['hogar_adul'] - df_test['hogar_mayor']\n",
        "df_test['dependency_count'] = df_test['hogar_nin'] + df_test['hogar_mayor']\n",
        "df_test['dependency'] = df_test['dependency_count'] / df_test['adult']\n",
        "df_test['child_percent'] = df_test['hogar_nin'] / df_test['hogar_total']\n",
        "df_test['elder_percent'] = df_test['hogar_mayor'] / df_test['hogar_total']\n",
        "df_test['adult_percent'] = df_test['hogar_adul'] / df_test['hogar_total']\n",
        "df_test['males_younger_12_years_percent'] = df_test['r4h1'] / df_test['hogar_total']\n",
        "df_test['males_older_12_years_percent'] = df_test['r4h2'] / df_test['hogar_total']\n",
        "df_test['males_percent'] = df_test['r4h3'] / df_test['hogar_total']\n",
        "df_test['females_younger_12_years_percent'] = df_test['r4m1'] / df_test['hogar_total']\n",
        "df_test['females_older_12_years_percent'] = df_test['r4m2'] / df_test['hogar_total']\n",
        "df_test['females_percent'] = df_test['r4m3'] / df_test['hogar_total']\n",
        "df_test['persons_younger_12_years_percent'] = df_test['r4t1'] / df_test['hogar_total']\n",
        "df_test['persons_older_12_years_percent'] = df_test['r4t2'] / df_test['hogar_total']\n",
        "df_test['persons_percent'] = df_test['r4t3'] / df_test['hogar_total']"
      ],
      "execution_count": 0,
      "outputs": []
    },
    {
      "cell_type": "code",
      "metadata": {
        "id": "LeTvo_ZHG55u",
        "colab_type": "code",
        "colab": {}
      },
      "source": [
        "df_train['males_younger_12_years_in_household_size'] = df_train['r4h1'] / df_train['hhsize']\n",
        "df_train['males_older_12_years_in_household_size'] = df_train['r4h2'] / df_train['hhsize']\n",
        "df_train['males_in_household_size'] = df_train['r4h3'] / df_train['hhsize']\n",
        "df_train['females_younger_12_years_in_household_size'] = df_train['r4m1'] / df_train['hhsize']\n",
        "df_train['females_older_12_years_in_household_size'] = df_train['r4m2'] / df_train['hhsize']\n",
        "df_train['females_in_household_size'] = df_train['r4m3'] / df_train['hogar_total']\n",
        "df_train['persons_younger_12_years_in_household_size'] = df_train['r4t1'] / df_train['hhsize']\n",
        "df_train['persons_older_12_years_in_household_size'] = df_train['r4t2'] / df_train['hhsize']\n",
        "df_train['persons_in_household_size'] = df_train['r4t3'] / df_train['hhsize']"
      ],
      "execution_count": 0,
      "outputs": []
    },
    {
      "cell_type": "code",
      "metadata": {
        "id": "CLwK8BSAG5zF",
        "colab_type": "code",
        "colab": {}
      },
      "source": [
        "df_test['males_younger_12_years_in_household_size'] = df_test['r4h1'] / df_test['hhsize']\n",
        "df_test['males_older_12_years_in_household_size'] = df_test['r4h2'] / df_test['hhsize']\n",
        "df_test['males_in_household_size'] = df_test['r4h3'] / df_test['hhsize']\n",
        "df_test['females_younger_12_years_in_household_size'] = df_test['r4m1'] / df_test['hhsize']\n",
        "df_test['females_older_12_years_in_household_size'] = df_test['r4m2'] / df_test['hhsize']\n",
        "df_test['females_in_household_size'] = df_test['r4m3'] / df_test['hogar_total']\n",
        "df_test['persons_younger_12_years_in_household_size'] = df_test['r4t1'] / df_test['hhsize']\n",
        "df_test['persons_older_12_years_in_household_size'] = df_test['r4t2'] / df_test['hhsize']\n",
        "df_test['persons_in_household_size'] = df_test['r4t3'] / df_test['hhsize']"
      ],
      "execution_count": 0,
      "outputs": []
    },
    {
      "cell_type": "code",
      "metadata": {
        "id": "1VrLluCQG5wF",
        "colab_type": "code",
        "colab": {}
      },
      "source": [
        "df_train['overcrowding_room_and_bedroom'] = (df_train['hacdor'] + df_train['hacapo'])/2\n",
        "df_test['overcrowding_room_and_bedroom'] = (df_test['hacdor'] + df_test['hacapo'])/2"
      ],
      "execution_count": 0,
      "outputs": []
    },
    {
      "cell_type": "code",
      "metadata": {
        "id": "0Z12YsO5G5sM",
        "colab_type": "code",
        "colab": {}
      },
      "source": [
        "df_train['escolari_age'] = df_train['escolari']/df_train['age']\n",
        "df_test['escolari_age'] = df_test['escolari']/df_test['age']\n",
        "\n",
        "df_train['age_12_19'] = df_train['hogar_nin'] - df_train['r4t1']\n",
        "df_test['age_12_19'] = df_test['hogar_nin'] - df_test['r4t1'] "
      ],
      "execution_count": 0,
      "outputs": []
    },
    {
      "cell_type": "code",
      "metadata": {
        "id": "TQQ6dSrpG5o_",
        "colab_type": "code",
        "colab": {}
      },
      "source": [
        "df_train['phones-per-capita'] = df_train['qmobilephone'] / df_train['tamviv']\n",
        "df_train['tablets-per-capita'] = df_train['v18q1'] / df_train['tamviv']\n",
        "df_train['rooms-per-capita'] = df_train['rooms'] / df_train['tamviv']\n",
        "df_train['rent-per-capita'] = df_train['v2a1'] / df_train['tamviv']"
      ],
      "execution_count": 0,
      "outputs": []
    },
    {
      "cell_type": "code",
      "metadata": {
        "id": "lzLdD2UCG5l1",
        "colab_type": "code",
        "colab": {}
      },
      "source": [
        "df_test['phones-per-capita'] = df_test['qmobilephone'] / df_test['tamviv']\n",
        "df_test['tablets-per-capita'] = df_test['v18q1'] / df_test['tamviv']\n",
        "df_test['rooms-per-capita'] = df_test['rooms'] / df_test['tamviv']\n",
        "df_test['rent-per-capita'] = df_test['v2a1'] / df_test['tamviv']"
      ],
      "execution_count": 0,
      "outputs": []
    },
    {
      "cell_type": "code",
      "metadata": {
        "id": "xxdqj9m25g7i",
        "colab_type": "code",
        "outputId": "4aa1d0d2-fc34-4666-c2af-e33eb3134ea9",
        "colab": {
          "base_uri": "https://localhost:8080/",
          "height": 35
        }
      },
      "source": [
        "(df_train['hogar_total'] == df_train['r4t3']).sum()"
      ],
      "execution_count": 0,
      "outputs": [
        {
          "output_type": "execute_result",
          "data": {
            "text/plain": [
              "9509"
            ]
          },
          "metadata": {
            "tags": []
          },
          "execution_count": 66
        }
      ]
    },
    {
      "cell_type": "markdown",
      "metadata": {
        "id": "Fp78QOfG9_1M",
        "colab_type": "text"
      },
      "source": [
        "Rent per family features"
      ]
    },
    {
      "cell_type": "code",
      "metadata": {
        "id": "FGgjJTH9-C8R",
        "colab_type": "code",
        "colab": {}
      },
      "source": [
        "family_size_features = ['adult', 'hogar_adul', 'hogar_mayor', 'hogar_nin', 'hogar_total', 'r4h1', \n",
        "                        'r4h2', 'r4h3', 'r4m1', 'r4m2', 'r4m3', 'r4t1', 'r4t2', 'r4t3', 'hhsize']\n",
        "new_feats = []\n",
        "for col in family_size_features:\n",
        "    new_col_name = 'new_{}_per_{}'.format('v2a1', col)\n",
        "    new_feats.append(new_col_name)\n",
        "    df_train[new_col_name] = df_train['v2a1'] / df_train[col]\n",
        "    df_test[new_col_name] = df_test['v2a1'] / df_test[col]"
      ],
      "execution_count": 0,
      "outputs": []
    },
    {
      "cell_type": "markdown",
      "metadata": {
        "id": "pAK3wfqR-Hj6",
        "colab_type": "text"
      },
      "source": [
        "ratio 피쳐를 0 으로 채워넣기\n",
        "\n",
        "replace 를 먼저 해서 inf 를 nan 으로 바꾸고 fillna를 사용"
      ]
    },
    {
      "cell_type": "code",
      "metadata": {
        "id": "hC6xgewP-G8o",
        "colab_type": "code",
        "colab": {}
      },
      "source": [
        "for col in new_feats:\n",
        "    df_train[col].replace([np.inf], np.nan, inplace=True)\n",
        "    df_train[col].fillna(0, inplace=True)\n",
        "    \n",
        "    df_test[col].replace([np.inf], np.nan, inplace=True)\n",
        "    df_test[col].fillna(0, inplace=True)"
      ],
      "execution_count": 0,
      "outputs": []
    },
    {
      "cell_type": "markdown",
      "metadata": {
        "id": "TH3SBNlv-XYJ",
        "colab_type": "text"
      },
      "source": [
        "Room per family 만들기// Bedroom per family"
      ]
    },
    {
      "cell_type": "code",
      "metadata": {
        "id": "9tIYdwsZ-PjZ",
        "colab_type": "code",
        "colab": {}
      },
      "source": [
        "new_feats = []\n",
        "for col in family_size_features:\n",
        "    new_col_name = 'new_{}_per_{}'.format('rooms', col)\n",
        "    new_feats.append(new_col_name)\n",
        "    df_train[new_col_name] = df_train['rooms'] / df_train[col]\n",
        "    df_test[new_col_name] = df_test['rooms'] / df_test[col]\n",
        "\n",
        "for col in new_feats:\n",
        "    df_train[col].replace([np.inf], np.nan, inplace=True)\n",
        "    df_train[col].fillna(0, inplace=True)\n",
        "    \n",
        "    df_test[col].replace([np.inf], np.nan, inplace=True)\n",
        "    df_test[col].fillna(0, inplace=True)"
      ],
      "execution_count": 0,
      "outputs": []
    },
    {
      "cell_type": "code",
      "metadata": {
        "id": "_1Dh9Ebc-PWX",
        "colab_type": "code",
        "colab": {}
      },
      "source": [
        "new_feats = []\n",
        "for col in family_size_features:\n",
        "    new_col_name = 'new_{}_per_{}'.format('bedrooms', col)\n",
        "    new_feats.append(new_col_name)\n",
        "    df_train[new_col_name] = df_train['bedrooms'] / df_train[col]\n",
        "    df_test[new_col_name] = df_test['bedrooms'] / df_test[col]\n",
        "\n",
        "for col in new_feats:\n",
        "    df_train[col].replace([np.inf], np.nan, inplace=True)\n",
        "    df_train[col].fillna(0, inplace=True)\n",
        "    \n",
        "    df_test[col].replace([np.inf], np.nan, inplace=True)\n",
        "    df_test[col].fillna(0, inplace=True)"
      ],
      "execution_count": 0,
      "outputs": []
    },
    {
      "cell_type": "markdown",
      "metadata": {
        "id": "moVR8At0-k6I",
        "colab_type": "text"
      },
      "source": [
        "shape 체크"
      ]
    },
    {
      "cell_type": "code",
      "metadata": {
        "id": "BQ4-ZPl9-kUu",
        "colab_type": "code",
        "outputId": "a6f2334e-f939-4b44-e6eb-06e82e90a188",
        "colab": {
          "base_uri": "https://localhost:8080/",
          "height": 35
        }
      },
      "source": [
        "print(df_train.shape, df_test.shape)"
      ],
      "execution_count": 0,
      "outputs": [
        {
          "output_type": "stream",
          "text": [
            "(9557, 220) (23856, 219)\n"
          ],
          "name": "stdout"
        }
      ]
    },
    {
      "cell_type": "markdown",
      "metadata": {
        "id": "0_6EUa4T-uc8",
        "colab_type": "text"
      },
      "source": [
        "가족당 tabulet 대수 , 폰 대수"
      ]
    },
    {
      "cell_type": "code",
      "metadata": {
        "id": "r1u2ApD8-vOx",
        "colab_type": "code",
        "colab": {}
      },
      "source": [
        "new_feats = []\n",
        "for col in family_size_features:\n",
        "    new_col_name = 'new_{}_per_{}'.format('v18q1', col)\n",
        "    new_feats.append(new_col_name)\n",
        "    df_train[new_col_name] = df_train['v18q1'] / df_train[col]\n",
        "    df_test[new_col_name] = df_test['v18q1'] / df_test[col]\n",
        "\n",
        "for col in new_feats:\n",
        "    df_train[col].replace([np.inf], np.nan, inplace=True)\n",
        "    df_train[col].fillna(0, inplace=True)\n",
        "    \n",
        "    df_test[col].replace([np.inf], np.nan, inplace=True)\n",
        "    df_test[col].fillna(0, inplace=True)"
      ],
      "execution_count": 0,
      "outputs": []
    },
    {
      "cell_type": "code",
      "metadata": {
        "id": "BImLfWv8-vKx",
        "colab_type": "code",
        "colab": {}
      },
      "source": [
        "new_feats = []\n",
        "for col in family_size_features:\n",
        "    new_col_name = 'new_{}_per_{}'.format('qmobilephone', col)\n",
        "    new_feats.append(new_col_name)\n",
        "    df_train[new_col_name] = df_train['qmobilephone'] / df_train[col]\n",
        "    df_test[new_col_name] = df_test['qmobilephone'] / df_test[col]\n",
        "\n",
        "for col in new_feats:\n",
        "    df_train[col].replace([np.inf], np.nan, inplace=True)\n",
        "    df_train[col].fillna(0, inplace=True)\n",
        "    \n",
        "    df_test[col].replace([np.inf], np.nan, inplace=True)\n",
        "    df_test[col].fillna(0, inplace=True)"
      ],
      "execution_count": 0,
      "outputs": []
    },
    {
      "cell_type": "markdown",
      "metadata": {
        "id": "dZGEaYzJ-_e1",
        "colab_type": "text"
      },
      "source": [
        "years behind school 가족당 얼마인지 "
      ]
    },
    {
      "cell_type": "code",
      "metadata": {
        "id": "xvSaPkVh-vGb",
        "colab_type": "code",
        "colab": {}
      },
      "source": [
        "new_feats = []\n",
        "for col in family_size_features:\n",
        "    new_col_name = 'new_{}_per_{}'.format('rez_esc', col)\n",
        "    new_feats.append(new_col_name)\n",
        "    df_train[new_col_name] = df_train['rez_esc'] / df_train[col]\n",
        "    df_test[new_col_name] = df_test['rez_esc'] / df_test[col]\n",
        "\n",
        "for col in new_feats:\n",
        "    df_train[col].replace([np.inf], np.nan, inplace=True)\n",
        "    df_train[col].fillna(0, inplace=True)\n",
        "    \n",
        "    df_test[col].replace([np.inf], np.nan, inplace=True)\n",
        "    df_test[col].fillna(0, inplace=True)"
      ],
      "execution_count": 0,
      "outputs": []
    },
    {
      "cell_type": "code",
      "metadata": {
        "id": "2vOTeEMS_HLJ",
        "colab_type": "code",
        "outputId": "1ab5cdcf-21f6-4d0a-e993-a5499c4c1a9d",
        "colab": {
          "base_uri": "https://localhost:8080/",
          "height": 53
        }
      },
      "source": [
        "description.loc[description['varname'] == 'escolari', 'description']"
      ],
      "execution_count": 0,
      "outputs": [
        {
          "output_type": "execute_result",
          "data": {
            "text/plain": [
              "19     years of schooling\n",
              "Name: description, dtype: object"
            ]
          },
          "metadata": {
            "tags": []
          },
          "execution_count": 76
        }
      ]
    },
    {
      "cell_type": "code",
      "metadata": {
        "id": "7tMXlYGv-vC4",
        "colab_type": "code",
        "colab": {}
      },
      "source": [
        "df_train['rez_esc_age'] = df_train['rez_esc'] / df_train['age']\n",
        "df_train['rez_esc_escolari'] = df_train['rez_esc'] / df_train['escolari']\n",
        "\n",
        "df_test['rez_esc_age'] = df_test['rez_esc'] / df_test['age']\n",
        "df_test['rez_esc_escolari'] = df_test['rez_esc'] / df_test['escolari']"
      ],
      "execution_count": 0,
      "outputs": []
    },
    {
      "cell_type": "markdown",
      "metadata": {
        "id": "icbTi9Ac_Yse",
        "colab_type": "text"
      },
      "source": [
        "\n",
        "2.3.2 Rich features\n",
        "---\n",
        "\n"
      ]
    },
    {
      "cell_type": "code",
      "metadata": {
        "id": "XqfHFIqO-u-r",
        "colab_type": "code",
        "colab": {}
      },
      "source": [
        "df_train['tabulet_x_qmobilephone'] = df_train['v18q1'] * df_train['qmobilephone']\n",
        "df_test['tabulet_x_qmobilephone'] = df_test['v18q1'] * df_test['qmobilephone']"
      ],
      "execution_count": 0,
      "outputs": []
    },
    {
      "cell_type": "code",
      "metadata": {
        "id": "pYect7iH-u63",
        "colab_type": "code",
        "colab": {}
      },
      "source": [
        "# wall and roof\n",
        "for col1 in ['epared1', 'epared2', 'epared3']:\n",
        "    for col2 in ['etecho1', 'etecho2', 'etecho3']:\n",
        "        new_col_name = 'new_{}_x_{}'.format(col1, col2)\n",
        "        df_train[new_col_name] = df_train[col1] * df_train[col2]\n",
        "        df_test[new_col_name] = df_test[col1] * df_test[col2]\n",
        "        \n",
        "# wall and floor\n",
        "for col1 in ['epared1', 'epared2', 'epared3']:\n",
        "    for col2 in ['eviv1', 'eviv2', 'eviv3']:\n",
        "        new_col_name = 'new_{}_x_{}'.format(col1, col2)\n",
        "        df_train[new_col_name] = df_train[col1] * df_train[col2]\n",
        "        df_test[new_col_name] = df_test[col1] * df_test[col2]\n",
        "\n",
        "# roof and floor\n",
        "for col1 in ['etecho1', 'etecho2', 'etecho3']:\n",
        "    for col2 in ['eviv1', 'eviv2', 'eviv3']:\n",
        "        new_col_name = 'new_{}_x_{}'.format(col1, col2)\n",
        "        df_train[new_col_name] = df_train[col1] * df_train[col2]\n",
        "        df_test[new_col_name] = df_test[col1] * df_test[col2]"
      ],
      "execution_count": 0,
      "outputs": []
    },
    {
      "cell_type": "code",
      "metadata": {
        "id": "0C8-1UOa-u3O",
        "colab_type": "code",
        "colab": {}
      },
      "source": [
        "for col1 in ['epared1', 'epared2', 'epared3']:\n",
        "    for col2 in ['etecho1', 'etecho2', 'etecho3']:\n",
        "        for col3 in ['eviv1', 'eviv2', 'eviv3']:\n",
        "            new_col_name = 'new_{}_x_{}_x_{}'.format(col1, col2, col3)\n",
        "            df_train[new_col_name] = df_train[col1] * df_train[col2] * df_train[col3]\n",
        "            df_test[new_col_name] = df_test[col1] * df_test[col2] * df_train[col3]"
      ],
      "execution_count": 0,
      "outputs": []
    },
    {
      "cell_type": "code",
      "metadata": {
        "id": "ShrTDVSx-uzV",
        "colab_type": "code",
        "outputId": "82c5dfbc-7c7d-477b-e25a-a9ace209aec3",
        "colab": {
          "base_uri": "https://localhost:8080/",
          "height": 35
        }
      },
      "source": [
        "print(df_train.shape, df_test.shape)"
      ],
      "execution_count": 0,
      "outputs": [
        {
          "output_type": "stream",
          "text": [
            "(9557, 322) (23856, 321)\n"
          ],
          "name": "stdout"
        }
      ]
    },
    {
      "cell_type": "markdown",
      "metadata": {
        "id": "vbD_wHyr_0JR",
        "colab_type": "text"
      },
      "source": [
        "결국 지금 새로운 feature 을 생성하는 원리는 단순히 df 열들의 단순한 스칼라 곱을 포문에 의해 진행하는 식으로 이루어짐. \n",
        "\n",
        "이번엔 electricity 와 energy -> energy, toilet 과  rubbish disposal 을 other infra, toilet 과 water provision 을 water 로 새로 만들고자함"
      ]
    },
    {
      "cell_type": "code",
      "metadata": {
        "id": "g5KgMXnK-PF-",
        "colab_type": "code",
        "colab": {}
      },
      "source": [
        "for col1 in ['public', 'planpri', 'noelec', 'coopele']:\n",
        "    for col2 in ['energcocinar1', 'energcocinar2', 'energcocinar3', 'energcocinar4']:\n",
        "        new_col_name = 'new_{}_x_{}'.format(col1, col2)\n",
        "        df_train[new_col_name] = df_train[col1] * df_train[col2]\n",
        "        df_test[new_col_name] = df_test[col1] * df_test[col2]"
      ],
      "execution_count": 0,
      "outputs": []
    },
    {
      "cell_type": "code",
      "metadata": {
        "id": "MzPTCR6NALLS",
        "colab_type": "code",
        "colab": {}
      },
      "source": [
        "for col1 in ['sanitario1', 'sanitario2', 'sanitario3', 'sanitario5', 'sanitario6']:\n",
        "    for col2 in ['elimbasu1', 'elimbasu2', 'elimbasu3', 'elimbasu4', 'elimbasu5', 'elimbasu6']:\n",
        "        new_col_name = 'new_{}_x_{}'.format(col1, col2)\n",
        "        df_train[new_col_name] = df_train[col1] * df_train[col2]\n",
        "        df_test[new_col_name] = df_test[col1] * df_test[col2]"
      ],
      "execution_count": 0,
      "outputs": []
    },
    {
      "cell_type": "code",
      "metadata": {
        "id": "g-neu1XRAMuY",
        "colab_type": "code",
        "colab": {}
      },
      "source": [
        "for col1 in ['abastaguadentro', 'abastaguafuera', 'abastaguano']:\n",
        "    for col2 in ['sanitario1', 'sanitario2', 'sanitario3', 'sanitario5', 'sanitario6']:\n",
        "        new_col_name = 'new_{}_x_{}'.format(col1, col2)\n",
        "        df_train[new_col_name] = df_train[col1] * df_train[col2]\n",
        "        df_test[new_col_name] = df_test[col1] * df_test[col2]"
      ],
      "execution_count": 0,
      "outputs": []
    },
    {
      "cell_type": "code",
      "metadata": {
        "id": "TLTRtroeAOsx",
        "colab_type": "code",
        "outputId": "6d349ac8-6ba6-4177-f71c-b0bac467891f",
        "colab": {
          "base_uri": "https://localhost:8080/",
          "height": 35
        }
      },
      "source": [
        "print(df_train.shape, df_test.shape)"
      ],
      "execution_count": 0,
      "outputs": [
        {
          "output_type": "stream",
          "text": [
            "(9557, 383) (23856, 382)\n"
          ],
          "name": "stdout"
        }
      ]
    },
    {
      "cell_type": "markdown",
      "metadata": {
        "id": "6FhQn9eGAzbZ",
        "colab_type": "text"
      },
      "source": [
        "교육과 영역 정보를 합쳐서 education zone 으로. 근데 이 둘을 그냥 곱해도 되나 ? --> binary 라서 괜찮나봄"
      ]
    },
    {
      "cell_type": "code",
      "metadata": {
        "id": "0puO6sDoBCPr",
        "colab_type": "code",
        "outputId": "4ed4f468-0854-4e13-a60d-d39c9451584a",
        "colab": {
          "base_uri": "https://localhost:8080/",
          "height": 53
        }
      },
      "source": [
        "description.loc[description['varname'] == 'instlevel1', 'description']"
      ],
      "execution_count": 0,
      "outputs": [
        {
          "output_type": "execute_result",
          "data": {
            "text/plain": [
              "103     =1 no level of education\n",
              "Name: description, dtype: object"
            ]
          },
          "metadata": {
            "tags": []
          },
          "execution_count": 94
        }
      ]
    },
    {
      "cell_type": "code",
      "metadata": {
        "id": "m9PTf6tzAYtV",
        "colab_type": "code",
        "colab": {}
      },
      "source": [
        "for col1 in ['area1', 'area2']:\n",
        "    for col2 in ['instlevel1', 'instlevel2', 'instlevel3', 'instlevel4', 'instlevel5', 'instlevel6', 'instlevel7', 'instlevel8', 'instlevel9']:\n",
        "        new_col_name = 'new_{}_x_{}'.format(col1, col2)\n",
        "        df_train[new_col_name] = df_train[col1] * df_train[col2]\n",
        "        df_test[new_col_name] = df_test[col1] * df_test[col2]"
      ],
      "execution_count": 0,
      "outputs": []
    },
    {
      "cell_type": "code",
      "metadata": {
        "id": "ER60vUSrAYpd",
        "colab_type": "code",
        "colab": {}
      },
      "source": [
        "for col1 in ['lugar1', 'lugar2', 'lugar3', 'lugar4', 'lugar5', 'lugar6']:\n",
        "    for col2 in ['instlevel1', 'instlevel2', 'instlevel3', 'instlevel4', 'instlevel5', 'instlevel6', 'instlevel7', 'instlevel8', 'instlevel9']:\n",
        "        new_col_name = 'new_{}_x_{}'.format(col1, col2)\n",
        "        df_train[new_col_name] = df_train[col1] * df_train[col2]\n",
        "        df_test[new_col_name] = df_test[col1] * df_test[col2]"
      ],
      "execution_count": 0,
      "outputs": []
    },
    {
      "cell_type": "code",
      "metadata": {
        "id": "9zpKsadaAYlK",
        "colab_type": "code",
        "outputId": "66755818-5a11-4d68-80c3-1a661620a663",
        "colab": {
          "base_uri": "https://localhost:8080/",
          "height": 35
        }
      },
      "source": [
        "print(df_train.shape, df_test.shape)"
      ],
      "execution_count": 0,
      "outputs": [
        {
          "output_type": "stream",
          "text": [
            "(9557, 455) (23856, 454)\n"
          ],
          "name": "stdout"
        }
      ]
    },
    {
      "cell_type": "code",
      "metadata": {
        "id": "p-3VVuh1AYhU",
        "colab_type": "code",
        "colab": {}
      },
      "source": [
        "df_train['electronics'] = df_train['computer'] * df_train['mobilephone'] * df_train['television'] * df_train['v18q'] * df_train['refrig']\n",
        "df_test['electronics'] = df_test['computer'] * df_test['mobilephone'] * df_test['television'] * df_test['v18q'] * df_test['refrig']\n",
        "\n",
        "df_train['no_appliances'] = df_train['refrig'] + df_train['computer'] + df_train['television'] + df_train['mobilephone']\n",
        "df_test['no_appliances'] = df_test['refrig'] + df_test['computer'] + df_test['television'] + df_test['mobilephone']"
      ],
      "execution_count": 0,
      "outputs": []
    },
    {
      "cell_type": "code",
      "metadata": {
        "id": "hVoSWIoAAYdO",
        "colab_type": "code",
        "colab": {}
      },
      "source": [
        "for col1 in ['paredblolad', 'paredzocalo', 'paredpreb', 'pareddes', 'paredmad', 'paredzinc', 'paredfibras', 'paredother']:\n",
        "    for col2 in ['pisomoscer', 'pisocemento', 'pisoother', 'pisonatur', 'pisonotiene', 'pisomadera']:\n",
        "        new_col_name = 'new_{}_x_{}'.format(col1, col2)\n",
        "        df_train[new_col_name] = df_train[col1] * df_train[col2]\n",
        "        df_test[new_col_name] = df_test[col1] * df_test[col2]\n",
        "\n",
        "for col1 in ['pisomoscer', 'pisocemento', 'pisoother', 'pisonatur', 'pisonotiene', 'pisomadera']:\n",
        "    for col2 in ['techozinc', 'techoentrepiso', 'techocane', 'techootro']:\n",
        "        new_col_name = 'new_{}_x_{}'.format(col1, col2)\n",
        "        df_train[new_col_name] = df_train[col1] * df_train[col2]\n",
        "        df_test[new_col_name] = df_test[col1] * df_test[col2]\n",
        "        \n",
        "for col1 in ['paredblolad', 'paredzocalo', 'paredpreb', 'pareddes', 'paredmad', 'paredzinc', 'paredfibras', 'paredother']:\n",
        "    for col2 in ['techozinc', 'techoentrepiso', 'techocane', 'techootro']:\n",
        "        new_col_name = 'new_{}_x_{}'.format(col1, col2)\n",
        "        df_train[new_col_name] = df_train[col1] * df_train[col2]\n",
        "        df_test[new_col_name] = df_test[col1] * df_test[col2]        \n",
        "        \n",
        "for col1 in ['paredblolad', 'paredzocalo', 'paredpreb', 'pareddes', 'paredmad', 'paredzinc', 'paredfibras', 'paredother']:\n",
        "    for col2 in ['pisomoscer', 'pisocemento', 'pisoother', 'pisonatur', 'pisonotiene', 'pisomadera']:\n",
        "        for col3 in ['techozinc', 'techoentrepiso', 'techocane', 'techootro']:\n",
        "            new_col_name = 'new_{}_x_{}_x_{}'.format(col1, col2, col3)\n",
        "            df_train[new_col_name] = df_train[col1] * df_train[col2] * df_train[col3]\n",
        "            df_test[new_col_name] = df_test[col1] * df_test[col2] * df_train[col3]"
      ],
      "execution_count": 0,
      "outputs": []
    },
    {
      "cell_type": "code",
      "metadata": {
        "id": "_mAa1jWqBRty",
        "colab_type": "code",
        "outputId": "ac095e8f-9cbd-49bb-9b58-4b091f060419",
        "colab": {
          "base_uri": "https://localhost:8080/",
          "height": 35
        }
      },
      "source": [
        "print(df_train.shape, df_test.shape)"
      ],
      "execution_count": 0,
      "outputs": [
        {
          "output_type": "stream",
          "text": [
            "(9557, 733) (23856, 732)\n"
          ],
          "name": "stdout"
        }
      ]
    },
    {
      "cell_type": "markdown",
      "metadata": {
        "id": "b3L3pOA-Bjzo",
        "colab_type": "text"
      },
      "source": [
        "열심히 만든 피쳐에서 하나만 값이 있는 것 들은 지우기. 즉 대부분의 경우 모든 값이 0으로 나온 애들은 지우겠다는 소리"
      ]
    },
    {
      "cell_type": "code",
      "metadata": {
        "id": "L-mpJTT8AYZa",
        "colab_type": "code",
        "outputId": "77d90692-1ae4-4831-b0a4-9cebab6763f9",
        "colab": {
          "base_uri": "https://localhost:8080/",
          "height": 53
        }
      },
      "source": [
        "df_train['elimbasu5'].value_counts()"
      ],
      "execution_count": 0,
      "outputs": [
        {
          "output_type": "execute_result",
          "data": {
            "text/plain": [
              "0    9557\n",
              "Name: elimbasu5, dtype: int64"
            ]
          },
          "metadata": {
            "tags": []
          },
          "execution_count": 97
        }
      ]
    },
    {
      "cell_type": "code",
      "metadata": {
        "id": "ne1brsw0AYVb",
        "colab_type": "code",
        "colab": {}
      },
      "source": [
        "cols_with_only_one_value = []\n",
        "for col in df_train.columns:\n",
        "    if col == 'Target':\n",
        "        continue\n",
        "    if df_train[col].value_counts().shape[0] == 1 or df_test[col].value_counts().shape[0] == 1:\n",
        "        print(col)\n",
        "        cols_with_only_one_value.append(col)"
      ],
      "execution_count": 0,
      "outputs": []
    },
    {
      "cell_type": "code",
      "metadata": {
        "id": "oEShjgUnAYRf",
        "colab_type": "code",
        "colab": {}
      },
      "source": [
        "df_train.drop(cols_with_only_one_value, axis=1, inplace=True)\n",
        "df_test.drop(cols_with_only_one_value, axis=1, inplace=True)"
      ],
      "execution_count": 0,
      "outputs": []
    },
    {
      "cell_type": "code",
      "metadata": {
        "id": "KgkONKlYAYNF",
        "colab_type": "code",
        "colab": {}
      },
      "source": [
        "cols_train = np.array(sorted([col for col in df_train.columns if col != 'Target']))\n",
        "cols_test = np.array(sorted(df_test.columns))"
      ],
      "execution_count": 0,
      "outputs": []
    },
    {
      "cell_type": "code",
      "metadata": {
        "id": "Q3kSq9JOCrCE",
        "colab_type": "code",
        "outputId": "d16000e8-85fa-4b04-8172-437c073173f4",
        "colab": {
          "base_uri": "https://localhost:8080/",
          "height": 35
        }
      },
      "source": [
        "len(cols_train)"
      ],
      "execution_count": 0,
      "outputs": [
        {
          "output_type": "execute_result",
          "data": {
            "text/plain": [
              "515"
            ]
          },
          "metadata": {
            "tags": []
          },
          "execution_count": 103
        }
      ]
    },
    {
      "cell_type": "code",
      "metadata": {
        "id": "HWuSizP4Cxh6",
        "colab_type": "code",
        "outputId": "b57f1dde-25d9-4299-8990-7ef571381f5c",
        "colab": {
          "base_uri": "https://localhost:8080/",
          "height": 35
        }
      },
      "source": [
        "(cols_train == cols_test).sum()"
      ],
      "execution_count": 0,
      "outputs": [
        {
          "output_type": "execute_result",
          "data": {
            "text/plain": [
              "515"
            ]
          },
          "metadata": {
            "tags": []
          },
          "execution_count": 105
        }
      ]
    },
    {
      "cell_type": "code",
      "metadata": {
        "id": "tXZr1wCICbIr",
        "colab_type": "code",
        "outputId": "8ca09439-e6fb-4115-ef55-60564dab4b4d",
        "colab": {
          "base_uri": "https://localhost:8080/",
          "height": 35
        }
      },
      "source": [
        "(cols_train == cols_test).sum() == len(cols_train)"
      ],
      "execution_count": 0,
      "outputs": [
        {
          "output_type": "execute_result",
          "data": {
            "text/plain": [
              "True"
            ]
          },
          "metadata": {
            "tags": []
          },
          "execution_count": 102
        }
      ]
    },
    {
      "cell_type": "markdown",
      "metadata": {
        "id": "E6m3J3IaCZF-",
        "colab_type": "text"
      },
      "source": [
        "\n",
        "2.4 Aggregation features\n",
        "---\n",
        "\n",
        "aggregate based on 'idhogar' values."
      ]
    },
    {
      "cell_type": "code",
      "metadata": {
        "id": "40nUxxJQAYJV",
        "colab_type": "code",
        "colab": {}
      },
      "source": [
        "def max_min(x):\n",
        "    return x.max() - x.min()"
      ],
      "execution_count": 0,
      "outputs": []
    },
    {
      "cell_type": "markdown",
      "metadata": {
        "id": "46_KpmXuD8f1",
        "colab_type": "text"
      },
      "source": [
        "tqdm 은 progress 를 보여주는 라이브러리 \n",
        "https://github.com/tqdm/tqdm"
      ]
    },
    {
      "cell_type": "code",
      "metadata": {
        "id": "QNEKiqTfAYFO",
        "colab_type": "code",
        "outputId": "a157daac-1675-4147-f5a8-13cc10ab1193",
        "colab": {
          "base_uri": "https://localhost:8080/",
          "height": 71
        }
      },
      "source": [
        "agg_train = pd.DataFrame()\n",
        "agg_test = pd.DataFrame()\n",
        "\n",
        "for item in tqdm(family_size_features):\n",
        "    for i, function in enumerate(['mean', 'std', 'min', 'max', 'sum', 'count', max_min]):\n",
        "        group_train = df_train[item].groupby(df_train['idhogar']).agg(function)\n",
        "        group_test = df_test[item].groupby(df_test['idhogar']).agg(function)\n",
        "        if i == 6:\n",
        "            new_col = item + '_new_' + 'max_min'\n",
        "        else:\n",
        "            new_col = item + '_new_' + function\n",
        "        agg_train[new_col] = group_train\n",
        "        agg_test[new_col] = group_test\n",
        "        \n",
        "print('new aggregate train set has {} rows, and {} features'.format(agg_train.shape[0], agg_train.shape[1]))\n",
        "print('new aggregate test set has {} rows, and {} features'.format(agg_test.shape[0], agg_test.shape[1]))"
      ],
      "execution_count": 0,
      "outputs": [
        {
          "output_type": "stream",
          "text": [
            "100%|██████████| 15/15 [00:26<00:00,  1.74s/it]"
          ],
          "name": "stderr"
        },
        {
          "output_type": "stream",
          "text": [
            "new aggregate train set has 2988 rows, and 105 features\n",
            "new aggregate test set has 7352 rows, and 105 features\n"
          ],
          "name": "stdout"
        },
        {
          "output_type": "stream",
          "text": [
            "\n"
          ],
          "name": "stderr"
        }
      ]
    },
    {
      "cell_type": "code",
      "metadata": {
        "id": "7dzbN7cFAX_h",
        "colab_type": "code",
        "outputId": "163b9194-3d90-41cf-aadf-fcb53b2897fd",
        "colab": {
          "base_uri": "https://localhost:8080/",
          "height": 71
        }
      },
      "source": [
        "aggr_list = ['rez_esc', 'dis', 'male', 'female', \n",
        "             'estadocivil1', 'estadocivil2', 'estadocivil3', 'estadocivil4', 'estadocivil5', 'estadocivil6', 'estadocivil7', \n",
        "             'parentesco2', 'parentesco3', 'parentesco4', 'parentesco5', 'parentesco6', 'parentesco7', 'parentesco8', 'parentesco9', 'parentesco10', \n",
        "             'parentesco11', 'parentesco12',\n",
        "             'instlevel1', 'instlevel2', 'instlevel3', 'instlevel4', 'instlevel5', 'instlevel6', 'instlevel7', 'instlevel8', 'instlevel9',\n",
        "             'epared1', 'epared2', 'epared3', 'etecho1', 'etecho2', 'etecho3', 'eviv1', 'eviv2', 'eviv3', 'refrig', 'television', 'mobilephone',\n",
        "             'area1', 'area2', 'v18q', 'edjef']\n",
        "\n",
        "for item in tqdm(aggr_list):\n",
        "    for function in ['count', 'sum']:\n",
        "        group_train = df_train[item].groupby(df_train['idhogar']).agg(function)\n",
        "        group_test = df_test[item].groupby(df_test['idhogar']).agg(function)\n",
        "        new_col = item + '_new1_' + function\n",
        "        agg_train[new_col] = group_train\n",
        "        agg_test[new_col] = group_test\n",
        "print('new aggregate train set has {} rows, and {} features'.format(agg_train.shape[0], agg_train.shape[1]))\n",
        "print('new aggregate test set has {} rows, and {} features'.format(agg_test.shape[0], agg_test.shape[1]))"
      ],
      "execution_count": 0,
      "outputs": [
        {
          "output_type": "stream",
          "text": [
            "100%|██████████| 47/47 [00:01<00:00, 31.91it/s]"
          ],
          "name": "stderr"
        },
        {
          "output_type": "stream",
          "text": [
            "new aggregate train set has 2988 rows, and 199 features\n",
            "new aggregate test set has 7352 rows, and 199 features\n"
          ],
          "name": "stdout"
        },
        {
          "output_type": "stream",
          "text": [
            "\n"
          ],
          "name": "stderr"
        }
      ]
    },
    {
      "cell_type": "code",
      "metadata": {
        "id": "Zmkc9oiMAX4h",
        "colab_type": "code",
        "outputId": "3f8804c3-bcd5-4338-c73b-5e855e31495f",
        "colab": {
          "base_uri": "https://localhost:8080/",
          "height": 71
        }
      },
      "source": [
        "aggr_list = ['escolari', 'age', 'escolari_age', 'dependency', 'bedrooms', 'overcrowding', 'rooms', 'qmobilephone', 'v18q1']\n",
        "\n",
        "for item in tqdm(aggr_list):\n",
        "    for function in ['mean','std','min','max','sum', 'count', max_min]:\n",
        "        group_train = df_train[item].groupby(df_train['idhogar']).agg(function)\n",
        "        group_test = df_test[item].groupby(df_test['idhogar']).agg(function)\n",
        "        if i == 6:\n",
        "            new_col = item + '_new2_' + 'max_min'\n",
        "        else:\n",
        "            new_col = item + '_new2_' + function\n",
        "        agg_train[new_col] = group_train\n",
        "        agg_test[new_col] = group_test\n",
        "\n",
        "print('new aggregate train set has {} rows, and {} features'.format(agg_train.shape[0], agg_train.shape[1]))\n",
        "print('new aggregate test set has {} rows, and {} features'.format(agg_test.shape[0], agg_test.shape[1]))"
      ],
      "execution_count": 0,
      "outputs": [
        {
          "output_type": "stream",
          "text": [
            "100%|██████████| 9/9 [00:15<00:00,  1.75s/it]"
          ],
          "name": "stderr"
        },
        {
          "output_type": "stream",
          "text": [
            "new aggregate train set has 2988 rows, and 208 features\n",
            "new aggregate test set has 7352 rows, and 208 features\n"
          ],
          "name": "stdout"
        },
        {
          "output_type": "stream",
          "text": [
            "\n"
          ],
          "name": "stderr"
        }
      ]
    },
    {
      "cell_type": "code",
      "metadata": {
        "id": "XH-UaehaAXn4",
        "colab_type": "code",
        "outputId": "10ad06b1-b002-4f51-e614-31b8482d8838",
        "colab": {
          "base_uri": "https://localhost:8080/",
          "height": 35
        }
      },
      "source": [
        "agg_test = agg_test.reset_index()\n",
        "agg_train = agg_train.reset_index()\n",
        "\n",
        "train_agg = pd.merge(df_train, agg_train, on='idhogar')\n",
        "test = pd.merge(df_test, agg_test, on='idhogar')\n",
        "\n",
        "#fill all na as 0\n",
        "train_agg.fillna(value=0, inplace=True)\n",
        "test.fillna(value=0, inplace=True)\n",
        "\n",
        "print('train shape:', train_agg.shape, 'test shape:', test.shape)"
      ],
      "execution_count": 0,
      "outputs": [
        {
          "output_type": "stream",
          "text": [
            "train shape: (9557, 724) test shape: (23856, 723)\n"
          ],
          "name": "stdout"
        }
      ]
    },
    {
      "cell_type": "code",
      "metadata": {
        "id": "wyALuXYGJPXB",
        "colab_type": "code",
        "outputId": "18f1f070-4972-439f-94da-06ea4308c009",
        "colab": {
          "base_uri": "https://localhost:8080/",
          "height": 35
        }
      },
      "source": [
        "aggr_list = ['rez_esc', 'dis', 'male', 'female', \n",
        "                  'estadocivil1', 'estadocivil2', 'estadocivil3', 'estadocivil4', 'estadocivil5', 'estadocivil6', 'estadocivil7', \n",
        "                  'parentesco2', 'parentesco3', 'parentesco4', 'parentesco5', 'parentesco6', 'parentesco7', 'parentesco8', 'parentesco9', 'parentesco10', \n",
        "                  'parentesco11', 'parentesco12',\n",
        "                  'instlevel1', 'instlevel2', 'instlevel3', 'instlevel4', 'instlevel5', 'instlevel6', 'instlevel7', 'instlevel8', 'instlevel9',\n",
        "                 'epared1', 'epared2', 'epared3', 'etecho1', 'etecho2', 'etecho3', 'eviv1', 'eviv2', 'eviv3', 'refrig', 'television', 'mobilephone',\n",
        "            'area1', 'area2', 'v18q', 'edjef']\n",
        "    \n",
        "for lugar in ['lugar1', 'lugar2', 'lugar3', 'lugar4', 'lugar5', 'lugar6']:\n",
        "    group_train = df_train[[lugar, 'idhogar'] + aggr_list].groupby([lugar, 'idhogar']).sum().reset_index()\n",
        "    group_train.columns = [lugar, 'idhogar'] + ['new3_{}_idhogar_{}'.format(lugar, col) for col in group_train][2:]\n",
        "\n",
        "    group_test = df_test[[lugar, 'idhogar'] + aggr_list].groupby([lugar, 'idhogar']).sum().reset_index()\n",
        "    group_test.columns = [lugar, 'idhogar'] + ['new3_{}_idhogar_{}'.format(lugar, col) for col in group_test][2:]\n",
        "\n",
        "    train_agg = pd.merge(train_agg, group_train, on=[lugar, 'idhogar'])\n",
        "    test = pd.merge(test, group_test, on=[lugar, 'idhogar'])\n",
        "    \n",
        "print('train shape:', train_agg.shape, 'test shape:', test.shape)"
      ],
      "execution_count": 0,
      "outputs": [
        {
          "output_type": "stream",
          "text": [
            "train shape: (9557, 1006) test shape: (23856, 1005)\n"
          ],
          "name": "stdout"
        }
      ]
    },
    {
      "cell_type": "code",
      "metadata": {
        "id": "5txKuvpyJWBg",
        "colab_type": "code",
        "outputId": "c6d1afe6-9ab5-453c-b736-3031eeaf0521",
        "colab": {
          "base_uri": "https://localhost:8080/",
          "height": 35
        }
      },
      "source": [
        "aggr_list = ['rez_esc', 'dis', 'male', 'female', \n",
        "                  'estadocivil1', 'estadocivil2', 'estadocivil3', 'estadocivil4', 'estadocivil5', 'estadocivil6', 'estadocivil7', \n",
        "                  'parentesco2', 'parentesco3', 'parentesco4', 'parentesco5', 'parentesco6', 'parentesco7', 'parentesco8', 'parentesco9', 'parentesco10', \n",
        "                  'parentesco11', 'parentesco12',\n",
        "                  'instlevel1', 'instlevel2', 'instlevel3', 'instlevel4', 'instlevel5', 'instlevel6', 'instlevel7', 'instlevel8', 'instlevel9',\n",
        "                 'epared1', 'epared2', 'epared3', 'etecho1', 'etecho2', 'etecho3', 'eviv1', 'eviv2', 'eviv3', 'refrig', 'television', 'mobilephone',\n",
        "            'area1', 'area2', 'v18q', 'edjef']\n",
        "    \n",
        "for lugar in ['lugar1', 'lugar2', 'lugar3', 'lugar4', 'lugar5', 'lugar6']:\n",
        "    group_train = df_train[[lugar, 'idhogar'] + aggr_list].groupby([lugar, 'idhogar']).sum().reset_index()\n",
        "    group_train.columns = [lugar, 'idhogar'] + ['new4_{}_idhogar_{}'.format(lugar, col) for col in group_train][2:]\n",
        "\n",
        "    group_test = df_test[[lugar, 'idhogar'] + aggr_list].groupby([lugar, 'idhogar']).sum().reset_index()\n",
        "    group_test.columns = [lugar, 'idhogar'] + ['new4_{}_idhogar_{}'.format(lugar, col) for col in group_test][2:]\n",
        "\n",
        "    train_agg = pd.merge(train_agg, group_train, on=[lugar, 'idhogar'])\n",
        "    test = pd.merge(test, group_test, on=[lugar, 'idhogar'])\n",
        "    \n",
        "print('train shape:', train_agg.shape, 'test shape:', test.shape)"
      ],
      "execution_count": 0,
      "outputs": [
        {
          "output_type": "stream",
          "text": [
            "train shape: (9557, 1288) test shape: (23856, 1287)\n"
          ],
          "name": "stdout"
        }
      ]
    },
    {
      "cell_type": "code",
      "metadata": {
        "id": "uxBUvietJY5x",
        "colab_type": "code",
        "outputId": "7c36ae50-cd67-4639-ee91-14315ecb1367",
        "colab": {
          "base_uri": "https://localhost:8080/",
          "height": 53
        }
      },
      "source": [
        "cols_nums = ['age', 'meaneduc', 'dependency', \n",
        "             'hogar_nin', 'hogar_adul', 'hogar_mayor', 'hogar_total',\n",
        "             'bedrooms', 'overcrowding']\n",
        "\n",
        "for function in tqdm(['mean','std','min','max','sum', 'count', max_min]):\n",
        "    for lugar in ['lugar1', 'lugar2', 'lugar3', 'lugar4', 'lugar5', 'lugar6']:\n",
        "        group_train = df_train[[lugar, 'idhogar'] + aggr_list].groupby([lugar, 'idhogar']).agg(function).reset_index()\n",
        "        group_train.columns = [lugar, 'idhogar'] + ['new5_{}_idhogar_{}_{}'.format(lugar, col, function) for col in group_train][2:]\n",
        "\n",
        "        group_test = df_test[[lugar, 'idhogar'] + aggr_list].groupby([lugar, 'idhogar']).agg(function).reset_index()\n",
        "        group_test.columns = [lugar, 'idhogar'] + ['new5_{}_idhogar_{}_{}'.format(lugar, col, function) for col in group_test][2:]\n",
        "\n",
        "        train_agg = pd.merge(train_agg, group_train, on=[lugar, 'idhogar'])\n",
        "        test = pd.merge(test, group_test, on=[lugar, 'idhogar'])\n",
        "        \n",
        "print('train shape:', train_agg.shape, 'test shape:', test.shape)"
      ],
      "execution_count": 0,
      "outputs": [
        {
          "output_type": "stream",
          "text": [
            "100%|██████████| 7/7 [07:55<00:00, 140.65s/it]"
          ],
          "name": "stderr"
        },
        {
          "output_type": "stream",
          "text": [
            "train shape: (9557, 3262) test shape: (23856, 3261)\n"
          ],
          "name": "stdout"
        },
        {
          "output_type": "stream",
          "text": [
            "\n"
          ],
          "name": "stderr"
        }
      ]
    },
    {
      "cell_type": "code",
      "metadata": {
        "id": "1jQkY98MJcOS",
        "colab_type": "code",
        "colab": {}
      },
      "source": [
        "train = train_agg.query('parentesco1==1')\n",
        "train['dependency'].replace(np.inf, 0, inplace=True)\n",
        "test['dependency'].replace(np.inf, 0, inplace=True)"
      ],
      "execution_count": 0,
      "outputs": []
    },
    {
      "cell_type": "code",
      "metadata": {
        "id": "oJ3KZxthJcIt",
        "colab_type": "code",
        "colab": {}
      },
      "source": [
        "submission = test[['Id']]\n",
        "\n",
        "#Remove useless feature to reduce dimension\n",
        "train.drop(columns=['idhogar','Id', 'agesq', 'hogar_adul', 'SQBescolari', 'SQBage', 'SQBhogar_total', 'SQBedjefe', 'SQBhogar_nin', 'SQBovercrowding', 'SQBdependency', 'SQBmeaned'], inplace=True)\n",
        "test.drop(columns=['idhogar','Id',  'agesq', 'hogar_adul', 'SQBescolari', 'SQBage', 'SQBhogar_total', 'SQBedjefe', 'SQBhogar_nin', 'SQBovercrowding', 'SQBdependency', 'SQBmeaned'], inplace=True)\n",
        "\n",
        "correlation = train.corr()\n",
        "correlation = correlation['Target'].sort_values(ascending=False)"
      ],
      "execution_count": 0,
      "outputs": []
    },
    {
      "cell_type": "code",
      "metadata": {
        "id": "XRyFlGEHJcDn",
        "colab_type": "code",
        "outputId": "03459df8-9f19-4088-a6c8-385ef983e1e0",
        "colab": {
          "base_uri": "https://localhost:8080/",
          "height": 35
        }
      },
      "source": [
        "print('final_data size', train.shape, test.shape)"
      ],
      "execution_count": 0,
      "outputs": [
        {
          "output_type": "stream",
          "text": [
            "final_data size (2973, 3250) (23856, 3249)\n"
          ],
          "name": "stdout"
        }
      ]
    },
    {
      "cell_type": "code",
      "metadata": {
        "id": "75Z7bEBmJdwr",
        "colab_type": "code",
        "outputId": "5efc80d7-d617-4aae-9bb4-7103f14d0cf2",
        "colab": {
          "base_uri": "https://localhost:8080/",
          "height": 773
        }
      },
      "source": [
        "print(f'The most 20 positive feature: \\n{correlation.head(40)}')"
      ],
      "execution_count": 0,
      "outputs": [
        {
          "output_type": "stream",
          "text": [
            "The most 20 positive feature: \n",
            "Target                                1.000000\n",
            "new5_lugar5_idhogar_edjef_max         0.334254\n",
            "new5_lugar1_idhogar_edjef_max         0.334254\n",
            "new5_lugar6_idhogar_edjef_max         0.334254\n",
            "new5_lugar2_idhogar_edjef_max         0.334254\n",
            "new5_lugar4_idhogar_edjef_max         0.334254\n",
            "new5_lugar3_idhogar_edjef_max         0.334254\n",
            "new5_lugar2_idhogar_edjef_mean        0.333873\n",
            "new5_lugar4_idhogar_edjef_mean        0.333873\n",
            "new5_lugar5_idhogar_edjef_mean        0.333873\n",
            "new5_lugar3_idhogar_edjef_mean        0.333873\n",
            "new5_lugar1_idhogar_edjef_mean        0.333873\n",
            "new5_lugar6_idhogar_edjef_mean        0.333873\n",
            "new5_lugar2_idhogar_edjef_min         0.333791\n",
            "edjef                                 0.333791\n",
            "new5_lugar5_idhogar_edjef_min         0.333791\n",
            "new5_lugar6_idhogar_edjef_min         0.333791\n",
            "new5_lugar1_idhogar_edjef_min         0.333791\n",
            "escolari                              0.333791\n",
            "new5_lugar4_idhogar_edjef_min         0.333791\n",
            "new5_lugar3_idhogar_edjef_min         0.333791\n",
            "meaneduc                              0.331489\n",
            "new5_lugar4_idhogar_instlevel8_max    0.317815\n",
            "new5_lugar1_idhogar_instlevel8_max    0.317815\n",
            "new5_lugar2_idhogar_instlevel8_max    0.317815\n",
            "new5_lugar5_idhogar_instlevel8_max    0.317815\n",
            "new5_lugar3_idhogar_instlevel8_max    0.317815\n",
            "new5_lugar6_idhogar_instlevel8_max    0.317815\n",
            "phones-per-capita                     0.299026\n",
            "new5_lugar3_idhogar_instlevel8_std    0.298251\n",
            "new5_lugar6_idhogar_instlevel8_std    0.298251\n",
            "new5_lugar5_idhogar_instlevel8_std    0.298251\n",
            "new5_lugar1_idhogar_instlevel8_std    0.298251\n",
            "new5_lugar4_idhogar_instlevel8_std    0.298251\n",
            "new5_lugar2_idhogar_instlevel8_std    0.298251\n",
            "new_epared3_x_eviv3                   0.298196\n",
            "cielorazo                             0.295249\n",
            "new4_lugar5_idhogar_instlevel8        0.294277\n",
            "new5_lugar5_idhogar_instlevel8_sum    0.294277\n",
            "new5_lugar1_idhogar_instlevel8_sum    0.294277\n",
            "Name: Target, dtype: float64\n"
          ],
          "name": "stdout"
        }
      ]
    },
    {
      "cell_type": "code",
      "metadata": {
        "id": "Bk7Rj9ISJdrq",
        "colab_type": "code",
        "outputId": "b29f75b4-4437-4d06-98e7-a078c01839cd",
        "colab": {
          "base_uri": "https://localhost:8080/",
          "height": 413
        }
      },
      "source": [
        "print(f'The most 20 negative feature: \\n{correlation.tail(20)}')"
      ],
      "execution_count": 0,
      "outputs": [
        {
          "output_type": "stream",
          "text": [
            "The most 20 negative feature: \n",
            "new5_lugar5_idhogar_television_<function max_min at 0x7f57ae83f400>    NaN\n",
            "new5_lugar5_idhogar_mobilephone_<function max_min at 0x7f57ae83f400>   NaN\n",
            "new5_lugar5_idhogar_area1_<function max_min at 0x7f57ae83f400>         NaN\n",
            "new5_lugar5_idhogar_area2_<function max_min at 0x7f57ae83f400>         NaN\n",
            "new5_lugar5_idhogar_v18q_<function max_min at 0x7f57ae83f400>          NaN\n",
            "new5_lugar6_idhogar_epared1_<function max_min at 0x7f57ae83f400>       NaN\n",
            "new5_lugar6_idhogar_epared2_<function max_min at 0x7f57ae83f400>       NaN\n",
            "new5_lugar6_idhogar_epared3_<function max_min at 0x7f57ae83f400>       NaN\n",
            "new5_lugar6_idhogar_etecho1_<function max_min at 0x7f57ae83f400>       NaN\n",
            "new5_lugar6_idhogar_etecho2_<function max_min at 0x7f57ae83f400>       NaN\n",
            "new5_lugar6_idhogar_etecho3_<function max_min at 0x7f57ae83f400>       NaN\n",
            "new5_lugar6_idhogar_eviv1_<function max_min at 0x7f57ae83f400>         NaN\n",
            "new5_lugar6_idhogar_eviv2_<function max_min at 0x7f57ae83f400>         NaN\n",
            "new5_lugar6_idhogar_eviv3_<function max_min at 0x7f57ae83f400>         NaN\n",
            "new5_lugar6_idhogar_refrig_<function max_min at 0x7f57ae83f400>        NaN\n",
            "new5_lugar6_idhogar_television_<function max_min at 0x7f57ae83f400>    NaN\n",
            "new5_lugar6_idhogar_mobilephone_<function max_min at 0x7f57ae83f400>   NaN\n",
            "new5_lugar6_idhogar_area1_<function max_min at 0x7f57ae83f400>         NaN\n",
            "new5_lugar6_idhogar_area2_<function max_min at 0x7f57ae83f400>         NaN\n",
            "new5_lugar6_idhogar_v18q_<function max_min at 0x7f57ae83f400>          NaN\n",
            "Name: Target, dtype: float64\n"
          ],
          "name": "stdout"
        }
      ]
    },
    {
      "cell_type": "markdown",
      "metadata": {
        "id": "uJ_Q9fL2Jt05",
        "colab_type": "text"
      },
      "source": [
        "# 3. Feature selection using shap"
      ]
    },
    {
      "cell_type": "code",
      "metadata": {
        "id": "vILVY88fJdmU",
        "colab_type": "code",
        "colab": {}
      },
      "source": [
        "binary_cat_features = [col for col in train.columns if train[col].value_counts().shape[0] == 2]\n",
        "object_features = ['edjefe', 'edjefa']\n",
        "\n",
        "categorical_feats = binary_cat_features + object_features"
      ],
      "execution_count": 0,
      "outputs": []
    },
    {
      "cell_type": "code",
      "metadata": {
        "id": "A_INM_32JdhO",
        "colab_type": "code",
        "colab": {}
      },
      "source": [
        "def evaluate_macroF1_lgb(truth, predictions):  \n",
        "    # this follows the discussion in https://github.com/Microsoft/LightGBM/issues/1483\n",
        "    pred_labels = predictions.reshape(len(np.unique(truth)),-1).argmax(axis=0)\n",
        "    f1 = f1_score(truth, pred_labels, average='macro')\n",
        "    return ('macroF1', f1, True)"
      ],
      "execution_count": 0,
      "outputs": []
    },
    {
      "cell_type": "code",
      "metadata": {
        "id": "hNeETPxNJdcX",
        "colab_type": "code",
        "colab": {}
      },
      "source": [
        "y = train['Target']\n",
        "train.drop(columns=['Target'], inplace=True)"
      ],
      "execution_count": 0,
      "outputs": []
    },
    {
      "cell_type": "markdown",
      "metadata": {
        "id": "6THjWS5WKLSh",
        "colab_type": "text"
      },
      "source": [
        "divmod??? 가 뭐여\n",
        "\n",
        "숫자와 나눌 숫자를 입력하면 \n",
        "몫과 나머지 를 반환함\n",
        "\n"
      ]
    },
    {
      "cell_type": "code",
      "metadata": {
        "id": "fDNdgX64JdWy",
        "colab_type": "code",
        "colab": {}
      },
      "source": [
        "def print_execution_time(start):\n",
        "    end = time.time()\n",
        "    hours, rem = divmod(end-start, 3600)\n",
        "    minutes, seconds = divmod(rem, 60)\n",
        "    print('*'*20, \"Execution ended in {:0>2}h {:0>2}m {:05.2f}s\".format(int(hours),int(minutes),seconds), '*'*20)"
      ],
      "execution_count": 0,
      "outputs": []
    },
    {
      "cell_type": "code",
      "metadata": {
        "id": "eHzmgSkpJdR5",
        "colab_type": "code",
        "colab": {}
      },
      "source": [
        "def extract_good_features_using_shap_LGB(params, SEED):\n",
        "    clf = lgb.LGBMClassifier(objective='multiclass',\n",
        "                             random_state=1989,\n",
        "                             max_depth=params['max_depth'], \n",
        "                             learning_rate=params['learning_rate'],  \n",
        "                             silent=True, \n",
        "                             metric='multi_logloss',\n",
        "                             n_jobs=-1, n_estimators=10000, \n",
        "                             class_weight='balanced',\n",
        "                             colsample_bytree = params['colsample_bytree'], \n",
        "                             min_split_gain= params['min_split_gain'], \n",
        "                             bagging_freq = params['bagging_freq'],\n",
        "                             min_child_weight=params['min_child_weight'],\n",
        "                             num_leaves = params['num_leaves'], \n",
        "                             subsample = params['subsample'],\n",
        "                             reg_alpha= params['reg_alpha'],\n",
        "                             reg_lambda= params['reg_lambda'],\n",
        "                             num_class=len(np.unique(y)),\n",
        "                             bagging_seed=SEED,\n",
        "                             seed=SEED,\n",
        "                            )\n",
        "\n",
        "    kfold = 5\n",
        "    kf = StratifiedKFold(n_splits=kfold, shuffle=True)\n",
        "    feat_importance_df  = pd.DataFrame()\n",
        "\n",
        "    for i, (train_index, test_index) in enumerate(kf.split(train, y)):\n",
        "        print('='*30, '{} of {} folds'.format(i+1, kfold), '='*30)\n",
        "        start = time.time()\n",
        "        X_train, X_val = train.iloc[train_index], train.iloc[test_index]\n",
        "        y_train, y_val = y.iloc[train_index], y.iloc[test_index]\n",
        "        clf.fit(X_train, y_train, eval_set=[(X_train, y_train), (X_val, y_val)], eval_metric=evaluate_macroF1_lgb, categorical_feature=categorical_feats,\n",
        "                early_stopping_rounds=500, verbose=500)\n",
        "        shap_values = shap.TreeExplainer(clf.booster_).shap_values(X_train)\n",
        "        fold_importance_df  = pd.DataFrame()\n",
        "        fold_importance_df['feature'] = X_train.columns\n",
        "        fold_importance_df['shap_values'] = abs(np.array(shap_values)[:, :].mean(1).mean(0))\n",
        "        fold_importance_df['feat_imp'] = clf.feature_importances_\n",
        "        feat_importance_df = pd.concat([feat_importance_df, fold_importance_df])\n",
        "        print_execution_time(start)\n",
        "\n",
        "    feat_importance_df_shap = feat_importance_df.groupby('feature').mean().sort_values('shap_values', ascending=False).reset_index()\n",
        "#     feat_importance_df_shap['shap_cumsum'] = feat_importance_df_shap['shap_values'].cumsum() / feat_importance_df_shap['shap_values'].sum()\n",
        "#     good_features = feat_importance_df_shap.loc[feat_importance_df_shap['shap_cumsum'] < 0.999].feature\n",
        "    return feat_importance_df_shap"
      ],
      "execution_count": 0,
      "outputs": []
    },
    {
      "cell_type": "code",
      "metadata": {
        "id": "GJKLJywMJdNE",
        "colab_type": "code",
        "outputId": "395790fe-4015-4ffc-bcab-2f41043571a7",
        "colab": {
          "base_uri": "https://localhost:8080/",
          "height": 1000
        }
      },
      "source": [
        "total_shap_df  = pd.DataFrame()\n",
        "NUM_ITERATIONS = 50\n",
        "for SEED in range(NUM_ITERATIONS):\n",
        "    print('#'*40, '{} of {} iterations'.format(SEED+1, NUM_ITERATIONS), '#' * 40)\n",
        "    params = {'max_depth': np.random.choice([5, 6, 7, 8, 10, 12, -1]),\n",
        "             'learning_rate': np.random.rand() * 0.02,\n",
        "              'colsample_bytree': np.random.rand() * (1 - 0.5) + 0.5,\n",
        "              'subsample': np.random.rand() * (1 - 0.5) + 0.5,\n",
        "              'min_split_gain': np.random.rand() * 0.2,\n",
        "              'num_leaves': np.random.choice([32, 48, 64]),\n",
        "              'reg_alpha': np.random.rand() * 2,\n",
        "              'reg_lambda': np.random.rand() *2,\n",
        "              'bagging_freq': np.random.randint(4) +1,\n",
        "              'min_child_weight': np.random.randint(100) + 20\n",
        "             }\n",
        "    temp_shap_df = extract_good_features_using_shap_LGB(params, SEED)\n",
        "    total_shap_df = pd.concat([total_shap_df, temp_shap_df])"
      ],
      "execution_count": 0,
      "outputs": [
        {
          "output_type": "stream",
          "text": [
            "######################################## 1 of 50 iterations ########################################\n",
            "============================== 1 of 5 folds ==============================\n",
            "Training until validation scores don't improve for 500 rounds.\n",
            "[500]\ttraining's multi_logloss: 1.35022\ttraining's macroF1: 0.453655\tvalid_1's multi_logloss: 1.33857\tvalid_1's macroF1: 0.387258\n",
            "Early stopping, best iteration is:\n",
            "[47]\ttraining's multi_logloss: 1.38259\ttraining's macroF1: 0.440413\tvalid_1's multi_logloss: 1.38123\tvalid_1's macroF1: 0.412135\n",
            "******************** Execution ended in 00h 00m 22.79s ********************\n",
            "============================== 2 of 5 folds ==============================\n",
            "Training until validation scores don't improve for 500 rounds.\n",
            "[500]\ttraining's multi_logloss: 1.35094\ttraining's macroF1: 0.465992\tvalid_1's multi_logloss: 1.34063\tvalid_1's macroF1: 0.411444\n",
            "Early stopping, best iteration is:\n",
            "[299]\ttraining's multi_logloss: 1.36436\ttraining's macroF1: 0.463085\tvalid_1's multi_logloss: 1.35773\tvalid_1's macroF1: 0.416982\n",
            "******************** Execution ended in 00h 00m 33.24s ********************\n",
            "============================== 3 of 5 folds ==============================\n",
            "Training until validation scores don't improve for 500 rounds.\n",
            "[500]\ttraining's multi_logloss: 1.34896\ttraining's macroF1: 0.445054\tvalid_1's multi_logloss: 1.33106\tvalid_1's macroF1: 0.372348\n",
            "Early stopping, best iteration is:\n",
            "[17]\ttraining's multi_logloss: 1.38489\ttraining's macroF1: 0.456798\tvalid_1's multi_logloss: 1.3842\tvalid_1's macroF1: 0.357959\n",
            "******************** Execution ended in 00h 00m 22.46s ********************\n",
            "============================== 4 of 5 folds ==============================\n",
            "Training until validation scores don't improve for 500 rounds.\n",
            "[500]\ttraining's multi_logloss: 1.34975\ttraining's macroF1: 0.456362\tvalid_1's multi_logloss: 1.33948\tvalid_1's macroF1: 0.371192\n",
            "[1000]\ttraining's multi_logloss: 1.31849\ttraining's macroF1: 0.462232\tvalid_1's multi_logloss: 1.30241\tvalid_1's macroF1: 0.370307\n",
            "Early stopping, best iteration is:\n",
            "[940]\ttraining's multi_logloss: 1.32208\ttraining's macroF1: 0.460856\tvalid_1's multi_logloss: 1.3064\tvalid_1's macroF1: 0.379468\n",
            "******************** Execution ended in 00h 00m 58.68s ********************\n",
            "============================== 5 of 5 folds ==============================\n",
            "Training until validation scores don't improve for 500 rounds.\n",
            "[500]\ttraining's multi_logloss: 1.34965\ttraining's macroF1: 0.456341\tvalid_1's multi_logloss: 1.33463\tvalid_1's macroF1: 0.376811\n",
            "Early stopping, best iteration is:\n",
            "[11]\ttraining's multi_logloss: 1.38537\ttraining's macroF1: 0.444843\tvalid_1's multi_logloss: 1.38492\tvalid_1's macroF1: 0.38705\n",
            "******************** Execution ended in 00h 00m 22.29s ********************\n",
            "######################################## 2 of 50 iterations ########################################\n",
            "============================== 1 of 5 folds ==============================\n",
            "Training until validation scores don't improve for 500 rounds.\n",
            "[500]\ttraining's multi_logloss: 0.951891\ttraining's macroF1: 0.583428\tvalid_1's multi_logloss: 1.04983\tvalid_1's macroF1: 0.42373\n",
            "Early stopping, best iteration is:\n",
            "[153]\ttraining's multi_logloss: 1.11466\ttraining's macroF1: 0.515917\tvalid_1's multi_logloss: 1.10106\tvalid_1's macroF1: 0.43531\n",
            "******************** Execution ended in 00h 00m 35.28s ********************\n",
            "============================== 2 of 5 folds ==============================\n",
            "Training until validation scores don't improve for 500 rounds.\n",
            "[500]\ttraining's multi_logloss: 0.956382\ttraining's macroF1: 0.581963\tvalid_1's multi_logloss: 1.03413\tvalid_1's macroF1: 0.398718\n",
            "Early stopping, best iteration is:\n",
            "[128]\ttraining's multi_logloss: 1.14271\ttraining's macroF1: 0.496893\tvalid_1's multi_logloss: 1.11001\tvalid_1's macroF1: 0.413851\n",
            "******************** Execution ended in 00h 00m 34.53s ********************\n",
            "============================== 3 of 5 folds ==============================\n",
            "Training until validation scores don't improve for 500 rounds.\n",
            "[500]\ttraining's multi_logloss: 0.933265\ttraining's macroF1: 0.581679\tvalid_1's multi_logloss: 1.15724\tvalid_1's macroF1: 0.363566\n",
            "Early stopping, best iteration is:\n",
            "[388]\ttraining's multi_logloss: 0.970145\ttraining's macroF1: 0.563115\tvalid_1's multi_logloss: 1.15317\tvalid_1's macroF1: 0.360153\n",
            "******************** Execution ended in 00h 00m 47.24s ********************\n",
            "============================== 4 of 5 folds ==============================\n",
            "Training until validation scores don't improve for 500 rounds.\n",
            "[500]\ttraining's multi_logloss: 0.959061\ttraining's macroF1: 0.58021\tvalid_1's multi_logloss: 1.00012\tvalid_1's macroF1: 0.455215\n",
            "[1000]\ttraining's multi_logloss: 0.845667\ttraining's macroF1: 0.635739\tvalid_1's multi_logloss: 0.984831\tvalid_1's macroF1: 0.451442\n",
            "[1500]\ttraining's multi_logloss: 0.77081\ttraining's macroF1: 0.66629\tvalid_1's multi_logloss: 0.978\tvalid_1's macroF1: 0.450579\n",
            "Early stopping, best iteration is:\n",
            "[1095]\ttraining's multi_logloss: 0.829341\ttraining's macroF1: 0.641784\tvalid_1's multi_logloss: 0.985457\tvalid_1's macroF1: 0.463286\n",
            "******************** Execution ended in 00h 01m 19.87s ********************\n",
            "============================== 5 of 5 folds ==============================\n",
            "Training until validation scores don't improve for 500 rounds.\n",
            "[500]\ttraining's multi_logloss: 0.956472\ttraining's macroF1: 0.576996\tvalid_1's multi_logloss: 0.998546\tvalid_1's macroF1: 0.415356\n",
            "Early stopping, best iteration is:\n",
            "[111]\ttraining's multi_logloss: 1.15588\ttraining's macroF1: 0.491962\tvalid_1's multi_logloss: 1.10439\tvalid_1's macroF1: 0.447893\n",
            "******************** Execution ended in 00h 00m 33.28s ********************\n",
            "######################################## 3 of 50 iterations ########################################\n",
            "============================== 1 of 5 folds ==============================\n",
            "Training until validation scores don't improve for 500 rounds.\n",
            "[500]\ttraining's multi_logloss: 0.896872\ttraining's macroF1: 0.650015\tvalid_1's multi_logloss: 1.03081\tvalid_1's macroF1: 0.393451\n",
            "[1000]\ttraining's multi_logloss: 0.745195\ttraining's macroF1: 0.708453\tvalid_1's multi_logloss: 1.02347\tvalid_1's macroF1: 0.405189\n",
            "Early stopping, best iteration is:\n",
            "[889]\ttraining's multi_logloss: 0.771817\ttraining's macroF1: 0.69839\tvalid_1's multi_logloss: 1.02483\tvalid_1's macroF1: 0.411581\n",
            "******************** Execution ended in 00h 01m 15.53s ********************\n",
            "============================== 2 of 5 folds ==============================\n",
            "Training until validation scores don't improve for 500 rounds.\n",
            "[500]\ttraining's multi_logloss: 0.912109\ttraining's macroF1: 0.638038\tvalid_1's multi_logloss: 0.994295\tvalid_1's macroF1: 0.431246\n",
            "[1000]\ttraining's multi_logloss: 0.759046\ttraining's macroF1: 0.708954\tvalid_1's multi_logloss: 0.967677\tvalid_1's macroF1: 0.446649\n",
            "[1500]\ttraining's multi_logloss: 0.662376\ttraining's macroF1: 0.755132\tvalid_1's multi_logloss: 0.956499\tvalid_1's macroF1: 0.443168\n",
            "Early stopping, best iteration is:\n",
            "[1147]\ttraining's multi_logloss: 0.726435\ttraining's macroF1: 0.725102\tvalid_1's multi_logloss: 0.962971\tvalid_1's macroF1: 0.454739\n",
            "******************** Execution ended in 00h 01m 28.99s ********************\n",
            "============================== 3 of 5 folds ==============================\n",
            "Training until validation scores don't improve for 500 rounds.\n",
            "[500]\ttraining's multi_logloss: 0.90286\ttraining's macroF1: 0.659089\tvalid_1's multi_logloss: 1.04879\tvalid_1's macroF1: 0.395518\n",
            "Early stopping, best iteration is:\n",
            "[108]\ttraining's multi_logloss: 1.17441\ttraining's macroF1: 0.548402\tvalid_1's multi_logloss: 1.17252\tvalid_1's macroF1: 0.405118\n",
            "******************** Execution ended in 00h 00m 34.10s ********************\n",
            "============================== 4 of 5 folds ==============================\n",
            "Training until validation scores don't improve for 500 rounds.\n",
            "[500]\ttraining's multi_logloss: 0.88984\ttraining's macroF1: 0.641819\tvalid_1's multi_logloss: 1.03238\tvalid_1's macroF1: 0.412935\n",
            "[1000]\ttraining's multi_logloss: 0.739388\ttraining's macroF1: 0.71265\tvalid_1's multi_logloss: 1.02396\tvalid_1's macroF1: 0.40151\n",
            "Early stopping, best iteration is:\n",
            "[825]\ttraining's multi_logloss: 0.782831\ttraining's macroF1: 0.692813\tvalid_1's multi_logloss: 1.02645\tvalid_1's macroF1: 0.418097\n",
            "******************** Execution ended in 00h 01m 10.89s ********************\n",
            "============================== 5 of 5 folds ==============================\n",
            "Training until validation scores don't improve for 500 rounds.\n",
            "[500]\ttraining's multi_logloss: 0.900376\ttraining's macroF1: 0.638575\tvalid_1's multi_logloss: 1.01359\tvalid_1's macroF1: 0.430762\n",
            "Early stopping, best iteration is:\n",
            "[39]\ttraining's multi_logloss: 1.2912\ttraining's macroF1: 0.514855\tvalid_1's multi_logloss: 1.27209\tvalid_1's macroF1: 0.436482\n",
            "******************** Execution ended in 00h 00m 29.92s ********************\n",
            "######################################## 4 of 50 iterations ########################################\n",
            "============================== 1 of 5 folds ==============================\n",
            "Training until validation scores don't improve for 500 rounds.\n",
            "[500]\ttraining's multi_logloss: 1.00663\ttraining's macroF1: 0.546316\tvalid_1's multi_logloss: 1.01057\tvalid_1's macroF1: 0.42471\n",
            "[1000]\ttraining's multi_logloss: 0.910317\ttraining's macroF1: 0.594767\tvalid_1's multi_logloss: 1.00018\tvalid_1's macroF1: 0.415092\n",
            "Early stopping, best iteration is:\n",
            "[666]\ttraining's multi_logloss: 0.968821\ttraining's macroF1: 0.570995\tvalid_1's multi_logloss: 1.00433\tvalid_1's macroF1: 0.435263\n",
            "******************** Execution ended in 00h 00m 43.67s ********************\n",
            "============================== 2 of 5 folds ==============================\n",
            "Training until validation scores don't improve for 500 rounds.\n",
            "[500]\ttraining's multi_logloss: 0.995226\ttraining's macroF1: 0.545135\tvalid_1's multi_logloss: 1.09198\tvalid_1's macroF1: 0.364864\n",
            "Early stopping, best iteration is:\n",
            "[108]\ttraining's multi_logloss: 1.1856\ttraining's macroF1: 0.492275\tvalid_1's multi_logloss: 1.15506\tvalid_1's macroF1: 0.412184\n",
            "******************** Execution ended in 00h 00m 24.09s ********************\n",
            "============================== 3 of 5 folds ==============================\n",
            "Training until validation scores don't improve for 500 rounds.\n",
            "[500]\ttraining's multi_logloss: 1.0095\ttraining's macroF1: 0.545647\tvalid_1's multi_logloss: 1.04845\tvalid_1's macroF1: 0.396201\n",
            "[1000]\ttraining's multi_logloss: 0.910694\ttraining's macroF1: 0.598773\tvalid_1's multi_logloss: 1.0411\tvalid_1's macroF1: 0.401084\n",
            "Early stopping, best iteration is:\n",
            "[973]\ttraining's multi_logloss: 0.915013\ttraining's macroF1: 0.598216\tvalid_1's multi_logloss: 1.03861\tvalid_1's macroF1: 0.407221\n",
            "******************** Execution ended in 00h 00m 54.19s ********************\n",
            "============================== 4 of 5 folds ==============================\n",
            "Training until validation scores don't improve for 500 rounds.\n",
            "[500]\ttraining's multi_logloss: 0.994879\ttraining's macroF1: 0.541207\tvalid_1's multi_logloss: 1.06785\tvalid_1's macroF1: 0.400952\n",
            "[1000]\ttraining's multi_logloss: 0.898289\ttraining's macroF1: 0.583192\tvalid_1's multi_logloss: 1.06454\tvalid_1's macroF1: 0.396792\n",
            "Early stopping, best iteration is:\n",
            "[808]\ttraining's multi_logloss: 0.929607\ttraining's macroF1: 0.573433\tvalid_1's multi_logloss: 1.05922\tvalid_1's macroF1: 0.405723\n",
            "******************** Execution ended in 00h 00m 48.47s ********************\n",
            "============================== 5 of 5 folds ==============================\n",
            "Training until validation scores don't improve for 500 rounds.\n",
            "[500]\ttraining's multi_logloss: 1.00617\ttraining's macroF1: 0.542656\tvalid_1's multi_logloss: 1.09154\tvalid_1's macroF1: 0.421015\n",
            "Early stopping, best iteration is:\n",
            "[404]\ttraining's multi_logloss: 1.03242\ttraining's macroF1: 0.533723\tvalid_1's multi_logloss: 1.09187\tvalid_1's macroF1: 0.431783\n",
            "******************** Execution ended in 00h 00m 34.37s ********************\n",
            "######################################## 5 of 50 iterations ########################################\n",
            "============================== 1 of 5 folds ==============================\n",
            "Training until validation scores don't improve for 500 rounds.\n",
            "[500]\ttraining's multi_logloss: 0.984506\ttraining's macroF1: 0.568687\tvalid_1's multi_logloss: 1.05261\tvalid_1's macroF1: 0.392501\n",
            "Early stopping, best iteration is:\n",
            "[64]\ttraining's multi_logloss: 1.26538\ttraining's macroF1: 0.474049\tvalid_1's multi_logloss: 1.23832\tvalid_1's macroF1: 0.399767\n",
            "******************** Execution ended in 00h 00m 36.40s ********************\n",
            "============================== 2 of 5 folds ==============================\n",
            "Training until validation scores don't improve for 500 rounds.\n",
            "[500]\ttraining's multi_logloss: 0.982753\ttraining's macroF1: 0.565699\tvalid_1's multi_logloss: 1.05548\tvalid_1's macroF1: 0.420563\n",
            "Early stopping, best iteration is:\n",
            "[228]\ttraining's multi_logloss: 1.10368\ttraining's macroF1: 0.523351\tvalid_1's multi_logloss: 1.10609\tvalid_1's macroF1: 0.435271\n",
            "******************** Execution ended in 00h 00m 46.92s ********************\n",
            "============================== 3 of 5 folds ==============================\n",
            "Training until validation scores don't improve for 500 rounds.\n",
            "[500]\ttraining's multi_logloss: 0.983006\ttraining's macroF1: 0.572421\tvalid_1's multi_logloss: 1.03077\tvalid_1's macroF1: 0.441261\n",
            "Early stopping, best iteration is:\n",
            "[447]\ttraining's multi_logloss: 1.00112\ttraining's macroF1: 0.565102\tvalid_1's multi_logloss: 1.03474\tvalid_1's macroF1: 0.445253\n",
            "******************** Execution ended in 00h 00m 58.51s ********************\n",
            "============================== 4 of 5 folds ==============================\n",
            "Training until validation scores don't improve for 500 rounds.\n",
            "[500]\ttraining's multi_logloss: 0.985746\ttraining's macroF1: 0.571999\tvalid_1's multi_logloss: 1.06639\tvalid_1's macroF1: 0.404372\n",
            "[1000]\ttraining's multi_logloss: 0.871436\ttraining's macroF1: 0.626252\tvalid_1's multi_logloss: 1.05302\tvalid_1's macroF1: 0.394742\n",
            "Early stopping, best iteration is:\n",
            "[528]\ttraining's multi_logloss: 0.977605\ttraining's macroF1: 0.576268\tvalid_1's multi_logloss: 1.06453\tvalid_1's macroF1: 0.411081\n",
            "******************** Execution ended in 00h 01m 03.82s ********************\n",
            "============================== 5 of 5 folds ==============================\n",
            "Training until validation scores don't improve for 500 rounds.\n",
            "[500]\ttraining's multi_logloss: 0.99525\ttraining's macroF1: 0.570086\tvalid_1's multi_logloss: 1.00819\tvalid_1's macroF1: 0.444755\n",
            "[1000]\ttraining's multi_logloss: 0.877062\ttraining's macroF1: 0.626301\tvalid_1's multi_logloss: 0.985882\tvalid_1's macroF1: 0.448935\n",
            "Early stopping, best iteration is:\n",
            "[685]\ttraining's multi_logloss: 0.94405\ttraining's macroF1: 0.593831\tvalid_1's multi_logloss: 0.995822\tvalid_1's macroF1: 0.455906\n",
            "******************** Execution ended in 00h 01m 13.82s ********************\n",
            "######################################## 6 of 50 iterations ########################################\n",
            "============================== 1 of 5 folds ==============================\n",
            "Training until validation scores don't improve for 500 rounds.\n",
            "[500]\ttraining's multi_logloss: 1.05379\ttraining's macroF1: 0.618529\tvalid_1's multi_logloss: 1.11721\tvalid_1's macroF1: 0.410654\n",
            "Early stopping, best iteration is:\n",
            "[1]\ttraining's multi_logloss: 1.38514\ttraining's macroF1: 0.457088\tvalid_1's multi_logloss: 1.38498\tvalid_1's macroF1: 0.420138\n",
            "******************** Execution ended in 00h 00m 38.68s ********************\n",
            "============================== 2 of 5 folds ==============================\n",
            "Training until validation scores don't improve for 500 rounds.\n",
            "[500]\ttraining's multi_logloss: 1.05246\ttraining's macroF1: 0.6212\tvalid_1's multi_logloss: 1.10093\tvalid_1's macroF1: 0.413463\n",
            "[1000]\ttraining's multi_logloss: 0.896497\ttraining's macroF1: 0.673361\tvalid_1's multi_logloss: 1.03546\tvalid_1's macroF1: 0.414854\n",
            "Early stopping, best iteration is:\n",
            "[668]\ttraining's multi_logloss: 0.990342\ttraining's macroF1: 0.638703\tvalid_1's multi_logloss: 1.06959\tvalid_1's macroF1: 0.422364\n",
            "******************** Execution ended in 00h 01m 37.75s ********************\n",
            "============================== 3 of 5 folds ==============================\n",
            "Training until validation scores don't improve for 500 rounds.\n",
            "[500]\ttraining's multi_logloss: 1.05596\ttraining's macroF1: 0.612862\tvalid_1's multi_logloss: 1.10453\tvalid_1's macroF1: 0.386263\n",
            "[1000]\ttraining's multi_logloss: 0.90137\ttraining's macroF1: 0.66436\tvalid_1's multi_logloss: 1.03189\tvalid_1's macroF1: 0.389155\n",
            "[1500]\ttraining's multi_logloss: 0.800842\ttraining's macroF1: 0.69507\tvalid_1's multi_logloss: 1.00688\tvalid_1's macroF1: 0.398151\n",
            "Early stopping, best iteration is:\n",
            "[1358]\ttraining's multi_logloss: 0.82633\ttraining's macroF1: 0.68707\tvalid_1's multi_logloss: 1.01219\tvalid_1's macroF1: 0.403797\n",
            "******************** Execution ended in 00h 02m 35.92s ********************\n",
            "============================== 4 of 5 folds ==============================\n",
            "Training until validation scores don't improve for 500 rounds.\n",
            "[500]\ttraining's multi_logloss: 1.05711\ttraining's macroF1: 0.608664\tvalid_1's multi_logloss: 1.08694\tvalid_1's macroF1: 0.44117\n",
            "Early stopping, best iteration is:\n",
            "[251]\ttraining's multi_logloss: 1.18226\ttraining's macroF1: 0.570749\tvalid_1's multi_logloss: 1.17655\tvalid_1's macroF1: 0.450161\n",
            "******************** Execution ended in 00h 01m 01.02s ********************\n",
            "============================== 5 of 5 folds ==============================\n",
            "Training until validation scores don't improve for 500 rounds.\n",
            "[500]\ttraining's multi_logloss: 1.05062\ttraining's macroF1: 0.640031\tvalid_1's multi_logloss: 1.10913\tvalid_1's macroF1: 0.377587\n",
            "Early stopping, best iteration is:\n",
            "[15]\ttraining's multi_logloss: 1.36935\ttraining's macroF1: 0.543038\tvalid_1's multi_logloss: 1.36845\tvalid_1's macroF1: 0.396021\n",
            "******************** Execution ended in 00h 00m 40.49s ********************\n",
            "######################################## 7 of 50 iterations ########################################\n",
            "============================== 1 of 5 folds ==============================\n",
            "Training until validation scores don't improve for 500 rounds.\n",
            "[500]\ttraining's multi_logloss: 1.35994\ttraining's macroF1: 0.427271\tvalid_1's multi_logloss: 1.34579\tvalid_1's macroF1: 0.355833\n",
            "Early stopping, best iteration is:\n",
            "[10]\ttraining's multi_logloss: 1.38572\ttraining's macroF1: 0.415529\tvalid_1's multi_logloss: 1.38539\tvalid_1's macroF1: 0.379474\n",
            "******************** Execution ended in 00h 00m 29.10s ********************\n",
            "============================== 2 of 5 folds ==============================\n",
            "Training until validation scores don't improve for 500 rounds.\n",
            "[500]\ttraining's multi_logloss: 1.36042\ttraining's macroF1: 0.439372\tvalid_1's multi_logloss: 1.34815\tvalid_1's macroF1: 0.404345\n",
            "Early stopping, best iteration is:\n",
            "[23]\ttraining's multi_logloss: 1.385\ttraining's macroF1: 0.432756\tvalid_1's multi_logloss: 1.38433\tvalid_1's macroF1: 0.425343\n",
            "******************** Execution ended in 00h 00m 30.41s ********************\n",
            "============================== 3 of 5 folds ==============================\n",
            "Training until validation scores don't improve for 500 rounds.\n",
            "[500]\ttraining's multi_logloss: 1.35898\ttraining's macroF1: 0.448215\tvalid_1's multi_logloss: 1.35376\tvalid_1's macroF1: 0.325391\n",
            "Early stopping, best iteration is:\n",
            "[88]\ttraining's multi_logloss: 1.38119\ttraining's macroF1: 0.456977\tvalid_1's multi_logloss: 1.38014\tvalid_1's macroF1: 0.335552\n",
            "******************** Execution ended in 00h 00m 33.06s ********************\n",
            "============================== 4 of 5 folds ==============================\n",
            "Training until validation scores don't improve for 500 rounds.\n",
            "[500]\ttraining's multi_logloss: 1.35941\ttraining's macroF1: 0.433501\tvalid_1's multi_logloss: 1.35148\tvalid_1's macroF1: 0.377937\n",
            "[1000]\ttraining's multi_logloss: 1.33593\ttraining's macroF1: 0.435409\tvalid_1's multi_logloss: 1.32204\tvalid_1's macroF1: 0.386638\n",
            "[1500]\ttraining's multi_logloss: 1.31513\ttraining's macroF1: 0.443842\tvalid_1's multi_logloss: 1.29743\tvalid_1's macroF1: 0.386659\n",
            "Early stopping, best iteration is:\n",
            "[1268]\ttraining's multi_logloss: 1.32447\ttraining's macroF1: 0.43922\tvalid_1's multi_logloss: 1.30831\tvalid_1's macroF1: 0.394009\n",
            "******************** Execution ended in 00h 01m 38.13s ********************\n",
            "============================== 5 of 5 folds ==============================\n",
            "Training until validation scores don't improve for 500 rounds.\n",
            "[500]\ttraining's multi_logloss: 1.36038\ttraining's macroF1: 0.435037\tvalid_1's multi_logloss: 1.34979\tvalid_1's macroF1: 0.376325\n",
            "Early stopping, best iteration is:\n",
            "[5]\ttraining's multi_logloss: 1.38602\ttraining's macroF1: 0.425571\tvalid_1's multi_logloss: 1.38589\tvalid_1's macroF1: 0.402148\n",
            "******************** Execution ended in 00h 00m 29.49s ********************\n",
            "######################################## 8 of 50 iterations ########################################\n",
            "============================== 1 of 5 folds ==============================\n",
            "Training until validation scores don't improve for 500 rounds.\n",
            "[500]\ttraining's multi_logloss: 0.973667\ttraining's macroF1: 0.578997\tvalid_1's multi_logloss: 1.03939\tvalid_1's macroF1: 0.389507\n",
            "Early stopping, best iteration is:\n",
            "[151]\ttraining's multi_logloss: 1.14421\ttraining's macroF1: 0.531746\tvalid_1's multi_logloss: 1.10974\tvalid_1's macroF1: 0.406176\n",
            "******************** Execution ended in 00h 00m 32.26s ********************\n",
            "============================== 2 of 5 folds ==============================\n",
            "Training until validation scores don't improve for 500 rounds.\n",
            "[500]\ttraining's multi_logloss: 0.97657\ttraining's macroF1: 0.577075\tvalid_1's multi_logloss: 1.05476\tvalid_1's macroF1: 0.377056\n",
            "[1000]\ttraining's multi_logloss: 0.865345\ttraining's macroF1: 0.635054\tvalid_1's multi_logloss: 1.05083\tvalid_1's macroF1: 0.392009\n",
            "[1500]\ttraining's multi_logloss: 0.791889\ttraining's macroF1: 0.669648\tvalid_1's multi_logloss: 1.05098\tvalid_1's macroF1: 0.393485\n",
            "Early stopping, best iteration is:\n",
            "[1284]\ttraining's multi_logloss: 0.821108\ttraining's macroF1: 0.659313\tvalid_1's multi_logloss: 1.04896\tvalid_1's macroF1: 0.393838\n",
            "******************** Execution ended in 00h 01m 21.76s ********************\n",
            "============================== 3 of 5 folds ==============================\n",
            "Training until validation scores don't improve for 500 rounds.\n",
            "[500]\ttraining's multi_logloss: 0.981541\ttraining's macroF1: 0.559184\tvalid_1's multi_logloss: 1.04807\tvalid_1's macroF1: 0.404665\n",
            "[1000]\ttraining's multi_logloss: 0.869818\ttraining's macroF1: 0.621087\tvalid_1's multi_logloss: 1.03726\tvalid_1's macroF1: 0.393248\n",
            "Early stopping, best iteration is:\n",
            "[553]\ttraining's multi_logloss: 0.966835\ttraining's macroF1: 0.56344\tvalid_1's multi_logloss: 1.0462\tvalid_1's macroF1: 0.416301\n",
            "******************** Execution ended in 00h 00m 50.16s ********************\n",
            "============================== 4 of 5 folds ==============================\n",
            "Training until validation scores don't improve for 500 rounds.\n",
            "[500]\ttraining's multi_logloss: 0.988997\ttraining's macroF1: 0.559004\tvalid_1's multi_logloss: 1.01713\tvalid_1's macroF1: 0.443225\n",
            "[1000]\ttraining's multi_logloss: 0.879513\ttraining's macroF1: 0.613663\tvalid_1's multi_logloss: 1.00306\tvalid_1's macroF1: 0.444238\n",
            "Early stopping, best iteration is:\n",
            "[699]\ttraining's multi_logloss: 0.938062\ttraining's macroF1: 0.578765\tvalid_1's multi_logloss: 1.00845\tvalid_1's macroF1: 0.462959\n",
            "******************** Execution ended in 00h 00m 57.02s ********************\n",
            "============================== 5 of 5 folds ==============================\n",
            "Training until validation scores don't improve for 500 rounds.\n",
            "[500]\ttraining's multi_logloss: 0.982113\ttraining's macroF1: 0.552815\tvalid_1's multi_logloss: 1.07123\tvalid_1's macroF1: 0.417554\n",
            "[1000]\ttraining's multi_logloss: 0.875124\ttraining's macroF1: 0.600839\tvalid_1's multi_logloss: 1.06825\tvalid_1's macroF1: 0.418124\n",
            "[1500]\ttraining's multi_logloss: 0.801886\ttraining's macroF1: 0.645101\tvalid_1's multi_logloss: 1.06481\tvalid_1's macroF1: 0.419557\n",
            "Early stopping, best iteration is:\n",
            "[1131]\ttraining's multi_logloss: 0.853877\ttraining's macroF1: 0.616109\tvalid_1's multi_logloss: 1.06715\tvalid_1's macroF1: 0.429733\n",
            "******************** Execution ended in 00h 01m 15.60s ********************\n",
            "######################################## 9 of 50 iterations ########################################\n",
            "============================== 1 of 5 folds ==============================\n",
            "Training until validation scores don't improve for 500 rounds.\n",
            "[500]\ttraining's multi_logloss: 0.958567\ttraining's macroF1: 0.578159\tvalid_1's multi_logloss: 1.06101\tvalid_1's macroF1: 0.407788\n",
            "[1000]\ttraining's multi_logloss: 0.850261\ttraining's macroF1: 0.626133\tvalid_1's multi_logloss: 1.04983\tvalid_1's macroF1: 0.394321\n",
            "Early stopping, best iteration is:\n",
            "[573]\ttraining's multi_logloss: 0.938748\ttraining's macroF1: 0.586892\tvalid_1's multi_logloss: 1.05831\tvalid_1's macroF1: 0.413456\n",
            "******************** Execution ended in 00h 00m 54.44s ********************\n",
            "============================== 2 of 5 folds ==============================\n",
            "Training until validation scores don't improve for 500 rounds.\n",
            "[500]\ttraining's multi_logloss: 0.961379\ttraining's macroF1: 0.571993\tvalid_1's multi_logloss: 1.05501\tvalid_1's macroF1: 0.395143\n",
            "Early stopping, best iteration is:\n",
            "[286]\ttraining's multi_logloss: 1.03982\ttraining's macroF1: 0.531901\tvalid_1's multi_logloss: 1.06997\tvalid_1's macroF1: 0.40739\n",
            "******************** Execution ended in 00h 00m 41.07s ********************\n",
            "============================== 3 of 5 folds ==============================\n",
            "Training until validation scores don't improve for 500 rounds.\n",
            "[500]\ttraining's multi_logloss: 0.963337\ttraining's macroF1: 0.574582\tvalid_1's multi_logloss: 1.06387\tvalid_1's macroF1: 0.374273\n",
            "Early stopping, best iteration is:\n",
            "[80]\ttraining's multi_logloss: 1.21113\ttraining's macroF1: 0.485199\tvalid_1's multi_logloss: 1.18643\tvalid_1's macroF1: 0.39315\n",
            "******************** Execution ended in 00h 00m 31.00s ********************\n",
            "============================== 4 of 5 folds ==============================\n",
            "Training until validation scores don't improve for 500 rounds.\n",
            "[500]\ttraining's multi_logloss: 0.971978\ttraining's macroF1: 0.567158\tvalid_1's multi_logloss: 1.05047\tvalid_1's macroF1: 0.404001\n",
            "[1000]\ttraining's multi_logloss: 0.862345\ttraining's macroF1: 0.623473\tvalid_1's multi_logloss: 1.03394\tvalid_1's macroF1: 0.391094\n",
            "Early stopping, best iteration is:\n",
            "[571]\ttraining's multi_logloss: 0.952449\ttraining's macroF1: 0.577813\tvalid_1's multi_logloss: 1.04706\tvalid_1's macroF1: 0.416487\n",
            "******************** Execution ended in 00h 00m 53.89s ********************\n",
            "============================== 5 of 5 folds ==============================\n",
            "Training until validation scores don't improve for 500 rounds.\n",
            "[500]\ttraining's multi_logloss: 0.965589\ttraining's macroF1: 0.564321\tvalid_1's multi_logloss: 1.04622\tvalid_1's macroF1: 0.379438\n",
            "Early stopping, best iteration is:\n",
            "[85]\ttraining's multi_logloss: 1.20026\ttraining's macroF1: 0.484567\tvalid_1's multi_logloss: 1.16612\tvalid_1's macroF1: 0.408587\n",
            "******************** Execution ended in 00h 00m 31.97s ********************\n",
            "######################################## 10 of 50 iterations ########################################\n",
            "============================== 1 of 5 folds ==============================\n",
            "Training until validation scores don't improve for 500 rounds.\n",
            "[500]\ttraining's multi_logloss: 1.07619\ttraining's macroF1: 0.521719\tvalid_1's multi_logloss: 1.08102\tvalid_1's macroF1: 0.410839\n",
            "Early stopping, best iteration is:\n",
            "[89]\ttraining's multi_logloss: 1.2665\ttraining's macroF1: 0.466042\tvalid_1's multi_logloss: 1.23024\tvalid_1's macroF1: 0.419137\n",
            "******************** Execution ended in 00h 00m 28.93s ********************\n",
            "============================== 2 of 5 folds ==============================\n",
            "Training until validation scores don't improve for 500 rounds.\n",
            "[500]\ttraining's multi_logloss: 1.07903\ttraining's macroF1: 0.513866\tvalid_1's multi_logloss: 1.05393\tvalid_1's macroF1: 0.405521\n",
            "[1000]\ttraining's multi_logloss: 0.998016\ttraining's macroF1: 0.54788\tvalid_1's multi_logloss: 1.02758\tvalid_1's macroF1: 0.392522\n",
            "Early stopping, best iteration is:\n",
            "[584]\ttraining's multi_logloss: 1.06098\ttraining's macroF1: 0.518142\tvalid_1's multi_logloss: 1.04584\tvalid_1's macroF1: 0.413529\n",
            "******************** Execution ended in 00h 00m 49.91s ********************\n",
            "============================== 3 of 5 folds ==============================\n",
            "Training until validation scores don't improve for 500 rounds.\n",
            "[500]\ttraining's multi_logloss: 1.07403\ttraining's macroF1: 0.511896\tvalid_1's multi_logloss: 1.07685\tvalid_1's macroF1: 0.394477\n",
            "Early stopping, best iteration is:\n",
            "[158]\ttraining's multi_logloss: 1.21193\ttraining's macroF1: 0.481427\tvalid_1's multi_logloss: 1.16881\tvalid_1's macroF1: 0.413479\n",
            "******************** Execution ended in 00h 00m 31.85s ********************\n",
            "============================== 4 of 5 folds ==============================\n",
            "Training until validation scores don't improve for 500 rounds.\n",
            "[500]\ttraining's multi_logloss: 1.06869\ttraining's macroF1: 0.517914\tvalid_1's multi_logloss: 1.11114\tvalid_1's macroF1: 0.367206\n",
            "Early stopping, best iteration is:\n",
            "[107]\ttraining's multi_logloss: 1.24824\ttraining's macroF1: 0.461976\tvalid_1's multi_logloss: 1.2264\tvalid_1's macroF1: 0.386541\n",
            "******************** Execution ended in 00h 00m 29.28s ********************\n",
            "============================== 5 of 5 folds ==============================\n",
            "Training until validation scores don't improve for 500 rounds.\n",
            "[500]\ttraining's multi_logloss: 1.07384\ttraining's macroF1: 0.514952\tvalid_1's multi_logloss: 1.03018\tvalid_1's macroF1: 0.430929\n",
            "Early stopping, best iteration is:\n",
            "[490]\ttraining's multi_logloss: 1.07651\ttraining's macroF1: 0.518324\tvalid_1's multi_logloss: 1.03094\tvalid_1's macroF1: 0.434694\n",
            "******************** Execution ended in 00h 00m 45.57s ********************\n",
            "######################################## 11 of 50 iterations ########################################\n",
            "============================== 1 of 5 folds ==============================\n",
            "Training until validation scores don't improve for 500 rounds.\n",
            "[500]\ttraining's multi_logloss: 0.916234\ttraining's macroF1: 0.601996\tvalid_1's multi_logloss: 1.05803\tvalid_1's macroF1: 0.406142\n",
            "[1000]\ttraining's multi_logloss: 0.791662\ttraining's macroF1: 0.670625\tvalid_1's multi_logloss: 1.04694\tvalid_1's macroF1: 0.409881\n",
            "[1500]\ttraining's multi_logloss: 0.709918\ttraining's macroF1: 0.709122\tvalid_1's multi_logloss: 1.03929\tvalid_1's macroF1: 0.417923\n",
            "Early stopping, best iteration is:\n",
            "[1075]\ttraining's multi_logloss: 0.777306\ttraining's macroF1: 0.679022\tvalid_1's multi_logloss: 1.0447\tvalid_1's macroF1: 0.423201\n",
            "******************** Execution ended in 00h 01m 22.34s ********************\n",
            "============================== 2 of 5 folds ==============================\n",
            "Training until validation scores don't improve for 500 rounds.\n",
            "[500]\ttraining's multi_logloss: 0.930056\ttraining's macroF1: 0.605893\tvalid_1's multi_logloss: 1.04558\tvalid_1's macroF1: 0.385102\n",
            "[1000]\ttraining's multi_logloss: 0.800626\ttraining's macroF1: 0.669476\tvalid_1's multi_logloss: 1.03555\tvalid_1's macroF1: 0.400113\n",
            "Early stopping, best iteration is:\n",
            "[697]\ttraining's multi_logloss: 0.870697\ttraining's macroF1: 0.631574\tvalid_1's multi_logloss: 1.04187\tvalid_1's macroF1: 0.40916\n",
            "******************** Execution ended in 00h 01m 04.36s ********************\n",
            "============================== 3 of 5 folds ==============================\n",
            "Training until validation scores don't improve for 500 rounds.\n",
            "[500]\ttraining's multi_logloss: 0.920731\ttraining's macroF1: 0.600326\tvalid_1's multi_logloss: 1.04985\tvalid_1's macroF1: 0.38594\n",
            "Early stopping, best iteration is:\n",
            "[116]\ttraining's multi_logloss: 1.14951\ttraining's macroF1: 0.523624\tvalid_1's multi_logloss: 1.14595\tvalid_1's macroF1: 0.396\n",
            "******************** Execution ended in 00h 00m 34.77s ********************\n",
            "============================== 4 of 5 folds ==============================\n",
            "Training until validation scores don't improve for 500 rounds.\n",
            "[500]\ttraining's multi_logloss: 0.945268\ttraining's macroF1: 0.581385\tvalid_1's multi_logloss: 1.00571\tvalid_1's macroF1: 0.438946\n",
            "Early stopping, best iteration is:\n",
            "[315]\ttraining's multi_logloss: 1.02252\ttraining's macroF1: 0.563478\tvalid_1's multi_logloss: 1.02136\tvalid_1's macroF1: 0.46141\n",
            "******************** Execution ended in 00h 00m 45.12s ********************\n",
            "============================== 5 of 5 folds ==============================\n",
            "Training until validation scores don't improve for 500 rounds.\n",
            "[500]\ttraining's multi_logloss: 0.930829\ttraining's macroF1: 0.597548\tvalid_1's multi_logloss: 1.00928\tvalid_1's macroF1: 0.417647\n",
            "Early stopping, best iteration is:\n",
            "[176]\ttraining's multi_logloss: 1.09575\ttraining's macroF1: 0.522138\tvalid_1's multi_logloss: 1.07537\tvalid_1's macroF1: 0.440632\n",
            "******************** Execution ended in 00h 00m 37.72s ********************\n",
            "######################################## 12 of 50 iterations ########################################\n",
            "============================== 1 of 5 folds ==============================\n",
            "Training until validation scores don't improve for 500 rounds.\n",
            "[500]\ttraining's multi_logloss: 0.728114\ttraining's macroF1: 0.742639\tvalid_1's multi_logloss: 1.00739\tvalid_1's macroF1: 0.387978\n",
            "Early stopping, best iteration is:\n",
            "[77]\ttraining's multi_logloss: 1.18828\ttraining's macroF1: 0.576378\tvalid_1's multi_logloss: 1.21686\tvalid_1's macroF1: 0.393185\n",
            "******************** Execution ended in 00h 01m 07.38s ********************\n",
            "============================== 2 of 5 folds ==============================\n",
            "Training until validation scores don't improve for 500 rounds.\n",
            "[500]\ttraining's multi_logloss: 0.727013\ttraining's macroF1: 0.733697\tvalid_1's multi_logloss: 1.04362\tvalid_1's macroF1: 0.436489\n",
            "[1000]\ttraining's multi_logloss: 0.526889\ttraining's macroF1: 0.808395\tvalid_1's multi_logloss: 1.00504\tvalid_1's macroF1: 0.446643\n",
            "Early stopping, best iteration is:\n",
            "[911]\ttraining's multi_logloss: 0.552189\ttraining's macroF1: 0.797334\tvalid_1's multi_logloss: 1.00959\tvalid_1's macroF1: 0.45177\n",
            "******************** Execution ended in 00h 02m 50.22s ********************\n",
            "============================== 3 of 5 folds ==============================\n",
            "Training until validation scores don't improve for 500 rounds.\n",
            "[500]\ttraining's multi_logloss: 0.736432\ttraining's macroF1: 0.752408\tvalid_1's multi_logloss: 0.98382\tvalid_1's macroF1: 0.443936\n",
            "Early stopping, best iteration is:\n",
            "[464]\ttraining's multi_logloss: 0.758293\ttraining's macroF1: 0.747623\tvalid_1's multi_logloss: 0.988929\tvalid_1's macroF1: 0.449719\n",
            "******************** Execution ended in 00h 01m 58.46s ********************\n",
            "============================== 4 of 5 folds ==============================\n",
            "Training until validation scores don't improve for 500 rounds.\n",
            "[500]\ttraining's multi_logloss: 0.743876\ttraining's macroF1: 0.752219\tvalid_1's multi_logloss: 0.985183\tvalid_1's macroF1: 0.44579\n",
            "Early stopping, best iteration is:\n",
            "[241]\ttraining's multi_logloss: 0.955036\ttraining's macroF1: 0.682646\tvalid_1's multi_logloss: 1.06685\tvalid_1's macroF1: 0.466898\n",
            "******************** Execution ended in 00h 01m 27.21s ********************\n",
            "============================== 5 of 5 folds ==============================\n",
            "Training until validation scores don't improve for 500 rounds.\n",
            "[500]\ttraining's multi_logloss: 0.728402\ttraining's macroF1: 0.753987\tvalid_1's multi_logloss: 1.02762\tvalid_1's macroF1: 0.35124\n",
            "[1000]\ttraining's multi_logloss: 0.530054\ttraining's macroF1: 0.816962\tvalid_1's multi_logloss: 1.00025\tvalid_1's macroF1: 0.371216\n",
            "[1500]\ttraining's multi_logloss: 0.428186\ttraining's macroF1: 0.853539\tvalid_1's multi_logloss: 0.993605\tvalid_1's macroF1: 0.381112\n",
            "[2000]\ttraining's multi_logloss: 0.367977\ttraining's macroF1: 0.877713\tvalid_1's multi_logloss: 0.990035\tvalid_1's macroF1: 0.392817\n",
            "Early stopping, best iteration is:\n",
            "[1670]\ttraining's multi_logloss: 0.404342\ttraining's macroF1: 0.861826\tvalid_1's multi_logloss: 0.991761\tvalid_1's macroF1: 0.398082\n",
            "******************** Execution ended in 00h 03m 59.45s ********************\n",
            "######################################## 13 of 50 iterations ########################################\n",
            "============================== 1 of 5 folds ==============================\n",
            "Training until validation scores don't improve for 500 rounds.\n",
            "[500]\ttraining's multi_logloss: 0.992269\ttraining's macroF1: 0.565824\tvalid_1's multi_logloss: 1.05208\tvalid_1's macroF1: 0.403501\n",
            "Early stopping, best iteration is:\n",
            "[191]\ttraining's multi_logloss: 1.1368\ttraining's macroF1: 0.521677\tvalid_1's multi_logloss: 1.11853\tvalid_1's macroF1: 0.426046\n",
            "******************** Execution ended in 00h 00m 37.72s ********************\n",
            "============================== 2 of 5 folds ==============================\n",
            "Training until validation scores don't improve for 500 rounds.\n",
            "[500]\ttraining's multi_logloss: 0.995059\ttraining's macroF1: 0.568311\tvalid_1's multi_logloss: 1.06046\tvalid_1's macroF1: 0.425142\n",
            "Early stopping, best iteration is:\n",
            "[301]\ttraining's multi_logloss: 1.07149\ttraining's macroF1: 0.541792\tvalid_1's multi_logloss: 1.0815\tvalid_1's macroF1: 0.436636\n",
            "******************** Execution ended in 00h 00m 43.30s ********************\n",
            "============================== 3 of 5 folds ==============================\n",
            "Training until validation scores don't improve for 500 rounds.\n",
            "[500]\ttraining's multi_logloss: 0.99474\ttraining's macroF1: 0.55773\tvalid_1's multi_logloss: 1.0506\tvalid_1's macroF1: 0.427339\n",
            "Early stopping, best iteration is:\n",
            "[360]\ttraining's multi_logloss: 1.04483\ttraining's macroF1: 0.545916\tvalid_1's multi_logloss: 1.06799\tvalid_1's macroF1: 0.445898\n",
            "******************** Execution ended in 00h 00m 45.86s ********************\n",
            "============================== 4 of 5 folds ==============================\n",
            "Training until validation scores don't improve for 500 rounds.\n",
            "[500]\ttraining's multi_logloss: 0.997969\ttraining's macroF1: 0.560082\tvalid_1's multi_logloss: 1.03246\tvalid_1's macroF1: 0.412483\n",
            "Early stopping, best iteration is:\n",
            "[308]\ttraining's multi_logloss: 1.07203\ttraining's macroF1: 0.536137\tvalid_1's multi_logloss: 1.06145\tvalid_1's macroF1: 0.425069\n",
            "******************** Execution ended in 00h 00m 43.50s ********************\n",
            "============================== 5 of 5 folds ==============================\n",
            "Training until validation scores don't improve for 500 rounds.\n",
            "[500]\ttraining's multi_logloss: 0.995176\ttraining's macroF1: 0.560385\tvalid_1's multi_logloss: 1.01071\tvalid_1's macroF1: 0.405358\n",
            "[1000]\ttraining's multi_logloss: 0.882835\ttraining's macroF1: 0.611432\tvalid_1's multi_logloss: 0.99268\tvalid_1's macroF1: 0.411485\n",
            "Early stopping, best iteration is:\n",
            "[903]\ttraining's multi_logloss: 0.900097\ttraining's macroF1: 0.607307\tvalid_1's multi_logloss: 0.992178\tvalid_1's macroF1: 0.424018\n",
            "******************** Execution ended in 00h 01m 11.42s ********************\n",
            "######################################## 14 of 50 iterations ########################################\n",
            "============================== 1 of 5 folds ==============================\n",
            "Training until validation scores don't improve for 500 rounds.\n",
            "[500]\ttraining's multi_logloss: 0.997094\ttraining's macroF1: 0.555668\tvalid_1's multi_logloss: 1.03363\tvalid_1's macroF1: 0.448683\n",
            "[1000]\ttraining's multi_logloss: 0.885288\ttraining's macroF1: 0.616086\tvalid_1's multi_logloss: 1.01969\tvalid_1's macroF1: 0.439678\n",
            "Early stopping, best iteration is:\n",
            "[509]\ttraining's multi_logloss: 0.994305\ttraining's macroF1: 0.553977\tvalid_1's multi_logloss: 1.03333\tvalid_1's macroF1: 0.459761\n",
            "******************** Execution ended in 00h 00m 55.63s ********************\n",
            "============================== 2 of 5 folds ==============================\n",
            "Training until validation scores don't improve for 500 rounds.\n",
            "[500]\ttraining's multi_logloss: 0.991244\ttraining's macroF1: 0.566042\tvalid_1's multi_logloss: 1.05838\tvalid_1's macroF1: 0.414355\n",
            "Early stopping, best iteration is:\n",
            "[27]\ttraining's multi_logloss: 1.3252\ttraining's macroF1: 0.468006\tvalid_1's multi_logloss: 1.30273\tvalid_1's macroF1: 0.424637\n",
            "******************** Execution ended in 00h 00m 30.39s ********************\n",
            "============================== 3 of 5 folds ==============================\n",
            "Training until validation scores don't improve for 500 rounds.\n",
            "[500]\ttraining's multi_logloss: 0.985641\ttraining's macroF1: 0.569674\tvalid_1's multi_logloss: 1.06526\tvalid_1's macroF1: 0.375774\n",
            "Early stopping, best iteration is:\n",
            "[47]\ttraining's multi_logloss: 1.28596\ttraining's macroF1: 0.470001\tvalid_1's multi_logloss: 1.26224\tvalid_1's macroF1: 0.400503\n",
            "******************** Execution ended in 00h 00m 31.83s ********************\n",
            "============================== 4 of 5 folds ==============================\n",
            "Training until validation scores don't improve for 500 rounds.\n",
            "[500]\ttraining's multi_logloss: 0.988519\ttraining's macroF1: 0.552878\tvalid_1's multi_logloss: 1.03526\tvalid_1's macroF1: 0.381571\n",
            "Early stopping, best iteration is:\n",
            "[354]\ttraining's multi_logloss: 1.03831\ttraining's macroF1: 0.532907\tvalid_1's multi_logloss: 1.0503\tvalid_1's macroF1: 0.407936\n",
            "******************** Execution ended in 00h 00m 47.69s ********************\n",
            "============================== 5 of 5 folds ==============================\n",
            "Training until validation scores don't improve for 500 rounds.\n",
            "[500]\ttraining's multi_logloss: 0.99768\ttraining's macroF1: 0.557059\tvalid_1's multi_logloss: 1.04546\tvalid_1's macroF1: 0.383286\n",
            "[1000]\ttraining's multi_logloss: 0.890439\ttraining's macroF1: 0.602096\tvalid_1's multi_logloss: 1.0251\tvalid_1's macroF1: 0.399434\n",
            "[1500]\ttraining's multi_logloss: 0.81617\ttraining's macroF1: 0.645076\tvalid_1's multi_logloss: 1.0188\tvalid_1's macroF1: 0.397156\n",
            "Early stopping, best iteration is:\n",
            "[1039]\ttraining's multi_logloss: 0.883479\ttraining's macroF1: 0.608796\tvalid_1's multi_logloss: 1.0246\tvalid_1's macroF1: 0.413207\n",
            "******************** Execution ended in 00h 01m 23.44s ********************\n",
            "######################################## 15 of 50 iterations ########################################\n",
            "============================== 1 of 5 folds ==============================\n",
            "Training until validation scores don't improve for 500 rounds.\n",
            "[500]\ttraining's multi_logloss: 0.676519\ttraining's macroF1: 0.74575\tvalid_1's multi_logloss: 0.997988\tvalid_1's macroF1: 0.420835\n",
            "[1000]\ttraining's multi_logloss: 0.505885\ttraining's macroF1: 0.824614\tvalid_1's multi_logloss: 0.978163\tvalid_1's macroF1: 0.414093\n",
            "Early stopping, best iteration is:\n",
            "[502]\ttraining's multi_logloss: 0.675539\ttraining's macroF1: 0.746538\tvalid_1's multi_logloss: 0.998096\tvalid_1's macroF1: 0.425429\n",
            "******************** Execution ended in 00h 01m 23.19s ********************\n",
            "============================== 2 of 5 folds ==============================\n",
            "Training until validation scores don't improve for 500 rounds.\n",
            "[500]\ttraining's multi_logloss: 0.677117\ttraining's macroF1: 0.746686\tvalid_1's multi_logloss: 0.998589\tvalid_1's macroF1: 0.394276\n",
            "Early stopping, best iteration is:\n",
            "[146]\ttraining's multi_logloss: 0.978171\ttraining's macroF1: 0.630365\tvalid_1's multi_logloss: 1.07479\tvalid_1's macroF1: 0.417155\n",
            "******************** Execution ended in 00h 00m 54.91s ********************\n",
            "============================== 3 of 5 folds ==============================\n",
            "Training until validation scores don't improve for 500 rounds.\n",
            "[500]\ttraining's multi_logloss: 0.663932\ttraining's macroF1: 0.755738\tvalid_1's multi_logloss: 1.0286\tvalid_1's macroF1: 0.417062\n",
            "[1000]\ttraining's multi_logloss: 0.498095\ttraining's macroF1: 0.824473\tvalid_1's multi_logloss: 1.02729\tvalid_1's macroF1: 0.410255\n",
            "Early stopping, best iteration is:\n",
            "[514]\ttraining's multi_logloss: 0.656887\ttraining's macroF1: 0.757317\tvalid_1's multi_logloss: 1.02861\tvalid_1's macroF1: 0.422172\n",
            "******************** Execution ended in 00h 01m 24.34s ********************\n",
            "============================== 4 of 5 folds ==============================\n",
            "Training until validation scores don't improve for 500 rounds.\n",
            "[500]\ttraining's multi_logloss: 0.677031\ttraining's macroF1: 0.739936\tvalid_1's multi_logloss: 0.977353\tvalid_1's macroF1: 0.415077\n",
            "Early stopping, best iteration is:\n",
            "[281]\ttraining's multi_logloss: 0.826146\ttraining's macroF1: 0.684776\tvalid_1's multi_logloss: 1.00547\tvalid_1's macroF1: 0.435898\n",
            "******************** Execution ended in 00h 01m 07.04s ********************\n",
            "============================== 5 of 5 folds ==============================\n",
            "Training until validation scores don't improve for 500 rounds.\n",
            "[500]\ttraining's multi_logloss: 0.659902\ttraining's macroF1: 0.76133\tvalid_1's multi_logloss: 1.01366\tvalid_1's macroF1: 0.392067\n",
            "Early stopping, best iteration is:\n",
            "[86]\ttraining's multi_logloss: 1.08116\ttraining's macroF1: 0.600385\tvalid_1's multi_logloss: 1.12843\tvalid_1's macroF1: 0.407279\n",
            "******************** Execution ended in 00h 00m 50.62s ********************\n",
            "######################################## 16 of 50 iterations ########################################\n",
            "============================== 1 of 5 folds ==============================\n",
            "Training until validation scores don't improve for 500 rounds.\n",
            "[500]\ttraining's multi_logloss: 1.02278\ttraining's macroF1: 0.558176\tvalid_1's multi_logloss: 1.05846\tvalid_1's macroF1: 0.422999\n",
            "Early stopping, best iteration is:\n",
            "[277]\ttraining's multi_logloss: 1.10822\ttraining's macroF1: 0.531973\tvalid_1's multi_logloss: 1.09654\tvalid_1's macroF1: 0.4347\n",
            "******************** Execution ended in 00h 00m 39.38s ********************\n",
            "============================== 2 of 5 folds ==============================\n",
            "Training until validation scores don't improve for 500 rounds.\n",
            "[500]\ttraining's multi_logloss: 1.02739\ttraining's macroF1: 0.560672\tvalid_1's multi_logloss: 1.01468\tvalid_1's macroF1: 0.429766\n",
            "Early stopping, best iteration is:\n",
            "[5]\ttraining's multi_logloss: 1.37618\ttraining's macroF1: 0.435479\tvalid_1's multi_logloss: 1.37107\tvalid_1's macroF1: 0.440677\n",
            "******************** Execution ended in 00h 00m 26.56s ********************\n",
            "============================== 3 of 5 folds ==============================\n",
            "Training until validation scores don't improve for 500 rounds.\n",
            "[500]\ttraining's multi_logloss: 1.01206\ttraining's macroF1: 0.569392\tvalid_1's multi_logloss: 1.08472\tvalid_1's macroF1: 0.38503\n",
            "[1000]\ttraining's multi_logloss: 0.903746\ttraining's macroF1: 0.605103\tvalid_1's multi_logloss: 1.07453\tvalid_1's macroF1: 0.395389\n",
            "[1500]\ttraining's multi_logloss: 0.832195\ttraining's macroF1: 0.650281\tvalid_1's multi_logloss: 1.07226\tvalid_1's macroF1: 0.39722\n",
            "Early stopping, best iteration is:\n",
            "[1191]\ttraining's multi_logloss: 0.87369\ttraining's macroF1: 0.623286\tvalid_1's multi_logloss: 1.07381\tvalid_1's macroF1: 0.404927\n",
            "******************** Execution ended in 00h 01m 20.86s ********************\n",
            "============================== 4 of 5 folds ==============================\n",
            "Training until validation scores don't improve for 500 rounds.\n",
            "[500]\ttraining's multi_logloss: 1.01889\ttraining's macroF1: 0.552267\tvalid_1's multi_logloss: 1.03092\tvalid_1's macroF1: 0.405161\n",
            "Early stopping, best iteration is:\n",
            "[314]\ttraining's multi_logloss: 1.08629\ttraining's macroF1: 0.532194\tvalid_1's multi_logloss: 1.06658\tvalid_1's macroF1: 0.411265\n",
            "******************** Execution ended in 00h 00m 41.23s ********************\n",
            "============================== 5 of 5 folds ==============================\n",
            "Training until validation scores don't improve for 500 rounds.\n",
            "[500]\ttraining's multi_logloss: 1.00353\ttraining's macroF1: 0.554619\tvalid_1's multi_logloss: 1.05071\tvalid_1's macroF1: 0.391923\n",
            "Early stopping, best iteration is:\n",
            "[384]\ttraining's multi_logloss: 1.04175\ttraining's macroF1: 0.540063\tvalid_1's multi_logloss: 1.06405\tvalid_1's macroF1: 0.407669\n",
            "******************** Execution ended in 00h 00m 44.43s ********************\n",
            "######################################## 17 of 50 iterations ########################################\n",
            "============================== 1 of 5 folds ==============================\n",
            "Training until validation scores don't improve for 500 rounds.\n",
            "[500]\ttraining's multi_logloss: 1.01353\ttraining's macroF1: 0.54627\tvalid_1's multi_logloss: 1.08608\tvalid_1's macroF1: 0.393909\n",
            "Early stopping, best iteration is:\n",
            "[320]\ttraining's multi_logloss: 1.06868\ttraining's macroF1: 0.522289\tvalid_1's multi_logloss: 1.09326\tvalid_1's macroF1: 0.412942\n",
            "******************** Execution ended in 00h 00m 32.96s ********************\n",
            "============================== 2 of 5 folds ==============================\n",
            "Training until validation scores don't improve for 500 rounds.\n",
            "[500]\ttraining's multi_logloss: 0.998901\ttraining's macroF1: 0.549051\tvalid_1's multi_logloss: 1.08984\tvalid_1's macroF1: 0.388381\n",
            "Early stopping, best iteration is:\n",
            "[149]\ttraining's multi_logloss: 1.15353\ttraining's macroF1: 0.510538\tvalid_1's multi_logloss: 1.1557\tvalid_1's macroF1: 0.398574\n",
            "******************** Execution ended in 00h 00m 26.87s ********************\n",
            "============================== 3 of 5 folds ==============================\n",
            "Training until validation scores don't improve for 500 rounds.\n",
            "[500]\ttraining's multi_logloss: 1.01482\ttraining's macroF1: 0.550633\tvalid_1's multi_logloss: 1.05654\tvalid_1's macroF1: 0.415046\n",
            "[1000]\ttraining's multi_logloss: 0.916809\ttraining's macroF1: 0.590659\tvalid_1's multi_logloss: 1.04803\tvalid_1's macroF1: 0.41685\n",
            "Early stopping, best iteration is:\n",
            "[762]\ttraining's multi_logloss: 0.956958\ttraining's macroF1: 0.572954\tvalid_1's multi_logloss: 1.05017\tvalid_1's macroF1: 0.427873\n",
            "******************** Execution ended in 00h 00m 48.59s ********************\n",
            "============================== 4 of 5 folds ==============================\n",
            "Training until validation scores don't improve for 500 rounds.\n",
            "[500]\ttraining's multi_logloss: 1.02023\ttraining's macroF1: 0.54022\tvalid_1's multi_logloss: 1.02858\tvalid_1's macroF1: 0.410037\n",
            "Early stopping, best iteration is:\n",
            "[499]\ttraining's multi_logloss: 1.02057\ttraining's macroF1: 0.542567\tvalid_1's multi_logloss: 1.02842\tvalid_1's macroF1: 0.417976\n",
            "******************** Execution ended in 00h 00m 39.37s ********************\n",
            "============================== 5 of 5 folds ==============================\n",
            "Training until validation scores don't improve for 500 rounds.\n",
            "[500]\ttraining's multi_logloss: 1.0175\ttraining's macroF1: 0.547946\tvalid_1's multi_logloss: 1.03902\tvalid_1's macroF1: 0.415907\n",
            "[1000]\ttraining's multi_logloss: 0.919295\ttraining's macroF1: 0.604293\tvalid_1's multi_logloss: 1.02424\tvalid_1's macroF1: 0.413481\n",
            "Early stopping, best iteration is:\n",
            "[843]\ttraining's multi_logloss: 0.945051\ttraining's macroF1: 0.58624\tvalid_1's multi_logloss: 1.02701\tvalid_1's macroF1: 0.426673\n",
            "******************** Execution ended in 00h 00m 51.23s ********************\n",
            "######################################## 18 of 50 iterations ########################################\n",
            "============================== 1 of 5 folds ==============================\n",
            "Training until validation scores don't improve for 500 rounds.\n",
            "[500]\ttraining's multi_logloss: 0.872614\ttraining's macroF1: 0.644196\tvalid_1's multi_logloss: 1.01989\tvalid_1's macroF1: 0.4281\n",
            "[1000]\ttraining's multi_logloss: 0.72196\ttraining's macroF1: 0.720358\tvalid_1's multi_logloss: 1.00804\tvalid_1's macroF1: 0.425065\n",
            "Early stopping, best iteration is:\n",
            "[541]\ttraining's multi_logloss: 0.857259\ttraining's macroF1: 0.655292\tvalid_1's multi_logloss: 1.0163\tvalid_1's macroF1: 0.44374\n",
            "******************** Execution ended in 00h 00m 51.51s ********************\n",
            "============================== 2 of 5 folds ==============================\n",
            "Training until validation scores don't improve for 500 rounds.\n",
            "[500]\ttraining's multi_logloss: 0.875579\ttraining's macroF1: 0.645625\tvalid_1's multi_logloss: 1.01473\tvalid_1's macroF1: 0.402228\n",
            "Early stopping, best iteration is:\n",
            "[102]\ttraining's multi_logloss: 1.16463\ttraining's macroF1: 0.546753\tvalid_1's multi_logloss: 1.15047\tvalid_1's macroF1: 0.423722\n",
            "******************** Execution ended in 00h 00m 30.16s ********************\n",
            "============================== 3 of 5 folds ==============================\n",
            "Training until validation scores don't improve for 500 rounds.\n",
            "[500]\ttraining's multi_logloss: 0.88112\ttraining's macroF1: 0.647598\tvalid_1's multi_logloss: 1.00267\tvalid_1's macroF1: 0.41413\n",
            "[1000]\ttraining's multi_logloss: 0.729033\ttraining's macroF1: 0.713374\tvalid_1's multi_logloss: 0.980256\tvalid_1's macroF1: 0.419531\n",
            "[1500]\ttraining's multi_logloss: 0.634603\ttraining's macroF1: 0.756998\tvalid_1's multi_logloss: 0.966969\tvalid_1's macroF1: 0.419146\n",
            "Early stopping, best iteration is:\n",
            "[1168]\ttraining's multi_logloss: 0.693191\ttraining's macroF1: 0.72921\tvalid_1's multi_logloss: 0.973239\tvalid_1's macroF1: 0.429119\n",
            "******************** Execution ended in 00h 01m 20.21s ********************\n",
            "============================== 4 of 5 folds ==============================\n",
            "Training until validation scores don't improve for 500 rounds.\n",
            "[500]\ttraining's multi_logloss: 0.875107\ttraining's macroF1: 0.642325\tvalid_1's multi_logloss: 1.0355\tvalid_1's macroF1: 0.389934\n",
            "Early stopping, best iteration is:\n",
            "[19]\ttraining's multi_logloss: 1.32921\ttraining's macroF1: 0.501903\tvalid_1's multi_logloss: 1.31528\tvalid_1's macroF1: 0.418786\n",
            "******************** Execution ended in 00h 00m 25.73s ********************\n",
            "============================== 5 of 5 folds ==============================\n",
            "Training until validation scores don't improve for 500 rounds.\n",
            "[500]\ttraining's multi_logloss: 0.879441\ttraining's macroF1: 0.649735\tvalid_1's multi_logloss: 1.01677\tvalid_1's macroF1: 0.419876\n",
            "[1000]\ttraining's multi_logloss: 0.726486\ttraining's macroF1: 0.717132\tvalid_1's multi_logloss: 0.997748\tvalid_1's macroF1: 0.430672\n",
            "[1500]\ttraining's multi_logloss: 0.630989\ttraining's macroF1: 0.757896\tvalid_1's multi_logloss: 0.986573\tvalid_1's macroF1: 0.42957\n",
            "[2000]\ttraining's multi_logloss: 0.56588\ttraining's macroF1: 0.792424\tvalid_1's multi_logloss: 0.977538\tvalid_1's macroF1: 0.452968\n",
            "[2500]\ttraining's multi_logloss: 0.516528\ttraining's macroF1: 0.809381\tvalid_1's multi_logloss: 0.971407\tvalid_1's macroF1: 0.452507\n",
            "[3000]\ttraining's multi_logloss: 0.478768\ttraining's macroF1: 0.821121\tvalid_1's multi_logloss: 0.968062\tvalid_1's macroF1: 0.458114\n",
            "Early stopping, best iteration is:\n",
            "[2528]\ttraining's multi_logloss: 0.51432\ttraining's macroF1: 0.810377\tvalid_1's multi_logloss: 0.970897\tvalid_1's macroF1: 0.46352\n",
            "******************** Execution ended in 00h 02m 14.63s ********************\n",
            "######################################## 19 of 50 iterations ########################################\n",
            "============================== 1 of 5 folds ==============================\n",
            "Training until validation scores don't improve for 500 rounds.\n",
            "[500]\ttraining's multi_logloss: 1.19132\ttraining's macroF1: 0.509272\tvalid_1's multi_logloss: 1.18819\tvalid_1's macroF1: 0.350761\n",
            "Early stopping, best iteration is:\n",
            "[16]\ttraining's multi_logloss: 1.37657\ttraining's macroF1: 0.44105\tvalid_1's multi_logloss: 1.37442\tvalid_1's macroF1: 0.35685\n",
            "******************** Execution ended in 00h 00m 31.51s ********************\n",
            "============================== 2 of 5 folds ==============================\n",
            "Training until validation scores don't improve for 500 rounds.\n",
            "[500]\ttraining's multi_logloss: 1.20574\ttraining's macroF1: 0.490616\tvalid_1's multi_logloss: 1.17594\tvalid_1's macroF1: 0.389883\n",
            "Early stopping, best iteration is:\n",
            "[7]\ttraining's multi_logloss: 1.38247\ttraining's macroF1: 0.442448\tvalid_1's multi_logloss: 1.3809\tvalid_1's macroF1: 0.407512\n",
            "******************** Execution ended in 00h 00m 31.67s ********************\n",
            "============================== 3 of 5 folds ==============================\n",
            "Training until validation scores don't improve for 500 rounds.\n",
            "[500]\ttraining's multi_logloss: 1.2051\ttraining's macroF1: 0.488001\tvalid_1's multi_logloss: 1.15488\tvalid_1's macroF1: 0.399633\n",
            "Early stopping, best iteration is:\n",
            "[2]\ttraining's multi_logloss: 1.38515\ttraining's macroF1: 0.427187\tvalid_1's multi_logloss: 1.38459\tvalid_1's macroF1: 0.427586\n",
            "******************** Execution ended in 00h 00m 30.74s ********************\n",
            "============================== 4 of 5 folds ==============================\n",
            "Training until validation scores don't improve for 500 rounds.\n",
            "[500]\ttraining's multi_logloss: 1.2008\ttraining's macroF1: 0.490387\tvalid_1's multi_logloss: 1.16345\tvalid_1's macroF1: 0.403768\n",
            "[1000]\ttraining's multi_logloss: 1.10938\ttraining's macroF1: 0.526234\tvalid_1's multi_logloss: 1.08435\tvalid_1's macroF1: 0.426447\n",
            "[1500]\ttraining's multi_logloss: 1.05053\ttraining's macroF1: 0.540265\tvalid_1's multi_logloss: 1.04755\tvalid_1's macroF1: 0.423674\n",
            "Early stopping, best iteration is:\n",
            "[1124]\ttraining's multi_logloss: 1.0928\ttraining's macroF1: 0.528461\tvalid_1's multi_logloss: 1.07296\tvalid_1's macroF1: 0.433793\n",
            "******************** Execution ended in 00h 01m 34.37s ********************\n",
            "============================== 5 of 5 folds ==============================\n",
            "Training until validation scores don't improve for 500 rounds.\n",
            "[500]\ttraining's multi_logloss: 1.19772\ttraining's macroF1: 0.494138\tvalid_1's multi_logloss: 1.18358\tvalid_1's macroF1: 0.396634\n",
            "[1000]\ttraining's multi_logloss: 1.1023\ttraining's macroF1: 0.524667\tvalid_1's multi_logloss: 1.11122\tvalid_1's macroF1: 0.406834\n",
            "Early stopping, best iteration is:\n",
            "[966]\ttraining's multi_logloss: 1.10755\ttraining's macroF1: 0.520872\tvalid_1's multi_logloss: 1.11435\tvalid_1's macroF1: 0.414208\n",
            "******************** Execution ended in 00h 01m 25.05s ********************\n",
            "######################################## 20 of 50 iterations ########################################\n",
            "============================== 1 of 5 folds ==============================\n",
            "Training until validation scores don't improve for 500 rounds.\n",
            "[500]\ttraining's multi_logloss: 1.00518\ttraining's macroF1: 0.57526\tvalid_1's multi_logloss: 1.04846\tvalid_1's macroF1: 0.421069\n",
            "[1000]\ttraining's multi_logloss: 0.881787\ttraining's macroF1: 0.636626\tvalid_1's multi_logloss: 1.03087\tvalid_1's macroF1: 0.4242\n",
            "Early stopping, best iteration is:\n",
            "[877]\ttraining's multi_logloss: 0.906385\ttraining's macroF1: 0.627962\tvalid_1's multi_logloss: 1.03288\tvalid_1's macroF1: 0.440808\n",
            "******************** Execution ended in 00h 01m 26.40s ********************\n",
            "============================== 2 of 5 folds ==============================\n",
            "Training until validation scores don't improve for 500 rounds.\n",
            "[500]\ttraining's multi_logloss: 1.00156\ttraining's macroF1: 0.569597\tvalid_1's multi_logloss: 1.05413\tvalid_1's macroF1: 0.405192\n",
            "Early stopping, best iteration is:\n",
            "[36]\ttraining's multi_logloss: 1.31718\ttraining's macroF1: 0.487768\tvalid_1's multi_logloss: 1.3053\tvalid_1's macroF1: 0.427998\n",
            "******************** Execution ended in 00h 00m 36.43s ********************\n",
            "============================== 3 of 5 folds ==============================\n",
            "Training until validation scores don't improve for 500 rounds.\n",
            "[500]\ttraining's multi_logloss: 1.0004\ttraining's macroF1: 0.565778\tvalid_1's multi_logloss: 1.06974\tvalid_1's macroF1: 0.374538\n",
            "Early stopping, best iteration is:\n",
            "[5]\ttraining's multi_logloss: 1.37606\ttraining's macroF1: 0.426399\tvalid_1's multi_logloss: 1.3737\tvalid_1's macroF1: 0.387473\n",
            "******************** Execution ended in 00h 00m 34.35s ********************\n",
            "============================== 4 of 5 folds ==============================\n",
            "Training until validation scores don't improve for 500 rounds.\n",
            "[500]\ttraining's multi_logloss: 1.0131\ttraining's macroF1: 0.563196\tvalid_1's multi_logloss: 1.00202\tvalid_1's macroF1: 0.453089\n",
            "Early stopping, best iteration is:\n",
            "[317]\ttraining's multi_logloss: 1.08456\ttraining's macroF1: 0.536104\tvalid_1's multi_logloss: 1.03871\tvalid_1's macroF1: 0.475048\n",
            "******************** Execution ended in 00h 00m 53.95s ********************\n",
            "============================== 5 of 5 folds ==============================\n",
            "Training until validation scores don't improve for 500 rounds.\n",
            "[500]\ttraining's multi_logloss: 0.990605\ttraining's macroF1: 0.565969\tvalid_1's multi_logloss: 1.09046\tvalid_1's macroF1: 0.379971\n",
            "[1000]\ttraining's multi_logloss: 0.871375\ttraining's macroF1: 0.627992\tvalid_1's multi_logloss: 1.07545\tvalid_1's macroF1: 0.387967\n",
            "Early stopping, best iteration is:\n",
            "[912]\ttraining's multi_logloss: 0.887716\ttraining's macroF1: 0.618933\tvalid_1's multi_logloss: 1.07763\tvalid_1's macroF1: 0.396971\n",
            "******************** Execution ended in 00h 01m 29.34s ********************\n",
            "######################################## 21 of 50 iterations ########################################\n",
            "============================== 1 of 5 folds ==============================\n",
            "Training until validation scores don't improve for 500 rounds.\n",
            "[500]\ttraining's multi_logloss: 1.06079\ttraining's macroF1: 0.535069\tvalid_1's multi_logloss: 1.06494\tvalid_1's macroF1: 0.395596\n",
            "[1000]\ttraining's multi_logloss: 0.968296\ttraining's macroF1: 0.564554\tvalid_1's multi_logloss: 1.05245\tvalid_1's macroF1: 0.402059\n",
            "Early stopping, best iteration is:\n",
            "[810]\ttraining's multi_logloss: 0.997771\ttraining's macroF1: 0.55587\tvalid_1's multi_logloss: 1.05147\tvalid_1's macroF1: 0.406627\n",
            "******************** Execution ended in 00h 00m 56.60s ********************\n",
            "============================== 2 of 5 folds ==============================\n",
            "Training until validation scores don't improve for 500 rounds.\n",
            "[500]\ttraining's multi_logloss: 1.05732\ttraining's macroF1: 0.52874\tvalid_1's multi_logloss: 1.07294\tvalid_1's macroF1: 0.412752\n",
            "Early stopping, best iteration is:\n",
            "[196]\ttraining's multi_logloss: 1.17552\ttraining's macroF1: 0.491685\tvalid_1's multi_logloss: 1.14706\tvalid_1's macroF1: 0.426616\n",
            "******************** Execution ended in 00h 00m 31.63s ********************\n",
            "============================== 3 of 5 folds ==============================\n",
            "Training until validation scores don't improve for 500 rounds.\n",
            "[500]\ttraining's multi_logloss: 1.07499\ttraining's macroF1: 0.527295\tvalid_1's multi_logloss: 1.08109\tvalid_1's macroF1: 0.421465\n",
            "[1000]\ttraining's multi_logloss: 0.98685\ttraining's macroF1: 0.564195\tvalid_1's multi_logloss: 1.06404\tvalid_1's macroF1: 0.415785\n",
            "Early stopping, best iteration is:\n",
            "[756]\ttraining's multi_logloss: 1.02411\ttraining's macroF1: 0.550258\tvalid_1's multi_logloss: 1.06817\tvalid_1's macroF1: 0.439879\n",
            "******************** Execution ended in 00h 00m 55.14s ********************\n",
            "============================== 4 of 5 folds ==============================\n",
            "Training until validation scores don't improve for 500 rounds.\n",
            "[500]\ttraining's multi_logloss: 1.06632\ttraining's macroF1: 0.524895\tvalid_1's multi_logloss: 1.06495\tvalid_1's macroF1: 0.395152\n",
            "Early stopping, best iteration is:\n",
            "[86]\ttraining's multi_logloss: 1.27119\ttraining's macroF1: 0.45948\tvalid_1's multi_logloss: 1.22772\tvalid_1's macroF1: 0.408244\n",
            "******************** Execution ended in 00h 00m 27.47s ********************\n",
            "============================== 5 of 5 folds ==============================\n",
            "Training until validation scores don't improve for 500 rounds.\n",
            "[500]\ttraining's multi_logloss: 1.05073\ttraining's macroF1: 0.532696\tvalid_1's multi_logloss: 1.06738\tvalid_1's macroF1: 0.395099\n",
            "[1000]\ttraining's multi_logloss: 0.95971\ttraining's macroF1: 0.573425\tvalid_1's multi_logloss: 1.04515\tvalid_1's macroF1: 0.376806\n",
            "Early stopping, best iteration is:\n",
            "[545]\ttraining's multi_logloss: 1.04059\ttraining's macroF1: 0.538901\tvalid_1's multi_logloss: 1.06223\tvalid_1's macroF1: 0.397264\n",
            "******************** Execution ended in 00h 00m 45.54s ********************\n",
            "######################################## 22 of 50 iterations ########################################\n",
            "============================== 1 of 5 folds ==============================\n",
            "Training until validation scores don't improve for 500 rounds.\n",
            "[500]\ttraining's multi_logloss: 1.04561\ttraining's macroF1: 0.534183\tvalid_1's multi_logloss: 1.07592\tvalid_1's macroF1: 0.404613\n",
            "[1000]\ttraining's multi_logloss: 0.952321\ttraining's macroF1: 0.567994\tvalid_1's multi_logloss: 1.06814\tvalid_1's macroF1: 0.417967\n",
            "Early stopping, best iteration is:\n",
            "[994]\ttraining's multi_logloss: 0.953212\ttraining's macroF1: 0.567585\tvalid_1's multi_logloss: 1.06767\tvalid_1's macroF1: 0.419934\n",
            "******************** Execution ended in 00h 01m 03.78s ********************\n",
            "============================== 2 of 5 folds ==============================\n",
            "Training until validation scores don't improve for 500 rounds.\n",
            "[500]\ttraining's multi_logloss: 1.0511\ttraining's macroF1: 0.52644\tvalid_1's multi_logloss: 1.10596\tvalid_1's macroF1: 0.376415\n",
            "[1000]\ttraining's multi_logloss: 0.958371\ttraining's macroF1: 0.568547\tvalid_1's multi_logloss: 1.09077\tvalid_1's macroF1: 0.391942\n",
            "[1500]\ttraining's multi_logloss: 0.896909\ttraining's macroF1: 0.600373\tvalid_1's multi_logloss: 1.08682\tvalid_1's macroF1: 0.40786\n",
            "[2000]\ttraining's multi_logloss: 0.848731\ttraining's macroF1: 0.627778\tvalid_1's multi_logloss: 1.08374\tvalid_1's macroF1: 0.402633\n",
            "Early stopping, best iteration is:\n",
            "[1573]\ttraining's multi_logloss: 0.889268\ttraining's macroF1: 0.602236\tvalid_1's multi_logloss: 1.08546\tvalid_1's macroF1: 0.411153\n",
            "******************** Execution ended in 00h 01m 27.61s ********************\n",
            "============================== 3 of 5 folds ==============================\n",
            "Training until validation scores don't improve for 500 rounds.\n",
            "[500]\ttraining's multi_logloss: 1.05802\ttraining's macroF1: 0.524906\tvalid_1's multi_logloss: 1.04228\tvalid_1's macroF1: 0.389515\n",
            "Early stopping, best iteration is:\n",
            "[36]\ttraining's multi_logloss: 1.3237\ttraining's macroF1: 0.427489\tvalid_1's multi_logloss: 1.29871\tvalid_1's macroF1: 0.414904\n",
            "******************** Execution ended in 00h 00m 25.59s ********************\n",
            "============================== 4 of 5 folds ==============================\n",
            "Training until validation scores don't improve for 500 rounds.\n",
            "[500]\ttraining's multi_logloss: 1.05716\ttraining's macroF1: 0.521226\tvalid_1's multi_logloss: 1.03345\tvalid_1's macroF1: 0.416207\n",
            "[1000]\ttraining's multi_logloss: 0.966345\ttraining's macroF1: 0.555799\tvalid_1's multi_logloss: 1.01412\tvalid_1's macroF1: 0.414195\n",
            "Early stopping, best iteration is:\n",
            "[529]\ttraining's multi_logloss: 1.05026\ttraining's macroF1: 0.527601\tvalid_1's multi_logloss: 1.03118\tvalid_1's macroF1: 0.425636\n",
            "******************** Execution ended in 00h 00m 46.82s ********************\n",
            "============================== 5 of 5 folds ==============================\n",
            "Training until validation scores don't improve for 500 rounds.\n",
            "[500]\ttraining's multi_logloss: 1.04566\ttraining's macroF1: 0.541814\tvalid_1's multi_logloss: 1.06891\tvalid_1's macroF1: 0.40126\n",
            "Early stopping, best iteration is:\n",
            "[205]\ttraining's multi_logloss: 1.1601\ttraining's macroF1: 0.506459\tvalid_1's multi_logloss: 1.12938\tvalid_1's macroF1: 0.413685\n",
            "******************** Execution ended in 00h 00m 33.34s ********************\n",
            "######################################## 23 of 50 iterations ########################################\n",
            "============================== 1 of 5 folds ==============================\n",
            "Training until validation scores don't improve for 500 rounds.\n",
            "[500]\ttraining's multi_logloss: 1.18049\ttraining's macroF1: 0.598365\tvalid_1's multi_logloss: 1.1738\tvalid_1's macroF1: 0.422823\n",
            "Early stopping, best iteration is:\n",
            "[65]\ttraining's multi_logloss: 1.35164\ttraining's macroF1: 0.553916\tvalid_1's multi_logloss: 1.34644\tvalid_1's macroF1: 0.435194\n",
            "******************** Execution ended in 00h 00m 49.43s ********************\n",
            "============================== 2 of 5 folds ==============================\n",
            "Training until validation scores don't improve for 500 rounds.\n",
            "[500]\ttraining's multi_logloss: 1.17744\ttraining's macroF1: 0.605541\tvalid_1's multi_logloss: 1.1944\tvalid_1's macroF1: 0.424303\n",
            "Early stopping, best iteration is:\n",
            "[141]\ttraining's multi_logloss: 1.31391\ttraining's macroF1: 0.568066\tvalid_1's multi_logloss: 1.31245\tvalid_1's macroF1: 0.428496\n",
            "******************** Execution ended in 00h 00m 57.33s ********************\n",
            "============================== 3 of 5 folds ==============================\n",
            "Training until validation scores don't improve for 500 rounds.\n",
            "[500]\ttraining's multi_logloss: 1.18046\ttraining's macroF1: 0.588202\tvalid_1's multi_logloss: 1.17339\tvalid_1's macroF1: 0.397698\n",
            "Early stopping, best iteration is:\n",
            "[8]\ttraining's multi_logloss: 1.38176\ttraining's macroF1: 0.490729\tvalid_1's multi_logloss: 1.38056\tvalid_1's macroF1: 0.427787\n",
            "******************** Execution ended in 00h 00m 45.26s ********************\n",
            "============================== 4 of 5 folds ==============================\n",
            "Training until validation scores don't improve for 500 rounds.\n",
            "[500]\ttraining's multi_logloss: 1.17426\ttraining's macroF1: 0.60768\tvalid_1's multi_logloss: 1.20371\tvalid_1's macroF1: 0.375716\n",
            "Early stopping, best iteration is:\n",
            "[47]\ttraining's multi_logloss: 1.35965\ttraining's macroF1: 0.551731\tvalid_1's multi_logloss: 1.36044\tvalid_1's macroF1: 0.406713\n",
            "******************** Execution ended in 00h 00m 48.46s ********************\n",
            "============================== 5 of 5 folds ==============================\n",
            "Training until validation scores don't improve for 500 rounds.\n",
            "[500]\ttraining's multi_logloss: 1.17338\ttraining's macroF1: 0.597914\tvalid_1's multi_logloss: 1.18396\tvalid_1's macroF1: 0.399984\n",
            "Early stopping, best iteration is:\n",
            "[44]\ttraining's multi_logloss: 1.36093\ttraining's macroF1: 0.54799\tvalid_1's multi_logloss: 1.35979\tvalid_1's macroF1: 0.421113\n",
            "******************** Execution ended in 00h 00m 48.53s ********************\n",
            "######################################## 24 of 50 iterations ########################################\n",
            "============================== 1 of 5 folds ==============================\n",
            "Training until validation scores don't improve for 500 rounds.\n",
            "[500]\ttraining's multi_logloss: 0.677265\ttraining's macroF1: 0.774955\tvalid_1's multi_logloss: 0.958888\tvalid_1's macroF1: 0.424404\n",
            "Early stopping, best iteration is:\n",
            "[216]\ttraining's multi_logloss: 0.921332\ttraining's macroF1: 0.694724\tvalid_1's multi_logloss: 1.02214\tvalid_1's macroF1: 0.445337\n",
            "******************** Execution ended in 00h 01m 04.92s ********************\n",
            "============================== 2 of 5 folds ==============================\n",
            "Training until validation scores don't improve for 500 rounds.\n",
            "[500]\ttraining's multi_logloss: 0.673341\ttraining's macroF1: 0.77536\tvalid_1's multi_logloss: 0.98166\tvalid_1's macroF1: 0.418837\n",
            "Early stopping, best iteration is:\n",
            "[431]\ttraining's multi_logloss: 0.717089\ttraining's macroF1: 0.758553\tvalid_1's multi_logloss: 0.98948\tvalid_1's macroF1: 0.437618\n",
            "******************** Execution ended in 00h 01m 22.96s ********************\n",
            "============================== 3 of 5 folds ==============================\n",
            "Training until validation scores don't improve for 500 rounds.\n",
            "[500]\ttraining's multi_logloss: 0.672849\ttraining's macroF1: 0.782188\tvalid_1's multi_logloss: 1.01056\tvalid_1's macroF1: 0.40186\n",
            "Early stopping, best iteration is:\n",
            "[314]\ttraining's multi_logloss: 0.810103\ttraining's macroF1: 0.743927\tvalid_1's multi_logloss: 1.03329\tvalid_1's macroF1: 0.411086\n",
            "******************** Execution ended in 00h 01m 13.30s ********************\n",
            "============================== 4 of 5 folds ==============================\n",
            "Training until validation scores don't improve for 500 rounds.\n",
            "[500]\ttraining's multi_logloss: 0.668349\ttraining's macroF1: 0.771683\tvalid_1's multi_logloss: 1.03956\tvalid_1's macroF1: 0.375934\n",
            "Early stopping, best iteration is:\n",
            "[336]\ttraining's multi_logloss: 0.782208\ttraining's macroF1: 0.740334\tvalid_1's multi_logloss: 1.05497\tvalid_1's macroF1: 0.391282\n",
            "******************** Execution ended in 00h 01m 13.75s ********************\n",
            "============================== 5 of 5 folds ==============================\n",
            "Training until validation scores don't improve for 500 rounds.\n",
            "[500]\ttraining's multi_logloss: 0.678017\ttraining's macroF1: 0.77442\tvalid_1's multi_logloss: 0.96047\tvalid_1's macroF1: 0.436151\n",
            "[1000]\ttraining's multi_logloss: 0.485905\ttraining's macroF1: 0.836784\tvalid_1's multi_logloss: 0.93632\tvalid_1's macroF1: 0.441034\n",
            "Early stopping, best iteration is:\n",
            "[810]\ttraining's multi_logloss: 0.540752\ttraining's macroF1: 0.818333\tvalid_1's multi_logloss: 0.942448\tvalid_1's macroF1: 0.451344\n",
            "******************** Execution ended in 00h 01m 55.50s ********************\n",
            "######################################## 25 of 50 iterations ########################################\n",
            "============================== 1 of 5 folds ==============================\n",
            "Training until validation scores don't improve for 500 rounds.\n",
            "[500]\ttraining's multi_logloss: 0.851655\ttraining's macroF1: 0.671733\tvalid_1's multi_logloss: 1.01827\tvalid_1's macroF1: 0.403533\n",
            "Early stopping, best iteration is:\n",
            "[28]\ttraining's multi_logloss: 1.31171\ttraining's macroF1: 0.524825\tvalid_1's multi_logloss: 1.30123\tvalid_1's macroF1: 0.415932\n",
            "******************** Execution ended in 00h 00m 41.69s ********************\n",
            "============================== 2 of 5 folds ==============================\n",
            "Training until validation scores don't improve for 500 rounds.\n",
            "[500]\ttraining's multi_logloss: 0.853655\ttraining's macroF1: 0.665273\tvalid_1's multi_logloss: 1.04856\tvalid_1's macroF1: 0.395598\n",
            "Early stopping, best iteration is:\n",
            "[139]\ttraining's multi_logloss: 1.11872\ttraining's macroF1: 0.570991\tvalid_1's multi_logloss: 1.15191\tvalid_1's macroF1: 0.408212\n",
            "******************** Execution ended in 00h 00m 49.96s ********************\n",
            "============================== 3 of 5 folds ==============================\n",
            "Training until validation scores don't improve for 500 rounds.\n",
            "[500]\ttraining's multi_logloss: 0.856431\ttraining's macroF1: 0.658113\tvalid_1's multi_logloss: 1.04059\tvalid_1's macroF1: 0.413367\n",
            "Early stopping, best iteration is:\n",
            "[158]\ttraining's multi_logloss: 1.09501\ttraining's macroF1: 0.573375\tvalid_1's multi_logloss: 1.14026\tvalid_1's macroF1: 0.425086\n",
            "******************** Execution ended in 00h 00m 51.52s ********************\n",
            "============================== 4 of 5 folds ==============================\n",
            "Training until validation scores don't improve for 500 rounds.\n",
            "[500]\ttraining's multi_logloss: 0.856165\ttraining's macroF1: 0.655474\tvalid_1's multi_logloss: 1.0106\tvalid_1's macroF1: 0.43565\n",
            "[1000]\ttraining's multi_logloss: 0.684757\ttraining's macroF1: 0.749748\tvalid_1's multi_logloss: 0.989399\tvalid_1's macroF1: 0.436557\n",
            "Early stopping, best iteration is:\n",
            "[871]\ttraining's multi_logloss: 0.720167\ttraining's macroF1: 0.734266\tvalid_1's multi_logloss: 0.993446\tvalid_1's macroF1: 0.451933\n",
            "******************** Execution ended in 00h 01m 46.79s ********************\n",
            "============================== 5 of 5 folds ==============================\n",
            "Training until validation scores don't improve for 500 rounds.\n",
            "[500]\ttraining's multi_logloss: 0.850687\ttraining's macroF1: 0.668049\tvalid_1's multi_logloss: 1.02005\tvalid_1's macroF1: 0.411534\n",
            "Early stopping, best iteration is:\n",
            "[344]\ttraining's multi_logloss: 0.935303\ttraining's macroF1: 0.631071\tvalid_1's multi_logloss: 1.03869\tvalid_1's macroF1: 0.415313\n",
            "******************** Execution ended in 00h 01m 06.56s ********************\n",
            "######################################## 26 of 50 iterations ########################################\n",
            "============================== 1 of 5 folds ==============================\n",
            "Training until validation scores don't improve for 500 rounds.\n",
            "[500]\ttraining's multi_logloss: 0.782982\ttraining's macroF1: 0.715455\tvalid_1's multi_logloss: 1.03298\tvalid_1's macroF1: 0.433557\n",
            "[1000]\ttraining's multi_logloss: 0.593801\ttraining's macroF1: 0.783096\tvalid_1's multi_logloss: 1.01042\tvalid_1's macroF1: 0.439817\n",
            "Early stopping, best iteration is:\n",
            "[821]\ttraining's multi_logloss: 0.648188\ttraining's macroF1: 0.768411\tvalid_1's multi_logloss: 1.01715\tvalid_1's macroF1: 0.447432\n",
            "******************** Execution ended in 00h 01m 54.08s ********************\n",
            "============================== 2 of 5 folds ==============================\n",
            "Training until validation scores don't improve for 500 rounds.\n",
            "[500]\ttraining's multi_logloss: 0.784984\ttraining's macroF1: 0.703381\tvalid_1's multi_logloss: 0.98804\tvalid_1's macroF1: 0.439912\n",
            "[1000]\ttraining's multi_logloss: 0.599508\ttraining's macroF1: 0.785318\tvalid_1's multi_logloss: 0.958343\tvalid_1's macroF1: 0.43202\n",
            "Early stopping, best iteration is:\n",
            "[509]\ttraining's multi_logloss: 0.780217\ttraining's macroF1: 0.70473\tvalid_1's multi_logloss: 0.98723\tvalid_1's macroF1: 0.442387\n",
            "******************** Execution ended in 00h 01m 30.67s ********************\n",
            "============================== 3 of 5 folds ==============================\n",
            "Training until validation scores don't improve for 500 rounds.\n",
            "[500]\ttraining's multi_logloss: 0.776456\ttraining's macroF1: 0.715721\tvalid_1's multi_logloss: 1.04431\tvalid_1's macroF1: 0.397885\n",
            "Early stopping, best iteration is:\n",
            "[23]\ttraining's multi_logloss: 1.31466\ttraining's macroF1: 0.541425\tvalid_1's multi_logloss: 1.31549\tvalid_1's macroF1: 0.406133\n",
            "******************** Execution ended in 00h 00m 46.74s ********************\n",
            "============================== 4 of 5 folds ==============================\n",
            "Training until validation scores don't improve for 500 rounds.\n",
            "[500]\ttraining's multi_logloss: 0.780361\ttraining's macroF1: 0.710896\tvalid_1's multi_logloss: 0.995407\tvalid_1's macroF1: 0.437085\n",
            "[1000]\ttraining's multi_logloss: 0.59327\ttraining's macroF1: 0.787382\tvalid_1's multi_logloss: 0.973285\tvalid_1's macroF1: 0.431734\n",
            "Early stopping, best iteration is:\n",
            "[847]\ttraining's multi_logloss: 0.637981\ttraining's macroF1: 0.771728\tvalid_1's multi_logloss: 0.977181\tvalid_1's macroF1: 0.442417\n",
            "******************** Execution ended in 00h 01m 58.39s ********************\n",
            "============================== 5 of 5 folds ==============================\n",
            "Training until validation scores don't improve for 500 rounds.\n",
            "[500]\ttraining's multi_logloss: 0.782653\ttraining's macroF1: 0.719314\tvalid_1's multi_logloss: 0.990478\tvalid_1's macroF1: 0.430264\n",
            "[1000]\ttraining's multi_logloss: 0.596287\ttraining's macroF1: 0.795794\tvalid_1's multi_logloss: 0.972826\tvalid_1's macroF1: 0.433867\n",
            "Early stopping, best iteration is:\n",
            "[651]\ttraining's multi_logloss: 0.711996\ttraining's macroF1: 0.746109\tvalid_1's multi_logloss: 0.979147\tvalid_1's macroF1: 0.440515\n",
            "******************** Execution ended in 00h 01m 44.21s ********************\n",
            "######################################## 27 of 50 iterations ########################################\n",
            "============================== 1 of 5 folds ==============================\n",
            "Training until validation scores don't improve for 500 rounds.\n",
            "[500]\ttraining's multi_logloss: 1.14328\ttraining's macroF1: 0.493083\tvalid_1's multi_logloss: 1.10456\tvalid_1's macroF1: 0.403663\n",
            "[1000]\ttraining's multi_logloss: 1.06812\ttraining's macroF1: 0.510832\tvalid_1's multi_logloss: 1.06787\tvalid_1's macroF1: 0.395579\n",
            "Early stopping, best iteration is:\n",
            "[528]\ttraining's multi_logloss: 1.13721\ttraining's macroF1: 0.497911\tvalid_1's multi_logloss: 1.10043\tvalid_1's macroF1: 0.411239\n",
            "******************** Execution ended in 00h 00m 41.22s ********************\n",
            "============================== 2 of 5 folds ==============================\n",
            "Training until validation scores don't improve for 500 rounds.\n",
            "[500]\ttraining's multi_logloss: 1.1415\ttraining's macroF1: 0.485859\tvalid_1's multi_logloss: 1.12088\tvalid_1's macroF1: 0.37407\n",
            "[1000]\ttraining's multi_logloss: 1.07132\ttraining's macroF1: 0.508635\tvalid_1's multi_logloss: 1.09365\tvalid_1's macroF1: 0.398625\n",
            "[1500]\ttraining's multi_logloss: 1.02853\ttraining's macroF1: 0.529917\tvalid_1's multi_logloss: 1.08719\tvalid_1's macroF1: 0.404154\n",
            "[2000]\ttraining's multi_logloss: 0.996142\ttraining's macroF1: 0.544586\tvalid_1's multi_logloss: 1.08368\tvalid_1's macroF1: 0.407479\n",
            "[2500]\ttraining's multi_logloss: 0.969456\ttraining's macroF1: 0.559481\tvalid_1's multi_logloss: 1.08116\tvalid_1's macroF1: 0.405373\n",
            "Early stopping, best iteration is:\n",
            "[2073]\ttraining's multi_logloss: 0.992006\ttraining's macroF1: 0.547287\tvalid_1's multi_logloss: 1.08262\tvalid_1's macroF1: 0.411741\n",
            "******************** Execution ended in 00h 01m 36.45s ********************\n",
            "============================== 3 of 5 folds ==============================\n",
            "Training until validation scores don't improve for 500 rounds.\n",
            "[500]\ttraining's multi_logloss: 1.14757\ttraining's macroF1: 0.484142\tvalid_1's multi_logloss: 1.09485\tvalid_1's macroF1: 0.39944\n",
            "Early stopping, best iteration is:\n",
            "[41]\ttraining's multi_logloss: 1.34694\ttraining's macroF1: 0.430349\tvalid_1's multi_logloss: 1.32851\tvalid_1's macroF1: 0.404143\n",
            "******************** Execution ended in 00h 00m 23.17s ********************\n",
            "============================== 4 of 5 folds ==============================\n",
            "Training until validation scores don't improve for 500 rounds.\n",
            "[500]\ttraining's multi_logloss: 1.13618\ttraining's macroF1: 0.48347\tvalid_1's multi_logloss: 1.11074\tvalid_1's macroF1: 0.396997\n",
            "Early stopping, best iteration is:\n",
            "[74]\ttraining's multi_logloss: 1.31438\ttraining's macroF1: 0.435301\tvalid_1's multi_logloss: 1.28984\tvalid_1's macroF1: 0.42008\n",
            "******************** Execution ended in 00h 00m 24.75s ********************\n",
            "============================== 5 of 5 folds ==============================\n",
            "Training until validation scores don't improve for 500 rounds.\n",
            "[500]\ttraining's multi_logloss: 1.14719\ttraining's macroF1: 0.48372\tvalid_1's multi_logloss: 1.08291\tvalid_1's macroF1: 0.391624\n",
            "Early stopping, best iteration is:\n",
            "[29]\ttraining's multi_logloss: 1.35765\ttraining's macroF1: 0.446468\tvalid_1's multi_logloss: 1.34183\tvalid_1's macroF1: 0.425536\n",
            "******************** Execution ended in 00h 00m 22.89s ********************\n",
            "######################################## 28 of 50 iterations ########################################\n",
            "============================== 1 of 5 folds ==============================\n",
            "Training until validation scores don't improve for 500 rounds.\n",
            "[500]\ttraining's multi_logloss: 0.84122\ttraining's macroF1: 0.706531\tvalid_1's multi_logloss: 1.02449\tvalid_1's macroF1: 0.442137\n",
            "Early stopping, best iteration is:\n",
            "[188]\ttraining's multi_logloss: 1.07561\ttraining's macroF1: 0.64242\tvalid_1's multi_logloss: 1.12671\tvalid_1's macroF1: 0.449207\n",
            "******************** Execution ended in 00h 01m 03.90s ********************\n",
            "============================== 2 of 5 folds ==============================\n",
            "Training until validation scores don't improve for 500 rounds.\n",
            "[500]\ttraining's multi_logloss: 0.842533\ttraining's macroF1: 0.707913\tvalid_1's multi_logloss: 1.01095\tvalid_1's macroF1: 0.423686\n",
            "Early stopping, best iteration is:\n",
            "[262]\ttraining's multi_logloss: 1.00517\ttraining's macroF1: 0.650199\tvalid_1's multi_logloss: 1.07333\tvalid_1's macroF1: 0.433818\n",
            "******************** Execution ended in 00h 01m 11.20s ********************\n",
            "============================== 3 of 5 folds ==============================\n",
            "Training until validation scores don't improve for 500 rounds.\n",
            "[500]\ttraining's multi_logloss: 0.835388\ttraining's macroF1: 0.70268\tvalid_1's multi_logloss: 1.00983\tvalid_1's macroF1: 0.39605\n",
            "Early stopping, best iteration is:\n",
            "[43]\ttraining's multi_logloss: 1.28622\ttraining's macroF1: 0.581949\tvalid_1's multi_logloss: 1.28431\tvalid_1's macroF1: 0.434195\n",
            "******************** Execution ended in 00h 00m 48.32s ********************\n",
            "============================== 4 of 5 folds ==============================\n",
            "Training until validation scores don't improve for 500 rounds.\n",
            "[500]\ttraining's multi_logloss: 0.834229\ttraining's macroF1: 0.710675\tvalid_1's multi_logloss: 1.03055\tvalid_1's macroF1: 0.419246\n",
            "Early stopping, best iteration is:\n",
            "[51]\ttraining's multi_logloss: 1.2726\ttraining's macroF1: 0.570658\tvalid_1's multi_logloss: 1.27863\tvalid_1's macroF1: 0.430976\n",
            "******************** Execution ended in 00h 00m 50.31s ********************\n",
            "============================== 5 of 5 folds ==============================\n",
            "Training until validation scores don't improve for 500 rounds.\n",
            "[500]\ttraining's multi_logloss: 0.83148\ttraining's macroF1: 0.703505\tvalid_1's multi_logloss: 1.01653\tvalid_1's macroF1: 0.396003\n",
            "[1000]\ttraining's multi_logloss: 0.641037\ttraining's macroF1: 0.77264\tvalid_1's multi_logloss: 0.989334\tvalid_1's macroF1: 0.395602\n",
            "Early stopping, best iteration is:\n",
            "[726]\ttraining's multi_logloss: 0.729844\ttraining's macroF1: 0.738532\tvalid_1's multi_logloss: 0.998319\tvalid_1's macroF1: 0.411501\n",
            "******************** Execution ended in 00h 01m 54.49s ********************\n",
            "######################################## 29 of 50 iterations ########################################\n",
            "============================== 1 of 5 folds ==============================\n",
            "Training until validation scores don't improve for 500 rounds.\n",
            "[500]\ttraining's multi_logloss: 1.03224\ttraining's macroF1: 0.594639\tvalid_1's multi_logloss: 1.05976\tvalid_1's macroF1: 0.411815\n",
            "[1000]\ttraining's multi_logloss: 0.877759\ttraining's macroF1: 0.650864\tvalid_1's multi_logloss: 0.998038\tvalid_1's macroF1: 0.421689\n",
            "[1500]\ttraining's multi_logloss: 0.779778\ttraining's macroF1: 0.696601\tvalid_1's multi_logloss: 0.980105\tvalid_1's macroF1: 0.426722\n",
            "Early stopping, best iteration is:\n",
            "[1301]\ttraining's multi_logloss: 0.814871\ttraining's macroF1: 0.675922\tvalid_1's multi_logloss: 0.985278\tvalid_1's macroF1: 0.434281\n",
            "******************** Execution ended in 00h 03m 13.07s ********************\n",
            "============================== 2 of 5 folds ==============================\n",
            "Training until validation scores don't improve for 500 rounds.\n",
            "[500]\ttraining's multi_logloss: 1.03496\ttraining's macroF1: 0.599334\tvalid_1's multi_logloss: 1.09808\tvalid_1's macroF1: 0.403794\n",
            "[1000]\ttraining's multi_logloss: 0.882128\ttraining's macroF1: 0.649397\tvalid_1's multi_logloss: 1.04242\tvalid_1's macroF1: 0.411553\n",
            "Early stopping, best iteration is:\n",
            "[951]\ttraining's multi_logloss: 0.893619\ttraining's macroF1: 0.646238\tvalid_1's multi_logloss: 1.04492\tvalid_1's macroF1: 0.416232\n",
            "******************** Execution ended in 00h 02m 37.85s ********************\n",
            "============================== 3 of 5 folds ==============================\n",
            "Training until validation scores don't improve for 500 rounds.\n",
            "[500]\ttraining's multi_logloss: 1.0342\ttraining's macroF1: 0.60819\tvalid_1's multi_logloss: 1.09475\tvalid_1's macroF1: 0.425009\n",
            "[1000]\ttraining's multi_logloss: 0.880646\ttraining's macroF1: 0.658403\tvalid_1's multi_logloss: 1.0278\tvalid_1's macroF1: 0.424749\n",
            "Early stopping, best iteration is:\n",
            "[543]\ttraining's multi_logloss: 1.01663\ttraining's macroF1: 0.608602\tvalid_1's multi_logloss: 1.08546\tvalid_1's macroF1: 0.430974\n",
            "******************** Execution ended in 00h 01m 55.14s ********************\n",
            "============================== 4 of 5 folds ==============================\n",
            "Training until validation scores don't improve for 500 rounds.\n",
            "[500]\ttraining's multi_logloss: 1.02245\ttraining's macroF1: 0.581277\tvalid_1's multi_logloss: 1.10107\tvalid_1's macroF1: 0.375826\n",
            "Early stopping, best iteration is:\n",
            "[169]\ttraining's multi_logloss: 1.20925\ttraining's macroF1: 0.52843\tvalid_1's multi_logloss: 1.21737\tvalid_1's macroF1: 0.385598\n",
            "******************** Execution ended in 00h 01m 13.92s ********************\n",
            "============================== 5 of 5 folds ==============================\n",
            "Training until validation scores don't improve for 500 rounds.\n",
            "[500]\ttraining's multi_logloss: 1.02678\ttraining's macroF1: 0.603678\tvalid_1's multi_logloss: 1.09136\tvalid_1's macroF1: 0.376539\n",
            "[1000]\ttraining's multi_logloss: 0.874326\ttraining's macroF1: 0.659852\tvalid_1's multi_logloss: 1.03925\tvalid_1's macroF1: 0.387648\n",
            "Early stopping, best iteration is:\n",
            "[787]\ttraining's multi_logloss: 0.928732\ttraining's macroF1: 0.637651\tvalid_1's multi_logloss: 1.0535\tvalid_1's macroF1: 0.391085\n",
            "******************** Execution ended in 00h 02m 21.82s ********************\n",
            "######################################## 30 of 50 iterations ########################################\n",
            "============================== 1 of 5 folds ==============================\n",
            "Training until validation scores don't improve for 500 rounds.\n",
            "[500]\ttraining's multi_logloss: 0.716657\ttraining's macroF1: 0.74329\tvalid_1's multi_logloss: 0.971287\tvalid_1's macroF1: 0.449459\n",
            "[1000]\ttraining's multi_logloss: 0.539434\ttraining's macroF1: 0.817094\tvalid_1's multi_logloss: 0.952265\tvalid_1's macroF1: 0.426866\n",
            "Early stopping, best iteration is:\n",
            "[527]\ttraining's multi_logloss: 0.703175\ttraining's macroF1: 0.746112\tvalid_1's multi_logloss: 0.96948\tvalid_1's macroF1: 0.454173\n",
            "******************** Execution ended in 00h 01m 22.37s ********************\n",
            "============================== 2 of 5 folds ==============================\n",
            "Training until validation scores don't improve for 500 rounds.\n",
            "[500]\ttraining's multi_logloss: 0.710459\ttraining's macroF1: 0.734525\tvalid_1's multi_logloss: 1.03943\tvalid_1's macroF1: 0.387687\n",
            "Early stopping, best iteration is:\n",
            "[88]\ttraining's multi_logloss: 1.09723\ttraining's macroF1: 0.585704\tvalid_1's multi_logloss: 1.1417\tvalid_1's macroF1: 0.400938\n",
            "******************** Execution ended in 00h 00m 47.24s ********************\n",
            "============================== 3 of 5 folds ==============================\n",
            "Training until validation scores don't improve for 500 rounds.\n",
            "[500]\ttraining's multi_logloss: 0.712336\ttraining's macroF1: 0.720716\tvalid_1's multi_logloss: 0.977573\tvalid_1's macroF1: 0.415435\n",
            "Early stopping, best iteration is:\n",
            "[440]\ttraining's multi_logloss: 0.744925\ttraining's macroF1: 0.706595\tvalid_1's multi_logloss: 0.979831\tvalid_1's macroF1: 0.426178\n",
            "******************** Execution ended in 00h 01m 14.78s ********************\n",
            "============================== 4 of 5 folds ==============================\n",
            "Training until validation scores don't improve for 500 rounds.\n",
            "[500]\ttraining's multi_logloss: 0.707609\ttraining's macroF1: 0.725327\tvalid_1's multi_logloss: 1.02075\tvalid_1's macroF1: 0.370971\n",
            "Early stopping, best iteration is:\n",
            "[81]\ttraining's multi_logloss: 1.10596\ttraining's macroF1: 0.57569\tvalid_1's multi_logloss: 1.12368\tvalid_1's macroF1: 0.404984\n",
            "******************** Execution ended in 00h 00m 47.17s ********************\n",
            "============================== 5 of 5 folds ==============================\n",
            "Training until validation scores don't improve for 500 rounds.\n",
            "[500]\ttraining's multi_logloss: 0.713208\ttraining's macroF1: 0.735738\tvalid_1's multi_logloss: 1.02519\tvalid_1's macroF1: 0.398015\n",
            "Early stopping, best iteration is:\n",
            "[138]\ttraining's multi_logloss: 1.01012\ttraining's macroF1: 0.597513\tvalid_1's multi_logloss: 1.07476\tvalid_1's macroF1: 0.413554\n",
            "******************** Execution ended in 00h 00m 51.38s ********************\n",
            "######################################## 31 of 50 iterations ########################################\n",
            "============================== 1 of 5 folds ==============================\n",
            "Training until validation scores don't improve for 500 rounds.\n",
            "[500]\ttraining's multi_logloss: 0.905299\ttraining's macroF1: 0.622999\tvalid_1's multi_logloss: 1.01799\tvalid_1's macroF1: 0.410582\n",
            "[1000]\ttraining's multi_logloss: 0.765172\ttraining's macroF1: 0.691743\tvalid_1's multi_logloss: 1.00556\tvalid_1's macroF1: 0.421419\n",
            "Early stopping, best iteration is:\n",
            "[644]\ttraining's multi_logloss: 0.857184\ttraining's macroF1: 0.646706\tvalid_1's multi_logloss: 1.01374\tvalid_1's macroF1: 0.424963\n",
            "******************** Execution ended in 00h 01m 18.12s ********************\n",
            "============================== 2 of 5 folds ==============================\n",
            "Training until validation scores don't improve for 500 rounds.\n",
            "[500]\ttraining's multi_logloss: 0.904633\ttraining's macroF1: 0.615041\tvalid_1's multi_logloss: 1.04807\tvalid_1's macroF1: 0.41468\n",
            "Early stopping, best iteration is:\n",
            "[249]\ttraining's multi_logloss: 1.0311\ttraining's macroF1: 0.568649\tvalid_1's multi_logloss: 1.07735\tvalid_1's macroF1: 0.423196\n",
            "******************** Execution ended in 00h 00m 53.06s ********************\n",
            "============================== 3 of 5 folds ==============================\n",
            "Training until validation scores don't improve for 500 rounds.\n",
            "[500]\ttraining's multi_logloss: 0.906415\ttraining's macroF1: 0.622899\tvalid_1's multi_logloss: 1.04843\tvalid_1's macroF1: 0.397463\n",
            "[1000]\ttraining's multi_logloss: 0.765264\ttraining's macroF1: 0.691986\tvalid_1's multi_logloss: 1.03677\tvalid_1's macroF1: 0.393745\n",
            "Early stopping, best iteration is:\n",
            "[602]\ttraining's multi_logloss: 0.870509\ttraining's macroF1: 0.631579\tvalid_1's multi_logloss: 1.04556\tvalid_1's macroF1: 0.413222\n",
            "******************** Execution ended in 00h 01m 15.75s ********************\n",
            "============================== 4 of 5 folds ==============================\n",
            "Training until validation scores don't improve for 500 rounds.\n",
            "[500]\ttraining's multi_logloss: 0.911371\ttraining's macroF1: 0.606948\tvalid_1's multi_logloss: 1.03207\tvalid_1's macroF1: 0.402923\n",
            "[1000]\ttraining's multi_logloss: 0.770695\ttraining's macroF1: 0.681174\tvalid_1's multi_logloss: 1.02213\tvalid_1's macroF1: 0.396483\n",
            "Early stopping, best iteration is:\n",
            "[636]\ttraining's multi_logloss: 0.865149\ttraining's macroF1: 0.636399\tvalid_1's multi_logloss: 1.02739\tvalid_1's macroF1: 0.42019\n",
            "******************** Execution ended in 00h 01m 18.06s ********************\n",
            "============================== 5 of 5 folds ==============================\n",
            "Training until validation scores don't improve for 500 rounds.\n",
            "[500]\ttraining's multi_logloss: 0.904421\ttraining's macroF1: 0.619384\tvalid_1's multi_logloss: 1.0236\tvalid_1's macroF1: 0.450758\n",
            "[1000]\ttraining's multi_logloss: 0.764012\ttraining's macroF1: 0.689326\tvalid_1's multi_logloss: 1.00816\tvalid_1's macroF1: 0.444837\n",
            "Early stopping, best iteration is:\n",
            "[579]\ttraining's multi_logloss: 0.876044\ttraining's macroF1: 0.633754\tvalid_1's multi_logloss: 1.01875\tvalid_1's macroF1: 0.46385\n",
            "******************** Execution ended in 00h 01m 13.81s ********************\n",
            "######################################## 32 of 50 iterations ########################################\n",
            "============================== 1 of 5 folds ==============================\n",
            "Training until validation scores don't improve for 500 rounds.\n",
            "[500]\ttraining's multi_logloss: 1.16439\ttraining's macroF1: 0.599793\tvalid_1's multi_logloss: 1.15412\tvalid_1's macroF1: 0.470346\n",
            "Early stopping, best iteration is:\n",
            "[483]\ttraining's multi_logloss: 1.16991\ttraining's macroF1: 0.597463\tvalid_1's multi_logloss: 1.15881\tvalid_1's macroF1: 0.476187\n",
            "******************** Execution ended in 00h 01m 33.23s ********************\n",
            "============================== 2 of 5 folds ==============================\n",
            "Training until validation scores don't improve for 500 rounds.\n",
            "[500]\ttraining's multi_logloss: 1.16762\ttraining's macroF1: 0.61509\tvalid_1's multi_logloss: 1.1561\tvalid_1's macroF1: 0.428433\n",
            "[1000]\ttraining's multi_logloss: 1.03307\ttraining's macroF1: 0.648755\tvalid_1's multi_logloss: 1.05649\tvalid_1's macroF1: 0.440986\n",
            "[1500]\ttraining's multi_logloss: 0.937678\ttraining's macroF1: 0.665826\tvalid_1's multi_logloss: 1.00734\tvalid_1's macroF1: 0.442211\n",
            "Early stopping, best iteration is:\n",
            "[1112]\ttraining's multi_logloss: 1.0092\ttraining's macroF1: 0.653541\tvalid_1's multi_logloss: 1.04257\tvalid_1's macroF1: 0.448475\n",
            "******************** Execution ended in 00h 02m 32.52s ********************\n",
            "============================== 3 of 5 folds ==============================\n",
            "Training until validation scores don't improve for 500 rounds.\n",
            "[500]\ttraining's multi_logloss: 1.16436\ttraining's macroF1: 0.596279\tvalid_1's multi_logloss: 1.17059\tvalid_1's macroF1: 0.401589\n",
            "Early stopping, best iteration is:\n",
            "[10]\ttraining's multi_logloss: 1.38027\ttraining's macroF1: 0.525914\tvalid_1's multi_logloss: 1.37938\tvalid_1's macroF1: 0.415156\n",
            "******************** Execution ended in 00h 00m 44.00s ********************\n",
            "============================== 4 of 5 folds ==============================\n",
            "Training until validation scores don't improve for 500 rounds.\n",
            "[500]\ttraining's multi_logloss: 1.16288\ttraining's macroF1: 0.59913\tvalid_1's multi_logloss: 1.18128\tvalid_1's macroF1: 0.417093\n",
            "[1000]\ttraining's multi_logloss: 1.02872\ttraining's macroF1: 0.641492\tvalid_1's multi_logloss: 1.09198\tvalid_1's macroF1: 0.418347\n",
            "[1500]\ttraining's multi_logloss: 0.934172\ttraining's macroF1: 0.67304\tvalid_1's multi_logloss: 1.04729\tvalid_1's macroF1: 0.417916\n",
            "Early stopping, best iteration is:\n",
            "[1226]\ttraining's multi_logloss: 0.982598\ttraining's macroF1: 0.658555\tvalid_1's multi_logloss: 1.06801\tvalid_1's macroF1: 0.427059\n",
            "******************** Execution ended in 00h 02m 42.74s ********************\n",
            "============================== 5 of 5 folds ==============================\n",
            "Training until validation scores don't improve for 500 rounds.\n",
            "[500]\ttraining's multi_logloss: 1.15405\ttraining's macroF1: 0.60595\tvalid_1's multi_logloss: 1.21423\tvalid_1's macroF1: 0.342178\n",
            "Early stopping, best iteration is:\n",
            "[6]\ttraining's multi_logloss: 1.38241\ttraining's macroF1: 0.5148\tvalid_1's multi_logloss: 1.38282\tvalid_1's macroF1: 0.363899\n",
            "******************** Execution ended in 00h 00m 43.59s ********************\n",
            "######################################## 33 of 50 iterations ########################################\n",
            "============================== 1 of 5 folds ==============================\n",
            "Training until validation scores don't improve for 500 rounds.\n",
            "[500]\ttraining's multi_logloss: 0.667485\ttraining's macroF1: 0.750131\tvalid_1's multi_logloss: 0.996572\tvalid_1's macroF1: 0.41648\n",
            "Early stopping, best iteration is:\n",
            "[178]\ttraining's multi_logloss: 0.942589\ttraining's macroF1: 0.648512\tvalid_1's multi_logloss: 1.04607\tvalid_1's macroF1: 0.444999\n",
            "******************** Execution ended in 00h 00m 53.20s ********************\n",
            "============================== 2 of 5 folds ==============================\n",
            "Training until validation scores don't improve for 500 rounds.\n",
            "[500]\ttraining's multi_logloss: 0.676618\ttraining's macroF1: 0.755702\tvalid_1's multi_logloss: 1.01831\tvalid_1's macroF1: 0.399246\n",
            "Early stopping, best iteration is:\n",
            "[10]\ttraining's multi_logloss: 1.33862\ttraining's macroF1: 0.540783\tvalid_1's multi_logloss: 1.33963\tvalid_1's macroF1: 0.415155\n",
            "******************** Execution ended in 00h 00m 39.14s ********************\n",
            "============================== 3 of 5 folds ==============================\n",
            "Training until validation scores don't improve for 500 rounds.\n",
            "[500]\ttraining's multi_logloss: 0.673579\ttraining's macroF1: 0.770277\tvalid_1's multi_logloss: 0.969294\tvalid_1's macroF1: 0.40427\n",
            "Early stopping, best iteration is:\n",
            "[392]\ttraining's multi_logloss: 0.739867\ttraining's macroF1: 0.744471\tvalid_1's multi_logloss: 0.980942\tvalid_1's macroF1: 0.417513\n",
            "******************** Execution ended in 00h 01m 09.48s ********************\n",
            "============================== 4 of 5 folds ==============================\n",
            "Training until validation scores don't improve for 500 rounds.\n",
            "[500]\ttraining's multi_logloss: 0.682961\ttraining's macroF1: 0.759002\tvalid_1's multi_logloss: 0.95378\tvalid_1's macroF1: 0.451811\n",
            "Early stopping, best iteration is:\n",
            "[287]\ttraining's multi_logloss: 0.831433\ttraining's macroF1: 0.702942\tvalid_1's multi_logloss: 0.990509\tvalid_1's macroF1: 0.46568\n",
            "******************** Execution ended in 00h 01m 01.95s ********************\n",
            "============================== 5 of 5 folds ==============================\n",
            "Training until validation scores don't improve for 500 rounds.\n",
            "[500]\ttraining's multi_logloss: 0.672436\ttraining's macroF1: 0.757932\tvalid_1's multi_logloss: 1.01607\tvalid_1's macroF1: 0.402787\n",
            "[1000]\ttraining's multi_logloss: 0.492674\ttraining's macroF1: 0.826879\tvalid_1's multi_logloss: 0.999395\tvalid_1's macroF1: 0.409695\n",
            "[1500]\ttraining's multi_logloss: 0.40362\ttraining's macroF1: 0.864395\tvalid_1's multi_logloss: 0.994143\tvalid_1's macroF1: 0.403763\n",
            "[2000]\ttraining's multi_logloss: 0.350852\ttraining's macroF1: 0.879746\tvalid_1's multi_logloss: 0.994234\tvalid_1's macroF1: 0.410957\n",
            "Early stopping, best iteration is:\n",
            "[1726]\ttraining's multi_logloss: 0.376772\ttraining's macroF1: 0.872805\tvalid_1's multi_logloss: 0.994375\tvalid_1's macroF1: 0.419417\n",
            "******************** Execution ended in 00h 02m 32.69s ********************\n",
            "######################################## 34 of 50 iterations ########################################\n",
            "============================== 1 of 5 folds ==============================\n",
            "Training until validation scores don't improve for 500 rounds.\n",
            "[500]\ttraining's multi_logloss: 0.993545\ttraining's macroF1: 0.578551\tvalid_1's multi_logloss: 1.09024\tvalid_1's macroF1: 0.423876\n",
            "Early stopping, best iteration is:\n",
            "[287]\ttraining's multi_logloss: 1.07808\ttraining's macroF1: 0.542174\tvalid_1's multi_logloss: 1.11469\tvalid_1's macroF1: 0.433508\n",
            "******************** Execution ended in 00h 00m 43.66s ********************\n",
            "============================== 2 of 5 folds ==============================\n",
            "Training until validation scores don't improve for 500 rounds.\n",
            "[500]\ttraining's multi_logloss: 0.976831\ttraining's macroF1: 0.569353\tvalid_1's multi_logloss: 1.05381\tvalid_1's macroF1: 0.378896\n",
            "Early stopping, best iteration is:\n",
            "[272]\ttraining's multi_logloss: 1.06791\ttraining's macroF1: 0.533363\tvalid_1's multi_logloss: 1.08545\tvalid_1's macroF1: 0.391764\n",
            "******************** Execution ended in 00h 00m 42.84s ********************\n",
            "============================== 3 of 5 folds ==============================\n",
            "Training until validation scores don't improve for 500 rounds.\n",
            "[500]\ttraining's multi_logloss: 0.983913\ttraining's macroF1: 0.567704\tvalid_1's multi_logloss: 1.02995\tvalid_1's macroF1: 0.37175\n",
            "Early stopping, best iteration is:\n",
            "[100]\ttraining's multi_logloss: 1.21136\ttraining's macroF1: 0.481809\tvalid_1's multi_logloss: 1.17645\tvalid_1's macroF1: 0.407897\n",
            "******************** Execution ended in 00h 00m 34.58s ********************\n",
            "============================== 4 of 5 folds ==============================\n",
            "Training until validation scores don't improve for 500 rounds.\n",
            "[500]\ttraining's multi_logloss: 0.995261\ttraining's macroF1: 0.566767\tvalid_1's multi_logloss: 1.04312\tvalid_1's macroF1: 0.414954\n",
            "Early stopping, best iteration is:\n",
            "[493]\ttraining's multi_logloss: 0.99739\ttraining's macroF1: 0.565845\tvalid_1's multi_logloss: 1.04345\tvalid_1's macroF1: 0.418374\n",
            "******************** Execution ended in 00h 00m 54.65s ********************\n",
            "============================== 5 of 5 folds ==============================\n",
            "Training until validation scores don't improve for 500 rounds.\n",
            "[500]\ttraining's multi_logloss: 1.00224\ttraining's macroF1: 0.558635\tvalid_1's multi_logloss: 1.04718\tvalid_1's macroF1: 0.441179\n",
            "Early stopping, best iteration is:\n",
            "[447]\ttraining's multi_logloss: 1.01819\ttraining's macroF1: 0.547992\tvalid_1's multi_logloss: 1.05088\tvalid_1's macroF1: 0.448589\n",
            "******************** Execution ended in 00h 00m 51.41s ********************\n",
            "######################################## 35 of 50 iterations ########################################\n",
            "============================== 1 of 5 folds ==============================\n",
            "Training until validation scores don't improve for 500 rounds.\n",
            "[500]\ttraining's multi_logloss: 1.01747\ttraining's macroF1: 0.579247\tvalid_1's multi_logloss: 1.058\tvalid_1's macroF1: 0.404777\n",
            "[1000]\ttraining's multi_logloss: 0.870735\ttraining's macroF1: 0.645753\tvalid_1's multi_logloss: 1.01078\tvalid_1's macroF1: 0.410759\n",
            "Early stopping, best iteration is:\n",
            "[719]\ttraining's multi_logloss: 0.942888\ttraining's macroF1: 0.61005\tvalid_1's multi_logloss: 1.02778\tvalid_1's macroF1: 0.419142\n",
            "******************** Execution ended in 00h 01m 57.06s ********************\n",
            "============================== 2 of 5 folds ==============================\n",
            "Training until validation scores don't improve for 500 rounds.\n",
            "[500]\ttraining's multi_logloss: 1.01232\ttraining's macroF1: 0.594078\tvalid_1's multi_logloss: 1.05449\tvalid_1's macroF1: 0.403307\n",
            "Early stopping, best iteration is:\n",
            "[4]\ttraining's multi_logloss: 1.38024\ttraining's macroF1: 0.474608\tvalid_1's multi_logloss: 1.37868\tvalid_1's macroF1: 0.429713\n",
            "******************** Execution ended in 00h 00m 48.80s ********************\n",
            "============================== 3 of 5 folds ==============================\n",
            "Training until validation scores don't improve for 500 rounds.\n",
            "[500]\ttraining's multi_logloss: 1.00804\ttraining's macroF1: 0.59481\tvalid_1's multi_logloss: 1.08827\tvalid_1's macroF1: 0.390693\n",
            "Early stopping, best iteration is:\n",
            "[453]\ttraining's multi_logloss: 1.02772\ttraining's macroF1: 0.587958\tvalid_1's multi_logloss: 1.09696\tvalid_1's macroF1: 0.398985\n",
            "******************** Execution ended in 00h 01m 32.79s ********************\n",
            "============================== 4 of 5 folds ==============================\n",
            "Training until validation scores don't improve for 500 rounds.\n",
            "[500]\ttraining's multi_logloss: 1.01617\ttraining's macroF1: 0.610279\tvalid_1's multi_logloss: 1.06206\tvalid_1's macroF1: 0.414239\n",
            "[1000]\ttraining's multi_logloss: 0.869024\ttraining's macroF1: 0.658482\tvalid_1's multi_logloss: 1.0184\tvalid_1's macroF1: 0.426642\n",
            "Early stopping, best iteration is:\n",
            "[626]\ttraining's multi_logloss: 0.970304\ttraining's macroF1: 0.621446\tvalid_1's multi_logloss: 1.04402\tvalid_1's macroF1: 0.431834\n",
            "******************** Execution ended in 00h 01m 47.96s ********************\n",
            "============================== 5 of 5 folds ==============================\n",
            "Training until validation scores don't improve for 500 rounds.\n",
            "[500]\ttraining's multi_logloss: 1.01188\ttraining's macroF1: 0.593696\tvalid_1's multi_logloss: 1.11433\tvalid_1's macroF1: 0.368753\n",
            "Early stopping, best iteration is:\n",
            "[1]\ttraining's multi_logloss: 1.38478\ttraining's macroF1: 0.445568\tvalid_1's multi_logloss: 1.3847\tvalid_1's macroF1: 0.376565\n",
            "******************** Execution ended in 00h 00m 47.12s ********************\n",
            "######################################## 36 of 50 iterations ########################################\n",
            "============================== 1 of 5 folds ==============================\n",
            "Training until validation scores don't improve for 500 rounds.\n",
            "[500]\ttraining's multi_logloss: 1.04789\ttraining's macroF1: 0.593179\tvalid_1's multi_logloss: 1.09918\tvalid_1's macroF1: 0.408079\n",
            "[1000]\ttraining's multi_logloss: 0.902341\ttraining's macroF1: 0.641812\tvalid_1's multi_logloss: 1.0385\tvalid_1's macroF1: 0.413218\n",
            "Early stopping, best iteration is:\n",
            "[697]\ttraining's multi_logloss: 0.979552\ttraining's macroF1: 0.614744\tvalid_1's multi_logloss: 1.06466\tvalid_1's macroF1: 0.419904\n",
            "******************** Execution ended in 00h 01m 54.72s ********************\n",
            "============================== 2 of 5 folds ==============================\n",
            "Training until validation scores don't improve for 500 rounds.\n",
            "[500]\ttraining's multi_logloss: 1.05354\ttraining's macroF1: 0.613051\tvalid_1's multi_logloss: 1.09568\tvalid_1's macroF1: 0.412267\n",
            "Early stopping, best iteration is:\n",
            "[92]\ttraining's multi_logloss: 1.29284\ttraining's macroF1: 0.545819\tvalid_1's multi_logloss: 1.28431\tvalid_1's macroF1: 0.439362\n",
            "******************** Execution ended in 00h 00m 55.85s ********************\n",
            "============================== 3 of 5 folds ==============================\n",
            "Training until validation scores don't improve for 500 rounds.\n",
            "[500]\ttraining's multi_logloss: 1.05316\ttraining's macroF1: 0.606301\tvalid_1's multi_logloss: 1.09248\tvalid_1's macroF1: 0.414494\n",
            "[1000]\ttraining's multi_logloss: 0.904545\ttraining's macroF1: 0.652934\tvalid_1's multi_logloss: 1.02286\tvalid_1's macroF1: 0.422382\n",
            "Early stopping, best iteration is:\n",
            "[676]\ttraining's multi_logloss: 0.9915\ttraining's macroF1: 0.625108\tvalid_1's multi_logloss: 1.05764\tvalid_1's macroF1: 0.436222\n",
            "******************** Execution ended in 00h 01m 54.44s ********************\n",
            "============================== 4 of 5 folds ==============================\n",
            "Training until validation scores don't improve for 500 rounds.\n",
            "[500]\ttraining's multi_logloss: 1.05054\ttraining's macroF1: 0.608352\tvalid_1's multi_logloss: 1.09713\tvalid_1's macroF1: 0.406281\n",
            "[1000]\ttraining's multi_logloss: 0.90037\ttraining's macroF1: 0.658622\tvalid_1's multi_logloss: 1.03897\tvalid_1's macroF1: 0.397707\n",
            "Early stopping, best iteration is:\n",
            "[504]\ttraining's multi_logloss: 1.04898\ttraining's macroF1: 0.611355\tvalid_1's multi_logloss: 1.09635\tvalid_1's macroF1: 0.409058\n",
            "******************** Execution ended in 00h 01m 36.81s ********************\n",
            "============================== 5 of 5 folds ==============================\n",
            "Training until validation scores don't improve for 500 rounds.\n",
            "[500]\ttraining's multi_logloss: 1.04275\ttraining's macroF1: 0.605026\tvalid_1's multi_logloss: 1.1043\tvalid_1's macroF1: 0.377463\n",
            "[1000]\ttraining's multi_logloss: 0.893193\ttraining's macroF1: 0.655298\tvalid_1's multi_logloss: 1.04518\tvalid_1's macroF1: 0.379086\n",
            "Early stopping, best iteration is:\n",
            "[714]\ttraining's multi_logloss: 0.967474\ttraining's macroF1: 0.630674\tvalid_1's multi_logloss: 1.06853\tvalid_1's macroF1: 0.393305\n",
            "******************** Execution ended in 00h 01m 57.10s ********************\n",
            "######################################## 37 of 50 iterations ########################################\n",
            "============================== 1 of 5 folds ==============================\n",
            "Training until validation scores don't improve for 500 rounds.\n",
            "[500]\ttraining's multi_logloss: 0.931034\ttraining's macroF1: 0.630012\tvalid_1's multi_logloss: 1.03514\tvalid_1's macroF1: 0.386942\n",
            "Early stopping, best iteration is:\n",
            "[43]\ttraining's multi_logloss: 1.30663\ttraining's macroF1: 0.534241\tvalid_1's multi_logloss: 1.30173\tvalid_1's macroF1: 0.408948\n",
            "******************** Execution ended in 00h 00m 35.99s ********************\n",
            "============================== 2 of 5 folds ==============================\n",
            "Training until validation scores don't improve for 500 rounds.\n",
            "[500]\ttraining's multi_logloss: 0.947846\ttraining's macroF1: 0.637599\tvalid_1's multi_logloss: 1.02542\tvalid_1's macroF1: 0.434614\n",
            "Early stopping, best iteration is:\n",
            "[12]\ttraining's multi_logloss: 1.36315\ttraining's macroF1: 0.538792\tvalid_1's multi_logloss: 1.35812\tvalid_1's macroF1: 0.440814\n",
            "******************** Execution ended in 00h 00m 34.00s ********************\n",
            "============================== 3 of 5 folds ==============================\n",
            "Training until validation scores don't improve for 500 rounds.\n",
            "[500]\ttraining's multi_logloss: 0.931798\ttraining's macroF1: 0.650215\tvalid_1's multi_logloss: 1.0549\tvalid_1's macroF1: 0.39671\n",
            "Early stopping, best iteration is:\n",
            "[162]\ttraining's multi_logloss: 1.15082\ttraining's macroF1: 0.582507\tvalid_1's multi_logloss: 1.17599\tvalid_1's macroF1: 0.417739\n",
            "******************** Execution ended in 00h 00m 44.09s ********************\n",
            "============================== 4 of 5 folds ==============================\n",
            "Training until validation scores don't improve for 500 rounds.\n",
            "[500]\ttraining's multi_logloss: 0.940116\ttraining's macroF1: 0.655591\tvalid_1's multi_logloss: 1.05184\tvalid_1's macroF1: 0.408316\n",
            "[1000]\ttraining's multi_logloss: 0.777798\ttraining's macroF1: 0.714629\tvalid_1's multi_logloss: 1.0192\tvalid_1's macroF1: 0.426749\n",
            "[1500]\ttraining's multi_logloss: 0.671475\ttraining's macroF1: 0.760364\tvalid_1's multi_logloss: 1.00495\tvalid_1's macroF1: 0.436797\n",
            "[2000]\ttraining's multi_logloss: 0.593042\ttraining's macroF1: 0.789206\tvalid_1's multi_logloss: 0.995979\tvalid_1's macroF1: 0.439566\n",
            "Early stopping, best iteration is:\n",
            "[1998]\ttraining's multi_logloss: 0.593305\ttraining's macroF1: 0.789206\tvalid_1's multi_logloss: 0.996192\tvalid_1's macroF1: 0.442238\n",
            "******************** Execution ended in 00h 02m 35.64s ********************\n",
            "============================== 5 of 5 folds ==============================\n",
            "Training until validation scores don't improve for 500 rounds.\n",
            "[500]\ttraining's multi_logloss: 0.929965\ttraining's macroF1: 0.648133\tvalid_1's multi_logloss: 1.05047\tvalid_1's macroF1: 0.401527\n",
            "Early stopping, best iteration is:\n",
            "[480]\ttraining's multi_logloss: 0.938747\ttraining's macroF1: 0.644501\tvalid_1's multi_logloss: 1.05292\tvalid_1's macroF1: 0.408397\n",
            "******************** Execution ended in 00h 01m 05.76s ********************\n",
            "######################################## 38 of 50 iterations ########################################\n",
            "============================== 1 of 5 folds ==============================\n",
            "Training until validation scores don't improve for 500 rounds.\n",
            "[500]\ttraining's multi_logloss: 1.28364\ttraining's macroF1: 0.471111\tvalid_1's multi_logloss: 1.26247\tvalid_1's macroF1: 0.38259\n",
            "[1000]\ttraining's multi_logloss: 1.21618\ttraining's macroF1: 0.483518\tvalid_1's multi_logloss: 1.19241\tvalid_1's macroF1: 0.378752\n",
            "Early stopping, best iteration is:\n",
            "[634]\ttraining's multi_logloss: 1.26298\ttraining's macroF1: 0.477944\tvalid_1's multi_logloss: 1.24\tvalid_1's macroF1: 0.392937\n",
            "******************** Execution ended in 00h 00m 52.32s ********************\n",
            "============================== 2 of 5 folds ==============================\n",
            "Training until validation scores don't improve for 500 rounds.\n",
            "[500]\ttraining's multi_logloss: 1.28606\ttraining's macroF1: 0.453728\tvalid_1's multi_logloss: 1.2655\tvalid_1's macroF1: 0.382789\n",
            "[1000]\ttraining's multi_logloss: 1.21974\ttraining's macroF1: 0.468968\tvalid_1's multi_logloss: 1.19399\tvalid_1's macroF1: 0.399298\n",
            "[1500]\ttraining's multi_logloss: 1.17193\ttraining's macroF1: 0.483128\tvalid_1's multi_logloss: 1.14868\tvalid_1's macroF1: 0.421733\n",
            "[2000]\ttraining's multi_logloss: 1.13547\ttraining's macroF1: 0.487277\tvalid_1's multi_logloss: 1.11995\tvalid_1's macroF1: 0.422407\n",
            "[2500]\ttraining's multi_logloss: 1.10671\ttraining's macroF1: 0.499056\tvalid_1's multi_logloss: 1.10048\tvalid_1's macroF1: 0.431087\n",
            "Early stopping, best iteration is:\n",
            "[2430]\ttraining's multi_logloss: 1.11039\ttraining's macroF1: 0.496849\tvalid_1's multi_logloss: 1.10301\tvalid_1's macroF1: 0.431087\n",
            "******************** Execution ended in 00h 02m 13.70s ********************\n",
            "============================== 3 of 5 folds ==============================\n",
            "Training until validation scores don't improve for 500 rounds.\n",
            "[500]\ttraining's multi_logloss: 1.28878\ttraining's macroF1: 0.473475\tvalid_1's multi_logloss: 1.25511\tvalid_1's macroF1: 0.379758\n",
            "Early stopping, best iteration is:\n",
            "[10]\ttraining's multi_logloss: 1.38389\ttraining's macroF1: 0.433212\tvalid_1's multi_logloss: 1.38266\tvalid_1's macroF1: 0.403982\n",
            "******************** Execution ended in 00h 00m 24.93s ********************\n",
            "============================== 4 of 5 folds ==============================\n",
            "Training until validation scores don't improve for 500 rounds.\n",
            "[500]\ttraining's multi_logloss: 1.28488\ttraining's macroF1: 0.480527\tvalid_1's multi_logloss: 1.24909\tvalid_1's macroF1: 0.408691\n",
            "[1000]\ttraining's multi_logloss: 1.21732\ttraining's macroF1: 0.497258\tvalid_1's multi_logloss: 1.17414\tvalid_1's macroF1: 0.410924\n",
            "[1500]\ttraining's multi_logloss: 1.16806\ttraining's macroF1: 0.505552\tvalid_1's multi_logloss: 1.12861\tvalid_1's macroF1: 0.407766\n",
            "Early stopping, best iteration is:\n",
            "[1081]\ttraining's multi_logloss: 1.20821\ttraining's macroF1: 0.498979\tvalid_1's multi_logloss: 1.16501\tvalid_1's macroF1: 0.416656\n",
            "******************** Execution ended in 00h 01m 13.14s ********************\n",
            "============================== 5 of 5 folds ==============================\n",
            "Training until validation scores don't improve for 500 rounds.\n",
            "[500]\ttraining's multi_logloss: 1.28582\ttraining's macroF1: 0.467597\tvalid_1's multi_logloss: 1.24723\tvalid_1's macroF1: 0.420659\n",
            "[1000]\ttraining's multi_logloss: 1.21907\ttraining's macroF1: 0.479195\tvalid_1's multi_logloss: 1.16827\tvalid_1's macroF1: 0.425443\n",
            "[1500]\ttraining's multi_logloss: 1.17139\ttraining's macroF1: 0.491953\tvalid_1's multi_logloss: 1.11801\tvalid_1's macroF1: 0.431082\n",
            "[2000]\ttraining's multi_logloss: 1.13493\ttraining's macroF1: 0.502792\tvalid_1's multi_logloss: 1.08393\tvalid_1's macroF1: 0.431447\n",
            "Early stopping, best iteration is:\n",
            "[1506]\ttraining's multi_logloss: 1.17088\ttraining's macroF1: 0.492718\tvalid_1's multi_logloss: 1.11752\tvalid_1's macroF1: 0.43423\n",
            "******************** Execution ended in 00h 01m 31.72s ********************\n",
            "######################################## 39 of 50 iterations ########################################\n",
            "============================== 1 of 5 folds ==============================\n",
            "Training until validation scores don't improve for 500 rounds.\n",
            "[500]\ttraining's multi_logloss: 0.986505\ttraining's macroF1: 0.556184\tvalid_1's multi_logloss: 1.09404\tvalid_1's macroF1: 0.426069\n",
            "Early stopping, best iteration is:\n",
            "[320]\ttraining's multi_logloss: 1.05059\ttraining's macroF1: 0.520985\tvalid_1's multi_logloss: 1.1122\tvalid_1's macroF1: 0.446191\n",
            "******************** Execution ended in 00h 00m 57.04s ********************\n",
            "============================== 2 of 5 folds ==============================\n",
            "Training until validation scores don't improve for 500 rounds.\n",
            "[500]\ttraining's multi_logloss: 0.983354\ttraining's macroF1: 0.571203\tvalid_1's multi_logloss: 1.02777\tvalid_1's macroF1: 0.402905\n",
            "[1000]\ttraining's multi_logloss: 0.875472\ttraining's macroF1: 0.623809\tvalid_1's multi_logloss: 1.01459\tvalid_1's macroF1: 0.419116\n",
            "[1500]\ttraining's multi_logloss: 0.80501\ttraining's macroF1: 0.651813\tvalid_1's multi_logloss: 1.01323\tvalid_1's macroF1: 0.42029\n",
            "Early stopping, best iteration is:\n",
            "[1211]\ttraining's multi_logloss: 0.842684\ttraining's macroF1: 0.642359\tvalid_1's multi_logloss: 1.0134\tvalid_1's macroF1: 0.434341\n",
            "******************** Execution ended in 00h 01m 52.24s ********************\n",
            "============================== 3 of 5 folds ==============================\n",
            "Training until validation scores don't improve for 500 rounds.\n",
            "[500]\ttraining's multi_logloss: 0.990124\ttraining's macroF1: 0.579876\tvalid_1's multi_logloss: 1.05532\tvalid_1's macroF1: 0.415202\n",
            "[1000]\ttraining's multi_logloss: 0.879701\ttraining's macroF1: 0.625828\tvalid_1's multi_logloss: 1.04316\tvalid_1's macroF1: 0.424832\n",
            "Early stopping, best iteration is:\n",
            "[563]\ttraining's multi_logloss: 0.972412\ttraining's macroF1: 0.586461\tvalid_1's multi_logloss: 1.05175\tvalid_1's macroF1: 0.428061\n",
            "******************** Execution ended in 00h 01m 12.47s ********************\n",
            "============================== 4 of 5 folds ==============================\n",
            "Training until validation scores don't improve for 500 rounds.\n",
            "[500]\ttraining's multi_logloss: 0.97096\ttraining's macroF1: 0.564534\tvalid_1's multi_logloss: 1.04239\tvalid_1's macroF1: 0.394926\n",
            "Early stopping, best iteration is:\n",
            "[30]\ttraining's multi_logloss: 1.30989\ttraining's macroF1: 0.448305\tvalid_1's multi_logloss: 1.28589\tvalid_1's macroF1: 0.416383\n",
            "******************** Execution ended in 00h 00m 39.24s ********************\n",
            "============================== 5 of 5 folds ==============================\n",
            "Training until validation scores don't improve for 500 rounds.\n",
            "[500]\ttraining's multi_logloss: 0.994414\ttraining's macroF1: 0.554627\tvalid_1's multi_logloss: 1.03926\tvalid_1's macroF1: 0.424265\n",
            "[1000]\ttraining's multi_logloss: 0.890333\ttraining's macroF1: 0.613341\tvalid_1's multi_logloss: 1.0216\tvalid_1's macroF1: 0.402381\n",
            "Early stopping, best iteration is:\n",
            "[636]\ttraining's multi_logloss: 0.960417\ttraining's macroF1: 0.571898\tvalid_1's multi_logloss: 1.03169\tvalid_1's macroF1: 0.4278\n",
            "******************** Execution ended in 00h 01m 16.68s ********************\n",
            "######################################## 40 of 50 iterations ########################################\n",
            "============================== 1 of 5 folds ==============================\n",
            "Training until validation scores don't improve for 500 rounds.\n",
            "[500]\ttraining's multi_logloss: 0.741227\ttraining's macroF1: 0.700258\tvalid_1's multi_logloss: 1.02059\tvalid_1's macroF1: 0.37798\n",
            "Early stopping, best iteration is:\n",
            "[332]\ttraining's multi_logloss: 0.835421\ttraining's macroF1: 0.655292\tvalid_1's multi_logloss: 1.02721\tvalid_1's macroF1: 0.39422\n",
            "******************** Execution ended in 00h 00m 50.91s ********************\n",
            "============================== 2 of 5 folds ==============================\n",
            "Training until validation scores don't improve for 500 rounds.\n",
            "[500]\ttraining's multi_logloss: 0.759572\ttraining's macroF1: 0.707977\tvalid_1's multi_logloss: 1.01637\tvalid_1's macroF1: 0.428619\n",
            "[1000]\ttraining's multi_logloss: 0.591179\ttraining's macroF1: 0.778035\tvalid_1's multi_logloss: 0.99864\tvalid_1's macroF1: 0.437994\n",
            "Early stopping, best iteration is:\n",
            "[843]\ttraining's multi_logloss: 0.631317\ttraining's macroF1: 0.762571\tvalid_1's multi_logloss: 1.00194\tvalid_1's macroF1: 0.448508\n",
            "******************** Execution ended in 00h 01m 19.44s ********************\n",
            "============================== 3 of 5 folds ==============================\n",
            "Training until validation scores don't improve for 500 rounds.\n",
            "[500]\ttraining's multi_logloss: 0.748329\ttraining's macroF1: 0.714085\tvalid_1's multi_logloss: 1.04841\tvalid_1's macroF1: 0.409828\n",
            "Early stopping, best iteration is:\n",
            "[119]\ttraining's multi_logloss: 1.05853\ttraining's macroF1: 0.591342\tvalid_1's multi_logloss: 1.1247\tvalid_1's macroF1: 0.418037\n",
            "******************** Execution ended in 00h 00m 38.30s ********************\n",
            "============================== 4 of 5 folds ==============================\n",
            "Training until validation scores don't improve for 500 rounds.\n",
            "[500]\ttraining's multi_logloss: 0.757222\ttraining's macroF1: 0.706972\tvalid_1's multi_logloss: 0.98713\tvalid_1's macroF1: 0.416614\n",
            "Early stopping, best iteration is:\n",
            "[338]\ttraining's multi_logloss: 0.851024\ttraining's macroF1: 0.662938\tvalid_1's multi_logloss: 1.00267\tvalid_1's macroF1: 0.44035\n",
            "******************** Execution ended in 00h 00m 51.21s ********************\n",
            "============================== 5 of 5 folds ==============================\n",
            "Training until validation scores don't improve for 500 rounds.\n",
            "[500]\ttraining's multi_logloss: 0.757687\ttraining's macroF1: 0.70943\tvalid_1's multi_logloss: 0.971325\tvalid_1's macroF1: 0.424306\n",
            "Early stopping, best iteration is:\n",
            "[227]\ttraining's multi_logloss: 0.937337\ttraining's macroF1: 0.630873\tvalid_1's multi_logloss: 1.00832\tvalid_1's macroF1: 0.439868\n",
            "******************** Execution ended in 00h 00m 45.56s ********************\n",
            "######################################## 41 of 50 iterations ########################################\n",
            "============================== 1 of 5 folds ==============================\n",
            "Training until validation scores don't improve for 500 rounds.\n",
            "[500]\ttraining's multi_logloss: 0.886744\ttraining's macroF1: 0.636581\tvalid_1's multi_logloss: 1.02899\tvalid_1's macroF1: 0.390942\n",
            "[1000]\ttraining's multi_logloss: 0.746398\ttraining's macroF1: 0.699461\tvalid_1's multi_logloss: 1.01621\tvalid_1's macroF1: 0.39065\n",
            "Early stopping, best iteration is:\n",
            "[804]\ttraining's multi_logloss: 0.792705\ttraining's macroF1: 0.679534\tvalid_1's multi_logloss: 1.0206\tvalid_1's macroF1: 0.403815\n",
            "******************** Execution ended in 00h 01m 19.08s ********************\n",
            "============================== 2 of 5 folds ==============================\n",
            "Training until validation scores don't improve for 500 rounds.\n",
            "[500]\ttraining's multi_logloss: 0.887186\ttraining's macroF1: 0.623376\tvalid_1's multi_logloss: 1.0202\tvalid_1's macroF1: 0.423504\n",
            "[1000]\ttraining's multi_logloss: 0.748168\ttraining's macroF1: 0.697366\tvalid_1's multi_logloss: 1.00152\tvalid_1's macroF1: 0.435661\n",
            "Early stopping, best iteration is:\n",
            "[922]\ttraining's multi_logloss: 0.765504\ttraining's macroF1: 0.682521\tvalid_1's multi_logloss: 1.00437\tvalid_1's macroF1: 0.444203\n",
            "******************** Execution ended in 00h 01m 25.02s ********************\n",
            "============================== 3 of 5 folds ==============================\n",
            "Training until validation scores don't improve for 500 rounds.\n",
            "[500]\ttraining's multi_logloss: 0.88164\ttraining's macroF1: 0.628892\tvalid_1's multi_logloss: 1.06182\tvalid_1's macroF1: 0.397258\n",
            "Early stopping, best iteration is:\n",
            "[301]\ttraining's multi_logloss: 0.970769\ttraining's macroF1: 0.589003\tvalid_1's multi_logloss: 1.07618\tvalid_1's macroF1: 0.40815\n",
            "******************** Execution ended in 00h 00m 49.42s ********************\n",
            "============================== 4 of 5 folds ==============================\n",
            "Training until validation scores don't improve for 500 rounds.\n",
            "[500]\ttraining's multi_logloss: 0.881808\ttraining's macroF1: 0.622533\tvalid_1's multi_logloss: 1.03204\tvalid_1's macroF1: 0.427666\n",
            "[1000]\ttraining's multi_logloss: 0.743192\ttraining's macroF1: 0.691427\tvalid_1's multi_logloss: 1.0314\tvalid_1's macroF1: 0.429111\n",
            "Early stopping, best iteration is:\n",
            "[573]\ttraining's multi_logloss: 0.856723\ttraining's macroF1: 0.640198\tvalid_1's multi_logloss: 1.02972\tvalid_1's macroF1: 0.434421\n",
            "******************** Execution ended in 00h 01m 05.53s ********************\n",
            "============================== 5 of 5 folds ==============================\n",
            "Training until validation scores don't improve for 500 rounds.\n",
            "[500]\ttraining's multi_logloss: 0.883171\ttraining's macroF1: 0.633624\tvalid_1's multi_logloss: 1.03045\tvalid_1's macroF1: 0.394052\n",
            "Early stopping, best iteration is:\n",
            "[31]\ttraining's multi_logloss: 1.28288\ttraining's macroF1: 0.495255\tvalid_1's multi_logloss: 1.25435\tvalid_1's macroF1: 0.421846\n",
            "******************** Execution ended in 00h 00m 33.63s ********************\n",
            "######################################## 42 of 50 iterations ########################################\n",
            "============================== 1 of 5 folds ==============================\n",
            "Training until validation scores don't improve for 500 rounds.\n",
            "[500]\ttraining's multi_logloss: 1.06683\ttraining's macroF1: 0.51995\tvalid_1's multi_logloss: 1.03529\tvalid_1's macroF1: 0.413577\n",
            "[1000]\ttraining's multi_logloss: 0.978712\ttraining's macroF1: 0.557625\tvalid_1's multi_logloss: 1.00077\tvalid_1's macroF1: 0.426346\n",
            "[1500]\ttraining's multi_logloss: 0.920552\ttraining's macroF1: 0.591911\tvalid_1's multi_logloss: 0.994954\tvalid_1's macroF1: 0.414837\n",
            "Early stopping, best iteration is:\n",
            "[1258]\ttraining's multi_logloss: 0.94662\ttraining's macroF1: 0.578444\tvalid_1's multi_logloss: 1.00154\tvalid_1's macroF1: 0.43081\n",
            "******************** Execution ended in 00h 01m 08.96s ********************\n",
            "============================== 2 of 5 folds ==============================\n",
            "Training until validation scores don't improve for 500 rounds.\n",
            "[500]\ttraining's multi_logloss: 1.06727\ttraining's macroF1: 0.516836\tvalid_1's multi_logloss: 1.07636\tvalid_1's macroF1: 0.412995\n",
            "[1000]\ttraining's multi_logloss: 0.97948\ttraining's macroF1: 0.551505\tvalid_1's multi_logloss: 1.05719\tvalid_1's macroF1: 0.414961\n",
            "Early stopping, best iteration is:\n",
            "[837]\ttraining's multi_logloss: 1.00287\ttraining's macroF1: 0.542616\tvalid_1's multi_logloss: 1.06013\tvalid_1's macroF1: 0.429364\n",
            "******************** Execution ended in 00h 00m 53.34s ********************\n",
            "============================== 3 of 5 folds ==============================\n",
            "Training until validation scores don't improve for 500 rounds.\n",
            "[500]\ttraining's multi_logloss: 1.07316\ttraining's macroF1: 0.520619\tvalid_1's multi_logloss: 1.09135\tvalid_1's macroF1: 0.403093\n",
            "Early stopping, best iteration is:\n",
            "[179]\ttraining's multi_logloss: 1.19344\ttraining's macroF1: 0.485329\tvalid_1's multi_logloss: 1.1613\tvalid_1's macroF1: 0.409349\n",
            "******************** Execution ended in 00h 00m 28.84s ********************\n",
            "============================== 4 of 5 folds ==============================\n",
            "Training until validation scores don't improve for 500 rounds.\n",
            "[500]\ttraining's multi_logloss: 1.06084\ttraining's macroF1: 0.529799\tvalid_1's multi_logloss: 1.08031\tvalid_1's macroF1: 0.384444\n",
            "Early stopping, best iteration is:\n",
            "[46]\ttraining's multi_logloss: 1.31324\ttraining's macroF1: 0.456426\tvalid_1's multi_logloss: 1.29276\tvalid_1's macroF1: 0.402405\n",
            "******************** Execution ended in 00h 00m 23.65s ********************\n",
            "============================== 5 of 5 folds ==============================\n",
            "Training until validation scores don't improve for 500 rounds.\n",
            "[500]\ttraining's multi_logloss: 1.07678\ttraining's macroF1: 0.516807\tvalid_1's multi_logloss: 1.05724\tvalid_1's macroF1: 0.40879\n",
            "[1000]\ttraining's multi_logloss: 0.989071\ttraining's macroF1: 0.561463\tvalid_1's multi_logloss: 1.02965\tvalid_1's macroF1: 0.425521\n",
            "Early stopping, best iteration is:\n",
            "[777]\ttraining's multi_logloss: 1.02128\ttraining's macroF1: 0.535715\tvalid_1's multi_logloss: 1.0383\tvalid_1's macroF1: 0.426539\n",
            "******************** Execution ended in 00h 00m 50.88s ********************\n",
            "######################################## 43 of 50 iterations ########################################\n",
            "============================== 1 of 5 folds ==============================\n",
            "Training until validation scores don't improve for 500 rounds.\n",
            "[500]\ttraining's multi_logloss: 0.598975\ttraining's macroF1: 0.794368\tvalid_1's multi_logloss: 1.00138\tvalid_1's macroF1: 0.434592\n",
            "Early stopping, best iteration is:\n",
            "[172]\ttraining's multi_logloss: 0.89014\ttraining's macroF1: 0.697087\tvalid_1's multi_logloss: 1.05417\tvalid_1's macroF1: 0.448139\n",
            "******************** Execution ended in 00h 00m 49.54s ********************\n",
            "============================== 2 of 5 folds ==============================\n",
            "Training until validation scores don't improve for 500 rounds.\n",
            "[500]\ttraining's multi_logloss: 0.602098\ttraining's macroF1: 0.781072\tvalid_1's multi_logloss: 0.943676\tvalid_1's macroF1: 0.432599\n",
            "[1000]\ttraining's multi_logloss: 0.436606\ttraining's macroF1: 0.842055\tvalid_1's multi_logloss: 0.928212\tvalid_1's macroF1: 0.412758\n",
            "Early stopping, best iteration is:\n",
            "[610]\ttraining's multi_logloss: 0.550938\ttraining's macroF1: 0.803829\tvalid_1's multi_logloss: 0.936959\tvalid_1's macroF1: 0.438418\n",
            "******************** Execution ended in 00h 01m 20.56s ********************\n",
            "============================== 3 of 5 folds ==============================\n",
            "Training until validation scores don't improve for 500 rounds.\n",
            "[500]\ttraining's multi_logloss: 0.595294\ttraining's macroF1: 0.795\tvalid_1's multi_logloss: 1.02319\tvalid_1's macroF1: 0.416818\n",
            "[1000]\ttraining's multi_logloss: 0.430332\ttraining's macroF1: 0.849096\tvalid_1's multi_logloss: 1.00563\tvalid_1's macroF1: 0.419269\n",
            "[1500]\ttraining's multi_logloss: 0.354803\ttraining's macroF1: 0.880086\tvalid_1's multi_logloss: 1.00637\tvalid_1's macroF1: 0.410512\n",
            "Early stopping, best iteration is:\n",
            "[1081]\ttraining's multi_logloss: 0.414354\ttraining's macroF1: 0.85368\tvalid_1's multi_logloss: 1.0036\tvalid_1's macroF1: 0.426914\n",
            "******************** Execution ended in 00h 01m 50.39s ********************\n",
            "============================== 4 of 5 folds ==============================\n",
            "Training until validation scores don't improve for 500 rounds.\n",
            "[500]\ttraining's multi_logloss: 0.597399\ttraining's macroF1: 0.785885\tvalid_1's multi_logloss: 0.989573\tvalid_1's macroF1: 0.43082\n",
            "[1000]\ttraining's multi_logloss: 0.430185\ttraining's macroF1: 0.850991\tvalid_1's multi_logloss: 0.972349\tvalid_1's macroF1: 0.438558\n",
            "Early stopping, best iteration is:\n",
            "[624]\ttraining's multi_logloss: 0.539347\ttraining's macroF1: 0.812886\tvalid_1's multi_logloss: 0.980229\tvalid_1's macroF1: 0.447584\n",
            "******************** Execution ended in 00h 01m 20.82s ********************\n",
            "============================== 5 of 5 folds ==============================\n",
            "Training until validation scores don't improve for 500 rounds.\n",
            "[500]\ttraining's multi_logloss: 0.599568\ttraining's macroF1: 0.784852\tvalid_1's multi_logloss: 0.954892\tvalid_1's macroF1: 0.4071\n",
            "Early stopping, best iteration is:\n",
            "[122]\ttraining's multi_logloss: 0.976972\ttraining's macroF1: 0.658797\tvalid_1's multi_logloss: 1.03997\tvalid_1's macroF1: 0.436008\n",
            "******************** Execution ended in 00h 00m 44.76s ********************\n",
            "######################################## 44 of 50 iterations ########################################\n",
            "============================== 1 of 5 folds ==============================\n",
            "Training until validation scores don't improve for 500 rounds.\n",
            "[500]\ttraining's multi_logloss: 1.15702\ttraining's macroF1: 0.469752\tvalid_1's multi_logloss: 1.10095\tvalid_1's macroF1: 0.359814\n",
            "Early stopping, best iteration is:\n",
            "[83]\ttraining's multi_logloss: 1.31789\ttraining's macroF1: 0.443788\tvalid_1's multi_logloss: 1.28947\tvalid_1's macroF1: 0.39734\n",
            "******************** Execution ended in 00h 00m 24.05s ********************\n",
            "============================== 2 of 5 folds ==============================\n",
            "Training until validation scores don't improve for 500 rounds.\n",
            "[500]\ttraining's multi_logloss: 1.15411\ttraining's macroF1: 0.474989\tvalid_1's multi_logloss: 1.14306\tvalid_1's macroF1: 0.402887\n",
            "[1000]\ttraining's multi_logloss: 1.08887\ttraining's macroF1: 0.499455\tvalid_1's multi_logloss: 1.11834\tvalid_1's macroF1: 0.39977\n",
            "Early stopping, best iteration is:\n",
            "[525]\ttraining's multi_logloss: 1.14938\ttraining's macroF1: 0.475965\tvalid_1's multi_logloss: 1.13866\tvalid_1's macroF1: 0.407055\n",
            "******************** Execution ended in 00h 00m 39.85s ********************\n",
            "============================== 3 of 5 folds ==============================\n",
            "Training until validation scores don't improve for 500 rounds.\n",
            "[500]\ttraining's multi_logloss: 1.15859\ttraining's macroF1: 0.470897\tvalid_1's multi_logloss: 1.11099\tvalid_1's macroF1: 0.391958\n",
            "[1000]\ttraining's multi_logloss: 1.09122\ttraining's macroF1: 0.494243\tvalid_1's multi_logloss: 1.07946\tvalid_1's macroF1: 0.420466\n",
            "Early stopping, best iteration is:\n",
            "[946]\ttraining's multi_logloss: 1.09649\ttraining's macroF1: 0.493831\tvalid_1's multi_logloss: 1.08116\tvalid_1's macroF1: 0.424672\n",
            "******************** Execution ended in 00h 00m 54.94s ********************\n",
            "============================== 4 of 5 folds ==============================\n",
            "Training until validation scores don't improve for 500 rounds.\n",
            "[500]\ttraining's multi_logloss: 1.17047\ttraining's macroF1: 0.462673\tvalid_1's multi_logloss: 1.08026\tvalid_1's macroF1: 0.413135\n",
            "Early stopping, best iteration is:\n",
            "[300]\ttraining's multi_logloss: 1.21945\ttraining's macroF1: 0.445314\tvalid_1's multi_logloss: 1.13599\tvalid_1's macroF1: 0.431188\n",
            "******************** Execution ended in 00h 00m 32.25s ********************\n",
            "============================== 5 of 5 folds ==============================\n",
            "Training until validation scores don't improve for 500 rounds.\n",
            "[500]\ttraining's multi_logloss: 1.15645\ttraining's macroF1: 0.477925\tvalid_1's multi_logloss: 1.11852\tvalid_1's macroF1: 0.384058\n",
            "Early stopping, best iteration is:\n",
            "[386]\ttraining's multi_logloss: 1.18226\ttraining's macroF1: 0.468103\tvalid_1's multi_logloss: 1.13901\tvalid_1's macroF1: 0.397815\n",
            "******************** Execution ended in 00h 00m 35.24s ********************\n",
            "######################################## 45 of 50 iterations ########################################\n",
            "============================== 1 of 5 folds ==============================\n",
            "Training until validation scores don't improve for 500 rounds.\n",
            "[500]\ttraining's multi_logloss: 1.22079\ttraining's macroF1: 0.518015\tvalid_1's multi_logloss: 1.20226\tvalid_1's macroF1: 0.381132\n",
            "Early stopping, best iteration is:\n",
            "[45]\ttraining's multi_logloss: 1.36629\ttraining's macroF1: 0.476801\tvalid_1's multi_logloss: 1.36139\tvalid_1's macroF1: 0.402466\n",
            "******************** Execution ended in 00h 00m 30.49s ********************\n",
            "============================== 2 of 5 folds ==============================\n",
            "Training until validation scores don't improve for 500 rounds.\n",
            "[500]\ttraining's multi_logloss: 1.21544\ttraining's macroF1: 0.527141\tvalid_1's multi_logloss: 1.2081\tvalid_1's macroF1: 0.374756\n",
            "Early stopping, best iteration is:\n",
            "[482]\ttraining's multi_logloss: 1.21983\ttraining's macroF1: 0.525058\tvalid_1's multi_logloss: 1.21213\tvalid_1's macroF1: 0.383014\n",
            "******************** Execution ended in 00h 00m 54.96s ********************\n",
            "============================== 3 of 5 folds ==============================\n",
            "Training until validation scores don't improve for 500 rounds.\n",
            "[500]\ttraining's multi_logloss: 1.22098\ttraining's macroF1: 0.520808\tvalid_1's multi_logloss: 1.19534\tvalid_1's macroF1: 0.392122\n",
            "[1000]\ttraining's multi_logloss: 1.12354\ttraining's macroF1: 0.548379\tvalid_1's multi_logloss: 1.11235\tvalid_1's macroF1: 0.408092\n",
            "[1500]\ttraining's multi_logloss: 1.05777\ttraining's macroF1: 0.570607\tvalid_1's multi_logloss: 1.06887\tvalid_1's macroF1: 0.412905\n",
            "[2000]\ttraining's multi_logloss: 1.00856\ttraining's macroF1: 0.585707\tvalid_1's multi_logloss: 1.04587\tvalid_1's macroF1: 0.423717\n",
            "[2500]\ttraining's multi_logloss: 0.969823\ttraining's macroF1: 0.59983\tvalid_1's multi_logloss: 1.03205\tvalid_1's macroF1: 0.42025\n",
            "Early stopping, best iteration is:\n",
            "[2142]\ttraining's multi_logloss: 0.996722\ttraining's macroF1: 0.590242\tvalid_1's multi_logloss: 1.04175\tvalid_1's macroF1: 0.425739\n",
            "******************** Execution ended in 00h 02m 23.76s ********************\n",
            "============================== 4 of 5 folds ==============================\n",
            "Training until validation scores don't improve for 500 rounds.\n",
            "[500]\ttraining's multi_logloss: 1.21968\ttraining's macroF1: 0.513074\tvalid_1's multi_logloss: 1.2142\tvalid_1's macroF1: 0.396731\n",
            "[1000]\ttraining's multi_logloss: 1.12361\ttraining's macroF1: 0.539019\tvalid_1's multi_logloss: 1.13311\tvalid_1's macroF1: 0.398212\n",
            "[1500]\ttraining's multi_logloss: 1.05827\ttraining's macroF1: 0.553036\tvalid_1's multi_logloss: 1.0906\tvalid_1's macroF1: 0.391643\n",
            "Early stopping, best iteration is:\n",
            "[1188]\ttraining's multi_logloss: 1.09649\ttraining's macroF1: 0.546448\tvalid_1's multi_logloss: 1.1136\tvalid_1's macroF1: 0.401586\n",
            "******************** Execution ended in 00h 01m 34.29s ********************\n",
            "============================== 5 of 5 folds ==============================\n",
            "Training until validation scores don't improve for 500 rounds.\n",
            "[500]\ttraining's multi_logloss: 1.22389\ttraining's macroF1: 0.5316\tvalid_1's multi_logloss: 1.20241\tvalid_1's macroF1: 0.392379\n",
            "[1000]\ttraining's multi_logloss: 1.12739\ttraining's macroF1: 0.548886\tvalid_1's multi_logloss: 1.11544\tvalid_1's macroF1: 0.409366\n",
            "[1500]\ttraining's multi_logloss: 1.06067\ttraining's macroF1: 0.572392\tvalid_1's multi_logloss: 1.07016\tvalid_1's macroF1: 0.409632\n",
            "Early stopping, best iteration is:\n",
            "[1116]\ttraining's multi_logloss: 1.10993\ttraining's macroF1: 0.556962\tvalid_1's multi_logloss: 1.10218\tvalid_1's macroF1: 0.415064\n",
            "******************** Execution ended in 00h 01m 30.74s ********************\n",
            "######################################## 46 of 50 iterations ########################################\n",
            "============================== 1 of 5 folds ==============================\n",
            "Training until validation scores don't improve for 500 rounds.\n",
            "[500]\ttraining's multi_logloss: 0.933994\ttraining's macroF1: 0.588838\tvalid_1's multi_logloss: 1.08399\tvalid_1's macroF1: 0.416823\n",
            "[1000]\ttraining's multi_logloss: 0.813093\ttraining's macroF1: 0.652244\tvalid_1's multi_logloss: 1.08397\tvalid_1's macroF1: 0.405686\n",
            "Early stopping, best iteration is:\n",
            "[616]\ttraining's multi_logloss: 0.899701\ttraining's macroF1: 0.60695\tvalid_1's multi_logloss: 1.07871\tvalid_1's macroF1: 0.420583\n",
            "******************** Execution ended in 00h 01m 00.79s ********************\n",
            "============================== 2 of 5 folds ==============================\n",
            "Training until validation scores don't improve for 500 rounds.\n",
            "[500]\ttraining's multi_logloss: 0.946016\ttraining's macroF1: 0.581136\tvalid_1's multi_logloss: 1.00167\tvalid_1's macroF1: 0.423052\n",
            "[1000]\ttraining's multi_logloss: 0.826279\ttraining's macroF1: 0.645833\tvalid_1's multi_logloss: 0.991235\tvalid_1's macroF1: 0.44264\n",
            "[1500]\ttraining's multi_logloss: 0.746625\ttraining's macroF1: 0.677486\tvalid_1's multi_logloss: 0.993196\tvalid_1's macroF1: 0.44547\n",
            "Early stopping, best iteration is:\n",
            "[1422]\ttraining's multi_logloss: 0.75659\ttraining's macroF1: 0.67869\tvalid_1's multi_logloss: 0.990673\tvalid_1's macroF1: 0.455607\n",
            "******************** Execution ended in 00h 01m 40.86s ********************\n",
            "============================== 3 of 5 folds ==============================\n",
            "Training until validation scores don't improve for 500 rounds.\n",
            "[500]\ttraining's multi_logloss: 0.935041\ttraining's macroF1: 0.59902\tvalid_1's multi_logloss: 1.05663\tvalid_1's macroF1: 0.386939\n",
            "[1000]\ttraining's multi_logloss: 0.816117\ttraining's macroF1: 0.643489\tvalid_1's multi_logloss: 1.04753\tvalid_1's macroF1: 0.377698\n",
            "Early stopping, best iteration is:\n",
            "[665]\ttraining's multi_logloss: 0.888743\ttraining's macroF1: 0.617005\tvalid_1's multi_logloss: 1.05179\tvalid_1's macroF1: 0.400019\n",
            "******************** Execution ended in 00h 01m 03.45s ********************\n",
            "============================== 4 of 5 folds ==============================\n",
            "Training until validation scores don't improve for 500 rounds.\n",
            "[500]\ttraining's multi_logloss: 0.949355\ttraining's macroF1: 0.585908\tvalid_1's multi_logloss: 1.02928\tvalid_1's macroF1: 0.426727\n",
            "[1000]\ttraining's multi_logloss: 0.826323\ttraining's macroF1: 0.648572\tvalid_1's multi_logloss: 1.01898\tvalid_1's macroF1: 0.432196\n",
            "Early stopping, best iteration is:\n",
            "[633]\ttraining's multi_logloss: 0.909768\ttraining's macroF1: 0.609419\tvalid_1's multi_logloss: 1.0203\tvalid_1's macroF1: 0.445408\n",
            "******************** Execution ended in 00h 01m 01.83s ********************\n",
            "============================== 5 of 5 folds ==============================\n",
            "Training until validation scores don't improve for 500 rounds.\n",
            "[500]\ttraining's multi_logloss: 0.939874\ttraining's macroF1: 0.580227\tvalid_1's multi_logloss: 1.05601\tvalid_1's macroF1: 0.393268\n",
            "Early stopping, best iteration is:\n",
            "[136]\ttraining's multi_logloss: 1.1345\ttraining's macroF1: 0.519361\tvalid_1's multi_logloss: 1.1277\tvalid_1's macroF1: 0.407092\n",
            "******************** Execution ended in 00h 00m 36.87s ********************\n",
            "######################################## 47 of 50 iterations ########################################\n",
            "============================== 1 of 5 folds ==============================\n",
            "Training until validation scores don't improve for 500 rounds.\n",
            "[500]\ttraining's multi_logloss: 1.0204\ttraining's macroF1: 0.578567\tvalid_1's multi_logloss: 1.06129\tvalid_1's macroF1: 0.413217\n",
            "[1000]\ttraining's multi_logloss: 0.879409\ttraining's macroF1: 0.633688\tvalid_1's multi_logloss: 1.01504\tvalid_1's macroF1: 0.442271\n",
            "[1500]\ttraining's multi_logloss: 0.789593\ttraining's macroF1: 0.680676\tvalid_1's multi_logloss: 1.00464\tvalid_1's macroF1: 0.439901\n",
            "Early stopping, best iteration is:\n",
            "[1218]\ttraining's multi_logloss: 0.836656\ttraining's macroF1: 0.655368\tvalid_1's multi_logloss: 1.00858\tvalid_1's macroF1: 0.447644\n",
            "******************** Execution ended in 00h 02m 22.61s ********************\n",
            "============================== 2 of 5 folds ==============================\n",
            "Training until validation scores don't improve for 500 rounds.\n",
            "[500]\ttraining's multi_logloss: 1.02157\ttraining's macroF1: 0.595503\tvalid_1's multi_logloss: 1.06987\tvalid_1's macroF1: 0.424299\n",
            "[1000]\ttraining's multi_logloss: 0.88072\ttraining's macroF1: 0.651615\tvalid_1's multi_logloss: 1.02822\tvalid_1's macroF1: 0.441448\n",
            "[1500]\ttraining's multi_logloss: 0.789985\ttraining's macroF1: 0.686339\tvalid_1's multi_logloss: 1.01926\tvalid_1's macroF1: 0.434009\n",
            "Early stopping, best iteration is:\n",
            "[1115]\ttraining's multi_logloss: 0.857335\ttraining's macroF1: 0.662446\tvalid_1's multi_logloss: 1.02501\tvalid_1's macroF1: 0.447224\n",
            "******************** Execution ended in 00h 02m 14.89s ********************\n",
            "============================== 3 of 5 folds ==============================\n",
            "Training until validation scores don't improve for 500 rounds.\n",
            "[500]\ttraining's multi_logloss: 1.02315\ttraining's macroF1: 0.57279\tvalid_1's multi_logloss: 1.07775\tvalid_1's macroF1: 0.403611\n",
            "[1000]\ttraining's multi_logloss: 0.887844\ttraining's macroF1: 0.626708\tvalid_1's multi_logloss: 1.03822\tvalid_1's macroF1: 0.390775\n",
            "Early stopping, best iteration is:\n",
            "[509]\ttraining's multi_logloss: 1.0198\ttraining's macroF1: 0.574655\tvalid_1's multi_logloss: 1.07649\tvalid_1's macroF1: 0.413506\n",
            "******************** Execution ended in 00h 01m 25.43s ********************\n",
            "============================== 4 of 5 folds ==============================\n",
            "Training until validation scores don't improve for 500 rounds.\n",
            "[500]\ttraining's multi_logloss: 1.01605\ttraining's macroF1: 0.576219\tvalid_1's multi_logloss: 1.09486\tvalid_1's macroF1: 0.394326\n",
            "Early stopping, best iteration is:\n",
            "[144]\ttraining's multi_logloss: 1.21828\ttraining's macroF1: 0.528103\tvalid_1's multi_logloss: 1.22667\tvalid_1's macroF1: 0.413774\n",
            "******************** Execution ended in 00h 00m 55.07s ********************\n",
            "============================== 5 of 5 folds ==============================\n",
            "Training until validation scores don't improve for 500 rounds.\n",
            "[500]\ttraining's multi_logloss: 1.03302\ttraining's macroF1: 0.582286\tvalid_1's multi_logloss: 1.05921\tvalid_1's macroF1: 0.436443\n",
            "Early stopping, best iteration is:\n",
            "[348]\ttraining's multi_logloss: 1.09863\ttraining's macroF1: 0.557728\tvalid_1's multi_logloss: 1.09738\tvalid_1's macroF1: 0.452039\n",
            "******************** Execution ended in 00h 01m 12.69s ********************\n",
            "######################################## 48 of 50 iterations ########################################\n",
            "============================== 1 of 5 folds ==============================\n",
            "Training until validation scores don't improve for 500 rounds.\n",
            "[500]\ttraining's multi_logloss: 0.943521\ttraining's macroF1: 0.608181\tvalid_1's multi_logloss: 1.01521\tvalid_1's macroF1: 0.416516\n",
            "Early stopping, best iteration is:\n",
            "[209]\ttraining's multi_logloss: 1.10125\ttraining's macroF1: 0.559682\tvalid_1's multi_logloss: 1.09158\tvalid_1's macroF1: 0.431423\n",
            "******************** Execution ended in 00h 00m 45.98s ********************\n",
            "============================== 2 of 5 folds ==============================\n",
            "Training until validation scores don't improve for 500 rounds.\n",
            "[500]\ttraining's multi_logloss: 0.940771\ttraining's macroF1: 0.612365\tvalid_1's multi_logloss: 1.05373\tvalid_1's macroF1: 0.418782\n",
            "[1000]\ttraining's multi_logloss: 0.795711\ttraining's macroF1: 0.683914\tvalid_1's multi_logloss: 1.04244\tvalid_1's macroF1: 0.418669\n",
            "Early stopping, best iteration is:\n",
            "[541]\ttraining's multi_logloss: 0.925281\ttraining's macroF1: 0.622994\tvalid_1's multi_logloss: 1.0521\tvalid_1's macroF1: 0.430984\n",
            "******************** Execution ended in 00h 01m 06.57s ********************\n",
            "============================== 3 of 5 folds ==============================\n",
            "Training until validation scores don't improve for 500 rounds.\n",
            "[500]\ttraining's multi_logloss: 0.941189\ttraining's macroF1: 0.615573\tvalid_1's multi_logloss: 1.06118\tvalid_1's macroF1: 0.361226\n",
            "Early stopping, best iteration is:\n",
            "[46]\ttraining's multi_logloss: 1.28751\ttraining's macroF1: 0.496907\tvalid_1's multi_logloss: 1.27854\tvalid_1's macroF1: 0.397866\n",
            "******************** Execution ended in 00h 00m 35.83s ********************\n",
            "============================== 4 of 5 folds ==============================\n",
            "Training until validation scores don't improve for 500 rounds.\n",
            "[500]\ttraining's multi_logloss: 0.941621\ttraining's macroF1: 0.611995\tvalid_1's multi_logloss: 1.03095\tvalid_1's macroF1: 0.447538\n",
            "Early stopping, best iteration is:\n",
            "[374]\ttraining's multi_logloss: 0.997389\ttraining's macroF1: 0.592839\tvalid_1's multi_logloss: 1.04716\tvalid_1's macroF1: 0.460876\n",
            "******************** Execution ended in 00h 00m 56.30s ********************\n",
            "============================== 5 of 5 folds ==============================\n",
            "Training until validation scores don't improve for 500 rounds.\n",
            "[500]\ttraining's multi_logloss: 0.930427\ttraining's macroF1: 0.603549\tvalid_1's multi_logloss: 1.02873\tvalid_1's macroF1: 0.360518\n",
            "Early stopping, best iteration is:\n",
            "[14]\ttraining's multi_logloss: 1.35165\ttraining's macroF1: 0.472248\tvalid_1's multi_logloss: 1.34721\tvalid_1's macroF1: 0.384125\n",
            "******************** Execution ended in 00h 00m 33.79s ********************\n",
            "######################################## 49 of 50 iterations ########################################\n",
            "============================== 1 of 5 folds ==============================\n",
            "Training until validation scores don't improve for 500 rounds.\n",
            "[500]\ttraining's multi_logloss: 0.930911\ttraining's macroF1: 0.5907\tvalid_1's multi_logloss: 1.01185\tvalid_1's macroF1: 0.42707\n",
            "Early stopping, best iteration is:\n",
            "[484]\ttraining's multi_logloss: 0.93595\ttraining's macroF1: 0.589372\tvalid_1's multi_logloss: 1.01243\tvalid_1's macroF1: 0.43613\n",
            "******************** Execution ended in 00h 01m 03.63s ********************\n",
            "============================== 2 of 5 folds ==============================\n",
            "Training until validation scores don't improve for 500 rounds.\n",
            "[500]\ttraining's multi_logloss: 0.927519\ttraining's macroF1: 0.60044\tvalid_1's multi_logloss: 1.07372\tvalid_1's macroF1: 0.361641\n",
            "Early stopping, best iteration is:\n",
            "[109]\ttraining's multi_logloss: 1.15682\ttraining's macroF1: 0.508139\tvalid_1's multi_logloss: 1.15924\tvalid_1's macroF1: 0.370861\n",
            "******************** Execution ended in 00h 00m 40.57s ********************\n",
            "============================== 3 of 5 folds ==============================\n",
            "Training until validation scores don't improve for 500 rounds.\n",
            "[500]\ttraining's multi_logloss: 0.919729\ttraining's macroF1: 0.604151\tvalid_1's multi_logloss: 1.06967\tvalid_1's macroF1: 0.379685\n",
            "[1000]\ttraining's multi_logloss: 0.796884\ttraining's macroF1: 0.659741\tvalid_1's multi_logloss: 1.06373\tvalid_1's macroF1: 0.394855\n",
            "[1500]\ttraining's multi_logloss: 0.718671\ttraining's macroF1: 0.697954\tvalid_1's multi_logloss: 1.06153\tvalid_1's macroF1: 0.383072\n",
            "Early stopping, best iteration is:\n",
            "[1125]\ttraining's multi_logloss: 0.774918\ttraining's macroF1: 0.669777\tvalid_1's multi_logloss: 1.06272\tvalid_1's macroF1: 0.400751\n",
            "******************** Execution ended in 00h 01m 40.50s ********************\n",
            "============================== 4 of 5 folds ==============================\n",
            "Training until validation scores don't improve for 500 rounds.\n",
            "[500]\ttraining's multi_logloss: 0.937103\ttraining's macroF1: 0.594394\tvalid_1's multi_logloss: 1.01074\tvalid_1's macroF1: 0.434599\n",
            "Early stopping, best iteration is:\n",
            "[207]\ttraining's multi_logloss: 1.07138\ttraining's macroF1: 0.540442\tvalid_1's multi_logloss: 1.05746\tvalid_1's macroF1: 0.443014\n",
            "******************** Execution ended in 00h 00m 47.17s ********************\n",
            "============================== 5 of 5 folds ==============================\n",
            "Training until validation scores don't improve for 500 rounds.\n",
            "[500]\ttraining's multi_logloss: 0.941351\ttraining's macroF1: 0.589988\tvalid_1's multi_logloss: 1.02444\tvalid_1's macroF1: 0.450047\n",
            "Early stopping, best iteration is:\n",
            "[121]\ttraining's multi_logloss: 1.15812\ttraining's macroF1: 0.498982\tvalid_1's multi_logloss: 1.12081\tvalid_1's macroF1: 0.458701\n",
            "******************** Execution ended in 00h 00m 41.70s ********************\n",
            "######################################## 50 of 50 iterations ########################################\n",
            "============================== 1 of 5 folds ==============================\n",
            "Training until validation scores don't improve for 500 rounds.\n",
            "[500]\ttraining's multi_logloss: 0.897559\ttraining's macroF1: 0.615225\tvalid_1's multi_logloss: 1.03658\tvalid_1's macroF1: 0.394235\n",
            "Early stopping, best iteration is:\n",
            "[455]\ttraining's multi_logloss: 0.914556\ttraining's macroF1: 0.607196\tvalid_1's multi_logloss: 1.03592\tvalid_1's macroF1: 0.407859\n",
            "******************** Execution ended in 00h 00m 50.49s ********************\n",
            "============================== 2 of 5 folds ==============================\n",
            "Training until validation scores don't improve for 500 rounds.\n",
            "[500]\ttraining's multi_logloss: 0.905697\ttraining's macroF1: 0.626275\tvalid_1's multi_logloss: 1.03499\tvalid_1's macroF1: 0.43301\n",
            "[1000]\ttraining's multi_logloss: 0.765092\ttraining's macroF1: 0.69248\tvalid_1's multi_logloss: 1.02501\tvalid_1's macroF1: 0.40897\n",
            "Early stopping, best iteration is:\n",
            "[613]\ttraining's multi_logloss: 0.865998\ttraining's macroF1: 0.650609\tvalid_1's multi_logloss: 1.0296\tvalid_1's macroF1: 0.438265\n",
            "******************** Execution ended in 00h 00m 58.93s ********************\n",
            "============================== 3 of 5 folds ==============================\n",
            "Training until validation scores don't improve for 500 rounds.\n",
            "[500]\ttraining's multi_logloss: 0.906871\ttraining's macroF1: 0.606126\tvalid_1's multi_logloss: 1.04915\tvalid_1's macroF1: 0.382324\n",
            "Early stopping, best iteration is:\n",
            "[4]\ttraining's multi_logloss: 1.3731\ttraining's macroF1: 0.438608\tvalid_1's multi_logloss: 1.36961\tvalid_1's macroF1: 0.402598\n",
            "******************** Execution ended in 00h 00m 27.49s ********************\n",
            "============================== 4 of 5 folds ==============================\n",
            "Training until validation scores don't improve for 500 rounds.\n",
            "[500]\ttraining's multi_logloss: 0.90693\ttraining's macroF1: 0.61892\tvalid_1's multi_logloss: 1.03053\tvalid_1's macroF1: 0.405248\n",
            "Early stopping, best iteration is:\n",
            "[380]\ttraining's multi_logloss: 0.955824\ttraining's macroF1: 0.594872\tvalid_1's multi_logloss: 1.03737\tvalid_1's macroF1: 0.423131\n",
            "******************** Execution ended in 00h 00m 46.86s ********************\n",
            "============================== 5 of 5 folds ==============================\n",
            "Training until validation scores don't improve for 500 rounds.\n",
            "[500]\ttraining's multi_logloss: 0.909141\ttraining's macroF1: 0.629777\tvalid_1's multi_logloss: 1.00805\tvalid_1's macroF1: 0.390814\n",
            "Early stopping, best iteration is:\n",
            "[5]\ttraining's multi_logloss: 1.37054\ttraining's macroF1: 0.443814\tvalid_1's multi_logloss: 1.36202\tvalid_1's macroF1: 0.419491\n",
            "******************** Execution ended in 00h 00m 27.73s ********************\n"
          ],
          "name": "stdout"
        }
      ]
    },
    {
      "cell_type": "code",
      "metadata": {
        "id": "-kigjkJVJdIN",
        "colab_type": "code",
        "colab": {}
      },
      "source": [
        "shap_sorted_df = total_shap_df.groupby('feature').mean().sort_values('shap_values', ascending=False).reset_index()\n",
        "feat_imp_sorted_df = total_shap_df.groupby('feature').mean().sort_values('feat_imp', ascending=False).reset_index()\n",
        "features_top_shap = shap_sorted_df['feature'][:500]\n",
        "features_top_feat_imp = feat_imp_sorted_df['feature'][:500]\n",
        "top_features = pd.Series(features_top_shap.tolist() + features_top_feat_imp.tolist())\n",
        "top_features = top_features.unique()"
      ],
      "execution_count": 0,
      "outputs": []
    },
    {
      "cell_type": "markdown",
      "metadata": {
        "id": "AN39d35JSbCF",
        "colab_type": "text"
      },
      "source": [
        "# Model Development"
      ]
    },
    {
      "cell_type": "code",
      "metadata": {
        "id": "WEQlO97IJdDS",
        "colab_type": "code",
        "colab": {}
      },
      "source": [
        "new_train = train[top_features].copy()\n",
        "new_test = test[top_features].copy()"
      ],
      "execution_count": 0,
      "outputs": []
    },
    {
      "cell_type": "code",
      "metadata": {
        "id": "Q4KpHvxwJc-e",
        "colab_type": "code",
        "outputId": "4f81bd81-e67e-4ae2-ded4-76964eca9252",
        "colab": {
          "base_uri": "https://localhost:8080/",
          "height": 35
        }
      },
      "source": [
        "print('new_train shape:', new_train.shape, 'new_test shape:', new_test.shape)"
      ],
      "execution_count": 0,
      "outputs": [
        {
          "output_type": "stream",
          "text": [
            "new_train shape: (2973, 535) new_test shape: (23856, 535)\n"
          ],
          "name": "stdout"
        }
      ]
    },
    {
      "cell_type": "code",
      "metadata": {
        "id": "LbNCYnrRJc5W",
        "colab_type": "code",
        "colab": {}
      },
      "source": [
        "new_categorical_feats = [col for col in top_features if col in categorical_feats]"
      ],
      "execution_count": 0,
      "outputs": []
    },
    {
      "cell_type": "code",
      "metadata": {
        "id": "frVUbPhzJczW",
        "colab_type": "code",
        "cellView": "code",
        "colab": {}
      },
      "source": [
        "#@title\n",
        "def LGB_OOF(params, categorical_feats, N_FOLDs, SEED=1989):\n",
        "    clf = lgb.LGBMClassifier(objective='multiclass',\n",
        "                             random_state=1989,\n",
        "                             max_depth=params['max_depth'], \n",
        "                             learning_rate=params['learning_rate'],  \n",
        "                             silent=True, \n",
        "                             metric='multi_logloss',\n",
        "                             n_jobs=-1, n_estimators=10000, \n",
        "                             class_weight='balanced',\n",
        "                             colsample_bytree = params['colsample_bytree'], \n",
        "                             min_split_gain= params['min_split_gain'], \n",
        "                             bagging_freq = params['bagging_freq'],\n",
        "                             min_child_weight=params['min_child_weight'],\n",
        "                             num_leaves = params['num_leaves'], \n",
        "                             subsample = params['subsample'],\n",
        "                             reg_alpha= params['reg_alpha'],\n",
        "                             reg_lambda= params['reg_lambda'],\n",
        "                             num_class=len(np.unique(y)),\n",
        "                             bagging_seed=SEED,\n",
        "                             seed=SEED,\n",
        "                            )\n",
        "    \n",
        "    kfold = 10\n",
        "    kf = StratifiedKFold(n_splits=kfold, shuffle=True)\n",
        "    feat_importance_df = pd.DataFrame()\n",
        "    predicts_result = []\n",
        "    \n",
        "    for i, (train_index, test_index) in enumerate(kf.split(new_train, y)):\n",
        "        print('='*30, '{} of {} folds'.format(i+1, kfold), '='*30)\n",
        "        start = time.time()\n",
        "        X_train, X_val = new_train.iloc[train_index], new_train.iloc[test_index]\n",
        "        y_train, y_val = y.iloc[train_index], y.iloc[test_index]\n",
        "        clf.fit(X_train, y_train, eval_set=[(X_train, y_train), (X_val, y_val)], eval_metric=evaluate_macroF1_lgb,categorical_feature=new_categorical_feats,\n",
        "                early_stopping_rounds=500, verbose=500)\n",
        "        shap_values = shap.TreeExplainer(clf.booster_).shap_values(X_train)\n",
        "        fold_importance_df  = pd.DataFrame()\n",
        "        fold_importance_df['feature'] = X_train.columns\n",
        "        fold_importance_df['shap_values'] = abs(np.array(shap_values)[:, :].mean(1).mean(0))\n",
        "        fold_importance_df['feat_imp'] = clf.feature_importances_\n",
        "        feat_importance_df = pd.concat([feat_importance_df, fold_importance_df])\n",
        "        predicts_result.append(clf.predict(new_test))\n",
        "        print_execution_time(start)\n",
        "    return predicts_result, feat_importance_df    \n",
        "\n"
      ],
      "execution_count": 0,
      "outputs": []
    },
    {
      "cell_type": "code",
      "metadata": {
        "id": "48YaB8UxJcuV",
        "colab_type": "code",
        "outputId": "28c167cf-a882-4b90-bfe0-c4cf9f88ee86",
        "colab": {
          "base_uri": "https://localhost:8080/",
          "height": 1000
        }
      },
      "source": [
        "params = {'max_depth': 6,\n",
        "         'learning_rate': 0.002,\n",
        "          'colsample_bytree': 0.8,\n",
        "          'subsample': 0.8,\n",
        "          'min_split_gain': 0.02,\n",
        "          'num_leaves': 48,\n",
        "          'reg_alpha': 0.04,\n",
        "          'reg_lambda': 0.073,\n",
        "          'bagging_freq': 2,\n",
        "          'min_child_weight': 40\n",
        "         }\n",
        "\n",
        "N_Folds = 20\n",
        "SEED = 1989\n",
        "predicts_result, feat_importance_df = LGB_OOF(params, new_categorical_feats, N_Folds, SEED=1989)"
      ],
      "execution_count": 0,
      "outputs": [
        {
          "output_type": "stream",
          "text": [
            "============================== 1 of 10 folds ==============================\n",
            "Training until validation scores don't improve for 500 rounds.\n",
            "[500]\ttraining's multi_logloss: 1.15416\ttraining's macroF1: 0.577695\tvalid_1's multi_logloss: 1.19412\tvalid_1's macroF1: 0.362211\n",
            "[1000]\ttraining's multi_logloss: 1.02625\ttraining's macroF1: 0.611817\tvalid_1's multi_logloss: 1.12418\tvalid_1's macroF1: 0.392159\n",
            "Early stopping, best iteration is:\n",
            "[979]\ttraining's multi_logloss: 1.03049\ttraining's macroF1: 0.611807\tvalid_1's multi_logloss: 1.12613\tvalid_1's macroF1: 0.397857\n",
            "******************** Execution ended in 00h 01m 03.10s ********************\n",
            "============================== 2 of 10 folds ==============================\n",
            "Training until validation scores don't improve for 500 rounds.\n",
            "[500]\ttraining's multi_logloss: 1.16733\ttraining's macroF1: 0.580269\tvalid_1's multi_logloss: 1.14599\tvalid_1's macroF1: 0.434274\n",
            "Early stopping, best iteration is:\n",
            "[111]\ttraining's multi_logloss: 1.32232\ttraining's macroF1: 0.538306\tvalid_1's multi_logloss: 1.30753\tvalid_1's macroF1: 0.453664\n",
            "******************** Execution ended in 00h 00m 18.95s ********************\n",
            "============================== 3 of 10 folds ==============================\n",
            "Training until validation scores don't improve for 500 rounds.\n",
            "[500]\ttraining's multi_logloss: 1.16469\ttraining's macroF1: 0.570506\tvalid_1's multi_logloss: 1.12804\tvalid_1's macroF1: 0.465381\n",
            "Early stopping, best iteration is:\n",
            "[421]\ttraining's multi_logloss: 1.19069\ttraining's macroF1: 0.561928\tvalid_1's multi_logloss: 1.15287\tvalid_1's macroF1: 0.475635\n",
            "******************** Execution ended in 00h 00m 35.33s ********************\n",
            "============================== 4 of 10 folds ==============================\n",
            "Training until validation scores don't improve for 500 rounds.\n",
            "[500]\ttraining's multi_logloss: 1.15653\ttraining's macroF1: 0.571177\tvalid_1's multi_logloss: 1.17406\tvalid_1's macroF1: 0.39824\n",
            "Early stopping, best iteration is:\n",
            "[8]\ttraining's multi_logloss: 1.38091\ttraining's macroF1: 0.502796\tvalid_1's multi_logloss: 1.38044\tvalid_1's macroF1: 0.405851\n",
            "******************** Execution ended in 00h 00m 13.98s ********************\n",
            "============================== 5 of 10 folds ==============================\n",
            "Training until validation scores don't improve for 500 rounds.\n",
            "[500]\ttraining's multi_logloss: 1.15857\ttraining's macroF1: 0.573158\tvalid_1's multi_logloss: 1.16163\tvalid_1's macroF1: 0.412108\n",
            "Early stopping, best iteration is:\n",
            "[10]\ttraining's multi_logloss: 1.37973\ttraining's macroF1: 0.500063\tvalid_1's multi_logloss: 1.37849\tvalid_1's macroF1: 0.433145\n",
            "******************** Execution ended in 00h 00m 14.05s ********************\n",
            "============================== 6 of 10 folds ==============================\n",
            "Training until validation scores don't improve for 500 rounds.\n",
            "[500]\ttraining's multi_logloss: 1.15883\ttraining's macroF1: 0.564387\tvalid_1's multi_logloss: 1.19901\tvalid_1's macroF1: 0.382713\n",
            "Early stopping, best iteration is:\n",
            "[7]\ttraining's multi_logloss: 1.38167\ttraining's macroF1: 0.50214\tvalid_1's multi_logloss: 1.38183\tvalid_1's macroF1: 0.399168\n",
            "******************** Execution ended in 00h 00m 13.79s ********************\n",
            "============================== 7 of 10 folds ==============================\n",
            "Training until validation scores don't improve for 500 rounds.\n",
            "[500]\ttraining's multi_logloss: 1.15682\ttraining's macroF1: 0.567974\tvalid_1's multi_logloss: 1.16646\tvalid_1's macroF1: 0.389948\n",
            "Early stopping, best iteration is:\n",
            "[9]\ttraining's multi_logloss: 1.38033\ttraining's macroF1: 0.500643\tvalid_1's multi_logloss: 1.37941\tvalid_1's macroF1: 0.421969\n",
            "******************** Execution ended in 00h 00m 13.80s ********************\n",
            "============================== 8 of 10 folds ==============================\n",
            "Training until validation scores don't improve for 500 rounds.\n",
            "[500]\ttraining's multi_logloss: 1.16393\ttraining's macroF1: 0.569638\tvalid_1's multi_logloss: 1.14868\tvalid_1's macroF1: 0.44657\n",
            "Early stopping, best iteration is:\n",
            "[123]\ttraining's multi_logloss: 1.31519\ttraining's macroF1: 0.541273\tvalid_1's multi_logloss: 1.3019\tvalid_1's macroF1: 0.463887\n",
            "******************** Execution ended in 00h 00m 19.57s ********************\n",
            "============================== 9 of 10 folds ==============================\n",
            "Training until validation scores don't improve for 500 rounds.\n",
            "[500]\ttraining's multi_logloss: 1.15984\ttraining's macroF1: 0.566418\tvalid_1's multi_logloss: 1.16639\tvalid_1's macroF1: 0.388008\n",
            "Early stopping, best iteration is:\n",
            "[302]\ttraining's multi_logloss: 1.23071\ttraining's macroF1: 0.558094\tvalid_1's multi_logloss: 1.2278\tvalid_1's macroF1: 0.414051\n",
            "******************** Execution ended in 00h 00m 28.68s ********************\n",
            "============================== 10 of 10 folds ==============================\n",
            "Training until validation scores don't improve for 500 rounds.\n",
            "[500]\ttraining's multi_logloss: 1.16311\ttraining's macroF1: 0.565873\tvalid_1's multi_logloss: 1.16915\tvalid_1's macroF1: 0.395238\n",
            "Early stopping, best iteration is:\n",
            "[48]\ttraining's multi_logloss: 1.35611\ttraining's macroF1: 0.516987\tvalid_1's multi_logloss: 1.35245\tvalid_1's macroF1: 0.429646\n",
            "******************** Execution ended in 00h 00m 15.62s ********************\n"
          ],
          "name": "stdout"
        }
      ]
    },
    {
      "cell_type": "code",
      "metadata": {
        "id": "FfUoNNe_Jb98",
        "colab_type": "code",
        "outputId": "b538e6ad-9edb-4f0f-9dac-a1654a36e117",
        "colab": {
          "base_uri": "https://localhost:8080/",
          "height": 1000
        }
      },
      "source": [
        "fig, ax = plt.subplots(1, 2, figsize=(20, 20))\n",
        "feat_importance_df_shap = feat_importance_df.groupby('feature').mean().sort_values('shap_values', ascending=False).reset_index()\n",
        "\n",
        "num_features = 50\n",
        "sns.barplot(x=feat_importance_df_shap.shap_values[:num_features], y=feat_importance_df_shap.feature[:num_features], ax=ax[0])\n",
        "ax[0].set_title('Feature importance based on shap values')\n",
        "\n",
        "feat_importance_df = feat_importance_df.groupby('feature').mean().sort_values('feat_imp', ascending=False).reset_index()\n",
        "\n",
        "num_features = 50\n",
        "sns.barplot(x=feat_importance_df.shap_values[:num_features], y=feat_importance_df.feature[:num_features], ax=ax[1])\n",
        "ax[1].set_title('Feaure importance based on feature importance from lgbm')\n",
        "plt.show()"
      ],
      "execution_count": 0,
      "outputs": [
        {
          "output_type": "display_data",
          "data": {
            "image/png": "[encoded data removed]",
            "text/plain": [
              "<Figure size 1440x1440 with 2 Axes>"
            ]
          },
          "metadata": {
            "tags": []
          }
        }
      ]
    },
    {
      "cell_type": "code",
      "metadata": {
        "id": "BWoj5gYbJb40",
        "colab_type": "code",
        "colab": {}
      },
      "source": [
        "submission['Target'] = np.array(predicts_result).mean(axis=0).round().astype(int)\n",
        "submission.to_csv('submission_with_new_feature_set.csv', index = False)"
      ],
      "execution_count": 0,
      "outputs": []
    },
    {
      "cell_type": "markdown",
      "metadata": {
        "id": "ycl8wom6v-bw",
        "colab_type": "text"
      },
      "source": [
        "\n",
        "4.2 Randomize Search\n",
        "---\n",
        "\n"
      ]
    },
    {
      "cell_type": "code",
      "metadata": {
        "id": "UCZH43ljwCwG",
        "colab_type": "code",
        "outputId": "05ae89b4-1088-47f2-dfb9-55d5f98d00db",
        "colab": {
          "base_uri": "https://localhost:8080/",
          "height": 226
        }
      },
      "source": [
        "optimized_param = None\n",
        "lowest_cv = 1000\n",
        "total_iteration = 100\n",
        "for i in range(total_iteration):\n",
        "    print('-'*20, 'For {} of {} iterations'.format(i+1, total_iteration), '-'*20)\n",
        "    learning_rate = np.random.rand() * 0.02\n",
        "    n_folds = 3\n",
        "\n",
        "    num_class = len(np.unique(y))\n",
        "\n",
        "    params = {}\n",
        "    params['application'] = 'multiclass'\n",
        "    params['metric'] = 'multi_logloss'\n",
        "    params['num_class'] = num_class\n",
        "    params['class_weight'] = 'balanced'\n",
        "    params['num_leaves'] = np.random.randint(24, 48)\n",
        "    params['max_depth'] = np.random.randint(5, 8)\n",
        "    params['min_child_weight'] = np.random.randint(5, 50)\n",
        "    params['min_split_gain'] = np.random.rand() * 0.09\n",
        "    params['colsample_bytree'] = np.random.rand() * (0.9 - 0.1) + 0.1\n",
        "    params['subsample'] = np.random.rand() * (1 - 0.8) + 0.8\n",
        "    params['bagging_freq'] = np.random.randint(1, 5)\n",
        "    params['bagging_seed'] = np.random.randint(1, 5)\n",
        "    params['reg_alpha'] = np.random.rand() * 2\n",
        "    params['reg_lambda'] = np.random.rand() * 2\n",
        "    params['learning_rate'] = np.random.rand() * 0.02\n",
        "    params['seed']  =1989\n",
        "\n",
        "    d_train = lgb.Dataset(data=new_train, label=y.values-1, categorical_feature=new_categorical_feats, free_raw_data=False)\n",
        "    cv_results = lgb.cv(params=params, train_set=d_train, num_boost_round=10000, categorical_feature=new_categorical_feats,\n",
        "                        nfold=n_folds, stratified=True, shuffle=True, early_stopping_rounds=1, verbose_eval=1000)\n",
        "\n",
        "    min_cv_results = min(cv_results['multi_logloss-mean'])\n",
        "\n",
        "    if min_cv_results < lowest_cv:\n",
        "        lowest_cv = min_cv_results\n",
        "        optimized_param = params"
      ],
      "execution_count": 0,
      "outputs": [
        {
          "output_type": "stream",
          "text": [
            "-------------------- For 1 of 100 iterations --------------------\n"
          ],
          "name": "stdout"
        },
        {
          "output_type": "error",
          "ename": "NameError",
          "evalue": "ignored",
          "traceback": [
            "\u001b[0;31m---------------------------------------------------------------------------\u001b[0m",
            "\u001b[0;31mNameError\u001b[0m                                 Traceback (most recent call last)",
            "\u001b[0;32m<ipython-input-136-ef8d35ba1503>\u001b[0m in \u001b[0;36m<module>\u001b[0;34m()\u001b[0m\n\u001b[1;32m     35\u001b[0m     \u001b[0;32mif\u001b[0m \u001b[0mmin_cv_results\u001b[0m \u001b[0;34m<\u001b[0m \u001b[0mlowest_cv\u001b[0m\u001b[0;34m:\u001b[0m\u001b[0;34m\u001b[0m\u001b[0;34m\u001b[0m\u001b[0m\n\u001b[1;32m     36\u001b[0m         \u001b[0mlowest_cv\u001b[0m \u001b[0;34m=\u001b[0m \u001b[0mmin_cv_results\u001b[0m\u001b[0;34m\u001b[0m\u001b[0;34m\u001b[0m\u001b[0m\n\u001b[0;32m---> 37\u001b[0;31m         \u001b[0moptimized_param\u001b[0m \u001b[0;34m=\u001b[0m \u001b[0mparam\u001b[0m\u001b[0;34m\u001b[0m\u001b[0;34m\u001b[0m\u001b[0m\n\u001b[0m",
            "\u001b[0;31mNameError\u001b[0m: name 'param' is not defined"
          ]
        }
      ]
    },
    {
      "cell_type": "code",
      "metadata": {
        "id": "HC-CQHykwCnw",
        "colab_type": "code",
        "colab": {}
      },
      "source": [
        "N_Folds = 20\n",
        "SEED = 1989\n",
        "predicts_result, feat_importance_df = LGB_OOF(optimized_param, new_categorical_feats, N_Folds, SEED=1989)"
      ],
      "execution_count": 0,
      "outputs": []
    },
    {
      "cell_type": "code",
      "metadata": {
        "id": "yNYrRs68wCg4",
        "colab_type": "code",
        "colab": {}
      },
      "source": [
        "submission['Target'] = np.array(predicts_result).mean(axis=0).round().astype(int)\n",
        "submission.to_csv('submission_shap_randomized_search.csv', index = False)"
      ],
      "execution_count": 0,
      "outputs": []
    },
    {
      "cell_type": "code",
      "metadata": {
        "id": "nO31V_DTwCZk",
        "colab_type": "code",
        "colab": {}
      },
      "source": [
        ""
      ],
      "execution_count": 0,
      "outputs": []
    },
    {
      "cell_type": "code",
      "metadata": {
        "id": "IcXZW2QzwCTg",
        "colab_type": "code",
        "colab": {}
      },
      "source": [
        ""
      ],
      "execution_count": 0,
      "outputs": []
    },
    {
      "cell_type": "code",
      "metadata": {
        "id": "AhHYypgJwCMm",
        "colab_type": "code",
        "colab": {}
      },
      "source": [
        ""
      ],
      "execution_count": 0,
      "outputs": []
    }
  ]
}