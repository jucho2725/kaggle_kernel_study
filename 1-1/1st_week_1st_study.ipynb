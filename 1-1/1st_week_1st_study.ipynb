{
  "nbformat": 4,
  "nbformat_minor": 0,
  "metadata": {
    "colab": {
      "name": "1st_week_1st_study.ipynb",
      "version": "0.3.2",
      "provenance": []
    },
    "kernelspec": {
      "name": "python3",
      "display_name": "Python 3"
    }
  },
  "cells": [
    {
      "cell_type": "markdown",
      "metadata": {
        "id": "bRujkJmZFxBM",
        "colab_type": "text"
      },
      "source": [
        "190715 조진욱 커널연습 - 190807 정리\n",
        "\n",
        "https://www.youtube.com/watch?v=_iqz7tFhox0&list=PLC_wC_PMBL5MnqmgTLqDgu4tO8mrQakuF&index=1"
      ]
    },
    {
      "cell_type": "markdown",
      "metadata": {
        "id": "MfFhQwODF4dy",
        "colab_type": "text"
      },
      "source": [
        "# 준비"
      ]
    },
    {
      "cell_type": "code",
      "metadata": {
        "id": "LGcFjx5AFm6B",
        "colab_type": "code",
        "colab": {}
      },
      "source": [
        "import missingno as msno # 데이터의 null 이 많을 때 찾기 유용하게 해줌\n",
        "import warnings \n",
        "warnings.filterwarnings('ignore') # 특정 필요없은 warning 들 무시\n",
        "\n",
        "%matplotlib inline \n",
        "# 그래프가 그려지면 새로운 창에 생성되는데 이 결과 안에 나올수있도록 하는것. "
      ],
      "execution_count": 0,
      "outputs": []
    },
    {
      "cell_type": "code",
      "metadata": {
        "id": "2ddhxIjnGPwV",
        "colab_type": "code",
        "colab": {}
      },
      "source": [
        "plt.style.use('seaborn') # plot 되는 그래프들의 스타일을 seaborn 으로 지정해줌. 여러 스타일 지정가능\n",
        "sns.set(font_scale=2.5) # 처음 시작할때 font scale 값 자체를 지정해줌"
      ],
      "execution_count": 0,
      "outputs": []
    },
    {
      "cell_type": "code",
      "metadata": {
        "id": "D58jFx5NOrFL",
        "colab_type": "code",
        "colab": {}
      },
      "source": [
        "for col in df_train.columns:\n",
        "    msg = 'column: {:^10} \\t Percent of NaN value: {:.2f}%'.format(col, 100 * (df_train[col].isnull().sum() / df_train[col].shape[0]))\n",
        "    print(msg)\n",
        "# nan value 비율 보기. 다른 커널에서도 비슷한 식으로 만들었었는데?  \n",
        "# format string {:^10}중앙 {:>10}오른쪽 {:<10} 왼쪽"
      ],
      "execution_count": 0,
      "outputs": []
    },
    {
      "cell_type": "markdown",
      "metadata": {
        "id": "-MJiuzSEGPO8",
        "colab_type": "text"
      },
      "source": [
        "3주차 2회 커널 nan 값 보기\n",
        "\n",
        "total = df_train.isnull().sum().sort_values(ascending = False)\n",
        "percent = 100* (df_train.isnull().sum() / df_train.isnull().count()).sort_values(ascending=False)\n",
        "missing_df = pd.concat([total, percent], axis=1, keys=['Total', 'Percent'])\n",
        "\n",
        "missing_df.head(20)\n",
        "\n",
        "\n",
        "-여기랑 거의 비슷한데 여기선 isnull().count() 가지고 해당하는 열의 모든 값 센듯"
      ]
    },
    {
      "cell_type": "code",
      "metadata": {
        "id": "6grPcIBTP3NF",
        "colab_type": "code",
        "colab": {}
      },
      "source": [
        "msno.matrix(df=df_train.iloc[:,:], figsize=(8,8), color=(1, 0.2, 0.2))\n",
        "# msno.matrix - plotting 까지 진행해줌 \n"
      ],
      "execution_count": 0,
      "outputs": []
    },
    {
      "cell_type": "markdown",
      "metadata": {
        "id": "DcmV-BB5QSOP",
        "colab_type": "text"
      },
      "source": [
        "# EDA"
      ]
    },
    {
      "cell_type": "code",
      "metadata": {
        "id": "PmSqQ5g3P3HQ",
        "colab_type": "code",
        "colab": {}
      },
      "source": [
        "f, ax = plt.subplots(1 , 2, figsize=(18, 8))\n",
        "# figure 안에 plot 을 두개를 만들어줄건데 (1, 2) 즉 1*2 로 만들어주겠음. ax[0], ax[1] 존재. size 는 *** \n",
        "\n",
        "df_train['Survived'].value_counts().plot.pie(explode=[0, 0.1], autopct='%1.1f%%', ax=ax[0], shadow=True) \n",
        "# .plot.pie 로 보여주기 # explode - 두 wedge 를 얼마나 떨어뜨릴지, 각 개체마다 지정가능해서 리스트로 받음\n",
        "# autopct 안에있는 값 어떻게 나타낼건지, ax 어떤 파트에 집어넣을지, shadow 그림자 넣을지 말지\n",
        "# 대부분의 경우 ax= '' 가지고 지정가능. \n",
        "sns.countplot"
      ],
      "execution_count": 0,
      "outputs": []
    },
    {
      "cell_type": "code",
      "metadata": {
        "id": "k4kaQVgUR732",
        "colab_type": "code",
        "colab": {}
      },
      "source": [
        "# df_train[['Pclass', 'Survived']].groupby(['Pclass'], as_index=True).count() # 그룹내 전체 인원\n",
        "# df_train[['Pclass', 'Survived']].groupby(['Pclass'], as_index=True).sum() # 생존한 사람\n",
        "# df_train[['Pclass', 'Survived']].groupby(['Pclass'], as_index=True).mean() # 생존률(전체 중에 특정 값의 대상)\n",
        "df_train[['Pclass', 'Survived']].groupby(['Pclass'], as_index=True).mean().sort_values(by='Survived', ascending=True).plot.bar()\n",
        "# pclass 를 인덱스로 해둬야 나중에 그림그릴때 편해짐\n",
        "# dataframe 은 무조건 plot 이 가능"
      ],
      "execution_count": 0,
      "outputs": []
    },
    {
      "cell_type": "markdown",
      "metadata": {
        "id": "2hsW6n8nVxC7",
        "colab_type": "text"
      },
      "source": [
        "\n",
        "Crosstab\n",
        "---\n",
        "\n"
      ]
    },
    {
      "cell_type": "code",
      "metadata": {
        "id": "hy9lsYLQR71U",
        "colab_type": "code",
        "colab": {}
      },
      "source": [
        "# crosstab 으로 target label 에 대한 feature value 들의 분포를 간단하게 볼 수 있음.\n",
        "pd.crosstab(df_train['Survived'], df_train['Pclass'], margins=True).style.background_gradient(cmap='binary')"
      ],
      "execution_count": 0,
      "outputs": []
    },
    {
      "cell_type": "code",
      "metadata": {
        "id": "N68zKJGIR7yj",
        "colab_type": "code",
        "colab": {}
      },
      "source": [
        "# plot bar 과 count plot 비교\n",
        "df_train['Pclass'].value_counts().plot.bar(color=['darkgreen', 'red', 'blue'], ax=ax[0])\n",
        "\n",
        "# countplot 의 hue 로 crosstab 같은 기능을 시각화 가능(죽은 사람과 산 사람의 비율같은 것들)\n",
        "# hue 를 통해 주력인 p class 를 survived 에 맞게 나누어 보여줌\n",
        "sns.countplot('Pclass', hue = 'Survived', data= df_train, ax = ax[1])"
      ],
      "execution_count": 0,
      "outputs": []
    },
    {
      "cell_type": "code",
      "metadata": {
        "id": "z5Ni112gR7ve",
        "colab_type": "code",
        "colab": {}
      },
      "source": [
        "sns.factorplot('Pclass', 'Survived', hue='Sex', data=df_train, aspect=1.5) \n",
        "# factor 에 따른 차이를 실선으로 보여줌 aspect 은 선 크기"
      ],
      "execution_count": 0,
      "outputs": []
    },
    {
      "cell_type": "code",
      "metadata": {
        "id": "PRa46n2-R7tF",
        "colab_type": "code",
        "colab": {}
      },
      "source": [
        "# 이번엔 Pclass 가지고 플랏 나누기 *이걸 col 대신 hue 쓰면 같은 플랏에 생김\n",
        "sns.factorplot(x='Sex', y='Survived', col='Pclass', data=df_train, saturation=.5,\n",
        "              size=3, aspect=1)\n",
        "# sns.factorplot(x='Sex', y='Survived', hue='Pclass', data=df_train, saturation=.5,\n",
        "#               size=5, aspect=1) "
      ],
      "execution_count": 0,
      "outputs": []
    },
    {
      "cell_type": "code",
      "metadata": {
        "id": "SlWqsXS-Tbtk",
        "colab_type": "code",
        "colab": {}
      },
      "source": [
        "print(\"제일 나이 많은 탑승객 : {:.1f} years\".format(df_train['Age'].max())) # 최대 최소 평균값 빠르게 보여주기\n",
        "print(\"제일 나이 어린 탑승객 : {:.1f} years\".format(df_train['Age'].min()))\n",
        "print(\"탑승객 평균 나이: {:.1f} years\".format(df_train['Age'].mean()))"
      ],
      "execution_count": 0,
      "outputs": []
    },
    {
      "cell_type": "code",
      "metadata": {
        "id": "aYzEW3fKTiaz",
        "colab_type": "code",
        "colab": {}
      },
      "source": [
        "fig, ax = plt.subplots(1, 1, figsize = (9, 5)) # kde 플랏은 같은 figure 안에 그리는게 좋음\n",
        "sns.kdeplot(df_train[df_train['Survived'] == 1]['Age'], ax = ax)\n",
        "sns.kdeplot(df_train[df_train['Survived'] == 0]['Age'], ax = ax)\n",
        "plt.legend(['Survived == 1', 'Survived == 0'])"
      ],
      "execution_count": 0,
      "outputs": []
    },
    {
      "cell_type": "markdown",
      "metadata": {
        "id": "NyHUkApDyoEv",
        "colab_type": "text"
      },
      "source": [
        "비교 - kdeplot 과 histogram\n",
        "\n",
        "kde = 커널 밀도 추정\n",
        "보통 데이터 분포를 이야기 할 때 쓰이는 가우시안 분포를 모델에 맞추거나 데이터의 분포를 그대로 본뜨는(히스토그램)을 이용하는데 히스토그램은 딱딱하니깐 그보다 스무스하게 나오는 밀도 추정을 통해 시각화를 함\n",
        "\n",
        "[커널밀도추정에 의한 분포근사](https://blog.naver.com/loiu870422/220660847923)"
      ]
    },
    {
      "cell_type": "markdown",
      "metadata": {
        "id": "pEdpZ2i0z5iF",
        "colab_type": "text"
      },
      "source": [
        "\n",
        "인덱싱 하는 법,슬라이싱//iterrows, cols//특정 조건해당하는 사람 넣기\n",
        "---\n",
        "\n",
        "\n"
      ]
    },
    {
      "cell_type": "code",
      "metadata": {
        "id": "094Rj17Owxor",
        "colab_type": "code",
        "colab": {}
      },
      "source": [
        "# df_train.iloc[0:3] # 슬라이싱 row col 순으로\n",
        "# for i in df_train.iterrows(): # row를 자동으로 하나씩 검색. enumerate 와 같음\n",
        "# df_train[df_train['Survied'] == 1] # survived 가 1 인 대상만 검색"
      ],
      "execution_count": 0,
      "outputs": []
    },
    {
      "cell_type": "markdown",
      "metadata": {
        "id": "x8Ig6RyY0Mzk",
        "colab_type": "text"
      },
      "source": [
        "plt 나타내는 3가지 방법"
      ]
    },
    {
      "cell_type": "code",
      "metadata": {
        "id": "VHFQ9_TMwxiZ",
        "colab_type": "code",
        "colab": {}
      },
      "source": [
        "# f = plt.figure(figsize = (10,10)) # axis 없이 도화지를 깔음\n",
        "# f, ax = plt.subplots(1, 1, figsize = (10, 10)) # axis 를 구분해서 넣을 수 있음(여러 그래프) ax.plot을 마지막에 label 을 ax.set_xlabel\n",
        "# plt.figure(figsize(10, 10)) # 도화지도 안깔고 바로 플랏. plt.plot 을 마지막에 해줘야함. label 을 plt.xlabel 이용 "
      ],
      "execution_count": 0,
      "outputs": []
    },
    {
      "cell_type": "code",
      "metadata": {
        "id": "OsyA5AmeTiX-",
        "colab_type": "code",
        "colab": {}
      },
      "source": [
        "df_train['Age'][df_train['Pclass'] == 2].plot(kind='kde') # kde 를 바로 할 수 도 있음. 여기선 age 분포 보고싶어서 \n",
        "\n",
        "sns.kdeplot(df_train[(df_train['Survived'] == 0) & (df_train['Pclass'] == 1)]['Age'], ax = ax)\n",
        "# 따로 변수지정안하고 바로 만들기 loc 쓰기가 더 좋긴한데.. 여기서도 age 분포 보고싶었음"
      ],
      "execution_count": 0,
      "outputs": []
    },
    {
      "cell_type": "markdown",
      "metadata": {
        "id": "DXqGNxEx3flJ",
        "colab_type": "text"
      },
      "source": [
        "어린 친구들이 정말 생존확률이 높은가를 보고 싶음\n",
        "\n",
        "0-10살, 0-20살 이런식으로 구분해서 "
      ]
    },
    {
      "cell_type": "code",
      "metadata": {
        "id": "2oRoBCaTTiVP",
        "colab_type": "code",
        "colab": {}
      },
      "source": [
        "change_age_survival_ratio = []\n",
        "\n",
        "for i in range(1, 80): # 나이 분포가 1~80 까지 있다고 가정\n",
        "    change_age_survival_ratio.append(df_train[df_train['Age'] < i]['Survived'].sum() / \n",
        "                                     len(df_train[df_train['Age'] < i]['Survived']))\n",
        "    \n",
        "plt.figure(figsize = (7, 7))\n",
        "plt.plot(change_age_survival_ratio)\n",
        "plt.title(\"Survival rate chagne depending on range of Age\", y = 1.02) \n",
        "# y 는 그래프에서 타이틀의 위치를 옮겨줌 1.02 가 적절 "
      ],
      "execution_count": 0,
      "outputs": []
    },
    {
      "cell_type": "markdown",
      "metadata": {
        "id": "iPHOVaOAVaxb",
        "colab_type": "text"
      },
      "source": [
        "violinplot"
      ]
    },
    {
      "cell_type": "code",
      "metadata": {
        "id": "RYg6tEZ4TiSj",
        "colab_type": "code",
        "colab": {}
      },
      "source": [
        "sns.violinplot('Pclass', 'Age', hue='Survived', data = df_train, scale='count', split=True, ax=ax[0])\n",
        "ax[0].set_title('Pclass and Age vs Survived')\n",
        "ax[0].set_yticks(range(0, 110, 10))\n",
        "# scale 을 area 로 바꿀시 왼쪽 오른쪽의 면적을 같게 바꿔주므로 둘의 분포 차이를 알기 쉽다\n",
        "# scale 을 count로 바꿀시 둘의 값을 scaling 해서 보여주므로 실제 값을 알기 좋다. 둘의 전체적인 차이도 알수 있다 \n",
        "# range 는 min max 그리고 간격으로 나타난다\n",
        "# ytick 으로 왼쪽 y 축 지표들 바꿀수 있따 "
      ],
      "execution_count": 0,
      "outputs": []
    },
    {
      "cell_type": "markdown",
      "metadata": {
        "id": "oXzakmlNVmH5",
        "colab_type": "text"
      },
      "source": [
        "\n",
        "한줄쓰기 끝판왕..\n",
        "---\n",
        "\n"
      ]
    },
    {
      "cell_type": "code",
      "metadata": {
        "id": "AyxkGvbmTiMo",
        "colab_type": "code",
        "colab": {}
      },
      "source": [
        "f, ax = plt.subplots(figsize = (7, 7))\n",
        "df_train[['Embarked', 'Survived']].groupby(['Embarked'], as_index=True).mean().sort_values(by='Survived', ascending=False).plot.bar(ax = ax)\n",
        "# Embarked 와 Survived 열에 대해서  embarked에 따라 group 을 지을 건데 지은 애들은 index로 추가할거야. 그것들은 각 embarked 값에 대한 평균값으로 즉 전체비율로 나타내라\n",
        "# 그리고 그걸 survived 값에 따라 sort 하는데 ascending이 아니라 descending 이야. 그걸 플롯을 할건데 bar 타입에 할거고 axes 는 ax 에 하렴"
      ],
      "execution_count": 0,
      "outputs": []
    },
    {
      "cell_type": "markdown",
      "metadata": {
        "id": "0JHoUKIbV5tI",
        "colab_type": "text"
      },
      "source": [
        "\n",
        "hue로 다른 피쳐 섞어주기.  2by2 subplot\n",
        "---\n",
        "\n"
      ]
    },
    {
      "cell_type": "code",
      "metadata": {
        "id": "JK1p6bvZTiIw",
        "colab_type": "code",
        "colab": {}
      },
      "source": [
        "f, ax = plt.subplots(2, 2, figsize = (12, 10))\n",
        "sns.countplot('Embarked', data=df_train, ax=ax[0, 0])\n",
        "ax[0, 0].set_title('(1) No.of Passengers Boarded')\n",
        "\n",
        "sns.countplot('Embarked', hue='Sex', data=df_train, ax=ax[0, 1])\n",
        "ax[0, 0].set_title('(2) Male-Female split for embarked')\n",
        "\n",
        "sns.countplot('Embarked', hue='Survived', data=df_train, ax=ax[1, 0])\n",
        "ax[1, 0].set_title(\"(3) Embarked vs Survived\")\n",
        "\n",
        "sns.countplot('Embarked', hue='Pclass', data=df_train, ax=ax[1, 1])\n",
        "ax[1, 1].set_title(\"(4) Embarked vs Pclass\")\n",
        "\n",
        "plt.subplots_adjust(wspace=0.5, hspace=0.5)# 좌우 상하 간격 맞춰주는 메서드\n",
        "plt.show()"
      ],
      "execution_count": 0,
      "outputs": []
    },
    {
      "cell_type": "code",
      "metadata": {
        "id": "6ABdBpkIThYS",
        "colab_type": "code",
        "colab": {}
      },
      "source": [
        "df_train[['FamilySize', 'Survived']].groupby(['FamilySize'], as_index=True).mean().sort_values(by='Survived', ascending=False).plot.bar(ax=ax[2])\n",
        "# familysize와 survived 열에 대해 familysize 를 따라 groupby 할건데 index 에 추가할거야. 이걸 familysize 값에 따라 전체 비율을 나타내줘\n",
        "# 그리고 그걸 survived 값에 따라 sort 하는데 ascending이 아니라 descending 이야. 그걸 플롯을 할건데 bar 타입에 할거고 axes 는 3번째 axes 에 하렴\n",
        "ax[2].set_title('(3) Survived rate depending on Familysize', y = 1.02)\n"
      ],
      "execution_count": 0,
      "outputs": []
    },
    {
      "cell_type": "code",
      "metadata": {
        "id": "z4Q_GL8_ThVR",
        "colab_type": "code",
        "colab": {}
      },
      "source": [
        "g = sns.distplot(df_train['Fare'], color='b', label='Skewness: {:.2f}'.format(df_train['Fare'].skew()), ax= ax)\n",
        "# displot을 fare 값에 대해서 그릴게. 색은 파란색이야. label 로 skewness 어쩌구라고 하면서 뒤에 뭘 달건데 그 값은 df fare 열의 skewness 값을 계산해서 넣어."
      ],
      "execution_count": 0,
      "outputs": []
    },
    {
      "cell_type": "markdown",
      "metadata": {
        "id": "jP02GLSzu-Bh",
        "colab_type": "text"
      },
      "source": [
        "왜도와 첨도\n",
        "왜도나 첨도 가 높으면 머신러닝이 제대로 기능을 못할 수 있음. (이 데이터를 잘 대표할 수 없게 됨)\n",
        "\n",
        "[관련 내용 블로그](https://blog.naver.com/drwill/221581365327)\n",
        "\n",
        "\n",
        "여기선 skewness 를 없에는 작업으로서 로그를 취해줌"
      ]
    },
    {
      "cell_type": "code",
      "metadata": {
        "id": "e9wPuBeT3Zrr",
        "colab_type": "code",
        "colab": {}
      },
      "source": [
        "df_train['Fare']=df_train['Fare'].map(lambda i : np.log(i) if i > 0 else 0)\n",
        "df_test['Fare']=df_test['Fare'].map(lambda i : np.log(i) if i > 0 else 0)\n",
        "# Fare 열에 대해서 mapping 을 해서 값을 바꿔줄건데 각 값에 대해서 lambda 함수를 수행해줘\n",
        "# lambda 함수는 i 입력이 0보다 클시 np.log 를 취해주고 아니면 0을 반환해줘 \n",
        "# map과 apply 모두 데이터프레임 안의 값을 바꿔주는데 보통 map 은 lambda 이고 apply 는 \n",
        "# 보통 일반 함수를 사용함.\n"
      ],
      "execution_count": 0,
      "outputs": []
    },
    {
      "cell_type": "markdown",
      "metadata": {
        "id": "RkkU_LZ8zJhM",
        "colab_type": "text"
      },
      "source": [
        "다시보면 skewness 가 줄어들은 것을 볼 수 있음(feature engineering)"
      ]
    },
    {
      "cell_type": "markdown",
      "metadata": {
        "id": "4cQO6dlE_YRe",
        "colab_type": "text"
      },
      "source": [
        "이름을 기준으로 그룹을 나누어 볼거임"
      ]
    },
    {
      "cell_type": "code",
      "metadata": {
        "id": "hvXUv2bT_Aye",
        "colab_type": "code",
        "outputId": "a6747416-136a-4b72-ffc8-ddda4e2d8c75",
        "colab": {
          "base_uri": "https://localhost:8080/",
          "height": 34
        }
      },
      "source": [
        "df_train['Name'].str.extract # 필요한 스트링 값들을 추출해줌 정규표현식"
      ],
      "execution_count": 0,
      "outputs": [
        {
          "output_type": "execute_result",
          "data": {
            "text/plain": [
              "<bound method StringMethods.extract of <pandas.core.strings.StringMethods object at 0x7ff226e6dc18>>"
            ]
          },
          "metadata": {
            "tags": []
          },
          "execution_count": 74
        }
      ]
    },
    {
      "cell_type": "markdown",
      "metadata": {
        "id": "ZitCWvzr_eJ-",
        "colab_type": "text"
      },
      "source": [
        "정규표현식을 넣어서 각 데이터 안에 조건에 해당하는 텍스트를 추출해주는 메서드임"
      ]
    },
    {
      "cell_type": "code",
      "metadata": {
        "id": "jrjpdtkb_AvZ",
        "colab_type": "code",
        "colab": {}
      },
      "source": [
        "df_train['Initial'] = df_train['Name'].str.extract('([A-Za-z]+)\\.')\n",
        "df_test['Initial'] = df_test['Name'].str.extract('([A-Za-z]+)\\.')"
      ],
      "execution_count": 0,
      "outputs": []
    },
    {
      "cell_type": "code",
      "metadata": {
        "id": "pXzK9TN6_As2",
        "colab_type": "code",
        "outputId": "c0594670-f263-440d-a691-06cdc80dee26",
        "colab": {
          "base_uri": "https://localhost:8080/",
          "height": 347
        }
      },
      "source": [
        "temp = df_train['Name'][:10]\n",
        "temp.str.extract('([A-Za-z]+)\\.')"
      ],
      "execution_count": 0,
      "outputs": [
        {
          "output_type": "execute_result",
          "data": {
            "text/html": [
              "<div>\n",
              "<style scoped>\n",
              "    .dataframe tbody tr th:only-of-type {\n",
              "        vertical-align: middle;\n",
              "    }\n",
              "\n",
              "    .dataframe tbody tr th {\n",
              "        vertical-align: top;\n",
              "    }\n",
              "\n",
              "    .dataframe thead th {\n",
              "        text-align: right;\n",
              "    }\n",
              "</style>\n",
              "<table border=\"1\" class=\"dataframe\">\n",
              "  <thead>\n",
              "    <tr style=\"text-align: right;\">\n",
              "      <th></th>\n",
              "      <th>0</th>\n",
              "    </tr>\n",
              "  </thead>\n",
              "  <tbody>\n",
              "    <tr>\n",
              "      <th>0</th>\n",
              "      <td>Mr</td>\n",
              "    </tr>\n",
              "    <tr>\n",
              "      <th>1</th>\n",
              "      <td>Mrs</td>\n",
              "    </tr>\n",
              "    <tr>\n",
              "      <th>2</th>\n",
              "      <td>Miss</td>\n",
              "    </tr>\n",
              "    <tr>\n",
              "      <th>3</th>\n",
              "      <td>Mrs</td>\n",
              "    </tr>\n",
              "    <tr>\n",
              "      <th>4</th>\n",
              "      <td>Mr</td>\n",
              "    </tr>\n",
              "    <tr>\n",
              "      <th>5</th>\n",
              "      <td>Mr</td>\n",
              "    </tr>\n",
              "    <tr>\n",
              "      <th>6</th>\n",
              "      <td>Mr</td>\n",
              "    </tr>\n",
              "    <tr>\n",
              "      <th>7</th>\n",
              "      <td>Master</td>\n",
              "    </tr>\n",
              "    <tr>\n",
              "      <th>8</th>\n",
              "      <td>Mrs</td>\n",
              "    </tr>\n",
              "    <tr>\n",
              "      <th>9</th>\n",
              "      <td>Mrs</td>\n",
              "    </tr>\n",
              "  </tbody>\n",
              "</table>\n",
              "</div>"
            ],
            "text/plain": [
              "        0\n",
              "0      Mr\n",
              "1     Mrs\n",
              "2    Miss\n",
              "3     Mrs\n",
              "4      Mr\n",
              "5      Mr\n",
              "6      Mr\n",
              "7  Master\n",
              "8     Mrs\n",
              "9     Mrs"
            ]
          },
          "metadata": {
            "tags": []
          },
          "execution_count": 76
        }
      ]
    },
    {
      "cell_type": "code",
      "metadata": {
        "id": "Bqze5JxY_xIb",
        "colab_type": "code",
        "outputId": "a0e6a999-a29e-47a8-bcd3-d22144cd2dee",
        "colab": {
          "base_uri": "https://localhost:8080/",
          "height": 88
        }
      },
      "source": [
        "pd.crosstab(df_train['Initial'], df_train['Sex']).T.style.background_gradient(cmap='summer_r')"
      ],
      "execution_count": 0,
      "outputs": [
        {
          "output_type": "execute_result",
          "data": {
            "text/html": [
              "<style  type=\"text/css\" >\n",
              "    #T_02b52bc8_b919_11e9_ac6e_0242ac1c0002row0_col0 {\n",
              "            background-color:  #ffff66;\n",
              "            color:  #000000;\n",
              "        }    #T_02b52bc8_b919_11e9_ac6e_0242ac1c0002row0_col1 {\n",
              "            background-color:  #ffff66;\n",
              "            color:  #000000;\n",
              "        }    #T_02b52bc8_b919_11e9_ac6e_0242ac1c0002row0_col2 {\n",
              "            background-color:  #008066;\n",
              "            color:  #f1f1f1;\n",
              "        }    #T_02b52bc8_b919_11e9_ac6e_0242ac1c0002row0_col3 {\n",
              "            background-color:  #ffff66;\n",
              "            color:  #000000;\n",
              "        }    #T_02b52bc8_b919_11e9_ac6e_0242ac1c0002row0_col4 {\n",
              "            background-color:  #ffff66;\n",
              "            color:  #000000;\n",
              "        }    #T_02b52bc8_b919_11e9_ac6e_0242ac1c0002row0_col5 {\n",
              "            background-color:  #ffff66;\n",
              "            color:  #000000;\n",
              "        }    #T_02b52bc8_b919_11e9_ac6e_0242ac1c0002row0_col6 {\n",
              "            background-color:  #008066;\n",
              "            color:  #f1f1f1;\n",
              "        }    #T_02b52bc8_b919_11e9_ac6e_0242ac1c0002row0_col7 {\n",
              "            background-color:  #ffff66;\n",
              "            color:  #000000;\n",
              "        }    #T_02b52bc8_b919_11e9_ac6e_0242ac1c0002row0_col8 {\n",
              "            background-color:  #ffff66;\n",
              "            color:  #000000;\n",
              "        }    #T_02b52bc8_b919_11e9_ac6e_0242ac1c0002row0_col9 {\n",
              "            background-color:  #008066;\n",
              "            color:  #f1f1f1;\n",
              "        }    #T_02b52bc8_b919_11e9_ac6e_0242ac1c0002row0_col10 {\n",
              "            background-color:  #008066;\n",
              "            color:  #f1f1f1;\n",
              "        }    #T_02b52bc8_b919_11e9_ac6e_0242ac1c0002row0_col11 {\n",
              "            background-color:  #008066;\n",
              "            color:  #f1f1f1;\n",
              "        }    #T_02b52bc8_b919_11e9_ac6e_0242ac1c0002row0_col12 {\n",
              "            background-color:  #ffff66;\n",
              "            color:  #000000;\n",
              "        }    #T_02b52bc8_b919_11e9_ac6e_0242ac1c0002row0_col13 {\n",
              "            background-color:  #008066;\n",
              "            color:  #f1f1f1;\n",
              "        }    #T_02b52bc8_b919_11e9_ac6e_0242ac1c0002row0_col14 {\n",
              "            background-color:  #008066;\n",
              "            color:  #f1f1f1;\n",
              "        }    #T_02b52bc8_b919_11e9_ac6e_0242ac1c0002row0_col15 {\n",
              "            background-color:  #ffff66;\n",
              "            color:  #000000;\n",
              "        }    #T_02b52bc8_b919_11e9_ac6e_0242ac1c0002row0_col16 {\n",
              "            background-color:  #ffff66;\n",
              "            color:  #000000;\n",
              "        }    #T_02b52bc8_b919_11e9_ac6e_0242ac1c0002row1_col0 {\n",
              "            background-color:  #008066;\n",
              "            color:  #f1f1f1;\n",
              "        }    #T_02b52bc8_b919_11e9_ac6e_0242ac1c0002row1_col1 {\n",
              "            background-color:  #008066;\n",
              "            color:  #f1f1f1;\n",
              "        }    #T_02b52bc8_b919_11e9_ac6e_0242ac1c0002row1_col2 {\n",
              "            background-color:  #ffff66;\n",
              "            color:  #000000;\n",
              "        }    #T_02b52bc8_b919_11e9_ac6e_0242ac1c0002row1_col3 {\n",
              "            background-color:  #008066;\n",
              "            color:  #f1f1f1;\n",
              "        }    #T_02b52bc8_b919_11e9_ac6e_0242ac1c0002row1_col4 {\n",
              "            background-color:  #008066;\n",
              "            color:  #f1f1f1;\n",
              "        }    #T_02b52bc8_b919_11e9_ac6e_0242ac1c0002row1_col5 {\n",
              "            background-color:  #008066;\n",
              "            color:  #f1f1f1;\n",
              "        }    #T_02b52bc8_b919_11e9_ac6e_0242ac1c0002row1_col6 {\n",
              "            background-color:  #ffff66;\n",
              "            color:  #000000;\n",
              "        }    #T_02b52bc8_b919_11e9_ac6e_0242ac1c0002row1_col7 {\n",
              "            background-color:  #008066;\n",
              "            color:  #f1f1f1;\n",
              "        }    #T_02b52bc8_b919_11e9_ac6e_0242ac1c0002row1_col8 {\n",
              "            background-color:  #008066;\n",
              "            color:  #f1f1f1;\n",
              "        }    #T_02b52bc8_b919_11e9_ac6e_0242ac1c0002row1_col9 {\n",
              "            background-color:  #ffff66;\n",
              "            color:  #000000;\n",
              "        }    #T_02b52bc8_b919_11e9_ac6e_0242ac1c0002row1_col10 {\n",
              "            background-color:  #ffff66;\n",
              "            color:  #000000;\n",
              "        }    #T_02b52bc8_b919_11e9_ac6e_0242ac1c0002row1_col11 {\n",
              "            background-color:  #ffff66;\n",
              "            color:  #000000;\n",
              "        }    #T_02b52bc8_b919_11e9_ac6e_0242ac1c0002row1_col12 {\n",
              "            background-color:  #008066;\n",
              "            color:  #f1f1f1;\n",
              "        }    #T_02b52bc8_b919_11e9_ac6e_0242ac1c0002row1_col13 {\n",
              "            background-color:  #ffff66;\n",
              "            color:  #000000;\n",
              "        }    #T_02b52bc8_b919_11e9_ac6e_0242ac1c0002row1_col14 {\n",
              "            background-color:  #ffff66;\n",
              "            color:  #000000;\n",
              "        }    #T_02b52bc8_b919_11e9_ac6e_0242ac1c0002row1_col15 {\n",
              "            background-color:  #008066;\n",
              "            color:  #f1f1f1;\n",
              "        }    #T_02b52bc8_b919_11e9_ac6e_0242ac1c0002row1_col16 {\n",
              "            background-color:  #008066;\n",
              "            color:  #f1f1f1;\n",
              "        }</style><table id=\"T_02b52bc8_b919_11e9_ac6e_0242ac1c0002\" ><thead>    <tr>        <th class=\"index_name level0\" >Initial</th>        <th class=\"col_heading level0 col0\" >Capt</th>        <th class=\"col_heading level0 col1\" >Col</th>        <th class=\"col_heading level0 col2\" >Countess</th>        <th class=\"col_heading level0 col3\" >Don</th>        <th class=\"col_heading level0 col4\" >Dr</th>        <th class=\"col_heading level0 col5\" >Jonkheer</th>        <th class=\"col_heading level0 col6\" >Lady</th>        <th class=\"col_heading level0 col7\" >Major</th>        <th class=\"col_heading level0 col8\" >Master</th>        <th class=\"col_heading level0 col9\" >Miss</th>        <th class=\"col_heading level0 col10\" >Mlle</th>        <th class=\"col_heading level0 col11\" >Mme</th>        <th class=\"col_heading level0 col12\" >Mr</th>        <th class=\"col_heading level0 col13\" >Mrs</th>        <th class=\"col_heading level0 col14\" >Ms</th>        <th class=\"col_heading level0 col15\" >Rev</th>        <th class=\"col_heading level0 col16\" >Sir</th>    </tr>    <tr>        <th class=\"index_name level0\" >Sex</th>        <th class=\"blank\" ></th>        <th class=\"blank\" ></th>        <th class=\"blank\" ></th>        <th class=\"blank\" ></th>        <th class=\"blank\" ></th>        <th class=\"blank\" ></th>        <th class=\"blank\" ></th>        <th class=\"blank\" ></th>        <th class=\"blank\" ></th>        <th class=\"blank\" ></th>        <th class=\"blank\" ></th>        <th class=\"blank\" ></th>        <th class=\"blank\" ></th>        <th class=\"blank\" ></th>        <th class=\"blank\" ></th>        <th class=\"blank\" ></th>        <th class=\"blank\" ></th>    </tr></thead><tbody>\n",
              "                <tr>\n",
              "                        <th id=\"T_02b52bc8_b919_11e9_ac6e_0242ac1c0002level0_row0\" class=\"row_heading level0 row0\" >female</th>\n",
              "                        <td id=\"T_02b52bc8_b919_11e9_ac6e_0242ac1c0002row0_col0\" class=\"data row0 col0\" >0</td>\n",
              "                        <td id=\"T_02b52bc8_b919_11e9_ac6e_0242ac1c0002row0_col1\" class=\"data row0 col1\" >0</td>\n",
              "                        <td id=\"T_02b52bc8_b919_11e9_ac6e_0242ac1c0002row0_col2\" class=\"data row0 col2\" >1</td>\n",
              "                        <td id=\"T_02b52bc8_b919_11e9_ac6e_0242ac1c0002row0_col3\" class=\"data row0 col3\" >0</td>\n",
              "                        <td id=\"T_02b52bc8_b919_11e9_ac6e_0242ac1c0002row0_col4\" class=\"data row0 col4\" >1</td>\n",
              "                        <td id=\"T_02b52bc8_b919_11e9_ac6e_0242ac1c0002row0_col5\" class=\"data row0 col5\" >0</td>\n",
              "                        <td id=\"T_02b52bc8_b919_11e9_ac6e_0242ac1c0002row0_col6\" class=\"data row0 col6\" >1</td>\n",
              "                        <td id=\"T_02b52bc8_b919_11e9_ac6e_0242ac1c0002row0_col7\" class=\"data row0 col7\" >0</td>\n",
              "                        <td id=\"T_02b52bc8_b919_11e9_ac6e_0242ac1c0002row0_col8\" class=\"data row0 col8\" >0</td>\n",
              "                        <td id=\"T_02b52bc8_b919_11e9_ac6e_0242ac1c0002row0_col9\" class=\"data row0 col9\" >182</td>\n",
              "                        <td id=\"T_02b52bc8_b919_11e9_ac6e_0242ac1c0002row0_col10\" class=\"data row0 col10\" >2</td>\n",
              "                        <td id=\"T_02b52bc8_b919_11e9_ac6e_0242ac1c0002row0_col11\" class=\"data row0 col11\" >1</td>\n",
              "                        <td id=\"T_02b52bc8_b919_11e9_ac6e_0242ac1c0002row0_col12\" class=\"data row0 col12\" >0</td>\n",
              "                        <td id=\"T_02b52bc8_b919_11e9_ac6e_0242ac1c0002row0_col13\" class=\"data row0 col13\" >125</td>\n",
              "                        <td id=\"T_02b52bc8_b919_11e9_ac6e_0242ac1c0002row0_col14\" class=\"data row0 col14\" >1</td>\n",
              "                        <td id=\"T_02b52bc8_b919_11e9_ac6e_0242ac1c0002row0_col15\" class=\"data row0 col15\" >0</td>\n",
              "                        <td id=\"T_02b52bc8_b919_11e9_ac6e_0242ac1c0002row0_col16\" class=\"data row0 col16\" >0</td>\n",
              "            </tr>\n",
              "            <tr>\n",
              "                        <th id=\"T_02b52bc8_b919_11e9_ac6e_0242ac1c0002level0_row1\" class=\"row_heading level0 row1\" >male</th>\n",
              "                        <td id=\"T_02b52bc8_b919_11e9_ac6e_0242ac1c0002row1_col0\" class=\"data row1 col0\" >1</td>\n",
              "                        <td id=\"T_02b52bc8_b919_11e9_ac6e_0242ac1c0002row1_col1\" class=\"data row1 col1\" >2</td>\n",
              "                        <td id=\"T_02b52bc8_b919_11e9_ac6e_0242ac1c0002row1_col2\" class=\"data row1 col2\" >0</td>\n",
              "                        <td id=\"T_02b52bc8_b919_11e9_ac6e_0242ac1c0002row1_col3\" class=\"data row1 col3\" >1</td>\n",
              "                        <td id=\"T_02b52bc8_b919_11e9_ac6e_0242ac1c0002row1_col4\" class=\"data row1 col4\" >6</td>\n",
              "                        <td id=\"T_02b52bc8_b919_11e9_ac6e_0242ac1c0002row1_col5\" class=\"data row1 col5\" >1</td>\n",
              "                        <td id=\"T_02b52bc8_b919_11e9_ac6e_0242ac1c0002row1_col6\" class=\"data row1 col6\" >0</td>\n",
              "                        <td id=\"T_02b52bc8_b919_11e9_ac6e_0242ac1c0002row1_col7\" class=\"data row1 col7\" >2</td>\n",
              "                        <td id=\"T_02b52bc8_b919_11e9_ac6e_0242ac1c0002row1_col8\" class=\"data row1 col8\" >40</td>\n",
              "                        <td id=\"T_02b52bc8_b919_11e9_ac6e_0242ac1c0002row1_col9\" class=\"data row1 col9\" >0</td>\n",
              "                        <td id=\"T_02b52bc8_b919_11e9_ac6e_0242ac1c0002row1_col10\" class=\"data row1 col10\" >0</td>\n",
              "                        <td id=\"T_02b52bc8_b919_11e9_ac6e_0242ac1c0002row1_col11\" class=\"data row1 col11\" >0</td>\n",
              "                        <td id=\"T_02b52bc8_b919_11e9_ac6e_0242ac1c0002row1_col12\" class=\"data row1 col12\" >517</td>\n",
              "                        <td id=\"T_02b52bc8_b919_11e9_ac6e_0242ac1c0002row1_col13\" class=\"data row1 col13\" >0</td>\n",
              "                        <td id=\"T_02b52bc8_b919_11e9_ac6e_0242ac1c0002row1_col14\" class=\"data row1 col14\" >0</td>\n",
              "                        <td id=\"T_02b52bc8_b919_11e9_ac6e_0242ac1c0002row1_col15\" class=\"data row1 col15\" >6</td>\n",
              "                        <td id=\"T_02b52bc8_b919_11e9_ac6e_0242ac1c0002row1_col16\" class=\"data row1 col16\" >1</td>\n",
              "            </tr>\n",
              "    </tbody></table>"
            ],
            "text/plain": [
              "<pandas.io.formats.style.Styler at 0x7ff226dddd30>"
            ]
          },
          "metadata": {
            "tags": []
          },
          "execution_count": 77
        }
      ]
    },
    {
      "cell_type": "markdown",
      "metadata": {
        "id": "wbUySlUxAyCF",
        "colab_type": "text"
      },
      "source": [
        "별로 없는 애들은 하나로 합치려고함\n",
        "값을 치환해주는 replace 메서드"
      ]
    },
    {
      "cell_type": "code",
      "metadata": {
        "id": "oiPpWoBj_xF_",
        "colab_type": "code",
        "colab": {}
      },
      "source": [
        "df_train['Initial'].replace([a],[b],inplace=True)\n",
        "# initial 열에서 a를 찾아서 b로 바꿔줘\n",
        "#inplace 를 빼면 적용이 안되는게 생김"
      ],
      "execution_count": 0,
      "outputs": []
    },
    {
      "cell_type": "markdown",
      "metadata": {
        "id": "TpqxSztSYf7d",
        "colab_type": "text"
      },
      "source": [
        "\n",
        "텍스트 replace // 숫자 replace도 가능한가? \n",
        "---\n",
        "https://pandas.pydata.org/pandas-docs/stable/reference/api/pandas.DataFrame.replace.html \n",
        "\n",
        "tfidf 바꿀때 이걸 썼으면.. ㅎㅎ\n"
      ]
    },
    {
      "cell_type": "code",
      "metadata": {
        "id": "2YN6OIEK_xDV",
        "colab_type": "code",
        "colab": {}
      },
      "source": [
        "df_test['Initial'].replace(['Mlle', 'Mme', 'Ms', 'Jonkheer', 'Rev', 'Col', 'Lady', 'Countess', 'Dona', 'Capt', 'Don', 'Sir', 'Dr', 'Major'\n",
        "],['Miss', 'Miss', 'Miss', 'Other', 'Other', 'Other', 'Mrs', 'Mrs', 'Mr', 'Mr', 'Mr', 'Mr', 'Mr', 'Mr'\n",
        "],inplace=True) #inplace 를 빼면 적용이 안되는게 생김"
      ],
      "execution_count": 0,
      "outputs": []
    },
    {
      "cell_type": "code",
      "metadata": {
        "id": "wv93QYgEThSe",
        "colab_type": "code",
        "colab": {}
      },
      "source": [
        "df_train.groupby('Initial').mean()['Survived']"
      ],
      "execution_count": 0,
      "outputs": []
    },
    {
      "cell_type": "code",
      "metadata": {
        "id": "vlyel44NThPy",
        "colab_type": "code",
        "colab": {}
      },
      "source": [
        "df_train.loc[(df_train['Age'].isnull()), :] # 'Age'가 비어있는 값을 가진 모든 행을 출력해라"
      ],
      "execution_count": 0,
      "outputs": []
    },
    {
      "cell_type": "code",
      "metadata": {
        "id": "tDjyixBpThM_",
        "colab_type": "code",
        "colab": {}
      },
      "source": [
        "df_train.loc[(df_train['Age'].isnull()) & (df_train['Initial'] == 'Mr'), 'Age'] = 33 # 'age' 가 비어있고 이니셜이 mr 인 데이터의 age 값을 33으로 바꿔라\n",
        "# train 에 적용하는 모든 feature engineering 은 train과 같은 방식과 같은 파라메터로 테스트 또한 바꿔줘야함"
      ],
      "execution_count": 0,
      "outputs": []
    },
    {
      "cell_type": "code",
      "metadata": {
        "id": "Hg6axfmvThKi",
        "colab_type": "code",
        "colab": {}
      },
      "source": [
        "for i in df_train.loc[(df_train['Initial'] == 'Mr'), 'Age'].isnull():\n",
        "    if i:\n",
        "        print(\"Null, NaN data has been found\")\n",
        "\n",
        "print(\"There are no Null, NaN data!\")\n",
        "\n",
        "# 널데이터 확인하기 \n",
        "df.isnull().any()"
      ],
      "execution_count": 0,
      "outputs": []
    },
    {
      "cell_type": "markdown",
      "metadata": {
        "id": "QwQ_esFRYYSD",
        "colab_type": "text"
      },
      "source": [
        "\n",
        "Apply 메서드에 직접만든 함수 적용하기\n",
        "---\n",
        "\n"
      ]
    },
    {
      "cell_type": "code",
      "metadata": {
        "id": "SWwBgVThIc4y",
        "colab_type": "code",
        "colab": {}
      },
      "source": [
        "def category_age(x):\n",
        "    if x < 10:\n",
        "        return 0\n",
        "    elif x < 20:\n",
        "        return 1\n",
        "    elif x < 30:\n",
        "        return 2\n",
        "    elif x < 40:\n",
        "        return 3\n",
        "    elif x < 50:\n",
        "        return 4\n",
        "    elif x < 60:\n",
        "        return 5\n",
        "    elif x < 70:\n",
        "        return 6\n",
        "    else:\n",
        "        return 7\n"
      ],
      "execution_count": 0,
      "outputs": []
    },
    {
      "cell_type": "code",
      "metadata": {
        "id": "Nw6VpMRTIc17",
        "colab_type": "code",
        "colab": {}
      },
      "source": [
        "df_train['Age_cat_2'] = df_train['Age'].apply(category_age)"
      ],
      "execution_count": 0,
      "outputs": []
    },
    {
      "cell_type": "markdown",
      "metadata": {
        "id": "wgCXo6hqJF0P",
        "colab_type": "text"
      },
      "source": [
        "서로 같은 지 확인 . "
      ]
    },
    {
      "cell_type": "code",
      "metadata": {
        "id": "lh-bBhazIczg",
        "colab_type": "code",
        "outputId": "08833d86-d671-497f-fa4a-1a69b215ca89",
        "colab": {
          "base_uri": "https://localhost:8080/",
          "height": 34
        }
      },
      "source": [
        "(df_train['Age_cat'] == df_train['Age_cat_2']).all() # 모든게 true 이면 true\n",
        "# .any() 하나라도 true 이면 true"
      ],
      "execution_count": 0,
      "outputs": [
        {
          "output_type": "execute_result",
          "data": {
            "text/plain": [
              "True"
            ]
          },
          "metadata": {
            "tags": []
          },
          "execution_count": 97
        }
      ]
    },
    {
      "cell_type": "markdown",
      "metadata": {
        "id": "3L7SYAFUJ_bE",
        "colab_type": "text"
      },
      "source": [
        "\n",
        "스트링 데이터를 숫자로 벡터화하기\n",
        "---\n",
        "\n"
      ]
    },
    {
      "cell_type": "code",
      "metadata": {
        "id": "Z6nRH_wQIcuS",
        "colab_type": "code",
        "outputId": "8f7f4c96-0a40-4997-a0f0-0acf5e9d6fe5",
        "colab": {
          "base_uri": "https://localhost:8080/",
          "height": 34
        }
      },
      "source": [
        "df_train.Initial.unique()"
      ],
      "execution_count": 0,
      "outputs": [
        {
          "output_type": "execute_result",
          "data": {
            "text/plain": [
              "array(['Mr', 'Mrs', 'Miss', 'Master', 'Other'], dtype=object)"
            ]
          },
          "metadata": {
            "tags": []
          },
          "execution_count": 99
        }
      ]
    },
    {
      "cell_type": "markdown",
      "metadata": {
        "colab_type": "text",
        "id": "K4tfxPjGLQ82"
      },
      "source": [
        "저번처럼 loc 을 사용해서 일일히  = 어쩌구 해줄 수 도 있지만 그보단 이번엔 매핑을 이용할 것"
      ]
    },
    {
      "cell_type": "code",
      "metadata": {
        "id": "7KuvsvrDIgZP",
        "colab_type": "code",
        "colab": {}
      },
      "source": [
        "df_train['Initial'] = df_train['Initial'].map({'Master': 0, 'Miss': 1, 'Mr': 2, 'Mrs': 3, 'Other': 4})\n",
        "df_test['Initial'] = df_test['Initial'].map({'Master': 0, 'Miss': 1, 'Mr': 2, 'Mrs': 3, 'Other': 4})"
      ],
      "execution_count": 0,
      "outputs": []
    },
    {
      "cell_type": "markdown",
      "metadata": {
        "id": "x65CMhbDZfBn",
        "colab_type": "text"
      },
      "source": [
        "\n",
        "Heatmap\n",
        "---\n",
        "\n"
      ]
    },
    {
      "cell_type": "code",
      "metadata": {
        "id": "q-2iR0SgYVlg",
        "colab_type": "code",
        "colab": {}
      },
      "source": [
        "sns.heatmap(heatmap_data.astype(float).corr(), linewidths=2.0, vmax=1.0,\n",
        "           square=True, cmap=colormap, linecolor='white', annot=True, annot_kws={'size' : 10}, fmt = '.2f')\n",
        "\n",
        "# heatmap 쓸건데 데이터는 heatmap_data를 float 으로 데이터타입을 바꾼 것을 corr 한 것을 쓸거야\n",
        "# line두깨는 저렇게 color map 을 저걸 쓰고 선 색은 저렇게...\n",
        "# vmax 즉 가장 높은 값의 색이 되 값을 지정 vmin 도 가능\n",
        "# square ? \n",
        "# annotate 는 할건데 kwargs를 따로 지정해줄게 (사이즈 하나), annot 의 포멧은 소숫점 둘째까지\n",
        "\n",
        "# mask 도 가능하다는거 알아두기 "
      ],
      "execution_count": 0,
      "outputs": []
    },
    {
      "cell_type": "markdown",
      "metadata": {
        "id": "_YWW4ysVQudH",
        "colab_type": "text"
      },
      "source": [
        "\n",
        "Categorical data 를 원핫 인코딩으로 만들기\n",
        "---\n",
        "카테고리 데이터를 정말 카테고리 데이터 답게 쓸 수 있도록 단순히 0, 1, 2, 3 이 아니라 하나의 벡터 형식으로 바꾸는 것을 말함. \n",
        "\n",
        "initial 만 할건데, 현재 클래스가 5개니깐 5개 카테고리 중에 무엇인지? 를 [0 1 0 0] 의 형태로 바꾼다고 생각하면 됨. \n",
        "\n",
        "이게 왜 좋냐면, 각각의 정보에 대해서 master 인지 아닌지, miss 인지 아닌지를 정확하게 표현할 수 있음 . \n",
        "\n",
        "다른 예로 월드컵 에 참가한 국가들의 순위를 보면 사실 거기서 국가들의 순위 정보를 나타내려면 그것은 서술형 데이터임. 순서를 따지는 게 중요함.\n",
        "\n",
        "카테고리 데이터(예를들어 월드컵 예선 몇 조)는 순서같은게 아니라 뭐보다 크다, 작다가 큰 의미가 없음 ( 특히 결정 트리를 만들 때는 이런 걸 잘 고려해야함)\n",
        "\n",
        "12년도 월드컵에 10위 안 이였나?\n",
        "12년도 월드컵에 A조였나?\n",
        "\n",
        "둘의 정보량은 분명히 다름"
      ]
    },
    {
      "cell_type": "code",
      "metadata": {
        "id": "qAzAv1nRP22A",
        "colab_type": "code",
        "colab": {}
      },
      "source": [
        "df_train = pd.get_dummies(df_train, columns=['Initial'], prefix='Initial') \n",
        "df_test = pd.get_dummies(df_test, columns=['Initial'], prefix='Initial') \n",
        "# df_train 안에 initial 컬럼을 지우고 대신 initial_0, 1,.... 로 이어지는 \n",
        "# 원핫 피쳐컬럼을 붙여줌"
      ],
      "execution_count": 0,
      "outputs": []
    },
    {
      "cell_type": "code",
      "metadata": {
        "id": "XpL_7eGsP2zG",
        "colab_type": "code",
        "colab": {}
      },
      "source": [
        "df_train = pd.get_dummies(df_train, columns=['Embarked'], prefix='Embarked') \n",
        "df_test = pd.get_dummies(df_test, columns=['Embarked'], prefix='Embarked') "
      ],
      "execution_count": 0,
      "outputs": []
    },
    {
      "cell_type": "markdown",
      "metadata": {
        "id": "U6hkYciYTFzF",
        "colab_type": "text"
      },
      "source": [
        "from sklearn.preprocessing import OnehotEncoder 이것도 있음\n",
        "\n",
        "데이터 프레임 이 아닌 경우 쓰는 방법"
      ]
    },
    {
      "cell_type": "markdown",
      "metadata": {
        "id": "c0_JhVKkTTdA",
        "colab_type": "text"
      },
      "source": [
        "원핫은 클래스의 수에 따라 컬럼이 너무 커져서 오히려 문제가 생길 수 있기 때문에 다른 방식으로 인코딩 가능. "
      ]
    },
    {
      "cell_type": "markdown",
      "metadata": {
        "id": "KhsOAmICayp8",
        "colab_type": "text"
      },
      "source": [
        "\n",
        "barh 를 통해 bar horizontal 그래프 \n",
        "---\n",
        "\n"
      ]
    },
    {
      "cell_type": "code",
      "metadata": {
        "id": "nLn-z8saYViH",
        "colab_type": "code",
        "colab": {}
      },
      "source": [
        "Series_feat_imp.sort_values(ascending=True).plot.barh()"
      ],
      "execution_count": 0,
      "outputs": []
    },
    {
      "cell_type": "code",
      "metadata": {
        "id": "Agy5Q2BPYVfe",
        "colab_type": "code",
        "colab": {}
      },
      "source": [
        ""
      ],
      "execution_count": 0,
      "outputs": []
    },
    {
      "cell_type": "code",
      "metadata": {
        "id": "RxYjj78lYVcV",
        "colab_type": "code",
        "colab": {}
      },
      "source": [
        ""
      ],
      "execution_count": 0,
      "outputs": []
    },
    {
      "cell_type": "code",
      "metadata": {
        "id": "_WQdArssYVXf",
        "colab_type": "code",
        "colab": {}
      },
      "source": [
        ""
      ],
      "execution_count": 0,
      "outputs": []
    }
  ]
}